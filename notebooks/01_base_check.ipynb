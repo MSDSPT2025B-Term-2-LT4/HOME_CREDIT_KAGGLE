{
 "cells": [
  {
   "cell_type": "code",
   "execution_count": 1,
   "id": "e33c673f-f3c9-45ae-a5bb-668ef48c65d8",
   "metadata": {
    "execution": {
     "iopub.execute_input": "2024-05-16T11:24:35.292738Z",
     "iopub.status.busy": "2024-05-16T11:24:35.291996Z",
     "iopub.status.idle": "2024-05-16T11:24:36.311678Z",
     "shell.execute_reply": "2024-05-16T11:24:36.310845Z",
     "shell.execute_reply.started": "2024-05-16T11:24:35.292654Z"
    },
    "tags": []
   },
   "outputs": [],
   "source": [
    "import pandas as pd\n",
    "import os\n",
    "import sys\n",
    "import matplotlib.pyplot as plt\n",
    "pd.set_option('display.max_columns', None)  # Display all columns without truncation"
   ]
  },
  {
   "cell_type": "code",
   "execution_count": 2,
   "id": "7868a67d-6442-45d5-ab0a-11ddff158f7e",
   "metadata": {
    "execution": {
     "iopub.execute_input": "2024-05-16T11:24:36.844797Z",
     "iopub.status.busy": "2024-05-16T11:24:36.843834Z",
     "iopub.status.idle": "2024-05-16T11:24:36.853313Z",
     "shell.execute_reply": "2024-05-16T11:24:36.851542Z",
     "shell.execute_reply.started": "2024-05-16T11:24:36.844729Z"
    },
    "tags": []
   },
   "outputs": [],
   "source": [
    "path = '/mnt/processed/private/msds-pt2025b/lt4/final_project/'"
   ]
  },
  {
   "cell_type": "code",
   "execution_count": 3,
   "id": "a71623fa-1981-435a-862e-9dc656a32699",
   "metadata": {
    "execution": {
     "iopub.execute_input": "2024-05-15T09:14:49.761864Z",
     "iopub.status.busy": "2024-05-15T09:14:49.761120Z",
     "iopub.status.idle": "2024-05-15T09:14:50.233091Z",
     "shell.execute_reply": "2024-05-15T09:14:50.232260Z",
     "shell.execute_reply.started": "2024-05-15T09:14:49.761803Z"
    },
    "tags": []
   },
   "outputs": [],
   "source": [
    "train_base = pd.read_csv(f\"{path}/train/train_base.csv\")"
   ]
  },
  {
   "cell_type": "code",
   "execution_count": 4,
   "id": "4f33542d-2d66-49cb-bf16-d071071c4f66",
   "metadata": {
    "execution": {
     "iopub.execute_input": "2024-05-15T09:14:50.761432Z",
     "iopub.status.busy": "2024-05-15T09:14:50.760699Z",
     "iopub.status.idle": "2024-05-15T09:14:50.801599Z",
     "shell.execute_reply": "2024-05-15T09:14:50.800537Z",
     "shell.execute_reply.started": "2024-05-15T09:14:50.761370Z"
    },
    "tags": []
   },
   "outputs": [
    {
     "data": {
      "text/html": [
       "<div>\n",
       "<style scoped>\n",
       "    .dataframe tbody tr th:only-of-type {\n",
       "        vertical-align: middle;\n",
       "    }\n",
       "\n",
       "    .dataframe tbody tr th {\n",
       "        vertical-align: top;\n",
       "    }\n",
       "\n",
       "    .dataframe thead th {\n",
       "        text-align: right;\n",
       "    }\n",
       "</style>\n",
       "<table border=\"1\" class=\"dataframe\">\n",
       "  <thead>\n",
       "    <tr style=\"text-align: right;\">\n",
       "      <th></th>\n",
       "      <th>case_id</th>\n",
       "      <th>date_decision</th>\n",
       "      <th>MONTH</th>\n",
       "      <th>WEEK_NUM</th>\n",
       "      <th>target</th>\n",
       "    </tr>\n",
       "  </thead>\n",
       "  <tbody>\n",
       "    <tr>\n",
       "      <th>0</th>\n",
       "      <td>0</td>\n",
       "      <td>2019-01-03</td>\n",
       "      <td>201901.0</td>\n",
       "      <td>0.0</td>\n",
       "      <td>0.0</td>\n",
       "    </tr>\n",
       "    <tr>\n",
       "      <th>1</th>\n",
       "      <td>1</td>\n",
       "      <td>2019-01-03</td>\n",
       "      <td>201901.0</td>\n",
       "      <td>0.0</td>\n",
       "      <td>0.0</td>\n",
       "    </tr>\n",
       "    <tr>\n",
       "      <th>2</th>\n",
       "      <td>2</td>\n",
       "      <td>2019-01-04</td>\n",
       "      <td>201901.0</td>\n",
       "      <td>0.0</td>\n",
       "      <td>0.0</td>\n",
       "    </tr>\n",
       "    <tr>\n",
       "      <th>3</th>\n",
       "      <td>3</td>\n",
       "      <td>2019-01-03</td>\n",
       "      <td>201901.0</td>\n",
       "      <td>0.0</td>\n",
       "      <td>0.0</td>\n",
       "    </tr>\n",
       "    <tr>\n",
       "      <th>4</th>\n",
       "      <td>4</td>\n",
       "      <td>2019-01-04</td>\n",
       "      <td>201901.0</td>\n",
       "      <td>0.0</td>\n",
       "      <td>1.0</td>\n",
       "    </tr>\n",
       "  </tbody>\n",
       "</table>\n",
       "</div>"
      ],
      "text/plain": [
       "   case_id date_decision     MONTH  WEEK_NUM  target\n",
       "0        0    2019-01-03  201901.0       0.0     0.0\n",
       "1        1    2019-01-03  201901.0       0.0     0.0\n",
       "2        2    2019-01-04  201901.0       0.0     0.0\n",
       "3        3    2019-01-03  201901.0       0.0     0.0\n",
       "4        4    2019-01-04  201901.0       0.0     1.0"
      ]
     },
     "execution_count": 4,
     "metadata": {},
     "output_type": "execute_result"
    }
   ],
   "source": [
    "train_base.head()"
   ]
  },
  {
   "cell_type": "code",
   "execution_count": 5,
   "id": "20838dfb-d1b8-436d-8549-c6663a8b8014",
   "metadata": {
    "execution": {
     "iopub.execute_input": "2024-05-15T09:14:52.260809Z",
     "iopub.status.busy": "2024-05-15T09:14:52.260023Z",
     "iopub.status.idle": "2024-05-15T09:14:52.273912Z",
     "shell.execute_reply": "2024-05-15T09:14:52.272017Z",
     "shell.execute_reply.started": "2024-05-15T09:14:52.260740Z"
    },
    "tags": []
   },
   "outputs": [
    {
     "data": {
      "text/plain": [
       "(1108969, 5)"
      ]
     },
     "execution_count": 5,
     "metadata": {},
     "output_type": "execute_result"
    }
   ],
   "source": [
    "train_base.shape"
   ]
  },
  {
   "cell_type": "code",
   "execution_count": 8,
   "id": "f1ab5239-eb5f-4a59-88c9-2a5790309b7f",
   "metadata": {
    "execution": {
     "iopub.execute_input": "2024-05-15T09:16:07.703149Z",
     "iopub.status.busy": "2024-05-15T09:16:07.701865Z",
     "iopub.status.idle": "2024-05-15T09:16:07.720065Z",
     "shell.execute_reply": "2024-05-15T09:16:07.718411Z",
     "shell.execute_reply.started": "2024-05-15T09:16:07.703083Z"
    },
    "tags": []
   },
   "outputs": [
    {
     "data": {
      "text/plain": [
       "0.0308096980168066"
      ]
     },
     "execution_count": 8,
     "metadata": {},
     "output_type": "execute_result"
    }
   ],
   "source": [
    "train_base['target'].sum()/len(train_base)"
   ]
  },
  {
   "cell_type": "code",
   "execution_count": 9,
   "id": "47f117e7-05a8-41cc-9fc6-f5ab0961a42d",
   "metadata": {
    "execution": {
     "iopub.execute_input": "2024-05-15T09:16:21.627115Z",
     "iopub.status.busy": "2024-05-15T09:16:21.625609Z",
     "iopub.status.idle": "2024-05-15T09:16:21.642763Z",
     "shell.execute_reply": "2024-05-15T09:16:21.640722Z",
     "shell.execute_reply.started": "2024-05-15T09:16:21.627047Z"
    },
    "tags": []
   },
   "outputs": [
    {
     "data": {
      "text/plain": [
       "case_id            int64\n",
       "date_decision     object\n",
       "MONTH            float64\n",
       "WEEK_NUM         float64\n",
       "target           float64\n",
       "dtype: object"
      ]
     },
     "execution_count": 9,
     "metadata": {},
     "output_type": "execute_result"
    }
   ],
   "source": [
    "train_base.dtypes"
   ]
  },
  {
   "cell_type": "code",
   "execution_count": 11,
   "id": "104de17a-d797-472c-af8f-d043929682fa",
   "metadata": {
    "execution": {
     "iopub.execute_input": "2024-05-15T09:18:17.583000Z",
     "iopub.status.busy": "2024-05-15T09:18:17.582090Z",
     "iopub.status.idle": "2024-05-15T09:18:17.660497Z",
     "shell.execute_reply": "2024-05-15T09:18:17.659479Z",
     "shell.execute_reply.started": "2024-05-15T09:18:17.582935Z"
    },
    "tags": []
   },
   "outputs": [
    {
     "data": {
      "text/html": [
       "<div>\n",
       "<style scoped>\n",
       "    .dataframe tbody tr th:only-of-type {\n",
       "        vertical-align: middle;\n",
       "    }\n",
       "\n",
       "    .dataframe tbody tr th {\n",
       "        vertical-align: top;\n",
       "    }\n",
       "\n",
       "    .dataframe thead th {\n",
       "        text-align: right;\n",
       "    }\n",
       "</style>\n",
       "<table border=\"1\" class=\"dataframe\">\n",
       "  <thead>\n",
       "    <tr style=\"text-align: right;\">\n",
       "      <th></th>\n",
       "      <th>count</th>\n",
       "      <th>target</th>\n",
       "      <th>event_rate</th>\n",
       "    </tr>\n",
       "    <tr>\n",
       "      <th>MONTH</th>\n",
       "      <th></th>\n",
       "      <th></th>\n",
       "      <th></th>\n",
       "    </tr>\n",
       "  </thead>\n",
       "  <tbody>\n",
       "    <tr>\n",
       "      <th>201901.0</th>\n",
       "      <td>66662</td>\n",
       "      <td>1720.0</td>\n",
       "      <td>0.025802</td>\n",
       "    </tr>\n",
       "    <tr>\n",
       "      <th>201902.0</th>\n",
       "      <td>54063</td>\n",
       "      <td>1499.0</td>\n",
       "      <td>0.027727</td>\n",
       "    </tr>\n",
       "    <tr>\n",
       "      <th>201903.0</th>\n",
       "      <td>59641</td>\n",
       "      <td>1560.0</td>\n",
       "      <td>0.026157</td>\n",
       "    </tr>\n",
       "    <tr>\n",
       "      <th>201904.0</th>\n",
       "      <td>60446</td>\n",
       "      <td>1776.0</td>\n",
       "      <td>0.029382</td>\n",
       "    </tr>\n",
       "    <tr>\n",
       "      <th>201905.0</th>\n",
       "      <td>53790</td>\n",
       "      <td>1828.0</td>\n",
       "      <td>0.033984</td>\n",
       "    </tr>\n",
       "    <tr>\n",
       "      <th>201906.0</th>\n",
       "      <td>83311</td>\n",
       "      <td>2136.0</td>\n",
       "      <td>0.025639</td>\n",
       "    </tr>\n",
       "    <tr>\n",
       "      <th>201907.0</th>\n",
       "      <td>84564</td>\n",
       "      <td>2345.0</td>\n",
       "      <td>0.027730</td>\n",
       "    </tr>\n",
       "    <tr>\n",
       "      <th>201908.0</th>\n",
       "      <td>85964</td>\n",
       "      <td>2286.0</td>\n",
       "      <td>0.026593</td>\n",
       "    </tr>\n",
       "    <tr>\n",
       "      <th>201909.0</th>\n",
       "      <td>87749</td>\n",
       "      <td>2954.0</td>\n",
       "      <td>0.033664</td>\n",
       "    </tr>\n",
       "    <tr>\n",
       "      <th>201910.0</th>\n",
       "      <td>85483</td>\n",
       "      <td>3241.0</td>\n",
       "      <td>0.037914</td>\n",
       "    </tr>\n",
       "    <tr>\n",
       "      <th>201911.0</th>\n",
       "      <td>106343</td>\n",
       "      <td>3653.0</td>\n",
       "      <td>0.034351</td>\n",
       "    </tr>\n",
       "    <tr>\n",
       "      <th>201912.0</th>\n",
       "      <td>92232</td>\n",
       "      <td>3095.0</td>\n",
       "      <td>0.033557</td>\n",
       "    </tr>\n",
       "    <tr>\n",
       "      <th>202001.0</th>\n",
       "      <td>38023</td>\n",
       "      <td>1469.0</td>\n",
       "      <td>0.038635</td>\n",
       "    </tr>\n",
       "    <tr>\n",
       "      <th>202002.0</th>\n",
       "      <td>31795</td>\n",
       "      <td>1479.0</td>\n",
       "      <td>0.046517</td>\n",
       "    </tr>\n",
       "    <tr>\n",
       "      <th>202003.0</th>\n",
       "      <td>24256</td>\n",
       "      <td>1029.0</td>\n",
       "      <td>0.042422</td>\n",
       "    </tr>\n",
       "    <tr>\n",
       "      <th>202004.0</th>\n",
       "      <td>3404</td>\n",
       "      <td>67.0</td>\n",
       "      <td>0.019683</td>\n",
       "    </tr>\n",
       "    <tr>\n",
       "      <th>202005.0</th>\n",
       "      <td>12332</td>\n",
       "      <td>255.0</td>\n",
       "      <td>0.020678</td>\n",
       "    </tr>\n",
       "    <tr>\n",
       "      <th>202006.0</th>\n",
       "      <td>19808</td>\n",
       "      <td>487.0</td>\n",
       "      <td>0.024586</td>\n",
       "    </tr>\n",
       "    <tr>\n",
       "      <th>202007.0</th>\n",
       "      <td>12470</td>\n",
       "      <td>256.0</td>\n",
       "      <td>0.020529</td>\n",
       "    </tr>\n",
       "    <tr>\n",
       "      <th>202008.0</th>\n",
       "      <td>18894</td>\n",
       "      <td>395.0</td>\n",
       "      <td>0.020906</td>\n",
       "    </tr>\n",
       "    <tr>\n",
       "      <th>202009.0</th>\n",
       "      <td>24414</td>\n",
       "      <td>565.0</td>\n",
       "      <td>0.023142</td>\n",
       "    </tr>\n",
       "    <tr>\n",
       "      <th>202010.0</th>\n",
       "      <td>3324</td>\n",
       "      <td>72.0</td>\n",
       "      <td>0.021661</td>\n",
       "    </tr>\n",
       "  </tbody>\n",
       "</table>\n",
       "</div>"
      ],
      "text/plain": [
       "           count  target  event_rate\n",
       "MONTH                               \n",
       "201901.0   66662  1720.0    0.025802\n",
       "201902.0   54063  1499.0    0.027727\n",
       "201903.0   59641  1560.0    0.026157\n",
       "201904.0   60446  1776.0    0.029382\n",
       "201905.0   53790  1828.0    0.033984\n",
       "201906.0   83311  2136.0    0.025639\n",
       "201907.0   84564  2345.0    0.027730\n",
       "201908.0   85964  2286.0    0.026593\n",
       "201909.0   87749  2954.0    0.033664\n",
       "201910.0   85483  3241.0    0.037914\n",
       "201911.0  106343  3653.0    0.034351\n",
       "201912.0   92232  3095.0    0.033557\n",
       "202001.0   38023  1469.0    0.038635\n",
       "202002.0   31795  1479.0    0.046517\n",
       "202003.0   24256  1029.0    0.042422\n",
       "202004.0    3404    67.0    0.019683\n",
       "202005.0   12332   255.0    0.020678\n",
       "202006.0   19808   487.0    0.024586\n",
       "202007.0   12470   256.0    0.020529\n",
       "202008.0   18894   395.0    0.020906\n",
       "202009.0   24414   565.0    0.023142\n",
       "202010.0    3324    72.0    0.021661"
      ]
     },
     "execution_count": 11,
     "metadata": {},
     "output_type": "execute_result"
    }
   ],
   "source": [
    "summary = train_base.groupby('MONTH').agg(count = pd.NamedAgg(column = 'case_id', aggfunc = 'count')\n",
    "                               ,target = pd.NamedAgg(column = 'target', aggfunc = 'sum'))\\\n",
    "                            .sort_values(by = 'MONTH')\n",
    "summary['event_rate'] = summary['target']/summary['count']\n",
    "summary"
   ]
  },
  {
   "cell_type": "code",
   "execution_count": 12,
   "id": "c6650848-bf35-44f2-a36e-247d119c847b",
   "metadata": {
    "execution": {
     "iopub.execute_input": "2024-05-15T09:19:15.969186Z",
     "iopub.status.busy": "2024-05-15T09:19:15.968469Z",
     "iopub.status.idle": "2024-05-15T09:19:16.047679Z",
     "shell.execute_reply": "2024-05-15T09:19:16.046859Z",
     "shell.execute_reply.started": "2024-05-15T09:19:15.969123Z"
    },
    "tags": []
   },
   "outputs": [
    {
     "data": {
      "text/html": [
       "<div>\n",
       "<style scoped>\n",
       "    .dataframe tbody tr th:only-of-type {\n",
       "        vertical-align: middle;\n",
       "    }\n",
       "\n",
       "    .dataframe tbody tr th {\n",
       "        vertical-align: top;\n",
       "    }\n",
       "\n",
       "    .dataframe thead th {\n",
       "        text-align: right;\n",
       "    }\n",
       "</style>\n",
       "<table border=\"1\" class=\"dataframe\">\n",
       "  <thead>\n",
       "    <tr style=\"text-align: right;\">\n",
       "      <th></th>\n",
       "      <th>count</th>\n",
       "      <th>target</th>\n",
       "      <th>event_rate</th>\n",
       "    </tr>\n",
       "    <tr>\n",
       "      <th>WEEK_NUM</th>\n",
       "      <th></th>\n",
       "      <th></th>\n",
       "      <th></th>\n",
       "    </tr>\n",
       "  </thead>\n",
       "  <tbody>\n",
       "    <tr>\n",
       "      <th>0.0</th>\n",
       "      <td>15829</td>\n",
       "      <td>374.0</td>\n",
       "      <td>0.023628</td>\n",
       "    </tr>\n",
       "    <tr>\n",
       "      <th>1.0</th>\n",
       "      <td>16423</td>\n",
       "      <td>407.0</td>\n",
       "      <td>0.024782</td>\n",
       "    </tr>\n",
       "    <tr>\n",
       "      <th>2.0</th>\n",
       "      <td>14891</td>\n",
       "      <td>392.0</td>\n",
       "      <td>0.026325</td>\n",
       "    </tr>\n",
       "    <tr>\n",
       "      <th>3.0</th>\n",
       "      <td>14320</td>\n",
       "      <td>366.0</td>\n",
       "      <td>0.025559</td>\n",
       "    </tr>\n",
       "    <tr>\n",
       "      <th>4.0</th>\n",
       "      <td>12217</td>\n",
       "      <td>355.0</td>\n",
       "      <td>0.029058</td>\n",
       "    </tr>\n",
       "    <tr>\n",
       "      <th>...</th>\n",
       "      <td>...</td>\n",
       "      <td>...</td>\n",
       "      <td>...</td>\n",
       "    </tr>\n",
       "    <tr>\n",
       "      <th>87.0</th>\n",
       "      <td>6708</td>\n",
       "      <td>144.0</td>\n",
       "      <td>0.021467</td>\n",
       "    </tr>\n",
       "    <tr>\n",
       "      <th>88.0</th>\n",
       "      <td>5553</td>\n",
       "      <td>107.0</td>\n",
       "      <td>0.019269</td>\n",
       "    </tr>\n",
       "    <tr>\n",
       "      <th>89.0</th>\n",
       "      <td>5526</td>\n",
       "      <td>127.0</td>\n",
       "      <td>0.022982</td>\n",
       "    </tr>\n",
       "    <tr>\n",
       "      <th>90.0</th>\n",
       "      <td>4936</td>\n",
       "      <td>142.0</td>\n",
       "      <td>0.028768</td>\n",
       "    </tr>\n",
       "    <tr>\n",
       "      <th>91.0</th>\n",
       "      <td>5015</td>\n",
       "      <td>117.0</td>\n",
       "      <td>0.023330</td>\n",
       "    </tr>\n",
       "  </tbody>\n",
       "</table>\n",
       "<p>92 rows × 3 columns</p>\n",
       "</div>"
      ],
      "text/plain": [
       "          count  target  event_rate\n",
       "WEEK_NUM                           \n",
       "0.0       15829   374.0    0.023628\n",
       "1.0       16423   407.0    0.024782\n",
       "2.0       14891   392.0    0.026325\n",
       "3.0       14320   366.0    0.025559\n",
       "4.0       12217   355.0    0.029058\n",
       "...         ...     ...         ...\n",
       "87.0       6708   144.0    0.021467\n",
       "88.0       5553   107.0    0.019269\n",
       "89.0       5526   127.0    0.022982\n",
       "90.0       4936   142.0    0.028768\n",
       "91.0       5015   117.0    0.023330\n",
       "\n",
       "[92 rows x 3 columns]"
      ]
     },
     "execution_count": 12,
     "metadata": {},
     "output_type": "execute_result"
    }
   ],
   "source": [
    "summary = train_base.groupby('WEEK_NUM').agg(count = pd.NamedAgg(column = 'case_id', aggfunc = 'count')\n",
    "                               ,target = pd.NamedAgg(column = 'target', aggfunc = 'sum'))\\\n",
    "                            .sort_values(by = 'WEEK_NUM')\n",
    "summary['event_rate'] = summary['target']/summary['count']\n",
    "summary"
   ]
  },
  {
   "cell_type": "code",
   "execution_count": 3,
   "id": "3bda2661-77ea-48c7-925d-34223ff3db9a",
   "metadata": {
    "execution": {
     "iopub.execute_input": "2024-05-16T11:24:43.127503Z",
     "iopub.status.busy": "2024-05-16T11:24:43.126760Z",
     "iopub.status.idle": "2024-05-16T11:24:43.148499Z",
     "shell.execute_reply": "2024-05-16T11:24:43.146690Z",
     "shell.execute_reply.started": "2024-05-16T11:24:43.127440Z"
    },
    "tags": []
   },
   "outputs": [],
   "source": [
    "test_base = pd.read_csv(f\"{path}/test/test_base.csv\")"
   ]
  },
  {
   "cell_type": "code",
   "execution_count": 4,
   "id": "70da0180-d4e3-4e25-a83a-ae2b98063860",
   "metadata": {
    "execution": {
     "iopub.execute_input": "2024-05-16T11:24:44.700091Z",
     "iopub.status.busy": "2024-05-16T11:24:44.699340Z",
     "iopub.status.idle": "2024-05-16T11:24:44.726957Z",
     "shell.execute_reply": "2024-05-16T11:24:44.725414Z",
     "shell.execute_reply.started": "2024-05-16T11:24:44.700027Z"
    },
    "tags": []
   },
   "outputs": [
    {
     "data": {
      "text/html": [
       "<div>\n",
       "<style scoped>\n",
       "    .dataframe tbody tr th:only-of-type {\n",
       "        vertical-align: middle;\n",
       "    }\n",
       "\n",
       "    .dataframe tbody tr th {\n",
       "        vertical-align: top;\n",
       "    }\n",
       "\n",
       "    .dataframe thead th {\n",
       "        text-align: right;\n",
       "    }\n",
       "</style>\n",
       "<table border=\"1\" class=\"dataframe\">\n",
       "  <thead>\n",
       "    <tr style=\"text-align: right;\">\n",
       "      <th></th>\n",
       "      <th>case_id</th>\n",
       "      <th>date_decision</th>\n",
       "      <th>MONTH</th>\n",
       "      <th>WEEK_NUM</th>\n",
       "    </tr>\n",
       "  </thead>\n",
       "  <tbody>\n",
       "    <tr>\n",
       "      <th>0</th>\n",
       "      <td>57543</td>\n",
       "      <td>2021-05-14</td>\n",
       "      <td>202201</td>\n",
       "      <td>100</td>\n",
       "    </tr>\n",
       "    <tr>\n",
       "      <th>1</th>\n",
       "      <td>57549</td>\n",
       "      <td>2022-01-17</td>\n",
       "      <td>202201</td>\n",
       "      <td>100</td>\n",
       "    </tr>\n",
       "    <tr>\n",
       "      <th>2</th>\n",
       "      <td>57551</td>\n",
       "      <td>2020-11-27</td>\n",
       "      <td>202201</td>\n",
       "      <td>100</td>\n",
       "    </tr>\n",
       "    <tr>\n",
       "      <th>3</th>\n",
       "      <td>57552</td>\n",
       "      <td>2020-11-27</td>\n",
       "      <td>202201</td>\n",
       "      <td>100</td>\n",
       "    </tr>\n",
       "    <tr>\n",
       "      <th>4</th>\n",
       "      <td>57569</td>\n",
       "      <td>2021-12-20</td>\n",
       "      <td>202201</td>\n",
       "      <td>100</td>\n",
       "    </tr>\n",
       "  </tbody>\n",
       "</table>\n",
       "</div>"
      ],
      "text/plain": [
       "   case_id date_decision   MONTH  WEEK_NUM\n",
       "0    57543    2021-05-14  202201       100\n",
       "1    57549    2022-01-17  202201       100\n",
       "2    57551    2020-11-27  202201       100\n",
       "3    57552    2020-11-27  202201       100\n",
       "4    57569    2021-12-20  202201       100"
      ]
     },
     "execution_count": 4,
     "metadata": {},
     "output_type": "execute_result"
    }
   ],
   "source": [
    "test_base.head()"
   ]
  },
  {
   "cell_type": "code",
   "execution_count": 5,
   "id": "15a9b428-5f20-43da-9702-48e0aa662aad",
   "metadata": {
    "execution": {
     "iopub.execute_input": "2024-05-16T11:24:49.112108Z",
     "iopub.status.busy": "2024-05-16T11:24:49.110682Z",
     "iopub.status.idle": "2024-05-16T11:24:49.130442Z",
     "shell.execute_reply": "2024-05-16T11:24:49.128471Z",
     "shell.execute_reply.started": "2024-05-16T11:24:49.111963Z"
    }
   },
   "outputs": [
    {
     "data": {
      "text/plain": [
       "(10, 4)"
      ]
     },
     "execution_count": 5,
     "metadata": {},
     "output_type": "execute_result"
    }
   ],
   "source": [
    "test_base.shape"
   ]
  },
  {
   "cell_type": "code",
   "execution_count": null,
   "id": "7c8c71e7-f60e-42e3-880f-a3a1d534cdb1",
   "metadata": {},
   "outputs": [],
   "source": []
  }
 ],
 "metadata": {
  "kernelspec": {
   "display_name": "Python 3 (ipykernel)",
   "language": "python",
   "name": "python3"
  },
  "language_info": {
   "codemirror_mode": {
    "name": "ipython",
    "version": 3
   },
   "file_extension": ".py",
   "mimetype": "text/x-python",
   "name": "python",
   "nbconvert_exporter": "python",
   "pygments_lexer": "ipython3",
   "version": "3.10.12"
  }
 },
 "nbformat": 4,
 "nbformat_minor": 5
}
