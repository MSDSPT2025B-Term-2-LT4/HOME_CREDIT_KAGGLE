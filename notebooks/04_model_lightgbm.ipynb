{
 "cells": [
  {
   "cell_type": "code",
   "execution_count": 1,
   "id": "11fc3423-8a19-4501-824c-3114a6a414a8",
   "metadata": {
    "execution": {
     "iopub.execute_input": "2024-05-27T09:15:59.472549Z",
     "iopub.status.busy": "2024-05-27T09:15:59.471802Z",
     "iopub.status.idle": "2024-05-27T09:15:59.512833Z",
     "shell.execute_reply": "2024-05-27T09:15:59.512033Z",
     "shell.execute_reply.started": "2024-05-27T09:15:59.472443Z"
    },
    "tags": []
   },
   "outputs": [],
   "source": [
    "%load_ext autoreload\n",
    "%autoreload 2"
   ]
  },
  {
   "cell_type": "code",
   "execution_count": 2,
   "id": "e801884b-b38e-45c4-be43-847cd41901c4",
   "metadata": {
    "execution": {
     "iopub.execute_input": "2024-05-27T09:16:01.010186Z",
     "iopub.status.busy": "2024-05-27T09:16:01.008857Z",
     "iopub.status.idle": "2024-05-27T09:16:01.799782Z",
     "shell.execute_reply": "2024-05-27T09:16:01.798855Z",
     "shell.execute_reply.started": "2024-05-27T09:16:01.010118Z"
    },
    "tags": []
   },
   "outputs": [],
   "source": [
    "import pandas as pd\n",
    "import polars"
   ]
  },
  {
   "cell_type": "code",
   "execution_count": 3,
   "id": "1b7356f5-50e2-4700-a03e-9ffbb6332be3",
   "metadata": {
    "execution": {
     "iopub.execute_input": "2024-05-27T09:16:01.801530Z",
     "iopub.status.busy": "2024-05-27T09:16:01.801157Z",
     "iopub.status.idle": "2024-05-27T09:16:02.926529Z",
     "shell.execute_reply": "2024-05-27T09:16:02.924915Z",
     "shell.execute_reply.started": "2024-05-27T09:16:01.801506Z"
    },
    "tags": []
   },
   "outputs": [],
   "source": [
    "data = polars.read_csv('/mnt/processed/private/msds-pt2025b/lt4/final_project/train_base.csv')"
   ]
  },
  {
   "cell_type": "code",
   "execution_count": 5,
   "id": "07e24003-34da-4511-a07c-c2da5013069a",
   "metadata": {
    "execution": {
     "iopub.execute_input": "2024-05-27T09:16:03.274176Z",
     "iopub.status.busy": "2024-05-27T09:16:03.273461Z",
     "iopub.status.idle": "2024-05-27T09:16:03.308217Z",
     "shell.execute_reply": "2024-05-27T09:16:03.307499Z",
     "shell.execute_reply.started": "2024-05-27T09:16:03.274113Z"
    },
    "tags": []
   },
   "outputs": [
    {
     "data": {
      "text/plain": [
       "(126651, 472)"
      ]
     },
     "execution_count": 5,
     "metadata": {},
     "output_type": "execute_result"
    }
   ],
   "source": [
    "data.shape"
   ]
  },
  {
   "cell_type": "code",
   "execution_count": 6,
   "id": "313d19a5-a177-4707-88e3-5c71520acf99",
   "metadata": {
    "execution": {
     "iopub.execute_input": "2024-05-27T09:16:04.720182Z",
     "iopub.status.busy": "2024-05-27T09:16:04.719439Z",
     "iopub.status.idle": "2024-05-27T09:16:04.765814Z",
     "shell.execute_reply": "2024-05-27T09:16:04.765043Z",
     "shell.execute_reply.started": "2024-05-27T09:16:04.720120Z"
    },
    "tags": []
   },
   "outputs": [
    {
     "data": {
      "text/html": [
       "<div><style>\n",
       ".dataframe > thead > tr,\n",
       ".dataframe > tbody > tr {\n",
       "  text-align: right;\n",
       "  white-space: pre-wrap;\n",
       "}\n",
       "</style>\n",
       "<small>shape: (5, 472)</small><table border=\"1\" class=\"dataframe\"><thead><tr><th>case_id</th><th>month</th><th>week_num</th><th>target</th><th>assignmentdate_238D</th><th>assignmentdate_4527235D</th><th>birthdate_574D</th><th>contractssum_5085716L</th><th>dateofbirth_337D</th><th>days120_123L</th><th>days180_256L</th><th>days30_165L</th><th>days360_512L</th><th>days90_310L</th><th>description_5085714M</th><th>education_1103M</th><th>education_88M</th><th>firstquarter_103L</th><th>fourthquarter_440L</th><th>maritalst_385M</th><th>maritalst_893M</th><th>numberofqueries_373L</th><th>pmtaverage_3A</th><th>pmtaverage_4527227A</th><th>pmtcount_4527229L</th><th>pmtcount_693L</th><th>pmtscount_423L</th><th>pmtssum_45A</th><th>requesttype_4525192L</th><th>responsedate_1012D</th><th>responsedate_4527233D</th><th>responsedate_4917613D</th><th>secondquarter_766L</th><th>thirdquarter_1082L</th><th>actualdpdtolerance_344P</th><th>amtinstpaidbefduel24m_4187115A</th><th>annuity_780A</th><th>&hellip;</th><th>mean_mainoccupationinc_384A</th><th>max_amount_416A</th><th>max_num_group1_10</th><th>max_openingdate_313D</th><th>mean_amount_416A</th><th>mean_openingdate_313D</th><th>max_num_group1_11</th><th>max_openingdate_857D</th><th>mean_openingdate_857D</th><th>max_collater_typofvalofguarant_298M</th><th>max_collater_typofvalofguarant_407M</th><th>max_collater_valueofguarantee_1124L</th><th>max_collater_valueofguarantee_876L</th><th>max_collaterals_typeofguarante_359M</th><th>max_collaterals_typeofguarante_669M</th><th>max_num_group1_12</th><th>max_num_group2</th><th>max_pmts_dpd_1073P</th><th>max_pmts_dpd_303P</th><th>max_pmts_month_158T</th><th>max_pmts_month_706T</th><th>max_pmts_overdue_1140A</th><th>max_pmts_overdue_1152A</th><th>max_pmts_year_1139T</th><th>max_pmts_year_507T</th><th>max_subjectroles_name_541M</th><th>max_subjectroles_name_838M</th><th>mean_pmts_dpd_1073P</th><th>mean_pmts_dpd_303P</th><th>mean_pmts_overdue_1140A</th><th>mean_pmts_overdue_1152A</th><th>var_pmts_dpd_1073P</th><th>var_pmts_dpd_303P</th><th>var_pmts_overdue_1140A</th><th>var_pmts_overdue_1152A</th><th>year</th><th>day</th></tr><tr><td>i64</td><td>i64</td><td>i64</td><td>i64</td><td>i64</td><td>i64</td><td>i64</td><td>f64</td><td>i64</td><td>f64</td><td>f64</td><td>f64</td><td>f64</td><td>f64</td><td>str</td><td>str</td><td>str</td><td>f64</td><td>f64</td><td>str</td><td>str</td><td>f64</td><td>f64</td><td>f64</td><td>f64</td><td>f64</td><td>f64</td><td>f64</td><td>str</td><td>i64</td><td>i64</td><td>i64</td><td>f64</td><td>f64</td><td>f64</td><td>f64</td><td>f64</td><td>&hellip;</td><td>f64</td><td>f64</td><td>i64</td><td>i64</td><td>f64</td><td>i64</td><td>i64</td><td>i64</td><td>i64</td><td>str</td><td>str</td><td>f64</td><td>f64</td><td>str</td><td>str</td><td>i64</td><td>i64</td><td>f64</td><td>f64</td><td>f64</td><td>f64</td><td>f64</td><td>f64</td><td>f64</td><td>f64</td><td>str</td><td>str</td><td>f64</td><td>f64</td><td>f64</td><td>f64</td><td>f64</td><td>f64</td><td>f64</td><td>f64</td><td>i64</td><td>i64</td></tr></thead><tbody><tr><td>1402704</td><td>201906</td><td>23</td><td>0</td><td>null</td><td>null</td><td>-12127</td><td>null</td><td>-12127</td><td>1.0</td><td>1.0</td><td>0.0</td><td>1.0</td><td>0.0</td><td>&quot;a55475b1&quot;</td><td>&quot;a55475b1&quot;</td><td>&quot;a55475b1&quot;</td><td>1.0</td><td>0.0</td><td>&quot;a55475b1&quot;</td><td>&quot;a55475b1&quot;</td><td>1.0</td><td>null</td><td>null</td><td>null</td><td>null</td><td>5.0</td><td>74996.805</td><td>null</td><td>14</td><td>null</td><td>null</td><td>1.0</td><td>0.0</td><td>0.0</td><td>83502.14</td><td>3833.4001</td><td>&hellip;</td><td>80000.0</td><td>null</td><td>null</td><td>null</td><td>null</td><td>null</td><td>null</td><td>null</td><td>null</td><td>&quot;a55475b1&quot;</td><td>&quot;a55475b1&quot;</td><td>null</td><td>0.0</td><td>&quot;c7a5ad39&quot;</td><td>&quot;a55475b1&quot;</td><td>0</td><td>23</td><td>null</td><td>0.0</td><td>null</td><td>12.0</td><td>null</td><td>0.0</td><td>null</td><td>2020.0</td><td>&quot;ab3c25cf&quot;</td><td>&quot;a55475b1&quot;</td><td>null</td><td>0.0</td><td>null</td><td>0.0</td><td>null</td><td>0.0</td><td>null</td><td>0.0</td><td>2019</td><td>14</td></tr><tr><td>1482183</td><td>201908</td><td>31</td><td>0</td><td>-2705</td><td>null</td><td>-23902</td><td>null</td><td>-23902</td><td>1.0</td><td>1.0</td><td>1.0</td><td>1.0</td><td>1.0</td><td>&quot;a55475b1&quot;</td><td>&quot;a55475b1&quot;</td><td>&quot;a55475b1&quot;</td><td>0.0</td><td>0.0</td><td>&quot;b6cabe76&quot;</td><td>&quot;a55475b1&quot;</td><td>1.0</td><td>16674.201</td><td>null</td><td>null</td><td>6.0</td><td>null</td><td>null</td><td>null</td><td>14</td><td>null</td><td>null</td><td>0.0</td><td>1.0</td><td>0.0</td><td>0.0</td><td>4809.6</td><td>&hellip;</td><td>22400.0</td><td>null</td><td>null</td><td>null</td><td>null</td><td>null</td><td>null</td><td>null</td><td>null</td><td>&quot;a55475b1&quot;</td><td>&quot;a55475b1&quot;</td><td>null</td><td>200000.0</td><td>&quot;c7a5ad39&quot;</td><td>&quot;a55475b1&quot;</td><td>1</td><td>23</td><td>null</td><td>0.0</td><td>null</td><td>12.0</td><td>null</td><td>0.0</td><td>null</td><td>2015.0</td><td>&quot;ab3c25cf&quot;</td><td>&quot;a55475b1&quot;</td><td>null</td><td>0.0</td><td>null</td><td>0.0</td><td>null</td><td>0.0</td><td>null</td><td>0.0</td><td>2019</td><td>9</td></tr><tr><td>856351</td><td>201911</td><td>44</td><td>0</td><td>null</td><td>null</td><td>null</td><td>null</td><td>-13128</td><td>0.0</td><td>0.0</td><td>0.0</td><td>1.0</td><td>0.0</td><td>&quot;a55475b1&quot;</td><td>&quot;a55475b1&quot;</td><td>&quot;a55475b1&quot;</td><td>0.0</td><td>1.0</td><td>&quot;a55475b1&quot;</td><td>&quot;a55475b1&quot;</td><td>1.0</td><td>null</td><td>null</td><td>null</td><td>null</td><td>null</td><td>null</td><td>&quot;DEDUCTION_6&quot;</td><td>null</td><td>14</td><td>null</td><td>1.0</td><td>0.0</td><td>null</td><td>null</td><td>7727.2</td><td>&hellip;</td><td>80000.0</td><td>null</td><td>null</td><td>null</td><td>null</td><td>null</td><td>null</td><td>null</td><td>null</td><td>&quot;a55475b1&quot;</td><td>&quot;a55475b1&quot;</td><td>null</td><td>0.0</td><td>&quot;c7a5ad39&quot;</td><td>&quot;a55475b1&quot;</td><td>9</td><td>35</td><td>null</td><td>11.0</td><td>null</td><td>12.0</td><td>null</td><td>1393.248</td><td>null</td><td>2019.0</td><td>&quot;ab3c25cf&quot;</td><td>&quot;a55475b1&quot;</td><td>null</td><td>0.111111</td><td>null</td><td>12.990037</td><td>null</td><td>1.1277258</td><td>null</td><td>17972.053</td><td>2019</td><td>10</td></tr><tr><td>1927558</td><td>202009</td><td>88</td><td>0</td><td>null</td><td>null</td><td>null</td><td>null</td><td>-20620</td><td>0.0</td><td>0.0</td><td>0.0</td><td>0.0</td><td>0.0</td><td>&quot;2fc785b2&quot;</td><td>&quot;a55475b1&quot;</td><td>&quot;a55475b1&quot;</td><td>1.0</td><td>1.0</td><td>&quot;a55475b1&quot;</td><td>&quot;a55475b1&quot;</td><td>0.0</td><td>null</td><td>null</td><td>null</td><td>null</td><td>null</td><td>null</td><td>null</td><td>null</td><td>null</td><td>14</td><td>0.0</td><td>1.0</td><td>0.0</td><td>17261.201</td><td>7436.0</td><td>&hellip;</td><td>90000.0</td><td>null</td><td>null</td><td>null</td><td>null</td><td>null</td><td>null</td><td>null</td><td>null</td><td>&quot;a55475b1&quot;</td><td>&quot;a55475b1&quot;</td><td>null</td><td>0.0</td><td>&quot;c7a5ad39&quot;</td><td>&quot;a55475b1&quot;</td><td>2</td><td>23</td><td>null</td><td>0.0</td><td>null</td><td>12.0</td><td>null</td><td>0.0</td><td>null</td><td>2020.0</td><td>&quot;ab3c25cf&quot;</td><td>&quot;a55475b1&quot;</td><td>null</td><td>0.0</td><td>null</td><td>0.0</td><td>null</td><td>0.0</td><td>null</td><td>0.0</td><td>2020</td><td>14</td></tr><tr><td>2676673</td><td>202003</td><td>62</td><td>0</td><td>null</td><td>null</td><td>null</td><td>null</td><td>-16874</td><td>0.0</td><td>2.0</td><td>0.0</td><td>2.0</td><td>0.0</td><td>&quot;a55475b1&quot;</td><td>&quot;a55475b1&quot;</td><td>&quot;a55475b1&quot;</td><td>0.0</td><td>4.0</td><td>&quot;a55475b1&quot;</td><td>&quot;a55475b1&quot;</td><td>2.0</td><td>null</td><td>null</td><td>null</td><td>null</td><td>null</td><td>null</td><td>&quot;DEDUCTION_6&quot;</td><td>null</td><td>14</td><td>null</td><td>0.0</td><td>0.0</td><td>0.0</td><td>164638.36</td><td>7338.8003</td><td>&hellip;</td><td>62000.0</td><td>null</td><td>null</td><td>null</td><td>null</td><td>null</td><td>null</td><td>null</td><td>null</td><td>&quot;a55475b1&quot;</td><td>&quot;a55475b1&quot;</td><td>0.0</td><td>0.0</td><td>&quot;c7a5ad39&quot;</td><td>&quot;c7a5ad39&quot;</td><td>2</td><td>23</td><td>0.0</td><td>14.0</td><td>12.0</td><td>12.0</td><td>0.0</td><td>6049.6</td><td>2021.0</td><td>2020.0</td><td>&quot;ab3c25cf&quot;</td><td>&quot;ab3c25cf&quot;</td><td>0.0</td><td>1.1818181</td><td>0.0</td><td>280.34546</td><td>0.0</td><td>12.822511</td><td>0.0</td><td>1660920.5</td><td>2020</td><td>14</td></tr></tbody></table></div>"
      ],
      "text/plain": [
       "shape: (5, 472)\n",
       "┌─────────┬────────┬──────────┬────────┬───┬─────────────────────┬────────────────────┬──────┬─────┐\n",
       "│ case_id ┆ month  ┆ week_num ┆ target ┆ … ┆ var_pmts_overdue_11 ┆ var_pmts_overdue_1 ┆ year ┆ day │\n",
       "│ ---     ┆ ---    ┆ ---      ┆ ---    ┆   ┆ 40A                 ┆ 152A               ┆ ---  ┆ --- │\n",
       "│ i64     ┆ i64    ┆ i64      ┆ i64    ┆   ┆ ---                 ┆ ---                ┆ i64  ┆ i64 │\n",
       "│         ┆        ┆          ┆        ┆   ┆ f64                 ┆ f64                ┆      ┆     │\n",
       "╞═════════╪════════╪══════════╪════════╪═══╪═════════════════════╪════════════════════╪══════╪═════╡\n",
       "│ 1402704 ┆ 201906 ┆ 23       ┆ 0      ┆ … ┆ null                ┆ 0.0                ┆ 2019 ┆ 14  │\n",
       "│ 1482183 ┆ 201908 ┆ 31       ┆ 0      ┆ … ┆ null                ┆ 0.0                ┆ 2019 ┆ 9   │\n",
       "│ 856351  ┆ 201911 ┆ 44       ┆ 0      ┆ … ┆ null                ┆ 17972.053          ┆ 2019 ┆ 10  │\n",
       "│ 1927558 ┆ 202009 ┆ 88       ┆ 0      ┆ … ┆ null                ┆ 0.0                ┆ 2020 ┆ 14  │\n",
       "│ 2676673 ┆ 202003 ┆ 62       ┆ 0      ┆ … ┆ 0.0                 ┆ 1660920.5          ┆ 2020 ┆ 14  │\n",
       "└─────────┴────────┴──────────┴────────┴───┴─────────────────────┴────────────────────┴──────┴─────┘"
      ]
     },
     "execution_count": 6,
     "metadata": {},
     "output_type": "execute_result"
    }
   ],
   "source": [
    "data.head()"
   ]
  },
  {
   "cell_type": "code",
   "execution_count": 7,
   "id": "c31668c2-fae5-4222-ac37-b98eee2cfb05",
   "metadata": {
    "execution": {
     "iopub.execute_input": "2024-05-27T09:16:06.107231Z",
     "iopub.status.busy": "2024-05-27T09:16:06.106502Z",
     "iopub.status.idle": "2024-05-27T09:16:07.194383Z",
     "shell.execute_reply": "2024-05-27T09:16:07.193120Z",
     "shell.execute_reply.started": "2024-05-27T09:16:06.107168Z"
    },
    "tags": []
   },
   "outputs": [],
   "source": [
    "data = data.to_pandas()"
   ]
  },
  {
   "cell_type": "code",
   "execution_count": 8,
   "id": "93ed95d6-a5d2-41fb-8346-d285e9fdc19a",
   "metadata": {
    "execution": {
     "iopub.execute_input": "2024-05-27T09:16:07.773376Z",
     "iopub.status.busy": "2024-05-27T09:16:07.772548Z",
     "iopub.status.idle": "2024-05-27T09:16:07.811466Z",
     "shell.execute_reply": "2024-05-27T09:16:07.810707Z",
     "shell.execute_reply.started": "2024-05-27T09:16:07.773299Z"
    },
    "tags": []
   },
   "outputs": [
    {
     "data": {
      "text/plain": [
       "(126651, 472)"
      ]
     },
     "execution_count": 8,
     "metadata": {},
     "output_type": "execute_result"
    }
   ],
   "source": [
    "data.shape"
   ]
  },
  {
   "cell_type": "code",
   "execution_count": 12,
   "id": "24d67506-e089-4872-a7c6-aead7a67a6b2",
   "metadata": {
    "execution": {
     "iopub.execute_input": "2024-05-27T09:16:41.638377Z",
     "iopub.status.busy": "2024-05-27T09:16:41.637569Z",
     "iopub.status.idle": "2024-05-27T09:16:41.683795Z",
     "shell.execute_reply": "2024-05-27T09:16:41.682985Z",
     "shell.execute_reply.started": "2024-05-27T09:16:41.638305Z"
    },
    "tags": []
   },
   "outputs": [],
   "source": [
    "cat_cols = [col for col, dtype in dict(data.dtypes).items() if dtype == 'O']\n",
    "data[cat_cols] = data[cat_cols].astype('category')"
   ]
  },
  {
   "cell_type": "code",
   "execution_count": 13,
   "id": "f6c31461-32b0-4e8d-99cc-0b48d3bf15b8",
   "metadata": {
    "execution": {
     "iopub.execute_input": "2024-05-27T09:16:42.422856Z",
     "iopub.status.busy": "2024-05-27T09:16:42.420748Z",
     "iopub.status.idle": "2024-05-27T09:16:43.116833Z",
     "shell.execute_reply": "2024-05-27T09:16:43.115746Z",
     "shell.execute_reply.started": "2024-05-27T09:16:42.422784Z"
    },
    "tags": []
   },
   "outputs": [],
   "source": [
    "from sklearn.model_selection import train_test_split\n",
    "\n",
    "\n",
    "X = data.drop(['month', 'week_num', 'target'], axis = 1)\n",
    "y = data['target']\n",
    "X_train_val, X_test, y_train_val, y_test = train_test_split(X, y, test_size=0.2, random_state=42)\n"
   ]
  },
  {
   "cell_type": "code",
   "execution_count": 14,
   "id": "eaba93ce-4a24-4aba-b99d-3b8eb20503b3",
   "metadata": {
    "execution": {
     "iopub.execute_input": "2024-05-27T09:16:43.598037Z",
     "iopub.status.busy": "2024-05-27T09:16:43.597287Z",
     "iopub.status.idle": "2024-05-27T09:16:43.651868Z",
     "shell.execute_reply": "2024-05-27T09:16:43.651063Z",
     "shell.execute_reply.started": "2024-05-27T09:16:43.597939Z"
    },
    "tags": []
   },
   "outputs": [
    {
     "data": {
      "text/html": [
       "<div>\n",
       "<style scoped>\n",
       "    .dataframe tbody tr th:only-of-type {\n",
       "        vertical-align: middle;\n",
       "    }\n",
       "\n",
       "    .dataframe tbody tr th {\n",
       "        vertical-align: top;\n",
       "    }\n",
       "\n",
       "    .dataframe thead th {\n",
       "        text-align: right;\n",
       "    }\n",
       "</style>\n",
       "<table border=\"1\" class=\"dataframe\">\n",
       "  <thead>\n",
       "    <tr style=\"text-align: right;\">\n",
       "      <th></th>\n",
       "      <th>model_name</th>\n",
       "      <th>model</th>\n",
       "      <th>params</th>\n",
       "      <th>accuracy</th>\n",
       "      <th>precision</th>\n",
       "      <th>recall</th>\n",
       "      <th>f1_score</th>\n",
       "      <th>roc_auc</th>\n",
       "      <th>pr_auc</th>\n",
       "      <th>lift</th>\n",
       "      <th>accuracy_cv</th>\n",
       "      <th>precision_cv</th>\n",
       "      <th>recall_cv</th>\n",
       "      <th>f1_score_cv</th>\n",
       "      <th>roc_auc_cv</th>\n",
       "      <th>pr_auc_cv</th>\n",
       "      <th>lift_cv</th>\n",
       "    </tr>\n",
       "  </thead>\n",
       "  <tbody>\n",
       "  </tbody>\n",
       "</table>\n",
       "</div>"
      ],
      "text/plain": [
       "Empty DataFrame\n",
       "Columns: [model_name, model, params, accuracy, precision, recall, f1_score, roc_auc, pr_auc, lift, accuracy_cv, precision_cv, recall_cv, f1_score_cv, roc_auc_cv, pr_auc_cv, lift_cv]\n",
       "Index: []"
      ]
     },
     "execution_count": 14,
     "metadata": {},
     "output_type": "execute_result"
    }
   ],
   "source": [
    "score_schema = {'model_name': 'str', \n",
    "                        'model': 'str',\n",
    "                        'params': 'str',\n",
    "                        'accuracy': 'float',\n",
    "                        'precision': 'float',\n",
    "                        'recall': 'float',\n",
    "                        'f1_score': 'float',\n",
    "                        'roc_auc': 'float',\n",
    "                        'pr_auc': 'float',\n",
    "                        'lift': 'float',\n",
    "                        'accuracy_cv': 'float',\n",
    "                        'precision_cv': 'float',\n",
    "                        'recall_cv': 'float',\n",
    "                        'f1_score_cv': 'float',\n",
    "                        'roc_auc_cv': 'float',\n",
    "                        'pr_auc_cv': 'float',\n",
    "                        'lift_cv': 'float'}\n",
    "scores = pd.DataFrame(columns = score_schema.keys()).astype(score_schema)\n",
    "scores"
   ]
  },
  {
   "cell_type": "code",
   "execution_count": 19,
   "id": "f0d6b773-785a-4278-96b0-a0456dad3ff3",
   "metadata": {
    "execution": {
     "iopub.execute_input": "2024-05-27T09:17:22.615903Z",
     "iopub.status.busy": "2024-05-27T09:17:22.615143Z",
     "iopub.status.idle": "2024-05-27T09:17:22.666654Z",
     "shell.execute_reply": "2024-05-27T09:17:22.665347Z",
     "shell.execute_reply.started": "2024-05-27T09:17:22.615840Z"
    },
    "tags": []
   },
   "outputs": [],
   "source": [
    "feature_cols = X.columns[1:]"
   ]
  },
  {
   "cell_type": "code",
   "execution_count": 20,
   "id": "e3e60734-2ea3-4702-8be9-0db883a7f171",
   "metadata": {
    "execution": {
     "iopub.execute_input": "2024-05-27T09:17:24.208369Z",
     "iopub.status.busy": "2024-05-27T09:17:24.207627Z",
     "iopub.status.idle": "2024-05-27T09:17:24.268512Z",
     "shell.execute_reply": "2024-05-27T09:17:24.267294Z",
     "shell.execute_reply.started": "2024-05-27T09:17:24.208305Z"
    },
    "tags": []
   },
   "outputs": [],
   "source": [
    "from hyperopt import hp, fmin, tpe, STATUS_OK, Trials\n",
    "from utils.model_helpers import model_evals\n",
    "import xgboost\n",
    "import lightgbm\n",
    "from time import time\n",
    "from sklearn.model_selection import cross_validate, StratifiedKFold\n",
    "import numpy as np\n",
    "from utils.model_helpers import cutoff_perc, model_evals\n",
    "\n",
    "space = {\n",
    "    'max_depth': hp.quniform(\"max_depth\", 3, 10, 1),  #Max depth 10\n",
    "    'gamma': hp.loguniform('gamma', np.log(1), np.log(100)),\n",
    "    'reg_alpha': hp.uniform('reg_alpha', 0, 10),\n",
    "    'reg_lambda': hp.uniform('reg_lambda', 0, 10),\n",
    "    'colsample_bytree': hp.uniform('colsample_bytree', 0.5, 1),\n",
    "    'min_child_weight': hp.loguniform('min_child_weight',np.log(1), np.log(100)),\n",
    "    'n_estimators': hp.quniform('n_estimators', 50, 250, 1),\n",
    "    'learning_rate': hp.loguniform('learning_rate', np.log(0.01), np.log(0.2)),\n",
    "    'subsample': hp.uniform('subsample', 0.5, 1),\n",
    "    'random_state': 42,   \n",
    "    'verbose': -1\n",
    "}\n",
    "\n",
    "def objective(space):\n",
    "    start_time = time()\n",
    "\n",
    "    print(f\"Parameters: {space}\")\n",
    "    space['max_depth'] = int(space['max_depth'])\n",
    "    #space['reg_alpha'] = int(space['reg_alpha'])\n",
    "    space['n_estimators'] = int(space['n_estimators'])\n",
    "\n",
    "    cv_folds = StratifiedKFold(n_splits=5, shuffle=True, random_state=42)\n",
    "\n",
    "    i = 1\n",
    "    \n",
    "    model_name = f'LGB_Tune{len(scores)}'\n",
    "    model_type = 'LightGBM'\n",
    "    params = 'default'\n",
    "    dict_results = {'acc': [],\n",
    "                        'precision': [],\n",
    "                        'recall': [],\n",
    "                        'f1': [],\n",
    "                        'roc_auc': [],\n",
    "                        'pr_auc': [],\n",
    "                        'lift': []}\n",
    "    \n",
    "    for train_index, test_index in cv_folds.split(X_train_val[feature_cols], y_train_val):\n",
    "\n",
    "        print(f\"CV Fold: {i}\")\n",
    "        # Get the training and testing data for this fold\n",
    "        X_train_cv, X_test_cv = X_train_val.iloc[train_index], X_train_val.iloc[test_index]\n",
    "        y_train_cv, y_test_cv = y_train_val.iloc[train_index], y_train_val.iloc[test_index]\n",
    "\n",
    "        lgb = lightgbm.LGBMClassifier(**space)\n",
    "        lgb.fit(X_train_cv, y_train_cv)\n",
    "\n",
    "        y_test_proba_cv = lgb.predict_proba(X_test_cv)[:, 1]\n",
    "        results = model_evals(y_test_cv, y_test_proba_cv)\n",
    "        print(f'LightGBM, Val CV{i} Tuned: {results}\" ')\n",
    "\n",
    "        i += 1\n",
    "        \n",
    "        for key in dict_results.keys():\n",
    "            dict_results[key].append(results[key])\n",
    "    \n",
    "    lgb.fit(X_train_val, y_train_val)\n",
    "    y_test_proba = lgb.predict_proba(X_test)[:, 1]\n",
    "    test_results = model_evals(y_test, y_test_proba)\n",
    "    print(f'LigthGBM, OOT Tuned: {test_results}\" ')\n",
    "\n",
    "    elapsed_time = time() - start_time\n",
    "    \n",
    "    row = [model_name, model_type, lgb]\n",
    "    for key in dict_results.keys():\n",
    "        row.append(test_results[key])\n",
    "\n",
    "    for key in dict_results.keys():\n",
    "        row.append(np.array(dict_results[key]).mean())\n",
    "\n",
    "    \n",
    "    print(row)\n",
    "    scores.loc[len(scores)] = row\n",
    "    scores.to_csv('../data/LGB_Tuned_Mobile.csv')\n",
    "\n",
    "    return {'loss': -test_results['pr_auc'], 'status': STATUS_OK, 'model': lgb, 'elapsed_time': elapsed_time}\n"
   ]
  },
  {
   "cell_type": "code",
   "execution_count": null,
   "id": "bdc767df-fe28-4707-a286-c75e8927355d",
   "metadata": {
    "execution": {
     "iopub.execute_input": "2024-05-27T09:17:25.793039Z",
     "iopub.status.busy": "2024-05-27T09:17:25.792300Z"
    },
    "tags": []
   },
   "outputs": [
    {
     "name": "stdout",
     "output_type": "stream",
     "text": [
      "Parameters: {'colsample_bytree': 0.789453478290231, 'gamma': 37.824530939163736, 'learning_rate': 0.01565456848540161, 'max_depth': 6.0, 'min_child_weight': 11.39398330882743, 'n_estimators': 80.0, 'random_state': 42, 'reg_alpha': 9.765784982987437, 'reg_lambda': 8.936204136622948, 'subsample': 0.8066223904381988, 'verbose': -1}\n",
      "CV Fold: 1                                             \n",
      "LightGBM, Val CV1 Tuned: {'event_rate': 0.0, 'acc': 0.9686142913541256, 'roc_auc': 0.7900861687769878, 'pr_auc': 0.12086250172586943, 'recall': 0.0, 'precision': 0.0, 'f1': 0.0, 'lift': nan}\" \n",
      "CV Fold: 2                                             \n",
      "  0%|          | 0/250 [00:07<?, ?trial/s, best loss=?]"
     ]
    },
    {
     "name": "stderr",
     "output_type": "stream",
     "text": [
      "/opt/conda/lib/python3.10/site-packages/sklearn/metrics/_classification.py:1469: UndefinedMetricWarning: Precision is ill-defined and being set to 0.0 due to no predicted samples. Use `zero_division` parameter to control this behavior.\n",
      "  _warn_prf(average, modifier, msg_start, len(result))\n",
      "\n",
      "/home/msds-pt2025b/jco/term2_acs/final_project/HOME_CREDIT_KAGGLE/notebooks/utils/model_helpers.py:45: RuntimeWarning: invalid value encountered in scalar divide\n",
      "  lift = recall / event_rate\n",
      "\n"
     ]
    },
    {
     "name": "stdout",
     "output_type": "stream",
     "text": [
      "LightGBM, Val CV2 Tuned: {'event_rate': 0.0, 'acc': 0.9686142913541256, 'roc_auc': 0.8100955284005779, 'pr_auc': 0.14818536154082015, 'recall': 0.0, 'precision': 0.0, 'f1': 0.0, 'lift': nan}\" \n",
      "CV Fold: 3                                             \n",
      "  0%|          | 0/250 [00:14<?, ?trial/s, best loss=?]"
     ]
    },
    {
     "name": "stderr",
     "output_type": "stream",
     "text": [
      "/opt/conda/lib/python3.10/site-packages/sklearn/metrics/_classification.py:1469: UndefinedMetricWarning: Precision is ill-defined and being set to 0.0 due to no predicted samples. Use `zero_division` parameter to control this behavior.\n",
      "  _warn_prf(average, modifier, msg_start, len(result))\n",
      "\n",
      "/home/msds-pt2025b/jco/term2_acs/final_project/HOME_CREDIT_KAGGLE/notebooks/utils/model_helpers.py:45: RuntimeWarning: invalid value encountered in scalar divide\n",
      "  lift = recall / event_rate\n",
      "\n"
     ]
    },
    {
     "name": "stdout",
     "output_type": "stream",
     "text": [
      "LightGBM, Val CV3 Tuned: {'event_rate': 0.0, 'acc': 0.9686142913541256, 'roc_auc': 0.8052062786059703, 'pr_auc': 0.1273384899770608, 'recall': 0.0, 'precision': 0.0, 'f1': 0.0, 'lift': nan}\" \n",
      "CV Fold: 4                                             \n",
      "  0%|          | 0/250 [00:21<?, ?trial/s, best loss=?]"
     ]
    },
    {
     "name": "stderr",
     "output_type": "stream",
     "text": [
      "/opt/conda/lib/python3.10/site-packages/sklearn/metrics/_classification.py:1469: UndefinedMetricWarning: Precision is ill-defined and being set to 0.0 due to no predicted samples. Use `zero_division` parameter to control this behavior.\n",
      "  _warn_prf(average, modifier, msg_start, len(result))\n",
      "\n",
      "/home/msds-pt2025b/jco/term2_acs/final_project/HOME_CREDIT_KAGGLE/notebooks/utils/model_helpers.py:45: RuntimeWarning: invalid value encountered in scalar divide\n",
      "  lift = recall / event_rate\n",
      "\n"
     ]
    },
    {
     "name": "stdout",
     "output_type": "stream",
     "text": [
      "LightGBM, Val CV4 Tuned: {'event_rate': 0.0, 'acc': 0.9685649427556258, 'roc_auc': 0.8077059050826966, 'pr_auc': 0.13220030609735517, 'recall': 0.0, 'precision': 0.0, 'f1': 0.0, 'lift': nan}\" \n",
      "CV Fold: 5                                             \n",
      "  0%|          | 0/250 [00:28<?, ?trial/s, best loss=?]"
     ]
    },
    {
     "name": "stderr",
     "output_type": "stream",
     "text": [
      "/opt/conda/lib/python3.10/site-packages/sklearn/metrics/_classification.py:1469: UndefinedMetricWarning: Precision is ill-defined and being set to 0.0 due to no predicted samples. Use `zero_division` parameter to control this behavior.\n",
      "  _warn_prf(average, modifier, msg_start, len(result))\n",
      "\n",
      "/home/msds-pt2025b/jco/term2_acs/final_project/HOME_CREDIT_KAGGLE/notebooks/utils/model_helpers.py:45: RuntimeWarning: invalid value encountered in scalar divide\n",
      "  lift = recall / event_rate\n",
      "\n"
     ]
    },
    {
     "name": "stdout",
     "output_type": "stream",
     "text": [
      "LightGBM, Val CV5 Tuned: {'event_rate': 0.0, 'acc': 0.9685649427556258, 'roc_auc': 0.7995404322002521, 'pr_auc': 0.13101789067077724, 'recall': 0.0, 'precision': 0.0, 'f1': 0.0, 'lift': nan}\" \n",
      "  0%|          | 0/250 [00:35<?, ?trial/s, best loss=?]"
     ]
    },
    {
     "name": "stderr",
     "output_type": "stream",
     "text": [
      "/opt/conda/lib/python3.10/site-packages/sklearn/metrics/_classification.py:1469: UndefinedMetricWarning: Precision is ill-defined and being set to 0.0 due to no predicted samples. Use `zero_division` parameter to control this behavior.\n",
      "  _warn_prf(average, modifier, msg_start, len(result))\n",
      "\n",
      "/home/msds-pt2025b/jco/term2_acs/final_project/HOME_CREDIT_KAGGLE/notebooks/utils/model_helpers.py:45: RuntimeWarning: invalid value encountered in scalar divide\n",
      "  lift = recall / event_rate\n",
      "\n"
     ]
    },
    {
     "name": "stdout",
     "output_type": "stream",
     "text": [
      "LigthGBM, OOT Tuned: {'event_rate': 0.0, 'acc': 0.9675101654099719, 'roc_auc': 0.7997258464565642, 'pr_auc': 0.13149216196206268, 'recall': 0.0, 'precision': 0.0, 'f1': 0.0, 'lift': nan}\" \n",
      "['LGB_Tune0', 'LightGBM', LGBMClassifier(colsample_bytree=0.789453478290231, gamma=37.824530939163736,\n",
      "               learning_rate=0.01565456848540161, max_depth=6,\n",
      "               min_child_weight=11.39398330882743, n_estimators=80,\n",
      "               random_state=42, reg_alpha=9.765784982987437,\n",
      "               reg_lambda=8.936204136622948, subsample=0.8066223904381988,\n",
      "               verbose=-1), 0.9675101654099719, 0.0, 0.0, 0.0, 0.7997258464565642, 0.13149216196206268, nan, 0.9685945519147257, 0.0, 0.0, 0.0, 0.802526862613297, 0.13192091000237655, nan]\n",
      "Parameters: {'colsample_bytree': 0.6876045723814304, 'gamma': 35.12028593188927, 'learning_rate': 0.043083218392070737, 'max_depth': 9.0, 'min_child_weight': 1.0705733972681386, 'n_estimators': 63.0, 'random_state': 42, 'reg_alpha': 8.14739586408704, 'reg_lambda': 1.8735914130489495, 'subsample': 0.9640278804430715, 'verbose': -1}\n",
      "  0%|          | 1/250 [00:43<3:01:19, 43.69s/trial, best loss: -0.13149216196206268]"
     ]
    },
    {
     "name": "stderr",
     "output_type": "stream",
     "text": [
      "/opt/conda/lib/python3.10/site-packages/sklearn/metrics/_classification.py:1469: UndefinedMetricWarning: Precision is ill-defined and being set to 0.0 due to no predicted samples. Use `zero_division` parameter to control this behavior.\n",
      "  _warn_prf(average, modifier, msg_start, len(result))\n",
      "\n",
      "/home/msds-pt2025b/jco/term2_acs/final_project/HOME_CREDIT_KAGGLE/notebooks/utils/model_helpers.py:45: RuntimeWarning: invalid value encountered in scalar divide\n",
      "  lift = recall / event_rate\n",
      "\n"
     ]
    },
    {
     "name": "stdout",
     "output_type": "stream",
     "text": [
      "CV Fold: 1                                                                           \n",
      "LightGBM, Val CV1 Tuned: {'event_rate': 0.0, 'acc': 0.9686142913541256, 'roc_auc': 0.8143722451433135, 'pr_auc': 0.1465627691447623, 'recall': 0.0, 'precision': 0.0, 'f1': 0.0, 'lift': nan}\" \n",
      "CV Fold: 2                                                                           \n",
      "  0%|          | 1/250 [00:50<3:01:19, 43.69s/trial, best loss: -0.13149216196206268]"
     ]
    },
    {
     "name": "stderr",
     "output_type": "stream",
     "text": [
      "/opt/conda/lib/python3.10/site-packages/sklearn/metrics/_classification.py:1469: UndefinedMetricWarning: Precision is ill-defined and being set to 0.0 due to no predicted samples. Use `zero_division` parameter to control this behavior.\n",
      "  _warn_prf(average, modifier, msg_start, len(result))\n",
      "\n",
      "/home/msds-pt2025b/jco/term2_acs/final_project/HOME_CREDIT_KAGGLE/notebooks/utils/model_helpers.py:45: RuntimeWarning: invalid value encountered in scalar divide\n",
      "  lift = recall / event_rate\n",
      "\n"
     ]
    },
    {
     "name": "stdout",
     "output_type": "stream",
     "text": [
      "LightGBM, Val CV2 Tuned: {'event_rate': 0.0, 'acc': 0.9686142913541256, 'roc_auc': 0.8293738777103176, 'pr_auc': 0.16890310109632134, 'recall': 0.0, 'precision': 0.0, 'f1': 0.0, 'lift': nan}\" \n",
      "CV Fold: 3                                                                           \n",
      "  0%|          | 1/250 [00:57<3:01:19, 43.69s/trial, best loss: -0.13149216196206268]"
     ]
    },
    {
     "name": "stderr",
     "output_type": "stream",
     "text": [
      "/opt/conda/lib/python3.10/site-packages/sklearn/metrics/_classification.py:1469: UndefinedMetricWarning: Precision is ill-defined and being set to 0.0 due to no predicted samples. Use `zero_division` parameter to control this behavior.\n",
      "  _warn_prf(average, modifier, msg_start, len(result))\n",
      "\n",
      "/home/msds-pt2025b/jco/term2_acs/final_project/HOME_CREDIT_KAGGLE/notebooks/utils/model_helpers.py:45: RuntimeWarning: invalid value encountered in scalar divide\n",
      "  lift = recall / event_rate\n",
      "\n"
     ]
    },
    {
     "name": "stdout",
     "output_type": "stream",
     "text": [
      "LightGBM, Val CV3 Tuned: {'event_rate': 0.00014804579549940782, 'acc': 0.9686636399526254, 'roc_auc': 0.8258767157173745, 'pr_auc': 0.1539895878778309, 'recall': 0.0031446540880503146, 'precision': 0.6666666666666666, 'f1': 0.006259780907668233, 'lift': 21.241090146750523}\" \n",
      "CV Fold: 4                                                                           \n",
      "LightGBM, Val CV4 Tuned: {'event_rate': 0.0, 'acc': 0.9685649427556258, 'roc_auc': 0.8214923791825873, 'pr_auc': 0.1630394659793807, 'recall': 0.0, 'precision': 0.0, 'f1': 0.0, 'lift': nan}\" \n",
      "CV Fold: 5                                                                           \n",
      "  0%|          | 1/250 [01:10<3:01:19, 43.69s/trial, best loss: -0.13149216196206268]"
     ]
    },
    {
     "name": "stderr",
     "output_type": "stream",
     "text": [
      "/opt/conda/lib/python3.10/site-packages/sklearn/metrics/_classification.py:1469: UndefinedMetricWarning: Precision is ill-defined and being set to 0.0 due to no predicted samples. Use `zero_division` parameter to control this behavior.\n",
      "  _warn_prf(average, modifier, msg_start, len(result))\n",
      "\n",
      "/home/msds-pt2025b/jco/term2_acs/final_project/HOME_CREDIT_KAGGLE/notebooks/utils/model_helpers.py:45: RuntimeWarning: invalid value encountered in scalar divide\n",
      "  lift = recall / event_rate\n",
      "\n"
     ]
    },
    {
     "name": "stdout",
     "output_type": "stream",
     "text": [
      "LightGBM, Val CV5 Tuned: {'event_rate': 0.0, 'acc': 0.9685649427556258, 'roc_auc': 0.8222032027613261, 'pr_auc': 0.15324052399294769, 'recall': 0.0, 'precision': 0.0, 'f1': 0.0, 'lift': nan}\" \n",
      "  0%|          | 1/250 [01:16<3:01:19, 43.69s/trial, best loss: -0.13149216196206268]"
     ]
    },
    {
     "name": "stderr",
     "output_type": "stream",
     "text": [
      "/opt/conda/lib/python3.10/site-packages/sklearn/metrics/_classification.py:1469: UndefinedMetricWarning: Precision is ill-defined and being set to 0.0 due to no predicted samples. Use `zero_division` parameter to control this behavior.\n",
      "  _warn_prf(average, modifier, msg_start, len(result))\n",
      "\n",
      "/home/msds-pt2025b/jco/term2_acs/final_project/HOME_CREDIT_KAGGLE/notebooks/utils/model_helpers.py:45: RuntimeWarning: invalid value encountered in scalar divide\n",
      "  lift = recall / event_rate\n",
      "\n"
     ]
    },
    {
     "name": "stdout",
     "output_type": "stream",
     "text": [
      "LigthGBM, OOT Tuned: {'event_rate': 0.0, 'acc': 0.9675101654099719, 'roc_auc': 0.8198898923772455, 'pr_auc': 0.1496291936488765, 'recall': 0.0, 'precision': 0.0, 'f1': 0.0, 'lift': nan}\" \n",
      "['LGB_Tune1', 'LightGBM', LGBMClassifier(colsample_bytree=0.6876045723814304, gamma=35.12028593188927,\n",
      "               learning_rate=0.043083218392070737, max_depth=9,\n",
      "               min_child_weight=1.0705733972681386, n_estimators=63,\n",
      "               random_state=42, reg_alpha=8.14739586408704,\n",
      "               reg_lambda=1.8735914130489495, subsample=0.9640278804430715,\n",
      "               verbose=-1), 0.9675101654099719, 0.0, 0.0, 0.0, 0.8198898923772455, 0.1496291936488765, nan, 0.9686044216344257, 0.13333333333333333, 0.000628930817610063, 0.0012519561815336464, 0.8226636841029838, 0.15714708961824858, nan]\n",
      "Parameters: {'colsample_bytree': 0.7209796070361758, 'gamma': 37.418352977557774, 'learning_rate': 0.1801521225224105, 'max_depth': 4.0, 'min_child_weight': 3.2459791996224, 'n_estimators': 160.0, 'random_state': 42, 'reg_alpha': 1.8773668480387184, 'reg_lambda': 5.525462702121063, 'subsample': 0.8795742925715252, 'verbose': -1}\n",
      "  1%|          | 2/250 [01:24<2:53:38, 42.01s/trial, best loss: -0.1496291936488765]"
     ]
    },
    {
     "name": "stderr",
     "output_type": "stream",
     "text": [
      "/opt/conda/lib/python3.10/site-packages/sklearn/metrics/_classification.py:1469: UndefinedMetricWarning: Precision is ill-defined and being set to 0.0 due to no predicted samples. Use `zero_division` parameter to control this behavior.\n",
      "  _warn_prf(average, modifier, msg_start, len(result))\n",
      "\n",
      "/home/msds-pt2025b/jco/term2_acs/final_project/HOME_CREDIT_KAGGLE/notebooks/utils/model_helpers.py:45: RuntimeWarning: invalid value encountered in scalar divide\n",
      "  lift = recall / event_rate\n",
      "\n"
     ]
    },
    {
     "name": "stdout",
     "output_type": "stream",
     "text": [
      "CV Fold: 1                                                                          \n",
      "LightGBM, Val CV1 Tuned: {'event_rate': 0.0016778523489932886, 'acc': 0.969009080142124, 'roc_auc': 0.8338155734395607, 'pr_auc': 0.17803355247311478, 'recall': 0.0330188679245283, 'precision': 0.6176470588235294, 'f1': 0.0626865671641791, 'lift': 19.67924528301887}\" \n",
      "CV Fold: 2                                                                          \n",
      "LightGBM, Val CV2 Tuned: {'event_rate': 0.0017272009474930913, 'acc': 0.9687623371496249, 'roc_auc': 0.8410794552256883, 'pr_auc': 0.17624172072377778, 'recall': 0.029874213836477988, 'precision': 0.5428571428571428, 'f1': 0.05663189269746646, 'lift': 17.296316262353997}\" \n",
      "CV Fold: 3                                                                          \n",
      "LightGBM, Val CV3 Tuned: {'event_rate': 0.0017272009474930913, 'acc': 0.9683675483616265, 'roc_auc': 0.8303514553077174, 'pr_auc': 0.16009188910574781, 'recall': 0.02358490566037736, 'precision': 0.42857142857142855, 'f1': 0.04470938897168406, 'lift': 13.654986522911052}\" \n",
      "CV Fold: 4                                                                          \n",
      "LightGBM, Val CV4 Tuned: {'event_rate': 0.001480457954994078, 'acc': 0.9685649427556258, 'roc_auc': 0.8334937158860471, 'pr_auc': 0.16855731678781574, 'recall': 0.023547880690737835, 'precision': 0.5, 'f1': 0.04497751124437781, 'lift': 15.90580847723705}\" \n",
      "CV Fold: 5                                                                          \n",
      "LightGBM, Val CV5 Tuned: {'event_rate': 0.0016778523489932886, 'acc': 0.9679727595736282, 'roc_auc': 0.8396136613461144, 'pr_auc': 0.1556385905892794, 'recall': 0.01726844583987441, 'precision': 0.3235294117647059, 'f1': 0.032786885245901634, 'lift': 10.291993720565149}\" \n",
      "LigthGBM, OOT Tuned: {'event_rate': 0.0015790928111799772, 'acc': 0.967194346847736, 'roc_auc': 0.8323550858786707, 'pr_auc': 0.17132123792633594, 'recall': 0.019441069258809233, 'precision': 0.4, 'f1': 0.03707995365005793, 'lift': 12.311543134872416}\" \n",
      "['LGB_Tune2', 'LightGBM', LGBMClassifier(colsample_bytree=0.7209796070361758, gamma=37.418352977557774,\n",
      "               learning_rate=0.1801521225224105, max_depth=4,\n",
      "               min_child_weight=3.2459791996224, n_estimators=160,\n",
      "               random_state=42, reg_alpha=1.8773668480387184,\n",
      "               reg_lambda=5.525462702121063, subsample=0.8795742925715252,\n",
      "               verbose=-1), 0.967194346847736, 0.4, 0.019441069258809233, 0.03707995365005793, 0.8323550858786707, 0.17132123792633594, 12.311543134872416, 0.9685353335965259, 0.4825210084033613, 0.02545886279039918, 0.04835844906472181, 0.8356707722410256, 0.1677126139359471, 15.365670053217224]\n",
      "Parameters: {'colsample_bytree': 0.9516151393578345, 'gamma': 49.80746514822247, 'learning_rate': 0.03354754222025174, 'max_depth': 9.0, 'min_child_weight': 2.2646338455187367, 'n_estimators': 101.0, 'random_state': 42, 'reg_alpha': 3.374311363909369, 'reg_lambda': 2.7484640675006657, 'subsample': 0.9835975716398615, 'verbose': -1}\n",
      "CV Fold: 1                                                                           \n",
      "LightGBM, Val CV1 Tuned: {'event_rate': 4.9348598499802604e-05, 'acc': 0.9686636399526254, 'roc_auc': 0.8230883745848889, 'pr_auc': 0.164616780449502, 'recall': 0.0015723270440251573, 'precision': 1.0, 'f1': 0.0031397174254317113, 'lift': 31.861635220125788}\" \n",
      "CV Fold: 2                                                                           \n",
      "LightGBM, Val CV2 Tuned: {'event_rate': 0.0, 'acc': 0.9686142913541256, 'roc_auc': 0.8375795696175274, 'pr_auc': 0.17993294823096867, 'recall': 0.0, 'precision': 0.0, 'f1': 0.0, 'lift': nan}\" \n",
      "CV Fold: 3                                                                           \n",
      "  1%|          | 3/250 [02:33<3:03:22, 44.54s/trial, best loss: -0.17132123792633594]"
     ]
    },
    {
     "name": "stderr",
     "output_type": "stream",
     "text": [
      "/opt/conda/lib/python3.10/site-packages/sklearn/metrics/_classification.py:1469: UndefinedMetricWarning: Precision is ill-defined and being set to 0.0 due to no predicted samples. Use `zero_division` parameter to control this behavior.\n",
      "  _warn_prf(average, modifier, msg_start, len(result))\n",
      "\n",
      "/home/msds-pt2025b/jco/term2_acs/final_project/HOME_CREDIT_KAGGLE/notebooks/utils/model_helpers.py:45: RuntimeWarning: invalid value encountered in scalar divide\n",
      "  lift = recall / event_rate\n",
      "\n"
     ]
    },
    {
     "name": "stdout",
     "output_type": "stream",
     "text": [
      "LightGBM, Val CV3 Tuned: {'event_rate': 9.869719699960521e-05, 'acc': 0.9686142913541256, 'roc_auc': 0.8300738468213167, 'pr_auc': 0.15452399930696753, 'recall': 0.0015723270440251573, 'precision': 0.5, 'f1': 0.003134796238244514, 'lift': 15.930817610062894}\" \n",
      "CV Fold: 4                                                                           \n",
      "LightGBM, Val CV4 Tuned: {'event_rate': 0.0, 'acc': 0.9685649427556258, 'roc_auc': 0.8272288382413647, 'pr_auc': 0.16713968932009546, 'recall': 0.0, 'precision': 0.0, 'f1': 0.0, 'lift': nan}\" \n",
      "CV Fold: 5                                                                           \n",
      "  1%|          | 3/250 [02:55<3:03:22, 44.54s/trial, best loss: -0.17132123792633594]"
     ]
    },
    {
     "name": "stderr",
     "output_type": "stream",
     "text": [
      "/opt/conda/lib/python3.10/site-packages/sklearn/metrics/_classification.py:1469: UndefinedMetricWarning: Precision is ill-defined and being set to 0.0 due to no predicted samples. Use `zero_division` parameter to control this behavior.\n",
      "  _warn_prf(average, modifier, msg_start, len(result))\n",
      "\n",
      "/home/msds-pt2025b/jco/term2_acs/final_project/HOME_CREDIT_KAGGLE/notebooks/utils/model_helpers.py:45: RuntimeWarning: invalid value encountered in scalar divide\n",
      "  lift = recall / event_rate\n",
      "\n"
     ]
    },
    {
     "name": "stdout",
     "output_type": "stream",
     "text": [
      "LightGBM, Val CV5 Tuned: {'event_rate': 0.0, 'acc': 0.9685649427556258, 'roc_auc': 0.8310292688627199, 'pr_auc': 0.16374508186283984, 'recall': 0.0, 'precision': 0.0, 'f1': 0.0, 'lift': nan}\" \n",
      "  1%|          | 3/250 [03:06<3:03:22, 44.54s/trial, best loss: -0.17132123792633594]"
     ]
    },
    {
     "name": "stderr",
     "output_type": "stream",
     "text": [
      "/opt/conda/lib/python3.10/site-packages/sklearn/metrics/_classification.py:1469: UndefinedMetricWarning: Precision is ill-defined and being set to 0.0 due to no predicted samples. Use `zero_division` parameter to control this behavior.\n",
      "  _warn_prf(average, modifier, msg_start, len(result))\n",
      "\n",
      "/home/msds-pt2025b/jco/term2_acs/final_project/HOME_CREDIT_KAGGLE/notebooks/utils/model_helpers.py:45: RuntimeWarning: invalid value encountered in scalar divide\n",
      "  lift = recall / event_rate\n",
      "\n"
     ]
    },
    {
     "name": "stdout",
     "output_type": "stream",
     "text": [
      "LigthGBM, OOT Tuned: {'event_rate': 3.947732027949943e-05, 'acc': 0.9675496427302515, 'roc_auc': 0.8253605686520691, 'pr_auc': 0.1571638690721343, 'recall': 0.001215066828675577, 'precision': 1.0, 'f1': 0.002427184466019417, 'lift': 30.77885783718104}\" \n",
      "['LGB_Tune3', 'LightGBM', LGBMClassifier(colsample_bytree=0.9516151393578345, gamma=49.80746514822247,\n",
      "               learning_rate=0.03354754222025174, max_depth=9,\n",
      "               min_child_weight=2.2646338455187367, n_estimators=101,\n",
      "               random_state=42, reg_alpha=3.374311363909369,\n",
      "               reg_lambda=2.7484640675006657, subsample=0.9835975716398615,\n",
      "               verbose=-1), 0.9675496427302515, 1.0, 0.001215066828675577, 0.002427184466019417, 0.8253605686520691, 0.1571638690721343, 30.77885783718104, 0.9686044216344257, 0.3, 0.000628930817610063, 0.001254902732735245, 0.8297999796255635, 0.16599169983407472, nan]\n",
      "Parameters: {'colsample_bytree': 0.6609773444596988, 'gamma': 2.03327221771314, 'learning_rate': 0.15035372015512244, 'max_depth': 5.0, 'min_child_weight': 23.224652823084934, 'n_estimators': 61.0, 'random_state': 42, 'reg_alpha': 8.907420274338119, 'reg_lambda': 0.33204052459685607, 'subsample': 0.799990727787688, 'verbose': -1}\n",
      "CV Fold: 1                                                                           \n",
      "LightGBM, Val CV1 Tuned: {'event_rate': 0.0004934859849980261, 'acc': 0.9689103829451243, 'roc_auc': 0.8319341961746344, 'pr_auc': 0.1705581317525337, 'recall': 0.012578616352201259, 'precision': 0.8, 'f1': 0.02476780185758514, 'lift': 25.48930817610063}\" \n",
      "CV Fold: 2                                                                           \n",
      "LightGBM, Val CV2 Tuned: {'event_rate': 0.0007895775759968417, 'acc': 0.9687129885511252, 'roc_auc': 0.8378014240982912, 'pr_auc': 0.1714187345125854, 'recall': 0.014150943396226415, 'precision': 0.5625, 'f1': 0.02760736196319018, 'lift': 17.922169811320757}\" \n",
      "CV Fold: 3                                                                           \n",
      "LightGBM, Val CV3 Tuned: {'event_rate': 0.0008882747729964469, 'acc': 0.9686142913541256, 'roc_auc': 0.8299943813420182, 'pr_auc': 0.17331976541817126, 'recall': 0.014150943396226415, 'precision': 0.5, 'f1': 0.027522935779816512, 'lift': 15.930817610062894}\" \n",
      "CV Fold: 4                                                                           \n",
      "LightGBM, Val CV4 Tuned: {'event_rate': 0.0005428345834978287, 'acc': 0.9687129885511252, 'roc_auc': 0.8311813596734514, 'pr_auc': 0.16575058340212737, 'recall': 0.01098901098901099, 'precision': 0.6363636363636364, 'f1': 0.021604938271604944, 'lift': 20.243756243756245}\" \n",
      "CV Fold: 5                                                                           \n",
      "LightGBM, Val CV5 Tuned: {'event_rate': 0.0008389261744966443, 'acc': 0.968515594157126, 'roc_auc': 0.8390447705276403, 'pr_auc': 0.1646110241010031, 'recall': 0.012558869701726845, 'precision': 0.47058823529411764, 'f1': 0.024464831804281346, 'lift': 14.970172684458399}\" \n",
      "LigthGBM, OOT Tuned: {'event_rate': 0.0009079783664284869, 'acc': 0.9671548695274564, 'roc_auc': 0.8329782364813155, 'pr_auc': 0.1623952663616648, 'recall': 0.00850546780072904, 'precision': 0.30434782608695654, 'f1': 0.016548463356973995, 'lift': 9.367478472185534}\" \n",
      "['LGB_Tune4', 'LightGBM', LGBMClassifier(colsample_bytree=0.6609773444596988, gamma=2.03327221771314,\n",
      "               learning_rate=0.15035372015512244, max_depth=5,\n",
      "               min_child_weight=23.224652823084934, n_estimators=61,\n",
      "               random_state=42, reg_alpha=8.907420274338119,\n",
      "               reg_lambda=0.33204052459685607, subsample=0.799990727787688,\n",
      "               verbose=-1), 0.9671548695274564, 0.30434782608695654, 0.00850546780072904, 0.016548463356973995, 0.8329782364813155, 0.1623952663616648, 9.367478472185534, 0.9686932491117254, 0.5938903743315509, 0.012885676767078386, 0.025193573935295626, 0.8339912263632071, 0.16913164783728418, 18.91124490513979]\n",
      "Parameters: {'colsample_bytree': 0.894900333994989, 'gamma': 14.3288515375394, 'learning_rate': 0.11684997696303606, 'max_depth': 9.0, 'min_child_weight': 13.673227889165576, 'n_estimators': 183.0, 'random_state': 42, 'reg_alpha': 9.465051788311543, 'reg_lambda': 7.014569620039165, 'subsample': 0.6239611856424436, 'verbose': -1}\n",
      "CV Fold: 1                                                                           \n",
      "LightGBM, Val CV1 Tuned: {'event_rate': 0.0013817607579944729, 'acc': 0.9686142913541256, 'roc_auc': 0.833931807724301, 'pr_auc': 0.16043747505143174, 'recall': 0.0220125786163522, 'precision': 0.5, 'f1': 0.04216867469879518, 'lift': 15.930817610062894}\" \n",
      "CV Fold: 2                                                                           \n",
      "LightGBM, Val CV2 Tuned: {'event_rate': 0.0011350177654954599, 'acc': 0.9688610343466245, 'roc_auc': 0.8400679525975598, 'pr_auc': 0.18626921716699033, 'recall': 0.0220125786163522, 'precision': 0.6086956521739131, 'f1': 0.0424886191198786, 'lift': 19.394038829641783}\" \n",
      "CV Fold: 3                                                                           \n",
      "LightGBM, Val CV3 Tuned: {'event_rate': 0.0015791551519936833, 'acc': 0.9683181997631267, 'roc_auc': 0.8314602871267205, 'pr_auc': 0.1635090581910391, 'recall': 0.020440251572327043, 'precision': 0.40625, 'f1': 0.038922155688622756, 'lift': 12.9437893081761}\" \n",
      "CV Fold: 4                                                                           \n",
      "LightGBM, Val CV4 Tuned: {'event_rate': 0.0011350177654954599, 'acc': 0.968515594157126, 'roc_auc': 0.8362830205626937, 'pr_auc': 0.16110526015573828, 'recall': 0.01726844583987441, 'precision': 0.4782608695652174, 'f1': 0.033333333333333326, 'lift': 15.214251586922394}\" \n",
      "CV Fold: 5                                                                           \n",
      "LightGBM, Val CV5 Tuned: {'event_rate': 0.0015298065534938808, 'acc': 0.9683181997631267, 'roc_auc': 0.8434534044226231, 'pr_auc': 0.16938538556668034, 'recall': 0.02040816326530612, 'precision': 0.41935483870967744, 'f1': 0.03892215568862275, 'lift': 13.340355497037523}\" \n",
      "LigthGBM, OOT Tuned: {'event_rate': 0.0015790928111799772, 'acc': 0.9668785282855, 'roc_auc': 0.8373796559300396, 'pr_auc': 0.16153909261221877, 'recall': 0.014580801944106925, 'precision': 0.3, 'f1': 0.027809965237543453, 'lift': 9.233657351154314}\" \n",
      "['LGB_Tune5', 'LightGBM', LGBMClassifier(colsample_bytree=0.894900333994989, gamma=14.3288515375394,\n",
      "               learning_rate=0.11684997696303606, max_depth=9,\n",
      "               min_child_weight=13.673227889165576, n_estimators=183,\n",
      "               random_state=42, reg_alpha=9.465051788311543,\n",
      "               reg_lambda=7.014569620039165, subsample=0.6239611856424436,\n",
      "               verbose=-1), 0.9668785282855, 0.3, 0.014580801944106925, 0.027809965237543453, 0.8373796559300396, 0.16153909261221877, 9.233657351154314, 0.968525463876826, 0.48251227208976155, 0.020428403582042395, 0.039166987705850524, 0.8370392944867795, 0.16814127922637595, 15.364650566368137]\n",
      "Parameters: {'colsample_bytree': 0.8096705729152254, 'gamma': 9.99302692730635, 'learning_rate': 0.010742453265466126, 'max_depth': 7.0, 'min_child_weight': 1.8719306732711125, 'n_estimators': 159.0, 'random_state': 42, 'reg_alpha': 0.9246730295965844, 'reg_lambda': 9.233960396307538, 'subsample': 0.5416355977662524, 'verbose': -1}\n",
      "CV Fold: 1                                                                           \n",
      "LightGBM, Val CV1 Tuned: {'event_rate': 0.0, 'acc': 0.9686142913541256, 'roc_auc': 0.8051548102889852, 'pr_auc': 0.14037464716420683, 'recall': 0.0, 'precision': 0.0, 'f1': 0.0, 'lift': nan}\" \n",
      "CV Fold: 2                                                                           \n",
      "  2%|▏         | 6/250 [05:26<3:55:55, 58.01s/trial, best loss: -0.17132123792633594]"
     ]
    },
    {
     "name": "stderr",
     "output_type": "stream",
     "text": [
      "/opt/conda/lib/python3.10/site-packages/sklearn/metrics/_classification.py:1469: UndefinedMetricWarning: Precision is ill-defined and being set to 0.0 due to no predicted samples. Use `zero_division` parameter to control this behavior.\n",
      "  _warn_prf(average, modifier, msg_start, len(result))\n",
      "\n",
      "/home/msds-pt2025b/jco/term2_acs/final_project/HOME_CREDIT_KAGGLE/notebooks/utils/model_helpers.py:45: RuntimeWarning: invalid value encountered in scalar divide\n",
      "  lift = recall / event_rate\n",
      "\n"
     ]
    },
    {
     "name": "stdout",
     "output_type": "stream",
     "text": [
      "LightGBM, Val CV2 Tuned: {'event_rate': 0.0, 'acc': 0.9686142913541256, 'roc_auc': 0.8226787108135855, 'pr_auc': 0.16378453081678676, 'recall': 0.0, 'precision': 0.0, 'f1': 0.0, 'lift': nan}\" \n",
      "CV Fold: 3                                                                           \n",
      "  2%|▏         | 6/250 [05:38<3:55:55, 58.01s/trial, best loss: -0.17132123792633594]"
     ]
    },
    {
     "name": "stderr",
     "output_type": "stream",
     "text": [
      "/opt/conda/lib/python3.10/site-packages/sklearn/metrics/_classification.py:1469: UndefinedMetricWarning: Precision is ill-defined and being set to 0.0 due to no predicted samples. Use `zero_division` parameter to control this behavior.\n",
      "  _warn_prf(average, modifier, msg_start, len(result))\n",
      "\n",
      "/home/msds-pt2025b/jco/term2_acs/final_project/HOME_CREDIT_KAGGLE/notebooks/utils/model_helpers.py:45: RuntimeWarning: invalid value encountered in scalar divide\n",
      "  lift = recall / event_rate\n",
      "\n"
     ]
    },
    {
     "name": "stdout",
     "output_type": "stream",
     "text": [
      "LightGBM, Val CV3 Tuned: {'event_rate': 0.0, 'acc': 0.9686142913541256, 'roc_auc': 0.8166688535694739, 'pr_auc': 0.14041643840554785, 'recall': 0.0, 'precision': 0.0, 'f1': 0.0, 'lift': nan}\" \n",
      "CV Fold: 4                                                                           \n",
      "  2%|▏         | 6/250 [05:52<3:55:55, 58.01s/trial, best loss: -0.17132123792633594]"
     ]
    },
    {
     "name": "stderr",
     "output_type": "stream",
     "text": [
      "/opt/conda/lib/python3.10/site-packages/sklearn/metrics/_classification.py:1469: UndefinedMetricWarning: Precision is ill-defined and being set to 0.0 due to no predicted samples. Use `zero_division` parameter to control this behavior.\n",
      "  _warn_prf(average, modifier, msg_start, len(result))\n",
      "\n",
      "/home/msds-pt2025b/jco/term2_acs/final_project/HOME_CREDIT_KAGGLE/notebooks/utils/model_helpers.py:45: RuntimeWarning: invalid value encountered in scalar divide\n",
      "  lift = recall / event_rate\n",
      "\n"
     ]
    },
    {
     "name": "stdout",
     "output_type": "stream",
     "text": [
      "LightGBM, Val CV4 Tuned: {'event_rate': 0.0, 'acc': 0.9685649427556258, 'roc_auc': 0.8169845643224152, 'pr_auc': 0.15312868215648764, 'recall': 0.0, 'precision': 0.0, 'f1': 0.0, 'lift': nan}\" \n",
      "CV Fold: 5                                                                           \n",
      "  2%|▏         | 6/250 [06:05<3:55:55, 58.01s/trial, best loss: -0.17132123792633594]"
     ]
    },
    {
     "name": "stderr",
     "output_type": "stream",
     "text": [
      "/opt/conda/lib/python3.10/site-packages/sklearn/metrics/_classification.py:1469: UndefinedMetricWarning: Precision is ill-defined and being set to 0.0 due to no predicted samples. Use `zero_division` parameter to control this behavior.\n",
      "  _warn_prf(average, modifier, msg_start, len(result))\n",
      "\n",
      "/home/msds-pt2025b/jco/term2_acs/final_project/HOME_CREDIT_KAGGLE/notebooks/utils/model_helpers.py:45: RuntimeWarning: invalid value encountered in scalar divide\n",
      "  lift = recall / event_rate\n",
      "\n"
     ]
    },
    {
     "name": "stdout",
     "output_type": "stream",
     "text": [
      "LightGBM, Val CV5 Tuned: {'event_rate': 0.0, 'acc': 0.9685649427556258, 'roc_auc': 0.8148268184370054, 'pr_auc': 0.15021790521251455, 'recall': 0.0, 'precision': 0.0, 'f1': 0.0, 'lift': nan}\" \n",
      "  2%|▏         | 6/250 [06:18<3:55:55, 58.01s/trial, best loss: -0.17132123792633594]"
     ]
    },
    {
     "name": "stderr",
     "output_type": "stream",
     "text": [
      "/opt/conda/lib/python3.10/site-packages/sklearn/metrics/_classification.py:1469: UndefinedMetricWarning: Precision is ill-defined and being set to 0.0 due to no predicted samples. Use `zero_division` parameter to control this behavior.\n",
      "  _warn_prf(average, modifier, msg_start, len(result))\n",
      "\n",
      "/home/msds-pt2025b/jco/term2_acs/final_project/HOME_CREDIT_KAGGLE/notebooks/utils/model_helpers.py:45: RuntimeWarning: invalid value encountered in scalar divide\n",
      "  lift = recall / event_rate\n",
      "\n"
     ]
    },
    {
     "name": "stdout",
     "output_type": "stream",
     "text": [
      "LigthGBM, OOT Tuned: {'event_rate': 0.0, 'acc': 0.9675101654099719, 'roc_auc': 0.8111313269691887, 'pr_auc': 0.14421346875563426, 'recall': 0.0, 'precision': 0.0, 'f1': 0.0, 'lift': nan}\" \n",
      "['LGB_Tune6', 'LightGBM', LGBMClassifier(colsample_bytree=0.8096705729152254, gamma=9.99302692730635,\n",
      "               learning_rate=0.010742453265466126, max_depth=7,\n",
      "               min_child_weight=1.8719306732711125, n_estimators=159,\n",
      "               random_state=42, reg_alpha=0.9246730295965844,\n",
      "               reg_lambda=9.233960396307538, subsample=0.5416355977662524,\n",
      "               verbose=-1), 0.9675101654099719, 0.0, 0.0, 0.0, 0.8111313269691887, 0.14421346875563426, nan, 0.9685945519147257, 0.0, 0.0, 0.0, 0.815262751486293, 0.14958444075110872, nan]\n",
      "Parameters: {'colsample_bytree': 0.8685155164517726, 'gamma': 10.932639005816261, 'learning_rate': 0.011248653389733894, 'max_depth': 7.0, 'min_child_weight': 10.226113650954535, 'n_estimators': 223.0, 'random_state': 42, 'reg_alpha': 6.648432463874489, 'reg_lambda': 0.5605627499607424, 'subsample': 0.5589555456169157, 'verbose': -1}\n",
      "  3%|▎         | 7/250 [06:33<4:23:47, 65.13s/trial, best loss: -0.17132123792633594]"
     ]
    },
    {
     "name": "stderr",
     "output_type": "stream",
     "text": [
      "/opt/conda/lib/python3.10/site-packages/sklearn/metrics/_classification.py:1469: UndefinedMetricWarning: Precision is ill-defined and being set to 0.0 due to no predicted samples. Use `zero_division` parameter to control this behavior.\n",
      "  _warn_prf(average, modifier, msg_start, len(result))\n",
      "\n",
      "/home/msds-pt2025b/jco/term2_acs/final_project/HOME_CREDIT_KAGGLE/notebooks/utils/model_helpers.py:45: RuntimeWarning: invalid value encountered in scalar divide\n",
      "  lift = recall / event_rate\n",
      "\n"
     ]
    },
    {
     "name": "stdout",
     "output_type": "stream",
     "text": [
      "CV Fold: 1                                                                           \n",
      "LightGBM, Val CV1 Tuned: {'event_rate': 0.0, 'acc': 0.9686142913541256, 'roc_auc': 0.8148177164440992, 'pr_auc': 0.1505601248000744, 'recall': 0.0, 'precision': 0.0, 'f1': 0.0, 'lift': nan}\" \n",
      "CV Fold: 2                                                                           \n",
      "  3%|▎         | 7/250 [06:48<4:23:47, 65.13s/trial, best loss: -0.17132123792633594]"
     ]
    },
    {
     "name": "stderr",
     "output_type": "stream",
     "text": [
      "/opt/conda/lib/python3.10/site-packages/sklearn/metrics/_classification.py:1469: UndefinedMetricWarning: Precision is ill-defined and being set to 0.0 due to no predicted samples. Use `zero_division` parameter to control this behavior.\n",
      "  _warn_prf(average, modifier, msg_start, len(result))\n",
      "\n",
      "/home/msds-pt2025b/jco/term2_acs/final_project/HOME_CREDIT_KAGGLE/notebooks/utils/model_helpers.py:45: RuntimeWarning: invalid value encountered in scalar divide\n",
      "  lift = recall / event_rate\n",
      "\n"
     ]
    },
    {
     "name": "stdout",
     "output_type": "stream",
     "text": [
      "LightGBM, Val CV2 Tuned: {'event_rate': 0.0, 'acc': 0.9686142913541256, 'roc_auc': 0.8304841514432596, 'pr_auc': 0.17119682589514268, 'recall': 0.0, 'precision': 0.0, 'f1': 0.0, 'lift': nan}\" \n",
      "CV Fold: 3                                                                           \n",
      "  3%|▎         | 7/250 [07:03<4:23:47, 65.13s/trial, best loss: -0.17132123792633594]"
     ]
    },
    {
     "name": "stderr",
     "output_type": "stream",
     "text": [
      "/opt/conda/lib/python3.10/site-packages/sklearn/metrics/_classification.py:1469: UndefinedMetricWarning: Precision is ill-defined and being set to 0.0 due to no predicted samples. Use `zero_division` parameter to control this behavior.\n",
      "  _warn_prf(average, modifier, msg_start, len(result))\n",
      "\n",
      "/home/msds-pt2025b/jco/term2_acs/final_project/HOME_CREDIT_KAGGLE/notebooks/utils/model_helpers.py:45: RuntimeWarning: invalid value encountered in scalar divide\n",
      "  lift = recall / event_rate\n",
      "\n"
     ]
    },
    {
     "name": "stdout",
     "output_type": "stream",
     "text": [
      "LightGBM, Val CV3 Tuned: {'event_rate': 9.869719699960521e-05, 'acc': 0.9687129885511252, 'roc_auc': 0.8245358158605406, 'pr_auc': 0.14873091772734115, 'recall': 0.0031446540880503146, 'precision': 1.0, 'f1': 0.006269592476489028, 'lift': 31.861635220125788}\" \n",
      "CV Fold: 4                                                                           \n",
      "LightGBM, Val CV4 Tuned: {'event_rate': 0.0, 'acc': 0.9685649427556258, 'roc_auc': 0.8236580835406069, 'pr_auc': 0.1609470647511666, 'recall': 0.0, 'precision': 0.0, 'f1': 0.0, 'lift': nan}\" \n",
      "CV Fold: 5                                                                           \n",
      "  3%|▎         | 7/250 [07:35<4:23:47, 65.13s/trial, best loss: -0.17132123792633594]"
     ]
    },
    {
     "name": "stderr",
     "output_type": "stream",
     "text": [
      "/opt/conda/lib/python3.10/site-packages/sklearn/metrics/_classification.py:1469: UndefinedMetricWarning: Precision is ill-defined and being set to 0.0 due to no predicted samples. Use `zero_division` parameter to control this behavior.\n",
      "  _warn_prf(average, modifier, msg_start, len(result))\n",
      "\n",
      "/home/msds-pt2025b/jco/term2_acs/final_project/HOME_CREDIT_KAGGLE/notebooks/utils/model_helpers.py:45: RuntimeWarning: invalid value encountered in scalar divide\n",
      "  lift = recall / event_rate\n",
      "\n"
     ]
    },
    {
     "name": "stdout",
     "output_type": "stream",
     "text": [
      "LightGBM, Val CV5 Tuned: {'event_rate': 0.0, 'acc': 0.9685649427556258, 'roc_auc': 0.8248562135954867, 'pr_auc': 0.15802635568715728, 'recall': 0.0, 'precision': 0.0, 'f1': 0.0, 'lift': nan}\" \n",
      "  3%|▎         | 7/250 [07:50<4:23:47, 65.13s/trial, best loss: -0.17132123792633594]"
     ]
    },
    {
     "name": "stderr",
     "output_type": "stream",
     "text": [
      "/opt/conda/lib/python3.10/site-packages/sklearn/metrics/_classification.py:1469: UndefinedMetricWarning: Precision is ill-defined and being set to 0.0 due to no predicted samples. Use `zero_division` parameter to control this behavior.\n",
      "  _warn_prf(average, modifier, msg_start, len(result))\n",
      "\n",
      "/home/msds-pt2025b/jco/term2_acs/final_project/HOME_CREDIT_KAGGLE/notebooks/utils/model_helpers.py:45: RuntimeWarning: invalid value encountered in scalar divide\n",
      "  lift = recall / event_rate\n",
      "\n"
     ]
    },
    {
     "name": "stdout",
     "output_type": "stream",
     "text": [
      "LigthGBM, OOT Tuned: {'event_rate': 0.0, 'acc': 0.9675101654099719, 'roc_auc': 0.819365948104133, 'pr_auc': 0.14559867488908101, 'recall': 0.0, 'precision': 0.0, 'f1': 0.0, 'lift': nan}\" \n",
      "['LGB_Tune7', 'LightGBM', LGBMClassifier(colsample_bytree=0.8685155164517726, gamma=10.932639005816261,\n",
      "               learning_rate=0.011248653389733894, max_depth=7,\n",
      "               min_child_weight=10.226113650954535, n_estimators=223,\n",
      "               random_state=42, reg_alpha=6.648432463874489,\n",
      "               reg_lambda=0.5605627499607424, subsample=0.5589555456169157,\n",
      "               verbose=-1), 0.9675101654099719, 0.0, 0.0, 0.0, 0.819365948104133, 0.14559867488908101, nan, 0.9686142913541256, 0.2, 0.000628930817610063, 0.0012539184952978055, 0.8236703961767986, 0.15789225777217641, nan]\n",
      "Parameters: {'colsample_bytree': 0.960757737061781, 'gamma': 7.325375529493693, 'learning_rate': 0.01728557188933433, 'max_depth': 6.0, 'min_child_weight': 2.178769033331809, 'n_estimators': 143.0, 'random_state': 42, 'reg_alpha': 2.6192567312764514, 'reg_lambda': 9.988657496835899, 'subsample': 0.5826453483582761, 'verbose': -1}\n",
      "CV Fold: 1                                                                           \n",
      "  3%|▎         | 8/250 [08:11<5:05:51, 75.83s/trial, best loss: -0.17132123792633594]"
     ]
    },
    {
     "name": "stderr",
     "output_type": "stream",
     "text": [
      "/opt/conda/lib/python3.10/site-packages/sklearn/metrics/_classification.py:1469: UndefinedMetricWarning: Precision is ill-defined and being set to 0.0 due to no predicted samples. Use `zero_division` parameter to control this behavior.\n",
      "  _warn_prf(average, modifier, msg_start, len(result))\n",
      "\n",
      "/home/msds-pt2025b/jco/term2_acs/final_project/HOME_CREDIT_KAGGLE/notebooks/utils/model_helpers.py:45: RuntimeWarning: invalid value encountered in scalar divide\n",
      "  lift = recall / event_rate\n",
      "\n"
     ]
    },
    {
     "name": "stdout",
     "output_type": "stream",
     "text": [
      "LightGBM, Val CV1 Tuned: {'event_rate': 0.0, 'acc': 0.9686142913541256, 'roc_auc': 0.8143444482468248, 'pr_auc': 0.14790347975342913, 'recall': 0.0, 'precision': 0.0, 'f1': 0.0, 'lift': nan}\" \n",
      "CV Fold: 2                                                                           \n",
      "  3%|▎         | 8/250 [08:24<5:05:51, 75.83s/trial, best loss: -0.17132123792633594]"
     ]
    },
    {
     "name": "stderr",
     "output_type": "stream",
     "text": [
      "/opt/conda/lib/python3.10/site-packages/sklearn/metrics/_classification.py:1469: UndefinedMetricWarning: Precision is ill-defined and being set to 0.0 due to no predicted samples. Use `zero_division` parameter to control this behavior.\n",
      "  _warn_prf(average, modifier, msg_start, len(result))\n",
      "\n",
      "/home/msds-pt2025b/jco/term2_acs/final_project/HOME_CREDIT_KAGGLE/notebooks/utils/model_helpers.py:45: RuntimeWarning: invalid value encountered in scalar divide\n",
      "  lift = recall / event_rate\n",
      "\n"
     ]
    },
    {
     "name": "stdout",
     "output_type": "stream",
     "text": [
      "LightGBM, Val CV2 Tuned: {'event_rate': 0.0, 'acc': 0.9686142913541256, 'roc_auc': 0.8291310754242751, 'pr_auc': 0.16813093290562903, 'recall': 0.0, 'precision': 0.0, 'f1': 0.0, 'lift': nan}\" \n",
      "CV Fold: 3                                                                           \n",
      "  3%|▎         | 8/250 [08:36<5:05:51, 75.83s/trial, best loss: -0.17132123792633594]"
     ]
    },
    {
     "name": "stderr",
     "output_type": "stream",
     "text": [
      "/opt/conda/lib/python3.10/site-packages/sklearn/metrics/_classification.py:1469: UndefinedMetricWarning: Precision is ill-defined and being set to 0.0 due to no predicted samples. Use `zero_division` parameter to control this behavior.\n",
      "  _warn_prf(average, modifier, msg_start, len(result))\n",
      "\n",
      "/home/msds-pt2025b/jco/term2_acs/final_project/HOME_CREDIT_KAGGLE/notebooks/utils/model_helpers.py:45: RuntimeWarning: invalid value encountered in scalar divide\n",
      "  lift = recall / event_rate\n",
      "\n"
     ]
    },
    {
     "name": "stdout",
     "output_type": "stream",
     "text": [
      "LightGBM, Val CV3 Tuned: {'event_rate': 0.0, 'acc': 0.9686142913541256, 'roc_auc': 0.8228865066334449, 'pr_auc': 0.15019945622654912, 'recall': 0.0, 'precision': 0.0, 'f1': 0.0, 'lift': nan}\" \n",
      "CV Fold: 4                                                                           \n",
      "  3%|▎         | 8/250 [08:48<5:05:51, 75.83s/trial, best loss: -0.17132123792633594]"
     ]
    },
    {
     "name": "stderr",
     "output_type": "stream",
     "text": [
      "/opt/conda/lib/python3.10/site-packages/sklearn/metrics/_classification.py:1469: UndefinedMetricWarning: Precision is ill-defined and being set to 0.0 due to no predicted samples. Use `zero_division` parameter to control this behavior.\n",
      "  _warn_prf(average, modifier, msg_start, len(result))\n",
      "\n",
      "/home/msds-pt2025b/jco/term2_acs/final_project/HOME_CREDIT_KAGGLE/notebooks/utils/model_helpers.py:45: RuntimeWarning: invalid value encountered in scalar divide\n",
      "  lift = recall / event_rate\n",
      "\n"
     ]
    },
    {
     "name": "stdout",
     "output_type": "stream",
     "text": [
      "LightGBM, Val CV4 Tuned: {'event_rate': 0.0, 'acc': 0.9685649427556258, 'roc_auc': 0.8206906930421913, 'pr_auc': 0.1610597457703186, 'recall': 0.0, 'precision': 0.0, 'f1': 0.0, 'lift': nan}\" \n",
      "CV Fold: 5                                                                           \n",
      "  3%|▎         | 8/250 [09:01<5:05:51, 75.83s/trial, best loss: -0.17132123792633594]"
     ]
    },
    {
     "name": "stderr",
     "output_type": "stream",
     "text": [
      "/opt/conda/lib/python3.10/site-packages/sklearn/metrics/_classification.py:1469: UndefinedMetricWarning: Precision is ill-defined and being set to 0.0 due to no predicted samples. Use `zero_division` parameter to control this behavior.\n",
      "  _warn_prf(average, modifier, msg_start, len(result))\n",
      "\n",
      "/home/msds-pt2025b/jco/term2_acs/final_project/HOME_CREDIT_KAGGLE/notebooks/utils/model_helpers.py:45: RuntimeWarning: invalid value encountered in scalar divide\n",
      "  lift = recall / event_rate\n",
      "\n"
     ]
    },
    {
     "name": "stdout",
     "output_type": "stream",
     "text": [
      "LightGBM, Val CV5 Tuned: {'event_rate': 0.0, 'acc': 0.9685649427556258, 'roc_auc': 0.823784899202145, 'pr_auc': 0.15734221639086363, 'recall': 0.0, 'precision': 0.0, 'f1': 0.0, 'lift': nan}\" \n",
      "  3%|▎         | 8/250 [09:14<5:05:51, 75.83s/trial, best loss: -0.17132123792633594]"
     ]
    },
    {
     "name": "stderr",
     "output_type": "stream",
     "text": [
      "/opt/conda/lib/python3.10/site-packages/sklearn/metrics/_classification.py:1469: UndefinedMetricWarning: Precision is ill-defined and being set to 0.0 due to no predicted samples. Use `zero_division` parameter to control this behavior.\n",
      "  _warn_prf(average, modifier, msg_start, len(result))\n",
      "\n",
      "/home/msds-pt2025b/jco/term2_acs/final_project/HOME_CREDIT_KAGGLE/notebooks/utils/model_helpers.py:45: RuntimeWarning: invalid value encountered in scalar divide\n",
      "  lift = recall / event_rate\n",
      "\n"
     ]
    },
    {
     "name": "stdout",
     "output_type": "stream",
     "text": [
      "LigthGBM, OOT Tuned: {'event_rate': 0.0, 'acc': 0.9675101654099719, 'roc_auc': 0.8184368493457934, 'pr_auc': 0.15119434661657355, 'recall': 0.0, 'precision': 0.0, 'f1': 0.0, 'lift': nan}\" \n",
      "['LGB_Tune8', 'LightGBM', LGBMClassifier(colsample_bytree=0.960757737061781, gamma=7.325375529493693,\n",
      "               learning_rate=0.01728557188933433, max_depth=6,\n",
      "               min_child_weight=2.178769033331809, n_estimators=143,\n",
      "               random_state=42, reg_alpha=2.6192567312764514,\n",
      "               reg_lambda=9.988657496835899, subsample=0.5826453483582761,\n",
      "               verbose=-1), 0.9675101654099719, 0.0, 0.0, 0.0, 0.8184368493457934, 0.15119434661657355, nan, 0.9685945519147257, 0.0, 0.0, 0.0, 0.8221675245097764, 0.15692716620935793, nan]\n",
      "Parameters: {'colsample_bytree': 0.9454983490320152, 'gamma': 53.10088517779677, 'learning_rate': 0.09973218161167083, 'max_depth': 7.0, 'min_child_weight': 1.5089622650909982, 'n_estimators': 60.0, 'random_state': 42, 'reg_alpha': 0.0034771800024346877, 'reg_lambda': 2.1351799427897866, 'subsample': 0.5939388114926489, 'verbose': -1}\n",
      "CV Fold: 1                                                                           \n",
      "  4%|▎         | 9/250 [09:28<5:05:02, 75.94s/trial, best loss: -0.17132123792633594]"
     ]
    },
    {
     "name": "stderr",
     "output_type": "stream",
     "text": [
      "/opt/conda/lib/python3.10/site-packages/sklearn/metrics/_classification.py:1469: UndefinedMetricWarning: Precision is ill-defined and being set to 0.0 due to no predicted samples. Use `zero_division` parameter to control this behavior.\n",
      "  _warn_prf(average, modifier, msg_start, len(result))\n",
      "\n",
      "/home/msds-pt2025b/jco/term2_acs/final_project/HOME_CREDIT_KAGGLE/notebooks/utils/model_helpers.py:45: RuntimeWarning: invalid value encountered in scalar divide\n",
      "  lift = recall / event_rate\n",
      "\n"
     ]
    },
    {
     "name": "stdout",
     "output_type": "stream",
     "text": [
      "LightGBM, Val CV1 Tuned: {'event_rate': 0.0005428345834978287, 'acc': 0.9688610343466245, 'roc_auc': 0.8314534780886758, 'pr_auc': 0.17586362477994302, 'recall': 0.012578616352201259, 'precision': 0.7272727272727273, 'f1': 0.024729520865533233, 'lift': 23.172098341909663}\" \n",
      "CV Fold: 2                                                                           \n",
      "LightGBM, Val CV2 Tuned: {'event_rate': 0.00039478878799842083, 'acc': 0.9687129885511252, 'roc_auc': 0.8411159837121401, 'pr_auc': 0.16773024635241898, 'recall': 0.007861635220125786, 'precision': 0.625, 'f1': 0.015527950310559004, 'lift': 19.913522012578618}\" \n",
      "CV Fold: 3                                                                           \n",
      "LightGBM, Val CV3 Tuned: {'event_rate': 0.0008882747729964469, 'acc': 0.968515594157126, 'roc_auc': 0.8315236111805364, 'pr_auc': 0.1521554033082774, 'recall': 0.012578616352201259, 'precision': 0.4444444444444444, 'f1': 0.024464831804281346, 'lift': 14.16072676450035}\" \n",
      "CV Fold: 4                                                                           \n",
      "LightGBM, Val CV4 Tuned: {'event_rate': 0.0007895775759968417, 'acc': 0.9685649427556258, 'roc_auc': 0.8318021205370266, 'pr_auc': 0.16737091319462377, 'recall': 0.012558869701726845, 'precision': 0.5, 'f1': 0.024502297090352225, 'lift': 15.90580847723705}\" \n",
      "CV Fold: 5                                                                           \n",
      "LightGBM, Val CV5 Tuned: {'event_rate': 0.0009376233714962495, 'acc': 0.9682195025661271, 'roc_auc': 0.8366046788300391, 'pr_auc': 0.15827251419585203, 'recall': 0.009419152276295133, 'precision': 0.3157894736842105, 'f1': 0.018292682926829264, 'lift': 10.045773775097082}\" \n",
      "LigthGBM, OOT Tuned: {'event_rate': 0.0008685010461489874, 'acc': 0.967194346847736, 'roc_auc': 0.8283156877284199, 'pr_auc': 0.1586126575891439, 'recall': 0.00850546780072904, 'precision': 0.3181818181818182, 'f1': 0.016568047337278104, 'lift': 9.793272948193968}\" \n",
      "['LGB_Tune9', 'LightGBM', LGBMClassifier(colsample_bytree=0.9454983490320152, gamma=53.10088517779677,\n",
      "               learning_rate=0.09973218161167083, max_depth=7,\n",
      "               min_child_weight=1.5089622650909982, n_estimators=60,\n",
      "               random_state=42, reg_alpha=0.0034771800024346877,\n",
      "               reg_lambda=2.1351799427897866, subsample=0.5939388114926489,\n",
      "               verbose=-1), 0.967194346847736, 0.3181818181818182, 0.00850546780072904, 0.016568047337278104, 0.8283156877284199, 0.1586126575891439, 9.793272948193968, 0.9685748124753257, 0.5225013290802765, 0.010999377980510056, 0.02150345659951101, 0.8344999744696837, 0.16427854036622308, 16.639585874264554]\n",
      "Parameters: {'colsample_bytree': 0.8485820297448208, 'gamma': 8.368929312945104, 'learning_rate': 0.1213555351956245, 'max_depth': 6.0, 'min_child_weight': 21.30108148906438, 'n_estimators': 175.0, 'random_state': 42, 'reg_alpha': 7.282354821643282, 'reg_lambda': 8.899193376387368, 'subsample': 0.8867094447447886, 'verbose': -1}\n",
      "CV Fold: 1                                                                            \n",
      "LightGBM, Val CV1 Tuned: {'event_rate': 0.0010856691669956574, 'acc': 0.9688116857481247, 'roc_auc': 0.8349835237300584, 'pr_auc': 0.17519578100693087, 'recall': 0.020440251572327043, 'precision': 0.5909090909090909, 'f1': 0.03951367781155015, 'lift': 18.827329902801598}\" \n",
      "CV Fold: 2                                                                            \n",
      "LightGBM, Val CV2 Tuned: {'event_rate': 0.0009869719699960521, 'acc': 0.969009080142124, 'roc_auc': 0.8399288880087874, 'pr_auc': 0.18243543533758255, 'recall': 0.0220125786163522, 'precision': 0.7, 'f1': 0.04268292682926829, 'lift': 22.303144654088047}\" \n",
      "CV Fold: 3                                                                            \n",
      "LightGBM, Val CV3 Tuned: {'event_rate': 0.0010856691669956574, 'acc': 0.9683181997631267, 'roc_auc': 0.8321141149916753, 'pr_auc': 0.161545546075948, 'recall': 0.012578616352201259, 'precision': 0.36363636363636365, 'f1': 0.024316109422492405, 'lift': 11.586049170954832}\" \n",
      "CV Fold: 4                                                                            \n",
      "LightGBM, Val CV4 Tuned: {'event_rate': 0.0010363205684958546, 'acc': 0.9686142913541256, 'roc_auc': 0.835635784780185, 'pr_auc': 0.1662131561276852, 'recall': 0.01726844583987441, 'precision': 0.5238095238095238, 'f1': 0.03343465045592705, 'lift': 16.663227928534052}\" \n",
      "CV Fold: 5                                                                            \n",
      "LightGBM, Val CV5 Tuned: {'event_rate': 0.0010856691669956574, 'acc': 0.9683675483616265, 'roc_auc': 0.8469825671057212, 'pr_auc': 0.1676078269210694, 'recall': 0.0141287284144427, 'precision': 0.4090909090909091, 'f1': 0.027314112291350535, 'lift': 13.013843299557585}\" \n",
      "LigthGBM, OOT Tuned: {'event_rate': 0.00138170620978248, 'acc': 0.9670759148868975, 'roc_auc': 0.8383798996573342, 'pr_auc': 0.17081066628218378, 'recall': 0.014580801944106925, 'precision': 0.34285714285714286, 'f1': 0.02797202797202797, 'lift': 10.552751258462072}\" \n",
      "['LGB_Tune10', 'LightGBM', LGBMClassifier(colsample_bytree=0.8485820297448208, gamma=8.368929312945104,\n",
      "               learning_rate=0.1213555351956245, max_depth=6,\n",
      "               min_child_weight=21.30108148906438, n_estimators=175,\n",
      "               random_state=42, reg_alpha=7.282354821643282,\n",
      "               reg_lambda=8.899193376387368, subsample=0.8867094447447886,\n",
      "               verbose=-1), 0.9670759148868975, 0.34285714285714286, 0.014580801944106925, 0.02797202797202797, 0.8383798996573342, 0.17081066628218378, 10.552751258462072, 0.9686241610738253, 0.5174891774891776, 0.017285724159039523, 0.03345229536211768, 0.8379289757232854, 0.17059954909384323, 16.478718991187225]\n",
      "Parameters: {'colsample_bytree': 0.7299628218876, 'gamma': 7.7776515911232185, 'learning_rate': 0.09630049479450842, 'max_depth': 7.0, 'min_child_weight': 4.1992412211332075, 'n_estimators': 207.0, 'random_state': 42, 'reg_alpha': 5.913128823895033, 'reg_lambda': 7.606464349966979, 'subsample': 0.6079189724532668, 'verbose': -1}\n",
      "CV Fold: 1                                                                            \n",
      "LightGBM, Val CV1 Tuned: {'event_rate': 0.0011350177654954599, 'acc': 0.9688610343466245, 'roc_auc': 0.8339927686413837, 'pr_auc': 0.1679067407924788, 'recall': 0.0220125786163522, 'precision': 0.6086956521739131, 'f1': 0.0424886191198786, 'lift': 19.394038829641783}\" \n",
      "CV Fold: 2                                                                            \n",
      "LightGBM, Val CV2 Tuned: {'event_rate': 0.0010363205684958546, 'acc': 0.9689597315436241, 'roc_auc': 0.8416696786646722, 'pr_auc': 0.18181356031795878, 'recall': 0.0220125786163522, 'precision': 0.6666666666666666, 'f1': 0.0426179604261796, 'lift': 21.241090146750523}\" \n",
      "CV Fold: 3                                                                            \n",
      "LightGBM, Val CV3 Tuned: {'event_rate': 0.001233714962495065, 'acc': 0.9686636399526254, 'roc_auc': 0.8373050852779945, 'pr_auc': 0.16919805551541078, 'recall': 0.020440251572327043, 'precision': 0.52, 'f1': 0.03933434190620272, 'lift': 16.56805031446541}\" \n",
      "CV Fold: 4                                                                            \n",
      "LightGBM, Val CV4 Tuned: {'event_rate': 0.0010363205684958546, 'acc': 0.968515594157126, 'roc_auc': 0.830578995279226, 'pr_auc': 0.166136482734476, 'recall': 0.015698587127158554, 'precision': 0.47619047619047616, 'f1': 0.0303951367781155, 'lift': 15.148389025940046}\" \n",
      "CV Fold: 5                                                                            \n",
      "LightGBM, Val CV5 Tuned: {'event_rate': 0.001480457954994078, 'acc': 0.9680714567706277, 'roc_auc': 0.8430772366167485, 'pr_auc': 0.16474096234642552, 'recall': 0.015698587127158554, 'precision': 0.3333333333333333, 'f1': 0.02998500749625187, 'lift': 10.603872318158032}\" \n",
      "LigthGBM, OOT Tuned: {'event_rate': 0.001302751569223481, 'acc': 0.9669180056057795, 'roc_auc': 0.8373583868069165, 'pr_auc': 0.1616078715198108, 'recall': 0.010935601458080195, 'precision': 0.2727272727272727, 'f1': 0.02102803738317757, 'lift': 8.394233955594832}\" \n",
      "['LGB_Tune11', 'LightGBM', LGBMClassifier(colsample_bytree=0.7299628218876, gamma=7.7776515911232185,\n",
      "               learning_rate=0.09630049479450842, max_depth=7,\n",
      "               min_child_weight=4.1992412211332075, n_estimators=207,\n",
      "               random_state=42, reg_alpha=5.913128823895033,\n",
      "               reg_lambda=7.606464349966979, subsample=0.6079189724532668,\n",
      "               verbose=-1), 0.9669180056057795, 0.2727272727272727, 0.010935601458080195, 0.02102803738317757, 0.8373583868069165, 0.1616078715198108, 8.394233955594832, 0.9686142913541256, 0.5209772256728779, 0.01917251661186971, 0.03696421314532566, 0.837324752896005, 0.16995916034135, 16.59108812699116]\n",
      "Parameters: {'colsample_bytree': 0.7318504197521991, 'gamma': 69.98515182338842, 'learning_rate': 0.017112636659096483, 'max_depth': 5.0, 'min_child_weight': 88.4897435582006, 'n_estimators': 200.0, 'random_state': 42, 'reg_alpha': 6.755145088394036, 'reg_lambda': 6.7932192709909645, 'subsample': 0.9778130689933118, 'verbose': -1}\n",
      "CV Fold: 1                                                                            \n",
      "LightGBM, Val CV1 Tuned: {'event_rate': 0.0, 'acc': 0.9686142913541256, 'roc_auc': 0.8124954739923584, 'pr_auc': 0.151976020660311, 'recall': 0.0, 'precision': 0.0, 'f1': 0.0, 'lift': nan}\" \n",
      "CV Fold: 2                                                                            \n",
      "  5%|▍         | 12/250 [12:46<4:37:16, 69.90s/trial, best loss: -0.17132123792633594]"
     ]
    },
    {
     "name": "stderr",
     "output_type": "stream",
     "text": [
      "/opt/conda/lib/python3.10/site-packages/sklearn/metrics/_classification.py:1469: UndefinedMetricWarning: Precision is ill-defined and being set to 0.0 due to no predicted samples. Use `zero_division` parameter to control this behavior.\n",
      "  _warn_prf(average, modifier, msg_start, len(result))\n",
      "\n",
      "/home/msds-pt2025b/jco/term2_acs/final_project/HOME_CREDIT_KAGGLE/notebooks/utils/model_helpers.py:45: RuntimeWarning: invalid value encountered in scalar divide\n",
      "  lift = recall / event_rate\n",
      "\n"
     ]
    },
    {
     "name": "stdout",
     "output_type": "stream",
     "text": [
      "LightGBM, Val CV2 Tuned: {'event_rate': 0.0, 'acc': 0.9686142913541256, 'roc_auc': 0.8266435335607072, 'pr_auc': 0.1680558291553705, 'recall': 0.0, 'precision': 0.0, 'f1': 0.0, 'lift': nan}\" \n",
      "CV Fold: 3                                                                            \n",
      "  5%|▍         | 12/250 [12:55<4:37:16, 69.90s/trial, best loss: -0.17132123792633594]"
     ]
    },
    {
     "name": "stderr",
     "output_type": "stream",
     "text": [
      "/opt/conda/lib/python3.10/site-packages/sklearn/metrics/_classification.py:1469: UndefinedMetricWarning: Precision is ill-defined and being set to 0.0 due to no predicted samples. Use `zero_division` parameter to control this behavior.\n",
      "  _warn_prf(average, modifier, msg_start, len(result))\n",
      "\n",
      "/home/msds-pt2025b/jco/term2_acs/final_project/HOME_CREDIT_KAGGLE/notebooks/utils/model_helpers.py:45: RuntimeWarning: invalid value encountered in scalar divide\n",
      "  lift = recall / event_rate\n",
      "\n"
     ]
    },
    {
     "name": "stdout",
     "output_type": "stream",
     "text": [
      "LightGBM, Val CV3 Tuned: {'event_rate': 0.0, 'acc': 0.9686142913541256, 'roc_auc': 0.8233312569772614, 'pr_auc': 0.1494953606835436, 'recall': 0.0, 'precision': 0.0, 'f1': 0.0, 'lift': nan}\" \n",
      "CV Fold: 4                                                                            \n",
      "  5%|▍         | 12/250 [13:04<4:37:16, 69.90s/trial, best loss: -0.17132123792633594]"
     ]
    },
    {
     "name": "stderr",
     "output_type": "stream",
     "text": [
      "/opt/conda/lib/python3.10/site-packages/sklearn/metrics/_classification.py:1469: UndefinedMetricWarning: Precision is ill-defined and being set to 0.0 due to no predicted samples. Use `zero_division` parameter to control this behavior.\n",
      "  _warn_prf(average, modifier, msg_start, len(result))\n",
      "\n",
      "/home/msds-pt2025b/jco/term2_acs/final_project/HOME_CREDIT_KAGGLE/notebooks/utils/model_helpers.py:45: RuntimeWarning: invalid value encountered in scalar divide\n",
      "  lift = recall / event_rate\n",
      "\n"
     ]
    },
    {
     "name": "stdout",
     "output_type": "stream",
     "text": [
      "LightGBM, Val CV4 Tuned: {'event_rate': 0.0, 'acc': 0.9685649427556258, 'roc_auc': 0.8191494288416167, 'pr_auc': 0.15703457709050833, 'recall': 0.0, 'precision': 0.0, 'f1': 0.0, 'lift': nan}\" \n",
      "CV Fold: 5                                                                            \n",
      "  5%|▍         | 12/250 [13:13<4:37:16, 69.90s/trial, best loss: -0.17132123792633594]"
     ]
    },
    {
     "name": "stderr",
     "output_type": "stream",
     "text": [
      "/opt/conda/lib/python3.10/site-packages/sklearn/metrics/_classification.py:1469: UndefinedMetricWarning: Precision is ill-defined and being set to 0.0 due to no predicted samples. Use `zero_division` parameter to control this behavior.\n",
      "  _warn_prf(average, modifier, msg_start, len(result))\n",
      "\n",
      "/home/msds-pt2025b/jco/term2_acs/final_project/HOME_CREDIT_KAGGLE/notebooks/utils/model_helpers.py:45: RuntimeWarning: invalid value encountered in scalar divide\n",
      "  lift = recall / event_rate\n",
      "\n"
     ]
    },
    {
     "name": "stdout",
     "output_type": "stream",
     "text": [
      "LightGBM, Val CV5 Tuned: {'event_rate': 0.0, 'acc': 0.9685649427556258, 'roc_auc': 0.8214410690300318, 'pr_auc': 0.1506677881330912, 'recall': 0.0, 'precision': 0.0, 'f1': 0.0, 'lift': nan}\" \n",
      "  5%|▍         | 12/250 [13:22<4:37:16, 69.90s/trial, best loss: -0.17132123792633594]"
     ]
    },
    {
     "name": "stderr",
     "output_type": "stream",
     "text": [
      "/opt/conda/lib/python3.10/site-packages/sklearn/metrics/_classification.py:1469: UndefinedMetricWarning: Precision is ill-defined and being set to 0.0 due to no predicted samples. Use `zero_division` parameter to control this behavior.\n",
      "  _warn_prf(average, modifier, msg_start, len(result))\n",
      "\n",
      "/home/msds-pt2025b/jco/term2_acs/final_project/HOME_CREDIT_KAGGLE/notebooks/utils/model_helpers.py:45: RuntimeWarning: invalid value encountered in scalar divide\n",
      "  lift = recall / event_rate\n",
      "\n"
     ]
    },
    {
     "name": "stdout",
     "output_type": "stream",
     "text": [
      "LigthGBM, OOT Tuned: {'event_rate': 0.0, 'acc': 0.9675101654099719, 'roc_auc': 0.816152699215333, 'pr_auc': 0.1522829492649373, 'recall': 0.0, 'precision': 0.0, 'f1': 0.0, 'lift': nan}\" \n",
      "['LGB_Tune12', 'LightGBM', LGBMClassifier(colsample_bytree=0.7318504197521991, gamma=69.98515182338842,\n",
      "               learning_rate=0.017112636659096483, max_depth=5,\n",
      "               min_child_weight=88.4897435582006, n_estimators=200,\n",
      "               random_state=42, reg_alpha=6.755145088394036,\n",
      "               reg_lambda=6.7932192709909645, subsample=0.9778130689933118,\n",
      "               verbose=-1), 0.9675101654099719, 0.0, 0.0, 0.0, 0.816152699215333, 0.1522829492649373, nan, 0.9685945519147257, 0.0, 0.0, 0.0, 0.8206121524803951, 0.1554459151445649, nan]\n",
      "Parameters: {'colsample_bytree': 0.8839871500548744, 'gamma': 9.527184741208005, 'learning_rate': 0.027193149898061125, 'max_depth': 8.0, 'min_child_weight': 97.25492605913334, 'n_estimators': 66.0, 'random_state': 42, 'reg_alpha': 5.437172410856036, 'reg_lambda': 3.044401844692981, 'subsample': 0.8782782029406517, 'verbose': -1}\n",
      "CV Fold: 1                                                                            \n",
      "  5%|▌         | 13/250 [13:33<4:20:25, 65.93s/trial, best loss: -0.17132123792633594]"
     ]
    },
    {
     "name": "stderr",
     "output_type": "stream",
     "text": [
      "/opt/conda/lib/python3.10/site-packages/sklearn/metrics/_classification.py:1469: UndefinedMetricWarning: Precision is ill-defined and being set to 0.0 due to no predicted samples. Use `zero_division` parameter to control this behavior.\n",
      "  _warn_prf(average, modifier, msg_start, len(result))\n",
      "\n",
      "/home/msds-pt2025b/jco/term2_acs/final_project/HOME_CREDIT_KAGGLE/notebooks/utils/model_helpers.py:45: RuntimeWarning: invalid value encountered in scalar divide\n",
      "  lift = recall / event_rate\n",
      "\n"
     ]
    },
    {
     "name": "stdout",
     "output_type": "stream",
     "text": [
      "LightGBM, Val CV1 Tuned: {'event_rate': 0.0, 'acc': 0.9686142913541256, 'roc_auc': 0.7952803433165045, 'pr_auc': 0.13417434624405916, 'recall': 0.0, 'precision': 0.0, 'f1': 0.0, 'lift': nan}\" \n",
      "CV Fold: 2                                                                            \n",
      "  5%|▌         | 13/250 [13:39<4:20:25, 65.93s/trial, best loss: -0.17132123792633594]"
     ]
    },
    {
     "name": "stderr",
     "output_type": "stream",
     "text": [
      "/opt/conda/lib/python3.10/site-packages/sklearn/metrics/_classification.py:1469: UndefinedMetricWarning: Precision is ill-defined and being set to 0.0 due to no predicted samples. Use `zero_division` parameter to control this behavior.\n",
      "  _warn_prf(average, modifier, msg_start, len(result))\n",
      "\n",
      "/home/msds-pt2025b/jco/term2_acs/final_project/HOME_CREDIT_KAGGLE/notebooks/utils/model_helpers.py:45: RuntimeWarning: invalid value encountered in scalar divide\n",
      "  lift = recall / event_rate\n",
      "\n"
     ]
    },
    {
     "name": "stdout",
     "output_type": "stream",
     "text": [
      "LightGBM, Val CV2 Tuned: {'event_rate': 0.0, 'acc': 0.9686142913541256, 'roc_auc': 0.8146587053791722, 'pr_auc': 0.1511622439845581, 'recall': 0.0, 'precision': 0.0, 'f1': 0.0, 'lift': nan}\" \n",
      "CV Fold: 3                                                                            \n",
      "  5%|▌         | 13/250 [13:45<4:20:25, 65.93s/trial, best loss: -0.17132123792633594]"
     ]
    },
    {
     "name": "stderr",
     "output_type": "stream",
     "text": [
      "/opt/conda/lib/python3.10/site-packages/sklearn/metrics/_classification.py:1469: UndefinedMetricWarning: Precision is ill-defined and being set to 0.0 due to no predicted samples. Use `zero_division` parameter to control this behavior.\n",
      "  _warn_prf(average, modifier, msg_start, len(result))\n",
      "\n",
      "/home/msds-pt2025b/jco/term2_acs/final_project/HOME_CREDIT_KAGGLE/notebooks/utils/model_helpers.py:45: RuntimeWarning: invalid value encountered in scalar divide\n",
      "  lift = recall / event_rate\n",
      "\n"
     ]
    },
    {
     "name": "stdout",
     "output_type": "stream",
     "text": [
      "LightGBM, Val CV3 Tuned: {'event_rate': 0.0, 'acc': 0.9686142913541256, 'roc_auc': 0.8083794505474786, 'pr_auc': 0.1273799073502194, 'recall': 0.0, 'precision': 0.0, 'f1': 0.0, 'lift': nan}\" \n",
      "CV Fold: 4                                                                            \n",
      "  5%|▌         | 13/250 [13:51<4:20:25, 65.93s/trial, best loss: -0.17132123792633594]"
     ]
    },
    {
     "name": "stderr",
     "output_type": "stream",
     "text": [
      "/opt/conda/lib/python3.10/site-packages/sklearn/metrics/_classification.py:1469: UndefinedMetricWarning: Precision is ill-defined and being set to 0.0 due to no predicted samples. Use `zero_division` parameter to control this behavior.\n",
      "  _warn_prf(average, modifier, msg_start, len(result))\n",
      "\n",
      "/home/msds-pt2025b/jco/term2_acs/final_project/HOME_CREDIT_KAGGLE/notebooks/utils/model_helpers.py:45: RuntimeWarning: invalid value encountered in scalar divide\n",
      "  lift = recall / event_rate\n",
      "\n"
     ]
    },
    {
     "name": "stdout",
     "output_type": "stream",
     "text": [
      "LightGBM, Val CV4 Tuned: {'event_rate': 0.0, 'acc': 0.9685649427556258, 'roc_auc': 0.8089992168702983, 'pr_auc': 0.13354239993622277, 'recall': 0.0, 'precision': 0.0, 'f1': 0.0, 'lift': nan}\" \n",
      "CV Fold: 5                                                                            \n",
      "  5%|▌         | 13/250 [13:56<4:20:25, 65.93s/trial, best loss: -0.17132123792633594]"
     ]
    },
    {
     "name": "stderr",
     "output_type": "stream",
     "text": [
      "/opt/conda/lib/python3.10/site-packages/sklearn/metrics/_classification.py:1469: UndefinedMetricWarning: Precision is ill-defined and being set to 0.0 due to no predicted samples. Use `zero_division` parameter to control this behavior.\n",
      "  _warn_prf(average, modifier, msg_start, len(result))\n",
      "\n",
      "/home/msds-pt2025b/jco/term2_acs/final_project/HOME_CREDIT_KAGGLE/notebooks/utils/model_helpers.py:45: RuntimeWarning: invalid value encountered in scalar divide\n",
      "  lift = recall / event_rate\n",
      "\n"
     ]
    },
    {
     "name": "stdout",
     "output_type": "stream",
     "text": [
      "LightGBM, Val CV5 Tuned: {'event_rate': 0.0, 'acc': 0.9685649427556258, 'roc_auc': 0.8062504644108703, 'pr_auc': 0.12879758267100141, 'recall': 0.0, 'precision': 0.0, 'f1': 0.0, 'lift': nan}\" \n",
      "  5%|▌         | 13/250 [14:02<4:20:25, 65.93s/trial, best loss: -0.17132123792633594]"
     ]
    },
    {
     "name": "stderr",
     "output_type": "stream",
     "text": [
      "/opt/conda/lib/python3.10/site-packages/sklearn/metrics/_classification.py:1469: UndefinedMetricWarning: Precision is ill-defined and being set to 0.0 due to no predicted samples. Use `zero_division` parameter to control this behavior.\n",
      "  _warn_prf(average, modifier, msg_start, len(result))\n",
      "\n",
      "/home/msds-pt2025b/jco/term2_acs/final_project/HOME_CREDIT_KAGGLE/notebooks/utils/model_helpers.py:45: RuntimeWarning: invalid value encountered in scalar divide\n",
      "  lift = recall / event_rate\n",
      "\n"
     ]
    },
    {
     "name": "stdout",
     "output_type": "stream",
     "text": [
      "LigthGBM, OOT Tuned: {'event_rate': 0.0, 'acc': 0.9675101654099719, 'roc_auc': 0.805363725803026, 'pr_auc': 0.14126675113066534, 'recall': 0.0, 'precision': 0.0, 'f1': 0.0, 'lift': nan}\" \n",
      "['LGB_Tune13', 'LightGBM', LGBMClassifier(colsample_bytree=0.8839871500548744, gamma=9.527184741208005,\n",
      "               learning_rate=0.027193149898061125, max_depth=8,\n",
      "               min_child_weight=97.25492605913334, n_estimators=66,\n",
      "               random_state=42, reg_alpha=5.437172410856036,\n",
      "               reg_lambda=3.044401844692981, subsample=0.8782782029406517,\n",
      "               verbose=-1), 0.9675101654099719, 0.0, 0.0, 0.0, 0.805363725803026, 0.14126675113066534, nan, 0.9685945519147257, 0.0, 0.0, 0.0, 0.8067136361048648, 0.13501129603721215, nan]\n",
      "Parameters: {'colsample_bytree': 0.8316651952996073, 'gamma': 58.8540743897757, 'learning_rate': 0.031653575800824604, 'max_depth': 8.0, 'min_child_weight': 13.04702568562947, 'n_estimators': 111.0, 'random_state': 42, 'reg_alpha': 7.193950694871171, 'reg_lambda': 1.9365776210451002, 'subsample': 0.9538052237110393, 'verbose': -1}\n",
      "CV Fold: 1                                                                            \n",
      "  6%|▌         | 14/250 [14:09<3:43:54, 56.93s/trial, best loss: -0.17132123792633594]"
     ]
    },
    {
     "name": "stderr",
     "output_type": "stream",
     "text": [
      "/opt/conda/lib/python3.10/site-packages/sklearn/metrics/_classification.py:1469: UndefinedMetricWarning: Precision is ill-defined and being set to 0.0 due to no predicted samples. Use `zero_division` parameter to control this behavior.\n",
      "  _warn_prf(average, modifier, msg_start, len(result))\n",
      "\n",
      "/home/msds-pt2025b/jco/term2_acs/final_project/HOME_CREDIT_KAGGLE/notebooks/utils/model_helpers.py:45: RuntimeWarning: invalid value encountered in scalar divide\n",
      "  lift = recall / event_rate\n",
      "\n"
     ]
    },
    {
     "name": "stdout",
     "output_type": "stream",
     "text": [
      "LightGBM, Val CV1 Tuned: {'event_rate': 0.0, 'acc': 0.9686142913541256, 'roc_auc': 0.8233238070885772, 'pr_auc': 0.15949726809724984, 'recall': 0.0, 'precision': 0.0, 'f1': 0.0, 'lift': nan}\" \n",
      "CV Fold: 2                                                                            \n",
      "  6%|▌         | 14/250 [14:18<3:43:54, 56.93s/trial, best loss: -0.17132123792633594]"
     ]
    },
    {
     "name": "stderr",
     "output_type": "stream",
     "text": [
      "/opt/conda/lib/python3.10/site-packages/sklearn/metrics/_classification.py:1469: UndefinedMetricWarning: Precision is ill-defined and being set to 0.0 due to no predicted samples. Use `zero_division` parameter to control this behavior.\n",
      "  _warn_prf(average, modifier, msg_start, len(result))\n",
      "\n",
      "/home/msds-pt2025b/jco/term2_acs/final_project/HOME_CREDIT_KAGGLE/notebooks/utils/model_helpers.py:45: RuntimeWarning: invalid value encountered in scalar divide\n",
      "  lift = recall / event_rate\n",
      "\n"
     ]
    },
    {
     "name": "stdout",
     "output_type": "stream",
     "text": [
      "LightGBM, Val CV2 Tuned: {'event_rate': 0.0, 'acc': 0.9686142913541256, 'roc_auc': 0.8372635901990868, 'pr_auc': 0.17504223654535406, 'recall': 0.0, 'precision': 0.0, 'f1': 0.0, 'lift': nan}\" \n",
      "CV Fold: 3                                                                            \n",
      "  6%|▌         | 14/250 [14:29<3:43:54, 56.93s/trial, best loss: -0.17132123792633594]"
     ]
    },
    {
     "name": "stderr",
     "output_type": "stream",
     "text": [
      "/opt/conda/lib/python3.10/site-packages/sklearn/metrics/_classification.py:1469: UndefinedMetricWarning: Precision is ill-defined and being set to 0.0 due to no predicted samples. Use `zero_division` parameter to control this behavior.\n",
      "  _warn_prf(average, modifier, msg_start, len(result))\n",
      "\n",
      "/home/msds-pt2025b/jco/term2_acs/final_project/HOME_CREDIT_KAGGLE/notebooks/utils/model_helpers.py:45: RuntimeWarning: invalid value encountered in scalar divide\n",
      "  lift = recall / event_rate\n",
      "\n"
     ]
    },
    {
     "name": "stdout",
     "output_type": "stream",
     "text": [
      "LightGBM, Val CV3 Tuned: {'event_rate': 9.869719699960521e-05, 'acc': 0.9687129885511252, 'roc_auc': 0.8301234726927132, 'pr_auc': 0.15505013994249897, 'recall': 0.0031446540880503146, 'precision': 1.0, 'f1': 0.006269592476489028, 'lift': 31.861635220125788}\" \n",
      "CV Fold: 4                                                                            \n",
      "LightGBM, Val CV4 Tuned: {'event_rate': 4.9348598499802604e-05, 'acc': 0.9686142913541256, 'roc_auc': 0.8276813913873649, 'pr_auc': 0.16593997936521213, 'recall': 0.0015698587127158557, 'precision': 1.0, 'f1': 0.0031347962382445144, 'lift': 31.8116169544741}\" \n",
      "CV Fold: 5                                                                            \n",
      "LightGBM, Val CV5 Tuned: {'event_rate': 0.0, 'acc': 0.9685649427556258, 'roc_auc': 0.8308979340684937, 'pr_auc': 0.15971524237800022, 'recall': 0.0, 'precision': 0.0, 'f1': 0.0, 'lift': nan}\" \n",
      "  6%|▌         | 14/250 [14:56<3:43:54, 56.93s/trial, best loss: -0.17132123792633594]"
     ]
    },
    {
     "name": "stderr",
     "output_type": "stream",
     "text": [
      "/opt/conda/lib/python3.10/site-packages/sklearn/metrics/_classification.py:1469: UndefinedMetricWarning: Precision is ill-defined and being set to 0.0 due to no predicted samples. Use `zero_division` parameter to control this behavior.\n",
      "  _warn_prf(average, modifier, msg_start, len(result))\n",
      "\n",
      "/home/msds-pt2025b/jco/term2_acs/final_project/HOME_CREDIT_KAGGLE/notebooks/utils/model_helpers.py:45: RuntimeWarning: invalid value encountered in scalar divide\n",
      "  lift = recall / event_rate\n",
      "\n"
     ]
    },
    {
     "name": "stdout",
     "output_type": "stream",
     "text": [
      "LigthGBM, OOT Tuned: {'event_rate': 0.0, 'acc': 0.9675101654099719, 'roc_auc': 0.8275093450280127, 'pr_auc': 0.15614810322647835, 'recall': 0.0, 'precision': 0.0, 'f1': 0.0, 'lift': nan}\" \n",
      "['LGB_Tune14', 'LightGBM', LGBMClassifier(colsample_bytree=0.8316651952996073, gamma=58.8540743897757,\n",
      "               learning_rate=0.031653575800824604, max_depth=8,\n",
      "               min_child_weight=13.04702568562947, n_estimators=111,\n",
      "               random_state=42, reg_alpha=7.193950694871171,\n",
      "               reg_lambda=1.9365776210451002, subsample=0.9538052237110393,\n",
      "               verbose=-1), 0.9675101654099719, 0.0, 0.0, 0.0, 0.8275093450280127, 0.15614810322647835, nan, 0.9686241610738253, 0.4, 0.000942902560153234, 0.0018808777429467085, 0.8298580390872472, 0.16304897326566303, nan]\n",
      "Parameters: {'colsample_bytree': 0.853624784429508, 'gamma': 29.2510405551619, 'learning_rate': 0.01742208853847629, 'max_depth': 5.0, 'min_child_weight': 5.878453891663932, 'n_estimators': 198.0, 'random_state': 42, 'reg_alpha': 0.2712039107442721, 'reg_lambda': 3.1944541527269363, 'subsample': 0.7399865519698641, 'verbose': -1}\n",
      "CV Fold: 1                                                                            \n",
      "  6%|▌         | 15/250 [15:07<3:43:40, 57.11s/trial, best loss: -0.17132123792633594]"
     ]
    },
    {
     "name": "stderr",
     "output_type": "stream",
     "text": [
      "/opt/conda/lib/python3.10/site-packages/sklearn/metrics/_classification.py:1469: UndefinedMetricWarning: Precision is ill-defined and being set to 0.0 due to no predicted samples. Use `zero_division` parameter to control this behavior.\n",
      "  _warn_prf(average, modifier, msg_start, len(result))\n",
      "\n",
      "/home/msds-pt2025b/jco/term2_acs/final_project/HOME_CREDIT_KAGGLE/notebooks/utils/model_helpers.py:45: RuntimeWarning: invalid value encountered in scalar divide\n",
      "  lift = recall / event_rate\n",
      "\n"
     ]
    },
    {
     "name": "stdout",
     "output_type": "stream",
     "text": [
      "LightGBM, Val CV1 Tuned: {'event_rate': 4.9348598499802604e-05, 'acc': 0.9686636399526254, 'roc_auc': 0.8234795738471418, 'pr_auc': 0.16905951774525566, 'recall': 0.0015723270440251573, 'precision': 1.0, 'f1': 0.0031397174254317113, 'lift': 31.861635220125788}\" \n",
      "CV Fold: 2                                                                            \n",
      "LightGBM, Val CV2 Tuned: {'event_rate': 0.0, 'acc': 0.9686142913541256, 'roc_auc': 0.8336312487743731, 'pr_auc': 0.17525138574942495, 'recall': 0.0, 'precision': 0.0, 'f1': 0.0, 'lift': nan}\" \n",
      "CV Fold: 3                                                                            \n",
      "  6%|▌         | 15/250 [15:32<3:43:40, 57.11s/trial, best loss: -0.17132123792633594]"
     ]
    },
    {
     "name": "stderr",
     "output_type": "stream",
     "text": [
      "/opt/conda/lib/python3.10/site-packages/sklearn/metrics/_classification.py:1469: UndefinedMetricWarning: Precision is ill-defined and being set to 0.0 due to no predicted samples. Use `zero_division` parameter to control this behavior.\n",
      "  _warn_prf(average, modifier, msg_start, len(result))\n",
      "\n",
      "/home/msds-pt2025b/jco/term2_acs/final_project/HOME_CREDIT_KAGGLE/notebooks/utils/model_helpers.py:45: RuntimeWarning: invalid value encountered in scalar divide\n",
      "  lift = recall / event_rate\n",
      "\n"
     ]
    },
    {
     "name": "stdout",
     "output_type": "stream",
     "text": [
      "LightGBM, Val CV3 Tuned: {'event_rate': 0.00014804579549940782, 'acc': 0.9686636399526254, 'roc_auc': 0.8290061095495718, 'pr_auc': 0.15511207262654553, 'recall': 0.0031446540880503146, 'precision': 0.6666666666666666, 'f1': 0.006259780907668233, 'lift': 21.241090146750523}\" \n",
      "CV Fold: 4                                                                            \n",
      "LightGBM, Val CV4 Tuned: {'event_rate': 0.0, 'acc': 0.9685649427556258, 'roc_auc': 0.8257134090825289, 'pr_auc': 0.16446098264639297, 'recall': 0.0, 'precision': 0.0, 'f1': 0.0, 'lift': nan}\" \n",
      "CV Fold: 5                                                                            \n",
      "  6%|▌         | 15/250 [15:57<3:43:40, 57.11s/trial, best loss: -0.17132123792633594]"
     ]
    },
    {
     "name": "stderr",
     "output_type": "stream",
     "text": [
      "/opt/conda/lib/python3.10/site-packages/sklearn/metrics/_classification.py:1469: UndefinedMetricWarning: Precision is ill-defined and being set to 0.0 due to no predicted samples. Use `zero_division` parameter to control this behavior.\n",
      "  _warn_prf(average, modifier, msg_start, len(result))\n",
      "\n",
      "/home/msds-pt2025b/jco/term2_acs/final_project/HOME_CREDIT_KAGGLE/notebooks/utils/model_helpers.py:45: RuntimeWarning: invalid value encountered in scalar divide\n",
      "  lift = recall / event_rate\n",
      "\n"
     ]
    },
    {
     "name": "stdout",
     "output_type": "stream",
     "text": [
      "LightGBM, Val CV5 Tuned: {'event_rate': 9.869719699960521e-05, 'acc': 0.9686636399526254, 'roc_auc': 0.8263177331006634, 'pr_auc': 0.15998146033239774, 'recall': 0.0031397174254317113, 'precision': 1.0, 'f1': 0.006259780907668232, 'lift': 31.8116169544741}\" \n",
      "LigthGBM, OOT Tuned: {'event_rate': 3.947732027949943e-05, 'acc': 0.9674706880896925, 'roc_auc': 0.8225299656659834, 'pr_auc': 0.1567736315624907, 'recall': 0.0, 'precision': 0.0, 'f1': 0.0, 'lift': 0.0}\" \n",
      "['LGB_Tune15', 'LightGBM', LGBMClassifier(colsample_bytree=0.853624784429508, gamma=29.2510405551619,\n",
      "               learning_rate=0.01742208853847629, max_depth=5,\n",
      "               min_child_weight=5.878453891663932, n_estimators=198,\n",
      "               random_state=42, reg_alpha=0.2712039107442721,\n",
      "               reg_lambda=3.1944541527269363, subsample=0.7399865519698641,\n",
      "               verbose=-1), 0.9674706880896925, 0.0, 0.0, 0.0, 0.8225299656659834, 0.1567736315624907, 0.0, 0.9686340307935254, 0.5333333333333333, 0.0015713397115014367, 0.003131855848153635, 0.8276296148708557, 0.16477308382000336, nan]\n",
      "Parameters: {'colsample_bytree': 0.5218492983802602, 'gamma': 11.688879412937434, 'learning_rate': 0.012795438823464352, 'max_depth': 6.0, 'min_child_weight': 37.80835929695509, 'n_estimators': 132.0, 'random_state': 42, 'reg_alpha': 5.796295845906147, 'reg_lambda': 9.888255665328256, 'subsample': 0.935720910469668, 'verbose': -1}\n",
      "CV Fold: 1                                                                            \n",
      "LightGBM, Val CV1 Tuned: {'event_rate': 0.0, 'acc': 0.9686142913541256, 'roc_auc': 0.7990916823354648, 'pr_auc': 0.13479852853227486, 'recall': 0.0, 'precision': 0.0, 'f1': 0.0, 'lift': nan}\" \n",
      "CV Fold: 2                                                                            \n",
      "  6%|▋         | 16/250 [16:37<4:06:51, 63.30s/trial, best loss: -0.17132123792633594]"
     ]
    },
    {
     "name": "stderr",
     "output_type": "stream",
     "text": [
      "/opt/conda/lib/python3.10/site-packages/sklearn/metrics/_classification.py:1469: UndefinedMetricWarning: Precision is ill-defined and being set to 0.0 due to no predicted samples. Use `zero_division` parameter to control this behavior.\n",
      "  _warn_prf(average, modifier, msg_start, len(result))\n",
      "\n",
      "/home/msds-pt2025b/jco/term2_acs/final_project/HOME_CREDIT_KAGGLE/notebooks/utils/model_helpers.py:45: RuntimeWarning: invalid value encountered in scalar divide\n",
      "  lift = recall / event_rate\n",
      "\n"
     ]
    },
    {
     "name": "stdout",
     "output_type": "stream",
     "text": [
      "LightGBM, Val CV2 Tuned: {'event_rate': 0.0, 'acc': 0.9686142913541256, 'roc_auc': 0.8177483264185549, 'pr_auc': 0.15493526638819224, 'recall': 0.0, 'precision': 0.0, 'f1': 0.0, 'lift': nan}\" \n",
      "CV Fold: 3                                                                            \n",
      "  6%|▋         | 16/250 [16:48<4:06:51, 63.30s/trial, best loss: -0.17132123792633594]"
     ]
    },
    {
     "name": "stderr",
     "output_type": "stream",
     "text": [
      "/opt/conda/lib/python3.10/site-packages/sklearn/metrics/_classification.py:1469: UndefinedMetricWarning: Precision is ill-defined and being set to 0.0 due to no predicted samples. Use `zero_division` parameter to control this behavior.\n",
      "  _warn_prf(average, modifier, msg_start, len(result))\n",
      "\n",
      "/home/msds-pt2025b/jco/term2_acs/final_project/HOME_CREDIT_KAGGLE/notebooks/utils/model_helpers.py:45: RuntimeWarning: invalid value encountered in scalar divide\n",
      "  lift = recall / event_rate\n",
      "\n"
     ]
    },
    {
     "name": "stdout",
     "output_type": "stream",
     "text": [
      "LightGBM, Val CV3 Tuned: {'event_rate': 0.0, 'acc': 0.9686142913541256, 'roc_auc': 0.8128229486691455, 'pr_auc': 0.13557198081323796, 'recall': 0.0, 'precision': 0.0, 'f1': 0.0, 'lift': nan}\" \n",
      "CV Fold: 4                                                                            \n",
      "  6%|▋         | 16/250 [17:00<4:06:51, 63.30s/trial, best loss: -0.17132123792633594]"
     ]
    },
    {
     "name": "stderr",
     "output_type": "stream",
     "text": [
      "/opt/conda/lib/python3.10/site-packages/sklearn/metrics/_classification.py:1469: UndefinedMetricWarning: Precision is ill-defined and being set to 0.0 due to no predicted samples. Use `zero_division` parameter to control this behavior.\n",
      "  _warn_prf(average, modifier, msg_start, len(result))\n",
      "\n",
      "/home/msds-pt2025b/jco/term2_acs/final_project/HOME_CREDIT_KAGGLE/notebooks/utils/model_helpers.py:45: RuntimeWarning: invalid value encountered in scalar divide\n",
      "  lift = recall / event_rate\n",
      "\n"
     ]
    },
    {
     "name": "stdout",
     "output_type": "stream",
     "text": [
      "LightGBM, Val CV4 Tuned: {'event_rate': 0.0, 'acc': 0.9685649427556258, 'roc_auc': 0.8129563374197225, 'pr_auc': 0.14277427484371338, 'recall': 0.0, 'precision': 0.0, 'f1': 0.0, 'lift': nan}\" \n",
      "CV Fold: 5                                                                            \n",
      "  6%|▋         | 16/250 [17:12<4:06:51, 63.30s/trial, best loss: -0.17132123792633594]"
     ]
    },
    {
     "name": "stderr",
     "output_type": "stream",
     "text": [
      "/opt/conda/lib/python3.10/site-packages/sklearn/metrics/_classification.py:1469: UndefinedMetricWarning: Precision is ill-defined and being set to 0.0 due to no predicted samples. Use `zero_division` parameter to control this behavior.\n",
      "  _warn_prf(average, modifier, msg_start, len(result))\n",
      "\n",
      "/home/msds-pt2025b/jco/term2_acs/final_project/HOME_CREDIT_KAGGLE/notebooks/utils/model_helpers.py:45: RuntimeWarning: invalid value encountered in scalar divide\n",
      "  lift = recall / event_rate\n",
      "\n"
     ]
    },
    {
     "name": "stdout",
     "output_type": "stream",
     "text": [
      "LightGBM, Val CV5 Tuned: {'event_rate': 0.0, 'acc': 0.9685649427556258, 'roc_auc': 0.8104282226155156, 'pr_auc': 0.13997268115692063, 'recall': 0.0, 'precision': 0.0, 'f1': 0.0, 'lift': nan}\" \n",
      "  6%|▋         | 16/250 [17:24<4:06:51, 63.30s/trial, best loss: -0.17132123792633594]"
     ]
    },
    {
     "name": "stderr",
     "output_type": "stream",
     "text": [
      "/opt/conda/lib/python3.10/site-packages/sklearn/metrics/_classification.py:1469: UndefinedMetricWarning: Precision is ill-defined and being set to 0.0 due to no predicted samples. Use `zero_division` parameter to control this behavior.\n",
      "  _warn_prf(average, modifier, msg_start, len(result))\n",
      "\n",
      "/home/msds-pt2025b/jco/term2_acs/final_project/HOME_CREDIT_KAGGLE/notebooks/utils/model_helpers.py:45: RuntimeWarning: invalid value encountered in scalar divide\n",
      "  lift = recall / event_rate\n",
      "\n"
     ]
    },
    {
     "name": "stdout",
     "output_type": "stream",
     "text": [
      "LigthGBM, OOT Tuned: {'event_rate': 0.0, 'acc': 0.9675101654099719, 'roc_auc': 0.8075165428165793, 'pr_auc': 0.14229592346974346, 'recall': 0.0, 'precision': 0.0, 'f1': 0.0, 'lift': nan}\" \n",
      "['LGB_Tune16', 'LightGBM', LGBMClassifier(colsample_bytree=0.5218492983802602, gamma=11.688879412937434,\n",
      "               learning_rate=0.012795438823464352, max_depth=6,\n",
      "               min_child_weight=37.80835929695509, n_estimators=132,\n",
      "               random_state=42, reg_alpha=5.796295845906147,\n",
      "               reg_lambda=9.888255665328256, subsample=0.935720910469668,\n",
      "               verbose=-1), 0.9675101654099719, 0.0, 0.0, 0.0, 0.8075165428165793, 0.14229592346974346, nan, 0.9685945519147257, 0.0, 0.0, 0.0, 0.8106095034916807, 0.14161054634686782, nan]\n",
      "Parameters: {'colsample_bytree': 0.5824857372599974, 'gamma': 15.190595156977318, 'learning_rate': 0.05570172485395602, 'max_depth': 3.0, 'min_child_weight': 44.86030372698086, 'n_estimators': 144.0, 'random_state': 42, 'reg_alpha': 4.383450116585909, 'reg_lambda': 4.681184788942164, 'subsample': 0.8682733293776381, 'verbose': -1}\n",
      "CV Fold: 1                                                                            \n",
      "  7%|▋         | 17/250 [17:38<4:17:59, 66.44s/trial, best loss: -0.17132123792633594]"
     ]
    },
    {
     "name": "stderr",
     "output_type": "stream",
     "text": [
      "/opt/conda/lib/python3.10/site-packages/sklearn/metrics/_classification.py:1469: UndefinedMetricWarning: Precision is ill-defined and being set to 0.0 due to no predicted samples. Use `zero_division` parameter to control this behavior.\n",
      "  _warn_prf(average, modifier, msg_start, len(result))\n",
      "\n",
      "/home/msds-pt2025b/jco/term2_acs/final_project/HOME_CREDIT_KAGGLE/notebooks/utils/model_helpers.py:45: RuntimeWarning: invalid value encountered in scalar divide\n",
      "  lift = recall / event_rate\n",
      "\n"
     ]
    },
    {
     "name": "stdout",
     "output_type": "stream",
     "text": [
      "LightGBM, Val CV1 Tuned: {'event_rate': 0.00014804579549940782, 'acc': 0.9686636399526254, 'roc_auc': 0.8254559972725396, 'pr_auc': 0.17081043376194405, 'recall': 0.0031446540880503146, 'precision': 0.6666666666666666, 'f1': 0.006259780907668233, 'lift': 21.241090146750523}\" \n",
      "CV Fold: 2                                                                            \n",
      "LightGBM, Val CV2 Tuned: {'event_rate': 0.00029609159099881565, 'acc': 0.9688116857481247, 'roc_auc': 0.8356139605466713, 'pr_auc': 0.17388770063443962, 'recall': 0.007861635220125786, 'precision': 0.8333333333333334, 'f1': 0.01557632398753894, 'lift': 26.551362683438153}\" \n",
      "CV Fold: 3                                                                            \n",
      "LightGBM, Val CV3 Tuned: {'event_rate': 9.869719699960521e-05, 'acc': 0.9687129885511252, 'roc_auc': 0.8300288671170566, 'pr_auc': 0.15880618321370493, 'recall': 0.0031446540880503146, 'precision': 1.0, 'f1': 0.006269592476489028, 'lift': 31.861635220125788}\" \n",
      "CV Fold: 4                                                                            \n",
      "LightGBM, Val CV4 Tuned: {'event_rate': 0.00014804579549940782, 'acc': 0.9687129885511252, 'roc_auc': 0.8269672884380029, 'pr_auc': 0.17029662746273222, 'recall': 0.004709576138147566, 'precision': 1.0, 'f1': 0.009375, 'lift': 31.811616954474093}\" \n",
      "CV Fold: 5                                                                            \n",
      "LightGBM, Val CV5 Tuned: {'event_rate': 0.00019739439399921041, 'acc': 0.9687623371496249, 'roc_auc': 0.8311859987831136, 'pr_auc': 0.16242213627230068, 'recall': 0.006279434850863423, 'precision': 1.0, 'f1': 0.0124804992199688, 'lift': 31.8116169544741}\" \n",
      "LigthGBM, OOT Tuned: {'event_rate': 0.0, 'acc': 0.9675101654099719, 'roc_auc': 0.82501307381764, 'pr_auc': 0.15870306724286906, 'recall': 0.0, 'precision': 0.0, 'f1': 0.0, 'lift': nan}\" \n",
      "['LGB_Tune17', 'LightGBM', LGBMClassifier(colsample_bytree=0.5824857372599974, gamma=15.190595156977318,\n",
      "               learning_rate=0.05570172485395602, max_depth=3,\n",
      "               min_child_weight=44.86030372698086, n_estimators=144,\n",
      "               random_state=42, reg_alpha=4.383450116585909,\n",
      "               reg_lambda=4.681184788942164, subsample=0.8682733293776381,\n",
      "               verbose=-1), 0.9675101654099719, 0.0, 0.0, 0.0, 0.82501307381764, 0.15870306724286906, nan, 0.9687327279905251, 0.9, 0.005027990877047481, 0.009992239318333, 0.8298504224314769, 0.1672446162690243, 28.65546439185253]\n",
      "Parameters: {'colsample_bytree': 0.7506005576655789, 'gamma': 1.210380440813415, 'learning_rate': 0.010928635730024984, 'max_depth': 5.0, 'min_child_weight': 1.5631234907614637, 'n_estimators': 130.0, 'random_state': 42, 'reg_alpha': 4.646153916967552, 'reg_lambda': 0.9721775342132721, 'subsample': 0.8463587888425486, 'verbose': -1}\n",
      "CV Fold: 1                                                                            \n",
      "  7%|▋         | 18/250 [18:42<4:13:26, 65.55s/trial, best loss: -0.17132123792633594]"
     ]
    },
    {
     "name": "stderr",
     "output_type": "stream",
     "text": [
      "/opt/conda/lib/python3.10/site-packages/sklearn/metrics/_classification.py:1469: UndefinedMetricWarning: Precision is ill-defined and being set to 0.0 due to no predicted samples. Use `zero_division` parameter to control this behavior.\n",
      "  _warn_prf(average, modifier, msg_start, len(result))\n",
      "\n",
      "/home/msds-pt2025b/jco/term2_acs/final_project/HOME_CREDIT_KAGGLE/notebooks/utils/model_helpers.py:45: RuntimeWarning: invalid value encountered in scalar divide\n",
      "  lift = recall / event_rate\n",
      "\n"
     ]
    },
    {
     "name": "stdout",
     "output_type": "stream",
     "text": [
      "LightGBM, Val CV1 Tuned: {'event_rate': 0.0, 'acc': 0.9686142913541256, 'roc_auc': 0.7978670968697009, 'pr_auc': 0.13942615245781464, 'recall': 0.0, 'precision': 0.0, 'f1': 0.0, 'lift': nan}\" \n",
      "CV Fold: 2                                                                            \n",
      "  7%|▋         | 18/250 [18:50<4:13:26, 65.55s/trial, best loss: -0.17132123792633594]"
     ]
    },
    {
     "name": "stderr",
     "output_type": "stream",
     "text": [
      "/opt/conda/lib/python3.10/site-packages/sklearn/metrics/_classification.py:1469: UndefinedMetricWarning: Precision is ill-defined and being set to 0.0 due to no predicted samples. Use `zero_division` parameter to control this behavior.\n",
      "  _warn_prf(average, modifier, msg_start, len(result))\n",
      "\n",
      "/home/msds-pt2025b/jco/term2_acs/final_project/HOME_CREDIT_KAGGLE/notebooks/utils/model_helpers.py:45: RuntimeWarning: invalid value encountered in scalar divide\n",
      "  lift = recall / event_rate\n",
      "\n"
     ]
    },
    {
     "name": "stdout",
     "output_type": "stream",
     "text": [
      "LightGBM, Val CV2 Tuned: {'event_rate': 0.0, 'acc': 0.9686142913541256, 'roc_auc': 0.8144140205943762, 'pr_auc': 0.1619036945619922, 'recall': 0.0, 'precision': 0.0, 'f1': 0.0, 'lift': nan}\" \n",
      "CV Fold: 3                                                                            \n",
      "  7%|▋         | 18/250 [18:59<4:13:26, 65.55s/trial, best loss: -0.17132123792633594]"
     ]
    },
    {
     "name": "stderr",
     "output_type": "stream",
     "text": [
      "/opt/conda/lib/python3.10/site-packages/sklearn/metrics/_classification.py:1469: UndefinedMetricWarning: Precision is ill-defined and being set to 0.0 due to no predicted samples. Use `zero_division` parameter to control this behavior.\n",
      "  _warn_prf(average, modifier, msg_start, len(result))\n",
      "\n",
      "/home/msds-pt2025b/jco/term2_acs/final_project/HOME_CREDIT_KAGGLE/notebooks/utils/model_helpers.py:45: RuntimeWarning: invalid value encountered in scalar divide\n",
      "  lift = recall / event_rate\n",
      "\n"
     ]
    },
    {
     "name": "stdout",
     "output_type": "stream",
     "text": [
      "LightGBM, Val CV3 Tuned: {'event_rate': 0.0, 'acc': 0.9686142913541256, 'roc_auc': 0.8101973435459291, 'pr_auc': 0.13485397377243788, 'recall': 0.0, 'precision': 0.0, 'f1': 0.0, 'lift': nan}\" \n",
      "CV Fold: 4                                                                            \n",
      "  7%|▋         | 18/250 [19:07<4:13:26, 65.55s/trial, best loss: -0.17132123792633594]"
     ]
    },
    {
     "name": "stderr",
     "output_type": "stream",
     "text": [
      "/opt/conda/lib/python3.10/site-packages/sklearn/metrics/_classification.py:1469: UndefinedMetricWarning: Precision is ill-defined and being set to 0.0 due to no predicted samples. Use `zero_division` parameter to control this behavior.\n",
      "  _warn_prf(average, modifier, msg_start, len(result))\n",
      "\n",
      "/home/msds-pt2025b/jco/term2_acs/final_project/HOME_CREDIT_KAGGLE/notebooks/utils/model_helpers.py:45: RuntimeWarning: invalid value encountered in scalar divide\n",
      "  lift = recall / event_rate\n",
      "\n"
     ]
    },
    {
     "name": "stdout",
     "output_type": "stream",
     "text": [
      "LightGBM, Val CV4 Tuned: {'event_rate': 0.0, 'acc': 0.9685649427556258, 'roc_auc': 0.8110309469406631, 'pr_auc': 0.1487111058899842, 'recall': 0.0, 'precision': 0.0, 'f1': 0.0, 'lift': nan}\" \n",
      "CV Fold: 5                                                                            \n",
      "  7%|▋         | 18/250 [19:16<4:13:26, 65.55s/trial, best loss: -0.17132123792633594]"
     ]
    },
    {
     "name": "stderr",
     "output_type": "stream",
     "text": [
      "/opt/conda/lib/python3.10/site-packages/sklearn/metrics/_classification.py:1469: UndefinedMetricWarning: Precision is ill-defined and being set to 0.0 due to no predicted samples. Use `zero_division` parameter to control this behavior.\n",
      "  _warn_prf(average, modifier, msg_start, len(result))\n",
      "\n",
      "/home/msds-pt2025b/jco/term2_acs/final_project/HOME_CREDIT_KAGGLE/notebooks/utils/model_helpers.py:45: RuntimeWarning: invalid value encountered in scalar divide\n",
      "  lift = recall / event_rate\n",
      "\n"
     ]
    },
    {
     "name": "stdout",
     "output_type": "stream",
     "text": [
      "LightGBM, Val CV5 Tuned: {'event_rate': 0.0, 'acc': 0.9685649427556258, 'roc_auc': 0.8037035532140671, 'pr_auc': 0.1437696306748127, 'recall': 0.0, 'precision': 0.0, 'f1': 0.0, 'lift': nan}\" \n",
      "  7%|▋         | 18/250 [19:24<4:13:26, 65.55s/trial, best loss: -0.17132123792633594]"
     ]
    },
    {
     "name": "stderr",
     "output_type": "stream",
     "text": [
      "/opt/conda/lib/python3.10/site-packages/sklearn/metrics/_classification.py:1469: UndefinedMetricWarning: Precision is ill-defined and being set to 0.0 due to no predicted samples. Use `zero_division` parameter to control this behavior.\n",
      "  _warn_prf(average, modifier, msg_start, len(result))\n",
      "\n",
      "/home/msds-pt2025b/jco/term2_acs/final_project/HOME_CREDIT_KAGGLE/notebooks/utils/model_helpers.py:45: RuntimeWarning: invalid value encountered in scalar divide\n",
      "  lift = recall / event_rate\n",
      "\n"
     ]
    },
    {
     "name": "stdout",
     "output_type": "stream",
     "text": [
      "LigthGBM, OOT Tuned: {'event_rate': 0.0, 'acc': 0.9675101654099719, 'roc_auc': 0.803224022269813, 'pr_auc': 0.14141309860527623, 'recall': 0.0, 'precision': 0.0, 'f1': 0.0, 'lift': nan}\" \n",
      "['LGB_Tune18', 'LightGBM', LGBMClassifier(colsample_bytree=0.7506005576655789, gamma=1.210380440813415,\n",
      "               learning_rate=0.010928635730024984, max_depth=5,\n",
      "               min_child_weight=1.5631234907614637, n_estimators=130,\n",
      "               random_state=42, reg_alpha=4.646153916967552,\n",
      "               reg_lambda=0.9721775342132721, subsample=0.8463587888425486,\n",
      "               verbose=-1), 0.9675101654099719, 0.0, 0.0, 0.0, 0.803224022269813, 0.14141309860527623, nan, 0.9685945519147257, 0.0, 0.0, 0.0, 0.8074425922329473, 0.14573291147140832, nan]\n",
      "Parameters: {'colsample_bytree': 0.9701264705194896, 'gamma': 2.4943791643626603, 'learning_rate': 0.05082741411241761, 'max_depth': 5.0, 'min_child_weight': 8.306655547181755, 'n_estimators': 134.0, 'random_state': 42, 'reg_alpha': 4.580531427939091, 'reg_lambda': 2.279431490631969, 'subsample': 0.8416121429972607, 'verbose': -1}\n",
      "CV Fold: 1                                                                            \n",
      "  8%|▊         | 19/250 [19:34<3:57:16, 61.63s/trial, best loss: -0.17132123792633594]"
     ]
    },
    {
     "name": "stderr",
     "output_type": "stream",
     "text": [
      "/opt/conda/lib/python3.10/site-packages/sklearn/metrics/_classification.py:1469: UndefinedMetricWarning: Precision is ill-defined and being set to 0.0 due to no predicted samples. Use `zero_division` parameter to control this behavior.\n",
      "  _warn_prf(average, modifier, msg_start, len(result))\n",
      "\n",
      "/home/msds-pt2025b/jco/term2_acs/final_project/HOME_CREDIT_KAGGLE/notebooks/utils/model_helpers.py:45: RuntimeWarning: invalid value encountered in scalar divide\n",
      "  lift = recall / event_rate\n",
      "\n"
     ]
    },
    {
     "name": "stdout",
     "output_type": "stream",
     "text": [
      "LightGBM, Val CV1 Tuned: {'event_rate': 0.00029609159099881565, 'acc': 0.9688116857481247, 'roc_auc': 0.8328885028831869, 'pr_auc': 0.17649206882369636, 'recall': 0.007861635220125786, 'precision': 0.8333333333333334, 'f1': 0.01557632398753894, 'lift': 26.551362683438153}\" \n",
      "CV Fold: 2                                                                            \n",
      "LightGBM, Val CV2 Tuned: {'event_rate': 0.00019739439399921041, 'acc': 0.9688116857481247, 'roc_auc': 0.8417986498558726, 'pr_auc': 0.1825374203184926, 'recall': 0.006289308176100629, 'precision': 1.0, 'f1': 0.0125, 'lift': 31.861635220125788}\" \n",
      "CV Fold: 3                                                                            \n",
      "LightGBM, Val CV3 Tuned: {'event_rate': 0.0005921831819976313, 'acc': 0.9687129885511252, 'roc_auc': 0.835065232186595, 'pr_auc': 0.16475904288658258, 'recall': 0.0110062893081761, 'precision': 0.5833333333333334, 'f1': 0.021604938271604934, 'lift': 18.585953878406706}\" \n",
      "CV Fold: 4                                                                            \n",
      "LightGBM, Val CV4 Tuned: {'event_rate': 0.00029609159099881565, 'acc': 0.9687623371496249, 'roc_auc': 0.8339362709508791, 'pr_auc': 0.17444199848380013, 'recall': 0.007849293563579277, 'precision': 0.8333333333333334, 'f1': 0.015552099533437013, 'lift': 26.509680795395077}\" \n",
      "CV Fold: 5                                                                            \n",
      "LightGBM, Val CV5 Tuned: {'event_rate': 0.00039478878799842083, 'acc': 0.9686636399526254, 'roc_auc': 0.8392406129415644, 'pr_auc': 0.17018478230818326, 'recall': 0.007849293563579277, 'precision': 0.625, 'f1': 0.015503875968992244, 'lift': 19.88226059654631}\" \n",
      "LigthGBM, OOT Tuned: {'event_rate': 0.00031581856223599544, 'acc': 0.967352256128854, 'roc_auc': 0.8303407164789202, 'pr_auc': 0.16053938109216798, 'recall': 0.002430133657351154, 'precision': 0.25, 'f1': 0.004813477737665463, 'lift': 7.69471445929526}\" \n",
      "['LGB_Tune19', 'LightGBM', LGBMClassifier(colsample_bytree=0.9701264705194896, gamma=2.4943791643626603,\n",
      "               learning_rate=0.05082741411241761, max_depth=5,\n",
      "               min_child_weight=8.306655547181755, n_estimators=134,\n",
      "               random_state=42, reg_alpha=4.580531427939091,\n",
      "               reg_lambda=2.279431490631969, subsample=0.8416121429972607,\n",
      "               verbose=-1), 0.967352256128854, 0.25, 0.002430133657351154, 0.004813477737665463, 0.8303407164789202, 0.16053938109216798, 7.69471445929526, 0.968752467429925, 0.7750000000000001, 0.008171163966312215, 0.016147447552314627, 0.8365858537636196, 0.17368306256415098, 24.678178634782405]\n",
      "Parameters: {'colsample_bytree': 0.621349280626777, 'gamma': 4.4306889216092165, 'learning_rate': 0.18225746821028901, 'max_depth': 3.0, 'min_child_weight': 4.376800138760103, 'n_estimators': 247.0, 'random_state': 42, 'reg_alpha': 1.558894905977845, 'reg_lambda': 5.174591304825759, 'subsample': 0.7191695497749232, 'verbose': -1}\n",
      "CV Fold: 1                                                                            \n",
      "LightGBM, Val CV1 Tuned: {'event_rate': 0.0019245953414923015, 'acc': 0.9689597315436241, 'roc_auc': 0.8356661898737909, 'pr_auc': 0.17760506830153452, 'recall': 0.036163522012578615, 'precision': 0.5897435897435898, 'f1': 0.06814814814814814, 'lift': 18.79019512981777}\" \n",
      "CV Fold: 2                                                                            \n",
      "LightGBM, Val CV2 Tuned: {'event_rate': 0.001480457954994078, 'acc': 0.9686142913541256, 'roc_auc': 0.840643837003485, 'pr_auc': 0.1759911171324255, 'recall': 0.02358490566037736, 'precision': 0.5, 'f1': 0.04504504504504504, 'lift': 15.930817610062896}\" \n",
      "CV Fold: 3                                                                            \n",
      "LightGBM, Val CV3 Tuned: {'event_rate': 0.0020726411369917093, 'acc': 0.9684168969601263, 'roc_auc': 0.8335149343833032, 'pr_auc': 0.15998774191267284, 'recall': 0.029874213836477988, 'precision': 0.4523809523809524, 'f1': 0.05604719764011799, 'lift': 14.413596885295}\" \n",
      "CV Fold: 4                                                                            \n",
      "LightGBM, Val CV4 Tuned: {'event_rate': 0.001480457954994078, 'acc': 0.9683675483616265, 'roc_auc': 0.8367543701012901, 'pr_auc': 0.17053429861770805, 'recall': 0.02040816326530612, 'precision': 0.43333333333333335, 'f1': 0.03898050974512743, 'lift': 13.785034013605442}\" \n",
      "CV Fold: 5                                                                            \n",
      "LightGBM, Val CV5 Tuned: {'event_rate': 0.0017272009474930913, 'acc': 0.9682195025661271, 'roc_auc': 0.8422751505531059, 'pr_auc': 0.16300995668684165, 'recall': 0.02197802197802198, 'precision': 0.4, 'f1': 0.04166666666666668, 'lift': 12.72464678178964}\" \n",
      "LigthGBM, OOT Tuned: {'event_rate': 0.001934388693695472, 'acc': 0.9672338241680155, 'roc_auc': 0.8374229874302953, 'pr_auc': 0.17732136904584717, 'recall': 0.02551640340218712, 'precision': 0.42857142857142855, 'f1': 0.048165137614678895, 'lift': 13.19093907307759}\" \n",
      "['LGB_Tune20', 'LightGBM', LGBMClassifier(colsample_bytree=0.621349280626777, gamma=4.4306889216092165,\n",
      "               learning_rate=0.18225746821028901, max_depth=3,\n",
      "               min_child_weight=4.376800138760103, n_estimators=247,\n",
      "               random_state=42, reg_alpha=1.558894905977845,\n",
      "               reg_lambda=5.174591304825759, subsample=0.7191695497749232,\n",
      "               verbose=-1), 0.9672338241680155, 0.42857142857142855, 0.02551640340218712, 0.048165137614678895, 0.8374229874302953, 0.17732136904584717, 13.19093907307759, 0.968515594157126, 0.47509157509157507, 0.026401765350552414, 0.04997751344902106, 0.837770896382995, 0.1694256365302365, 15.128858084114148]\n",
      "Parameters: {'colsample_bytree': 0.6075746219590927, 'gamma': 4.738233131722017, 'learning_rate': 0.18950631833074022, 'max_depth': 3.0, 'min_child_weight': 3.941025760927062, 'n_estimators': 248.0, 'random_state': 42, 'reg_alpha': 1.6696034693105877, 'reg_lambda': 4.797998961571732, 'subsample': 0.687707749738535, 'verbose': -1}\n",
      "CV Fold: 1                                                                            \n",
      "LightGBM, Val CV1 Tuned: {'event_rate': 0.0018258981444926965, 'acc': 0.9687623371496249, 'roc_auc': 0.8325674367127952, 'pr_auc': 0.17660097606931185, 'recall': 0.031446540880503145, 'precision': 0.5405405405405406, 'f1': 0.05943536404160476, 'lift': 17.222505524392314}\" \n",
      "CV Fold: 2                                                                            \n",
      "LightGBM, Val CV2 Tuned: {'event_rate': 0.0017272009474930913, 'acc': 0.9688610343466245, 'roc_auc': 0.8402510756677984, 'pr_auc': 0.18200201831841645, 'recall': 0.031446540880503145, 'precision': 0.5714285714285714, 'f1': 0.059612518628912065, 'lift': 18.206648697214735}\" \n",
      "CV Fold: 3                                                                            \n",
      "LightGBM, Val CV3 Tuned: {'event_rate': 0.0024180813264903277, 'acc': 0.9679727595736282, 'roc_auc': 0.8351203453415925, 'pr_auc': 0.16471326126130525, 'recall': 0.02830188679245283, 'precision': 0.3673469387755102, 'f1': 0.052554744525547446, 'lift': 11.704274162495187}\" \n",
      "CV Fold: 4                                                                            \n",
      "LightGBM, Val CV4 Tuned: {'event_rate': 0.0014311093564942756, 'acc': 0.968515594157126, 'roc_auc': 0.8367258955661229, 'pr_auc': 0.16598553140415176, 'recall': 0.02197802197802198, 'precision': 0.4827586206896552, 'f1': 0.042042042042042045, 'lift': 15.357332322849565}\" \n",
      "CV Fold: 5                                                                            \n",
      "LightGBM, Val CV5 Tuned: {'event_rate': 0.0017765495459928938, 'acc': 0.9682688511646269, 'roc_auc': 0.8393880246503092, 'pr_auc': 0.1633668188313694, 'recall': 0.023547880690737835, 'precision': 0.4166666666666667, 'f1': 0.044576523031203574, 'lift': 13.254840397697542}\" \n",
      "LigthGBM, OOT Tuned: {'event_rate': 0.0018159567328569738, 'acc': 0.967431210769413, 'roc_auc': 0.8338972212510369, 'pr_auc': 0.17748914665301938, 'recall': 0.026731470230862697, 'precision': 0.4782608695652174, 'f1': 0.05063291139240507, 'lift': 14.720323313434411}\" \n",
      "['LGB_Tune21', 'LightGBM', LGBMClassifier(colsample_bytree=0.6075746219590927, gamma=4.738233131722017,\n",
      "               learning_rate=0.18950631833074022, max_depth=3,\n",
      "               min_child_weight=3.941025760927062, n_estimators=248,\n",
      "               random_state=42, reg_alpha=1.6696034693105877,\n",
      "               reg_lambda=4.797998961571732, subsample=0.687707749738535,\n",
      "               verbose=-1), 0.967431210769413, 0.4782608695652174, 0.026731470230862697, 0.05063291139240507, 0.8338972212510369, 0.17748914665301938, 14.720323313434411, 0.9684761152783261, 0.4757482676201888, 0.027344174244443787, 0.05164423845386198, 0.8368105555877235, 0.17053372117691096, 15.14912022092987]\n",
      "Parameters: {'colsample_bytree': 0.6064554927997677, 'gamma': 4.359326777172865, 'learning_rate': 0.19767790776018068, 'max_depth': 3.0, 'min_child_weight': 4.794590956861854, 'n_estimators': 249.0, 'random_state': 42, 'reg_alpha': 1.44503863346893, 'reg_lambda': 4.3383811825915135, 'subsample': 0.6851475608089955, 'verbose': -1}\n",
      "CV Fold: 1                                                                            \n",
      "LightGBM, Val CV1 Tuned: {'event_rate': 0.001875246742992499, 'acc': 0.9692064745361232, 'roc_auc': 0.8299202429336604, 'pr_auc': 0.17649108842762037, 'recall': 0.03930817610062893, 'precision': 0.6578947368421053, 'f1': 0.07418397626112759, 'lift': 20.961602118503805}\" \n",
      "CV Fold: 2                                                                            \n",
      "LightGBM, Val CV2 Tuned: {'event_rate': 0.001875246742992499, 'acc': 0.9692064745361232, 'roc_auc': 0.8388493751065413, 'pr_auc': 0.1851482406918279, 'recall': 0.03930817610062893, 'precision': 0.6578947368421053, 'f1': 0.07418397626112759, 'lift': 20.961602118503805}\" \n",
      "CV Fold: 3                                                                            \n",
      "LightGBM, Val CV3 Tuned: {'event_rate': 0.0022700355309909197, 'acc': 0.9684168969601263, 'roc_auc': 0.8340458791381328, 'pr_auc': 0.1641378112189747, 'recall': 0.0330188679245283, 'precision': 0.45652173913043476, 'f1': 0.06158357771260997, 'lift': 14.545529122231338}\" \n",
      "CV Fold: 4                                                                            \n",
      "LightGBM, Val CV4 Tuned: {'event_rate': 0.0016778523489932886, 'acc': 0.9683675483616265, 'roc_auc': 0.8337674233561094, 'pr_auc': 0.16467198354947524, 'recall': 0.023547880690737835, 'precision': 0.4411764705882353, 'f1': 0.04470938897168406, 'lift': 14.03453689167975}\" \n",
      "CV Fold: 5                                                                            \n",
      "LightGBM, Val CV5 Tuned: {'event_rate': 0.0017272009474930913, 'acc': 0.9682195025661271, 'roc_auc': 0.8371003836943613, 'pr_auc': 0.15865920624505622, 'recall': 0.02197802197802198, 'precision': 0.4, 'f1': 0.04166666666666668, 'lift': 12.72464678178964}\" \n",
      "LigthGBM, OOT Tuned: {'event_rate': 0.0018159567328569738, 'acc': 0.967352256128854, 'roc_auc': 0.8324624230617979, 'pr_auc': 0.17114299810838146, 'recall': 0.02551640340218712, 'precision': 0.45652173913043476, 'f1': 0.04833141542002301, 'lift': 14.051217708278303}\" \n",
      "['LGB_Tune22', 'LightGBM', LGBMClassifier(colsample_bytree=0.6064554927997677, gamma=4.359326777172865,\n",
      "               learning_rate=0.19767790776018068, max_depth=3,\n",
      "               min_child_weight=4.794590956861854, n_estimators=249,\n",
      "               random_state=42, reg_alpha=1.44503863346893,\n",
      "               reg_lambda=4.3383811825915135, subsample=0.6851475608089955,\n",
      "               verbose=-1), 0.967352256128854, 0.45652173913043476, 0.02551640340218712, 0.04833141542002301, 0.8324624230617979, 0.17114299810838146, 14.051217708278303, 0.9686833793920252, 0.5226975366805762, 0.0314322245589092, 0.05926551717464318, 0.834736660845761, 0.1698216660265909, 16.645583406541668]\n",
      "Parameters: {'colsample_bytree': 0.509677157457534, 'gamma': 4.482785607877912, 'learning_rate': 0.07535024055097546, 'max_depth': 4.0, 'min_child_weight': 3.1076777577600487, 'n_estimators': 248.0, 'random_state': 42, 'reg_alpha': 3.4060003251866213, 'reg_lambda': 5.524686873643636, 'subsample': 0.6751841047184401, 'verbose': -1}\n",
      "CV Fold: 1                                                                            \n",
      "LightGBM, Val CV1 Tuned: {'event_rate': 0.0010856691669956574, 'acc': 0.9691077773391236, 'roc_auc': 0.8367779055206719, 'pr_auc': 0.1784739698539853, 'recall': 0.025157232704402517, 'precision': 0.7272727272727273, 'f1': 0.04863221884498481, 'lift': 23.172098341909663}\" \n",
      "CV Fold: 2                                                                            \n",
      "LightGBM, Val CV2 Tuned: {'event_rate': 0.0008389261744966443, 'acc': 0.9689597315436241, 'roc_auc': 0.8451877083565642, 'pr_auc': 0.18767224760694712, 'recall': 0.018867924528301886, 'precision': 0.7058823529411765, 'f1': 0.036753445635528334, 'lift': 22.49056603773585}\" \n",
      "CV Fold: 3                                                                            \n",
      "LightGBM, Val CV3 Tuned: {'event_rate': 0.0010363205684958546, 'acc': 0.9683675483616265, 'roc_auc': 0.8374412660388895, 'pr_auc': 0.16562362952821053, 'recall': 0.012578616352201259, 'precision': 0.38095238095238093, 'f1': 0.024353120243531205, 'lift': 12.137765798143159}\" \n",
      "CV Fold: 4                                                                            \n",
      "LightGBM, Val CV4 Tuned: {'event_rate': 0.0008882747729964469, 'acc': 0.9686636399526254, 'roc_auc': 0.8395222388919119, 'pr_auc': 0.17695463621929675, 'recall': 0.015698587127158554, 'precision': 0.5555555555555556, 'f1': 0.030534351145038167, 'lift': 17.673120530263386}\" \n",
      "CV Fold: 5                                                                            \n",
      "LightGBM, Val CV5 Tuned: {'event_rate': 0.0010363205684958546, 'acc': 0.9684168969601263, 'roc_auc': 0.8448034653189359, 'pr_auc': 0.16938818178899015, 'recall': 0.0141287284144427, 'precision': 0.42857142857142855, 'f1': 0.027355623100303955, 'lift': 13.633550123346044}\" \n",
      "LigthGBM, OOT Tuned: {'event_rate': 0.0008685010461489874, 'acc': 0.967352256128854, 'roc_auc': 0.8386112323577829, 'pr_auc': 0.17752098504240574, 'recall': 0.010935601458080195, 'precision': 0.4090909090909091, 'f1': 0.021301775147928994, 'lift': 12.591350933392246}\" \n",
      "['LGB_Tune23', 'LightGBM', LGBMClassifier(colsample_bytree=0.509677157457534, gamma=4.482785607877912,\n",
      "               learning_rate=0.07535024055097546, max_depth=4,\n",
      "               min_child_weight=3.1076777577600487, n_estimators=248,\n",
      "               random_state=42, reg_alpha=3.4060003251866213,\n",
      "               reg_lambda=5.524686873643636, subsample=0.6751841047184401,\n",
      "               verbose=-1), 0.967352256128854, 0.4090909090909091, 0.010935601458080195, 0.021301775147928994, 0.8386112323577829, 0.17752098504240574, 12.591350933392246, 0.9687031188314252, 0.5596468890586537, 0.017286217825301382, 0.0335257517938773, 0.8407465168253948, 0.175622532999486, 17.82142016627962]\n",
      "Parameters: {'colsample_bytree': 0.5103488416948477, 'gamma': 1.1361114315394956, 'learning_rate': 0.07145358529343332, 'max_depth': 4.0, 'min_child_weight': 3.076283884148613, 'n_estimators': 231.0, 'random_state': 42, 'reg_alpha': 3.550526947188418, 'reg_lambda': 6.010038117246821, 'subsample': 0.5033734683634077, 'verbose': -1}\n",
      "CV Fold: 1                                                                            \n",
      "LightGBM, Val CV1 Tuned: {'event_rate': 0.0005428345834978287, 'acc': 0.9688610343466245, 'roc_auc': 0.8393732705043366, 'pr_auc': 0.18365910112451764, 'recall': 0.012578616352201259, 'precision': 0.7272727272727273, 'f1': 0.024729520865533233, 'lift': 23.172098341909663}\" \n",
      "CV Fold: 2                                                                            \n",
      "LightGBM, Val CV2 Tuned: {'event_rate': 0.0006908803789972364, 'acc': 0.9689103829451243, 'roc_auc': 0.8451147715431556, 'pr_auc': 0.1913781328059539, 'recall': 0.015723270440251572, 'precision': 0.7142857142857143, 'f1': 0.030769230769230767, 'lift': 22.75831087151842}\" \n",
      "CV Fold: 3                                                                            \n",
      "LightGBM, Val CV3 Tuned: {'event_rate': 0.0009869719699960521, 'acc': 0.9684168969601263, 'roc_auc': 0.8389588003532369, 'pr_auc': 0.17077035349867, 'recall': 0.012578616352201259, 'precision': 0.4, 'f1': 0.024390243902439025, 'lift': 12.744654088050314}\" \n",
      "CV Fold: 4                                                                            \n",
      "LightGBM, Val CV4 Tuned: {'event_rate': 0.0009376233714962495, 'acc': 0.9686142913541256, 'roc_auc': 0.8363922795937004, 'pr_auc': 0.17576504803319912, 'recall': 0.015698587127158554, 'precision': 0.5263157894736842, 'f1': 0.030487804878048776, 'lift': 16.74295629182847}\" \n",
      "CV Fold: 5                                                                            \n",
      "LightGBM, Val CV5 Tuned: {'event_rate': 0.0006415317804974339, 'acc': 0.9686142913541256, 'roc_auc': 0.8438914003624424, 'pr_auc': 0.1728290982160654, 'recall': 0.01098901098901099, 'precision': 0.5384615384615384, 'f1': 0.02153846153846154, 'lift': 17.129332206255285}\" \n",
      "LigthGBM, OOT Tuned: {'event_rate': 0.0007105917650309897, 'acc': 0.9672733014882949, 'roc_auc': 0.8395967017291549, 'pr_auc': 0.1742763465556209, 'recall': 0.007290400972053463, 'precision': 0.3333333333333333, 'f1': 0.01426872770511296, 'lift': 10.259619279060347}\" \n",
      "['LGB_Tune24', 'LightGBM', LGBMClassifier(colsample_bytree=0.5103488416948477, gamma=1.1361114315394956,\n",
      "               learning_rate=0.07145358529343332, max_depth=4,\n",
      "               min_child_weight=3.076283884148613, n_estimators=231,\n",
      "               random_state=42, reg_alpha=3.550526947188418,\n",
      "               reg_lambda=6.010038117246821, subsample=0.5033734683634077,\n",
      "               verbose=-1), 0.9672733014882949, 0.3333333333333333, 0.007290400972053463, 0.01426872770511296, 0.8395967017291549, 0.1742763465556209, 10.259619279060347, 0.9686833793920252, 0.5812671538987327, 0.013513620252164727, 0.026383052390742668, 0.8407461044713743, 0.1788803467356812, 18.50947035991243]\n",
      "Parameters: {'colsample_bytree': 0.5485309899098001, 'gamma': 4.151520019534054, 'learning_rate': 0.07647470939331782, 'max_depth': 4.0, 'min_child_weight': 1.0144072972802172, 'n_estimators': 231.0, 'random_state': 42, 'reg_alpha': 2.883159563794718, 'reg_lambda': 3.9921497567442157, 'subsample': 0.6726485107793235, 'verbose': -1}\n",
      "CV Fold: 1                                                                            \n",
      "LightGBM, Val CV1 Tuned: {'event_rate': 0.0009869719699960521, 'acc': 0.9692064745361232, 'roc_auc': 0.8402923304277166, 'pr_auc': 0.18504712207864432, 'recall': 0.025157232704402517, 'precision': 0.8, 'f1': 0.04878048780487805, 'lift': 25.48930817610063}\" \n",
      "CV Fold: 2                                                                            \n",
      "LightGBM, Val CV2 Tuned: {'event_rate': 0.0009376233714962495, 'acc': 0.9689597315436241, 'roc_auc': 0.8439704125668246, 'pr_auc': 0.19019448139345585, 'recall': 0.020440251572327043, 'precision': 0.6842105263157895, 'f1': 0.03969465648854961, 'lift': 21.800066203243958}\" \n",
      "CV Fold: 3                                                                            \n",
      "LightGBM, Val CV3 Tuned: {'event_rate': 0.0010856691669956574, 'acc': 0.9682195025661271, 'roc_auc': 0.8365554502424337, 'pr_auc': 0.16261310716342783, 'recall': 0.0110062893081761, 'precision': 0.3181818181818182, 'f1': 0.02127659574468085, 'lift': 10.137793024585477}\" \n",
      "CV Fold: 4                                                                            \n",
      "LightGBM, Val CV4 Tuned: {'event_rate': 0.0009376233714962495, 'acc': 0.9686142913541256, 'roc_auc': 0.8414507487722955, 'pr_auc': 0.17449507965906036, 'recall': 0.015698587127158554, 'precision': 0.5263157894736842, 'f1': 0.030487804878048776, 'lift': 16.74295629182847}\" \n",
      "CV Fold: 5                                                                            \n",
      "LightGBM, Val CV5 Tuned: {'event_rate': 0.0011843663639952626, 'acc': 0.9684662455586261, 'roc_auc': 0.8434481254357662, 'pr_auc': 0.1689764885883683, 'recall': 0.01726844583987441, 'precision': 0.4583333333333333, 'f1': 0.033282904689863835, 'lift': 14.580324437467292}\" \n",
      "LigthGBM, OOT Tuned: {'event_rate': 0.0009474556867079863, 'acc': 0.967194346847736, 'roc_auc': 0.8385016145693791, 'pr_auc': 0.17014049400193193, 'recall': 0.009720534629404616, 'precision': 0.3333333333333333, 'f1': 0.018890200708382526, 'lift': 10.259619279060347}\" \n",
      "['LGB_Tune25', 'LightGBM', LGBMClassifier(colsample_bytree=0.5485309899098001, gamma=4.151520019534054,\n",
      "               learning_rate=0.07647470939331782, max_depth=4,\n",
      "               min_child_weight=1.0144072972802172, n_estimators=231,\n",
      "               random_state=42, reg_alpha=2.883159563794718,\n",
      "               reg_lambda=3.9921497567442157, subsample=0.6726485107793235,\n",
      "               verbose=-1), 0.967194346847736, 0.3333333333333333, 0.009720534629404616, 0.018890200708382526, 0.8385016145693791, 0.17014049400193193, 10.259619279060347, 0.9686932491117253, 0.5574082934609251, 0.017914161310387727, 0.03470448992120422, 0.8411434134890075, 0.17626525577659133, 17.750089626645167]\n",
      "Parameters: {'colsample_bytree': 0.561598019743417, 'gamma': 2.484152897010443, 'learning_rate': 0.0703845820368852, 'max_depth': 4.0, 'min_child_weight': 7.018588388259864, 'n_estimators': 215.0, 'random_state': 42, 'reg_alpha': 2.1488686611467904, 'reg_lambda': 6.071705578048837, 'subsample': 0.6502939957149544, 'verbose': -1}\n",
      "CV Fold: 1                                                                            \n",
      "LightGBM, Val CV1 Tuned: {'event_rate': 0.0006908803789972364, 'acc': 0.969009080142124, 'roc_auc': 0.8391240597118992, 'pr_auc': 0.18508194127798047, 'recall': 0.01729559748427673, 'precision': 0.7857142857142857, 'f1': 0.033846153846153845, 'lift': 25.03414195867026}\" \n",
      "CV Fold: 2                                                                            \n",
      "LightGBM, Val CV2 Tuned: {'event_rate': 0.0007895775759968417, 'acc': 0.969009080142124, 'roc_auc': 0.8446482723307608, 'pr_auc': 0.18813087290202551, 'recall': 0.018867924528301886, 'precision': 0.75, 'f1': 0.03680981595092025, 'lift': 23.89622641509434}\" \n",
      "CV Fold: 3                                                                            \n",
      "LightGBM, Val CV3 Tuned: {'event_rate': 0.0008882747729964469, 'acc': 0.9683181997631267, 'roc_auc': 0.8379617168644973, 'pr_auc': 0.17478843590103058, 'recall': 0.009433962264150943, 'precision': 0.3333333333333333, 'f1': 0.01834862385321101, 'lift': 10.620545073375261}\" \n",
      "CV Fold: 4                                                                            \n",
      "LightGBM, Val CV4 Tuned: {'event_rate': 0.0005921831819976313, 'acc': 0.9688610343466245, 'roc_auc': 0.8350585355658542, 'pr_auc': 0.1708031848261839, 'recall': 0.0141287284144427, 'precision': 0.75, 'f1': 0.02773497688751926, 'lift': 23.858712715855575}\" \n",
      "CV Fold: 5                                                                            \n",
      "LightGBM, Val CV5 Tuned: {'event_rate': 0.0009376233714962495, 'acc': 0.9687129885511252, 'roc_auc': 0.8439962602377352, 'pr_auc': 0.17342515099433928, 'recall': 0.01726844583987441, 'precision': 0.5789473684210527, 'f1': 0.033536585365853654, 'lift': 18.417251921011317}\" \n",
      "LigthGBM, OOT Tuned: {'event_rate': 0.0007105917650309897, 'acc': 0.967431210769413, 'roc_auc': 0.8378681516646138, 'pr_auc': 0.17063006886015103, 'recall': 0.009720534629404616, 'precision': 0.4444444444444444, 'f1': 0.019024970273483946, 'lift': 13.679492372080462}\" \n",
      "['LGB_Tune26', 'LightGBM', LGBMClassifier(colsample_bytree=0.561598019743417, gamma=2.484152897010443,\n",
      "               learning_rate=0.0703845820368852, max_depth=4,\n",
      "               min_child_weight=7.018588388259864, n_estimators=215,\n",
      "               random_state=42, reg_alpha=2.1488686611467904,\n",
      "               reg_lambda=6.071705578048837, subsample=0.6502939957149544,\n",
      "               verbose=-1), 0.967431210769413, 0.4444444444444444, 0.009720534629404616, 0.019024970273483946, 0.8378681516646138, 0.17063006886015103, 13.679492372080462, 0.9687820765890249, 0.6395989974937343, 0.015398931706209335, 0.0300552311807316, 0.8401577689421492, 0.17844591718031194, 20.36537561680135]\n",
      "Parameters: {'colsample_bytree': 0.6426240925181109, 'gamma': 1.6241808266693616, 'learning_rate': 0.15366894134940576, 'max_depth': 3.0, 'min_child_weight': 3.048765495602515, 'n_estimators': 240.0, 'random_state': 42, 'reg_alpha': 3.607771417502449, 'reg_lambda': 8.214556889403392, 'subsample': 0.7674305793828461, 'verbose': -1}\n",
      "CV Fold: 1                                                                            \n",
      "LightGBM, Val CV1 Tuned: {'event_rate': 0.0013324121594946703, 'acc': 0.9693545203316226, 'roc_auc': 0.8355771917412296, 'pr_auc': 0.17778594241325063, 'recall': 0.0330188679245283, 'precision': 0.7777777777777778, 'f1': 0.06334841628959276, 'lift': 24.78127183787561}\" \n",
      "CV Fold: 2                                                                            \n",
      "LightGBM, Val CV2 Tuned: {'event_rate': 0.0014311093564942756, 'acc': 0.9689597315436241, 'roc_auc': 0.8416589444164606, 'pr_auc': 0.186353055744861, 'recall': 0.02830188679245283, 'precision': 0.6206896551724138, 'f1': 0.05413533834586467, 'lift': 19.77618737800911}\" \n",
      "CV Fold: 3                                                                            \n",
      "LightGBM, Val CV3 Tuned: {'event_rate': 0.001628503750493486, 'acc': 0.9682688511646269, 'roc_auc': 0.8371472758080164, 'pr_auc': 0.16851528488984752, 'recall': 0.020440251572327043, 'precision': 0.3939393939393939, 'f1': 0.03886397608370703, 'lift': 12.5515532685344}\" \n",
      "CV Fold: 4                                                                            \n",
      "LightGBM, Val CV4 Tuned: {'event_rate': 0.0011350177654954599, 'acc': 0.968515594157126, 'roc_auc': 0.8412529467344628, 'pr_auc': 0.17543070361746327, 'recall': 0.01726844583987441, 'precision': 0.4782608695652174, 'f1': 0.033333333333333326, 'lift': 15.214251586922394}\" \n",
      "CV Fold: 5                                                                            \n",
      "LightGBM, Val CV5 Tuned: {'event_rate': 0.0013817607579944729, 'acc': 0.9682688511646269, 'roc_auc': 0.8413805222501698, 'pr_auc': 0.16321238470039157, 'recall': 0.01726844583987441, 'precision': 0.39285714285714285, 'f1': 0.03308270676691729, 'lift': 12.497420946400538}\" \n",
      "LigthGBM, OOT Tuned: {'event_rate': 0.0014606608503414788, 'acc': 0.9671548695274564, 'roc_auc': 0.8371757400712857, 'pr_auc': 0.17487776125009571, 'recall': 0.01701093560145808, 'precision': 0.3783783783783784, 'f1': 0.03255813953488372, 'lift': 11.646054316771206}\" \n",
      "['LGB_Tune27', 'LightGBM', LGBMClassifier(colsample_bytree=0.6426240925181109, gamma=1.6241808266693616,\n",
      "               learning_rate=0.15366894134940576, max_depth=3,\n",
      "               min_child_weight=3.048765495602515, n_estimators=240,\n",
      "               random_state=42, reg_alpha=3.607771417502449,\n",
      "               reg_lambda=8.214556889403392, subsample=0.7674305793828461,\n",
      "               verbose=-1), 0.9671548695274564, 0.3783783783783784, 0.01701093560145808, 0.03255813953488372, 0.8371757400712857, 0.17487776125009571, 11.646054316771206, 0.9686735096723254, 0.5327049678623891, 0.0232595795938114, 0.04455275416388302, 0.8394033761900678, 0.1742594742731628, 16.96413700354841]\n",
      "Parameters: {'colsample_bytree': 0.512106869661814, 'gamma': 5.366094644977731, 'learning_rate': 0.025545083746388524, 'max_depth': 4.0, 'min_child_weight': 1.1119878869728772, 'n_estimators': 189.0, 'random_state': 42, 'reg_alpha': 0.7426454235605204, 'reg_lambda': 3.86417116932003, 'subsample': 0.7172755688309903, 'verbose': -1}\n",
      "CV Fold: 1                                                                            \n",
      "LightGBM, Val CV1 Tuned: {'event_rate': 4.9348598499802604e-05, 'acc': 0.9686636399526254, 'roc_auc': 0.823215062745686, 'pr_auc': 0.16852504923714445, 'recall': 0.0015723270440251573, 'precision': 1.0, 'f1': 0.0031397174254317113, 'lift': 31.861635220125788}\" \n",
      "CV Fold: 2                                                                            \n",
      "LightGBM, Val CV2 Tuned: {'event_rate': 9.869719699960521e-05, 'acc': 0.9687129885511252, 'roc_auc': 0.8343939010885489, 'pr_auc': 0.17367469104759986, 'recall': 0.0031446540880503146, 'precision': 1.0, 'f1': 0.006269592476489028, 'lift': 31.861635220125788}\" \n",
      "CV Fold: 3                                                                            \n",
      "LightGBM, Val CV3 Tuned: {'event_rate': 0.00019739439399921041, 'acc': 0.9687129885511252, 'roc_auc': 0.8298600830798769, 'pr_auc': 0.15614367504886553, 'recall': 0.0047169811320754715, 'precision': 0.75, 'f1': 0.009375, 'lift': 23.89622641509434}\" \n",
      "CV Fold: 4                                                                            \n",
      "LightGBM, Val CV4 Tuned: {'event_rate': 4.9348598499802604e-05, 'acc': 0.9686142913541256, 'roc_auc': 0.8265160150463924, 'pr_auc': 0.16849290420487936, 'recall': 0.0015698587127158557, 'precision': 1.0, 'f1': 0.0031347962382445144, 'lift': 31.8116169544741}\" \n",
      "CV Fold: 5                                                                            \n",
      "LightGBM, Val CV5 Tuned: {'event_rate': 4.9348598499802604e-05, 'acc': 0.9686142913541256, 'roc_auc': 0.8293456319863093, 'pr_auc': 0.16255092322746564, 'recall': 0.0015698587127158557, 'precision': 1.0, 'f1': 0.0031347962382445144, 'lift': 31.8116169544741}\" \n",
      "LigthGBM, OOT Tuned: {'event_rate': 0.0, 'acc': 0.9675101654099719, 'roc_auc': 0.8256931156062612, 'pr_auc': 0.16191042424790852, 'recall': 0.0, 'precision': 0.0, 'f1': 0.0, 'lift': nan}\" \n",
      "['LGB_Tune28', 'LightGBM', LGBMClassifier(colsample_bytree=0.512106869661814, gamma=5.366094644977731,\n",
      "               learning_rate=0.025545083746388524, max_depth=4,\n",
      "               min_child_weight=1.1119878869728772, n_estimators=189,\n",
      "               random_state=42, reg_alpha=0.7426454235605204,\n",
      "               reg_lambda=3.86417116932003, subsample=0.7172755688309903,\n",
      "               verbose=-1), 0.9675101654099719, 0.0, 0.0, 0.0, 0.8256931156062612, 0.16191042424790852, nan, 0.9686636399526254, 0.95, 0.002514735937916531, 0.005010780475681953, 0.8286661387893627, 0.16587744855319098, 30.248546152858825]\n",
      "Parameters: {'colsample_bytree': 0.5880741858864954, 'gamma': 3.040634041085133, 'learning_rate': 0.14104484512019486, 'max_depth': 3.0, 'min_child_weight': 6.197028311686832, 'n_estimators': 248.0, 'random_state': 42, 'reg_alpha': 2.615582689922801, 'reg_lambda': 6.498677222313898, 'subsample': 0.794679305197233, 'verbose': -1}\n",
      "CV Fold: 1                                                                            \n",
      " 12%|█▏        | 29/250 [32:21<4:48:41, 78.38s/trial, best loss: -0.17752098504240574]"
     ]
    },
    {
     "name": "stderr",
     "output_type": "stream",
     "text": [
      "/opt/conda/lib/python3.10/site-packages/sklearn/metrics/_classification.py:1469: UndefinedMetricWarning: Precision is ill-defined and being set to 0.0 due to no predicted samples. Use `zero_division` parameter to control this behavior.\n",
      "  _warn_prf(average, modifier, msg_start, len(result))\n",
      "\n",
      "/home/msds-pt2025b/jco/term2_acs/final_project/HOME_CREDIT_KAGGLE/notebooks/utils/model_helpers.py:45: RuntimeWarning: invalid value encountered in scalar divide\n",
      "  lift = recall / event_rate\n",
      "\n"
     ]
    },
    {
     "name": "stdout",
     "output_type": "stream",
     "text": [
      "LightGBM, Val CV1 Tuned: {'event_rate': 0.001233714962495065, 'acc': 0.9689597315436241, 'roc_auc': 0.835988297426472, 'pr_auc': 0.17829278269975513, 'recall': 0.025157232704402517, 'precision': 0.64, 'f1': 0.04841149773071105, 'lift': 20.391446540880505}\" \n",
      "CV Fold: 2                                                                            \n",
      "LightGBM, Val CV2 Tuned: {'event_rate': 0.0013817607579944729, 'acc': 0.9691077773391236, 'roc_auc': 0.8410357972758722, 'pr_auc': 0.1891791240872645, 'recall': 0.029874213836477988, 'precision': 0.6785714285714286, 'f1': 0.05722891566265059, 'lift': 21.6203953279425}\" \n",
      "CV Fold: 3                                                                            \n",
      "LightGBM, Val CV3 Tuned: {'event_rate': 0.0015791551519936833, 'acc': 0.9680221081721279, 'roc_auc': 0.8363831415267369, 'pr_auc': 0.17431551522702288, 'recall': 0.015723270440251572, 'precision': 0.3125, 'f1': 0.029940119760479042, 'lift': 9.956761006289309}\" \n",
      "CV Fold: 4                                                                            \n",
      "LightGBM, Val CV4 Tuned: {'event_rate': 0.0015298065534938808, 'acc': 0.9684168969601263, 'roc_auc': 0.8388234929952243, 'pr_auc': 0.17364429706097523, 'recall': 0.02197802197802198, 'precision': 0.45161290322580644, 'f1': 0.04191616766467066, 'lift': 14.366536689117336}\" \n",
      "CV Fold: 5                                                                            \n",
      "LightGBM, Val CV5 Tuned: {'event_rate': 0.0013817607579944729, 'acc': 0.9682688511646269, 'roc_auc': 0.8425708538017384, 'pr_auc': 0.16368268069362527, 'recall': 0.01726844583987441, 'precision': 0.39285714285714285, 'f1': 0.03308270676691729, 'lift': 12.497420946400538}\" \n",
      "LigthGBM, OOT Tuned: {'event_rate': 0.0015001381706209783, 'acc': 0.967115392207177, 'roc_auc': 0.8377903136149557, 'pr_auc': 0.17611148652023184, 'recall': 0.01701093560145808, 'precision': 0.3684210526315789, 'f1': 0.032520325203252036, 'lift': 11.339579203171963}\" \n",
      "['LGB_Tune29', 'LightGBM', LGBMClassifier(colsample_bytree=0.5880741858864954, gamma=3.040634041085133,\n",
      "               learning_rate=0.14104484512019486, max_depth=3,\n",
      "               min_child_weight=6.197028311686832, n_estimators=248,\n",
      "               random_state=42, reg_alpha=2.615582689922801,\n",
      "               reg_lambda=6.498677222313898, subsample=0.794679305197233,\n",
      "               verbose=-1), 0.967115392207177, 0.3684210526315789, 0.01701093560145808, 0.032520325203252036, 0.8377903136149557, 0.17611148652023184, 11.339579203171963, 0.9685550730359257, 0.49510829493087555, 0.022000236959805693, 0.04211588151708572, 0.8389603166052086, 0.17582287995372858, 15.766512102126038]\n",
      "Parameters: {'colsample_bytree': 0.6873571818914767, 'gamma': 21.413637025532484, 'learning_rate': 0.04151003170086393, 'max_depth': 4.0, 'min_child_weight': 19.036013637452406, 'n_estimators': 218.0, 'random_state': 42, 'reg_alpha': 4.0290452848453, 'reg_lambda': 7.561021220180335, 'subsample': 0.6619044458940002, 'verbose': -1}\n",
      "CV Fold: 1                                                                            \n",
      "LightGBM, Val CV1 Tuned: {'event_rate': 0.00024674299249901303, 'acc': 0.9688610343466245, 'roc_auc': 0.8336207548451513, 'pr_auc': 0.17821059031611294, 'recall': 0.007861635220125786, 'precision': 1.0, 'f1': 0.015600624024960999, 'lift': 31.861635220125784}\" \n",
      "CV Fold: 2                                                                            \n",
      "LightGBM, Val CV2 Tuned: {'event_rate': 0.00024674299249901303, 'acc': 0.9687623371496249, 'roc_auc': 0.8423706090516307, 'pr_auc': 0.18278057271306616, 'recall': 0.006289308176100629, 'precision': 0.8, 'f1': 0.0124804992199688, 'lift': 25.48930817610063}\" \n",
      "CV Fold: 3                                                                            \n",
      "LightGBM, Val CV3 Tuned: {'event_rate': 0.00039478878799842083, 'acc': 0.9686142913541256, 'roc_auc': 0.8350991171641589, 'pr_auc': 0.16612497864892908, 'recall': 0.006289308176100629, 'precision': 0.5, 'f1': 0.012422360248447206, 'lift': 15.930817610062894}\" \n",
      "CV Fold: 4                                                                            \n",
      "LightGBM, Val CV4 Tuned: {'event_rate': 0.0003454401894986182, 'acc': 0.9687129885511252, 'roc_auc': 0.8325119842999731, 'pr_auc': 0.17585825180309528, 'recall': 0.007849293563579277, 'precision': 0.7142857142857143, 'f1': 0.015527950310559004, 'lift': 22.72258353891007}\" \n",
      "CV Fold: 5                                                                            \n",
      "LightGBM, Val CV5 Tuned: {'event_rate': 0.0003454401894986182, 'acc': 0.968515594157126, 'roc_auc': 0.8387403889445537, 'pr_auc': 0.1680637977001547, 'recall': 0.004709576138147566, 'precision': 0.42857142857142855, 'f1': 0.009316770186335404, 'lift': 13.633550123346042}\" \n",
      "LigthGBM, OOT Tuned: {'event_rate': 0.00011843196083849829, 'acc': 0.9673917334491334, 'roc_auc': 0.8338174992231069, 'pr_auc': 0.1664880791704294, 'recall': 0.0, 'precision': 0.0, 'f1': 0.0, 'lift': 0.0}\" \n",
      "['LGB_Tune30', 'LightGBM', LGBMClassifier(colsample_bytree=0.6873571818914767, gamma=21.413637025532484,\n",
      "               learning_rate=0.04151003170086393, max_depth=4,\n",
      "               min_child_weight=19.036013637452406, n_estimators=218,\n",
      "               random_state=42, reg_alpha=4.0290452848453,\n",
      "               reg_lambda=7.561021220180335, subsample=0.6619044458940002,\n",
      "               verbose=-1), 0.9673917334491334, 0.0, 0.0, 0.0, 0.8338174992231069, 0.1664880791704294, 0.0, 0.9686932491117253, 0.6885714285714285, 0.006599824254810778, 0.013069640798054283, 0.8364685708610935, 0.1742076382362716, 21.927578933709082]\n",
      "Parameters: {'colsample_bytree': 0.7725561430572387, 'gamma': 6.231405373635697, 'learning_rate': 0.0880267291556983, 'max_depth': 10.0, 'min_child_weight': 2.6461589954380926, 'n_estimators': 176.0, 'random_state': 42, 'reg_alpha': 0.9132953070749651, 'reg_lambda': 5.58712129558683, 'subsample': 0.5093127605782584, 'verbose': -1}\n",
      "CV Fold: 1                                                                            \n",
      "LightGBM, Val CV1 Tuned: {'event_rate': 0.0011350177654954599, 'acc': 0.9686636399526254, 'roc_auc': 0.8336931709674152, 'pr_auc': 0.16572324612148706, 'recall': 0.018867924528301886, 'precision': 0.5217391304347826, 'f1': 0.036418816388467376, 'lift': 16.62346185397867}\" \n",
      "CV Fold: 2                                                                            \n",
      "LightGBM, Val CV2 Tuned: {'event_rate': 0.0011843663639952626, 'acc': 0.9688116857481247, 'roc_auc': 0.8409559312649239, 'pr_auc': 0.1796090368672125, 'recall': 0.0220125786163522, 'precision': 0.5833333333333334, 'f1': 0.04242424242424242, 'lift': 18.585953878406706}\" \n",
      "CV Fold: 3                                                                            \n",
      "LightGBM, Val CV3 Tuned: {'event_rate': 0.0017272009474930913, 'acc': 0.9683675483616265, 'roc_auc': 0.8332513845578067, 'pr_auc': 0.16337440534245615, 'recall': 0.02358490566037736, 'precision': 0.42857142857142855, 'f1': 0.04470938897168406, 'lift': 13.654986522911052}\" \n",
      "CV Fold: 4                                                                            \n",
      "LightGBM, Val CV4 Tuned: {'event_rate': 0.0010856691669956574, 'acc': 0.9684662455586261, 'roc_auc': 0.8365516090151978, 'pr_auc': 0.16907405110913304, 'recall': 0.015698587127158554, 'precision': 0.45454545454545453, 'f1': 0.030349013657056143, 'lift': 14.459825888397315}\" \n",
      "CV Fold: 5                                                                            \n",
      "LightGBM, Val CV5 Tuned: {'event_rate': 0.0009376233714962495, 'acc': 0.9684168969601263, 'roc_auc': 0.8445926257832597, 'pr_auc': 0.1687973629707972, 'recall': 0.012558869701726845, 'precision': 0.42105263157894735, 'f1': 0.024390243902439025, 'lift': 13.394365033462778}\" \n",
      "LigthGBM, OOT Tuned: {'event_rate': 0.0012237969286644822, 'acc': 0.9673127788085745, 'roc_auc': 0.8374837209403788, 'pr_auc': 0.17225907565255277, 'recall': 0.015795868772782502, 'precision': 0.41935483870967744, 'f1': 0.03044496487119438, 'lift': 12.907262963979148}\" \n",
      "['LGB_Tune31', 'LightGBM', LGBMClassifier(colsample_bytree=0.7725561430572387, gamma=6.231405373635697,\n",
      "               learning_rate=0.0880267291556983, max_depth=10,\n",
      "               min_child_weight=2.6461589954380926, n_estimators=176,\n",
      "               random_state=42, reg_alpha=0.9132953070749651,\n",
      "               reg_lambda=5.58712129558683, subsample=0.5093127605782584,\n",
      "               verbose=-1), 0.9673127788085745, 0.41935483870967744, 0.015795868772782502, 0.03044496487119438, 0.8374837209403788, 0.17225907565255277, 12.907262963979148, 0.9685452033162258, 0.4818483956927893, 0.01854457312678337, 0.035658341068777806, 0.8378089443177206, 0.1693156204822172, 15.343718635431305]\n",
      "Parameters: {'colsample_bytree': 0.5445266509837774, 'gamma': 98.79060022656621, 'learning_rate': 0.05521488884943971, 'max_depth': 3.0, 'min_child_weight': 3.683252253246134, 'n_estimators': 237.0, 'random_state': 42, 'reg_alpha': 5.09208917774119, 'reg_lambda': 4.928927313722362, 'subsample': 0.7041337119867727, 'verbose': -1}\n",
      "CV Fold: 1                                                                            \n",
      "LightGBM, Val CV1 Tuned: {'event_rate': 0.00029609159099881565, 'acc': 0.9688116857481247, 'roc_auc': 0.8342894023811446, 'pr_auc': 0.18112115060473266, 'recall': 0.007861635220125786, 'precision': 0.8333333333333334, 'f1': 0.01557632398753894, 'lift': 26.551362683438153}\" \n",
      "CV Fold: 2                                                                            \n",
      "LightGBM, Val CV2 Tuned: {'event_rate': 0.0003454401894986182, 'acc': 0.9688610343466245, 'roc_auc': 0.8422739607645603, 'pr_auc': 0.1827335105546844, 'recall': 0.009433962264150943, 'precision': 0.8571428571428571, 'f1': 0.018662519440124415, 'lift': 27.309973045822105}\" \n",
      "CV Fold: 3                                                                            \n",
      "LightGBM, Val CV3 Tuned: {'event_rate': 0.0004934859849980261, 'acc': 0.9687129885511252, 'roc_auc': 0.8359731573301137, 'pr_auc': 0.16726812621177614, 'recall': 0.009433962264150943, 'precision': 0.6, 'f1': 0.018575851393188854, 'lift': 19.11698113207547}\" \n",
      "CV Fold: 4                                                                            \n",
      "LightGBM, Val CV4 Tuned: {'event_rate': 0.0003454401894986182, 'acc': 0.9687129885511252, 'roc_auc': 0.834668610400292, 'pr_auc': 0.17052651411143666, 'recall': 0.007849293563579277, 'precision': 0.7142857142857143, 'f1': 0.015527950310559004, 'lift': 22.72258353891007}\" \n",
      "CV Fold: 5                                                                            \n",
      "LightGBM, Val CV5 Tuned: {'event_rate': 0.0004934859849980261, 'acc': 0.9685649427556258, 'roc_auc': 0.8386488865057018, 'pr_auc': 0.1665889958568531, 'recall': 0.007849293563579277, 'precision': 0.5, 'f1': 0.015455950540958266, 'lift': 15.905808477237047}\" \n",
      "LigthGBM, OOT Tuned: {'event_rate': 0.00015790928111799772, 'acc': 0.967352256128854, 'roc_auc': 0.8324878071900939, 'pr_auc': 0.16733072741506796, 'recall': 0.0, 'precision': 0.0, 'f1': 0.0, 'lift': 0.0}\" \n",
      "['LGB_Tune32', 'LightGBM', LGBMClassifier(colsample_bytree=0.5445266509837774, gamma=98.79060022656621,\n",
      "               learning_rate=0.05521488884943971, max_depth=3,\n",
      "               min_child_weight=3.683252253246134, n_estimators=237,\n",
      "               random_state=42, reg_alpha=5.09208917774119,\n",
      "               reg_lambda=4.928927313722362, subsample=0.7041337119867727,\n",
      "               verbose=-1), 0.967352256128854, 0.0, 0.0, 0.0, 0.8324878071900939, 0.16733072741506796, 0.0, 0.9687327279905251, 0.700952380952381, 0.008485629375117246, 0.016759719134473893, 0.8371708034763625, 0.17364765946789662, 22.32134177549657]\n",
      "Parameters: {'colsample_bytree': 0.694520217665894, 'gamma': 3.246767104726063, 'learning_rate': 0.11785248625931855, 'max_depth': 4.0, 'min_child_weight': 1.3247805537259598, 'n_estimators': 94.0, 'random_state': 42, 'reg_alpha': 3.1599141723933535, 'reg_lambda': 3.6671842949509035, 'subsample': 0.7656375048788471, 'verbose': -1}\n",
      "CV Fold: 1                                                                            \n",
      "LightGBM, Val CV1 Tuned: {'event_rate': 0.0006908803789972364, 'acc': 0.969009080142124, 'roc_auc': 0.8317602853323388, 'pr_auc': 0.1694066266631692, 'recall': 0.01729559748427673, 'precision': 0.7857142857142857, 'f1': 0.033846153846153845, 'lift': 25.03414195867026}\" \n",
      "CV Fold: 2                                                                            \n",
      "LightGBM, Val CV2 Tuned: {'event_rate': 0.0006908803789972364, 'acc': 0.969009080142124, 'roc_auc': 0.8416160875299438, 'pr_auc': 0.18282907820808963, 'recall': 0.01729559748427673, 'precision': 0.7857142857142857, 'f1': 0.033846153846153845, 'lift': 25.03414195867026}\" \n",
      "CV Fold: 3                                                                            \n",
      "LightGBM, Val CV3 Tuned: {'event_rate': 0.0010363205684958546, 'acc': 0.9684662455586261, 'roc_auc': 0.8363755714785577, 'pr_auc': 0.17121716431957787, 'recall': 0.014150943396226415, 'precision': 0.42857142857142855, 'f1': 0.027397260273972605, 'lift': 13.654986522911052}\" \n",
      "CV Fold: 4                                                                            \n",
      "LightGBM, Val CV4 Tuned: {'event_rate': 0.00044413738649822345, 'acc': 0.9687129885511252, 'roc_auc': 0.832603366761851, 'pr_auc': 0.17312280459325824, 'recall': 0.009419152276295133, 'precision': 0.6666666666666666, 'f1': 0.018575851393188854, 'lift': 21.207744636316065}\" \n",
      "CV Fold: 5                                                                            \n",
      "LightGBM, Val CV5 Tuned: {'event_rate': 0.0010363205684958546, 'acc': 0.9683181997631267, 'roc_auc': 0.8376043669698912, 'pr_auc': 0.16389948700800477, 'recall': 0.012558869701726845, 'precision': 0.38095238095238093, 'f1': 0.0243161094224924, 'lift': 12.118711220752038}\" \n",
      "LigthGBM, OOT Tuned: {'event_rate': 0.0009869330069874856, 'acc': 0.9673127788085745, 'roc_auc': 0.8337009404621221, 'pr_auc': 0.16476091119708675, 'recall': 0.012150668286755772, 'precision': 0.4, 'f1': 0.02358490566037736, 'lift': 12.31154313487242}\" \n",
      "['LGB_Tune33', 'LightGBM', LGBMClassifier(colsample_bytree=0.694520217665894, gamma=3.246767104726063,\n",
      "               learning_rate=0.11785248625931855, max_depth=4,\n",
      "               min_child_weight=1.3247805537259598, n_estimators=94,\n",
      "               random_state=42, reg_alpha=3.1599141723933535,\n",
      "               reg_lambda=3.6671842949509035, subsample=0.7656375048788471,\n",
      "               verbose=-1), 0.9673127788085745, 0.4, 0.012150668286755772, 0.02358490566037736, 0.8337009404621221, 0.16476091119708675, 12.31154313487242, 0.9687031188314252, 0.6095238095238095, 0.014144032068560372, 0.027596305756392308, 0.8359919356145165, 0.17209503215841995, 19.40994525946393]\n",
      "Parameters: {'colsample_bytree': 0.652678371310516, 'gamma': 1.6507756972139864, 'learning_rate': 0.04069197189792632, 'max_depth': 5.0, 'min_child_weight': 7.750692917523801, 'n_estimators': 162.0, 'random_state': 42, 'reg_alpha': 2.0960905789283264, 'reg_lambda': 5.53408716283002, 'subsample': 0.6273764115227595, 'verbose': -1}\n",
      "CV Fold: 1                                                                            \n",
      "LightGBM, Val CV1 Tuned: {'event_rate': 0.00029609159099881565, 'acc': 0.9687129885511252, 'roc_auc': 0.8328126421887357, 'pr_auc': 0.17016073851217994, 'recall': 0.006289308176100629, 'precision': 0.6666666666666666, 'f1': 0.012461059190031154, 'lift': 21.241090146750523}\" \n",
      "CV Fold: 2                                                                            \n",
      "LightGBM, Val CV2 Tuned: {'event_rate': 0.00029609159099881565, 'acc': 0.9689103829451243, 'roc_auc': 0.8425633448814618, 'pr_auc': 0.1882772479572771, 'recall': 0.009433962264150943, 'precision': 1.0, 'f1': 0.018691588785046728, 'lift': 31.861635220125784}\" \n",
      "CV Fold: 3                                                                            \n",
      "LightGBM, Val CV3 Tuned: {'event_rate': 0.0004934859849980261, 'acc': 0.9687129885511252, 'roc_auc': 0.8350377557154265, 'pr_auc': 0.16683979932900242, 'recall': 0.009433962264150943, 'precision': 0.6, 'f1': 0.018575851393188854, 'lift': 19.11698113207547}\" \n",
      "CV Fold: 4                                                                            \n",
      "LightGBM, Val CV4 Tuned: {'event_rate': 0.00019739439399921041, 'acc': 0.9686636399526254, 'roc_auc': 0.8322781891699346, 'pr_auc': 0.17090612297960925, 'recall': 0.004709576138147566, 'precision': 0.75, 'f1': 0.009360374414976598, 'lift': 23.85871271585557}\" \n",
      "CV Fold: 5                                                                            \n",
      "LightGBM, Val CV5 Tuned: {'event_rate': 0.0003454401894986182, 'acc': 0.9686142913541256, 'roc_auc': 0.8402691355475057, 'pr_auc': 0.17001900147006643, 'recall': 0.006279434850863423, 'precision': 0.5714285714285714, 'f1': 0.012422360248447206, 'lift': 18.178066831128056}\" \n",
      "LigthGBM, OOT Tuned: {'event_rate': 0.00019738660139749715, 'acc': 0.9674706880896925, 'roc_auc': 0.8336456357841642, 'pr_auc': 0.16497698005548933, 'recall': 0.002430133657351154, 'precision': 0.4, 'f1': 0.004830917874396134, 'lift': 12.311543134872416}\" \n",
      "['LGB_Tune34', 'LightGBM', LGBMClassifier(colsample_bytree=0.652678371310516, gamma=1.6507756972139864,\n",
      "               learning_rate=0.04069197189792632, max_depth=5,\n",
      "               min_child_weight=7.750692917523801, n_estimators=162,\n",
      "               random_state=42, reg_alpha=2.0960905789283264,\n",
      "               reg_lambda=5.53408716283002, subsample=0.6273764115227595,\n",
      "               verbose=-1), 0.9674706880896925, 0.4, 0.002430133657351154, 0.004830917874396134, 0.8336456357841642, 0.16497698005548933, 12.311543134872416, 0.968722858270825, 0.7176190476190476, 0.0072292487386827016, 0.014302246806338107, 0.8365922135006129, 0.17324058204962703, 22.851297209187084]\n",
      "Parameters: {'colsample_bytree': 0.6249267347964778, 'gamma': 19.198556875138383, 'learning_rate': 0.021293097926941913, 'max_depth': 8.0, 'min_child_weight': 1.9393190514751617, 'n_estimators': 209.0, 'random_state': 42, 'reg_alpha': 4.018876302574011, 'reg_lambda': 7.342938090883255, 'subsample': 0.7429862393612598, 'verbose': -1}\n",
      "CV Fold: 1                                                                            \n",
      "LightGBM, Val CV1 Tuned: {'event_rate': 9.869719699960521e-05, 'acc': 0.9686142913541256, 'roc_auc': 0.8287852163447674, 'pr_auc': 0.16413704996248668, 'recall': 0.0015723270440251573, 'precision': 0.5, 'f1': 0.003134796238244514, 'lift': 15.930817610062894}\" \n",
      "CV Fold: 2                                                                            \n",
      "LightGBM, Val CV2 Tuned: {'event_rate': 9.869719699960521e-05, 'acc': 0.9687129885511252, 'roc_auc': 0.8384113937476049, 'pr_auc': 0.17914920769591583, 'recall': 0.0031446540880503146, 'precision': 1.0, 'f1': 0.006269592476489028, 'lift': 31.861635220125788}\" \n",
      "CV Fold: 3                                                                            \n",
      "LightGBM, Val CV3 Tuned: {'event_rate': 0.00019739439399921041, 'acc': 0.9687129885511252, 'roc_auc': 0.8338416079967905, 'pr_auc': 0.16447158849411042, 'recall': 0.0047169811320754715, 'precision': 0.75, 'f1': 0.009375, 'lift': 23.89622641509434}\" \n",
      "CV Fold: 4                                                                            \n",
      "LightGBM, Val CV4 Tuned: {'event_rate': 4.9348598499802604e-05, 'acc': 0.9686142913541256, 'roc_auc': 0.8309805182189434, 'pr_auc': 0.16790988961089046, 'recall': 0.0015698587127158557, 'precision': 1.0, 'f1': 0.0031347962382445144, 'lift': 31.8116169544741}\" \n",
      "CV Fold: 5                                                                            \n",
      "LightGBM, Val CV5 Tuned: {'event_rate': 4.9348598499802604e-05, 'acc': 0.9686142913541256, 'roc_auc': 0.8374536758905231, 'pr_auc': 0.17059165642049823, 'recall': 0.0015698587127158557, 'precision': 1.0, 'f1': 0.0031347962382445144, 'lift': 31.8116169544741}\" \n",
      "LigthGBM, OOT Tuned: {'event_rate': 7.895464055899886e-05, 'acc': 0.9675101654099719, 'roc_auc': 0.830899762241942, 'pr_auc': 0.16041230147422997, 'recall': 0.001215066828675577, 'precision': 0.5, 'f1': 0.0024242424242424242, 'lift': 15.38942891859052}\" \n",
      "['LGB_Tune35', 'LightGBM', LGBMClassifier(colsample_bytree=0.6249267347964778, gamma=19.198556875138383,\n",
      "               learning_rate=0.021293097926941913, max_depth=8,\n",
      "               min_child_weight=1.9393190514751617, n_estimators=209,\n",
      "               random_state=42, reg_alpha=4.018876302574011,\n",
      "               reg_lambda=7.342938090883255, subsample=0.7429862393612598,\n",
      "               verbose=-1), 0.9675101654099719, 0.5, 0.001215066828675577, 0.0024242424242424242, 0.830899762241942, 0.16041230147422997, 15.38942891859052, 0.9686537702329254, 0.85, 0.002514735937916531, 0.005009796238244514, 0.833894482439726, 0.16925187843678033, 27.062382630846248]\n",
      "Parameters: {'colsample_bytree': 0.5014143268329834, 'gamma': 5.811805014467415, 'learning_rate': 0.16331431267928473, 'max_depth': 10.0, 'min_child_weight': 5.279970982232421, 'n_estimators': 224.0, 'random_state': 42, 'reg_alpha': 1.3931245350286638, 'reg_lambda': 1.4189115989433403, 'subsample': 0.5279268739646596, 'verbose': -1}\n",
      "CV Fold: 1                                                                            \n",
      "LightGBM, Val CV1 Tuned: {'event_rate': 0.0023193841294907223, 'acc': 0.9681701539676273, 'roc_auc': 0.8162722871831154, 'pr_auc': 0.1499225952091798, 'recall': 0.029874213836477988, 'precision': 0.40425531914893614, 'f1': 0.05563689604685212, 'lift': 12.880235514518937}\" \n",
      "CV Fold: 2                                                                            \n",
      "LightGBM, Val CV2 Tuned: {'event_rate': 0.0022700355309909197, 'acc': 0.9683181997631267, 'roc_auc': 0.8238923217121479, 'pr_auc': 0.1615669296474341, 'recall': 0.031446540880503145, 'precision': 0.43478260869565216, 'f1': 0.05865102639296187, 'lift': 13.85288487831556}\" \n",
      "CV Fold: 3                                                                            \n",
      "LightGBM, Val CV3 Tuned: {'event_rate': 0.003207658902487169, 'acc': 0.9682688511646269, 'roc_auc': 0.8214870490494262, 'pr_auc': 0.1561615851393632, 'recall': 0.04559748427672956, 'precision': 0.4461538461538462, 'f1': 0.08273894436519258, 'lift': 14.215191098209965}\" \n",
      "CV Fold: 4                                                                            \n",
      "LightGBM, Val CV4 Tuned: {'event_rate': 0.0020232925384919068, 'acc': 0.9682195025661271, 'roc_auc': 0.8123220991427325, 'pr_auc': 0.1447326454614713, 'recall': 0.026687598116169546, 'precision': 0.4146341463414634, 'f1': 0.05014749262536873, 'lift': 13.190182639659993}\" \n",
      "CV Fold: 5                                                                            \n",
      "LightGBM, Val CV5 Tuned: {'event_rate': 0.0020726411369917093, 'acc': 0.9677753651796289, 'roc_auc': 0.818562021576819, 'pr_auc': 0.13931779408966008, 'recall': 0.02040816326530612, 'precision': 0.30952380952380953, 'f1': 0.038291605301914576, 'lift': 9.84645286686103}\" \n",
      "LigthGBM, OOT Tuned: {'event_rate': 0.002131775295092969, 'acc': 0.967115392207177, 'roc_auc': 0.8241433699532436, 'pr_auc': 0.1654502687853479, 'recall': 0.026731470230862697, 'precision': 0.4074074074074074, 'f1': 0.050171037628278216, 'lift': 12.539534674407093}\" \n",
      "['LGB_Tune36', 'LightGBM', LGBMClassifier(colsample_bytree=0.5014143268329834, gamma=5.811805014467415,\n",
      "               learning_rate=0.16331431267928473, max_depth=10,\n",
      "               min_child_weight=5.279970982232421, n_estimators=224,\n",
      "               random_state=42, reg_alpha=1.3931245350286638,\n",
      "               reg_lambda=1.4189115989433403, subsample=0.5279268739646596,\n",
      "               verbose=-1), 0.967115392207177, 0.4074074074074074, 0.026731470230862697, 0.050171037628278216, 0.8241433699532436, 0.1654502687853479, 12.539534674407093, 0.9681504145282274, 0.4018699459727415, 0.030802800075037273, 0.05709319294645797, 0.818507155732848, 0.1503403099094217, 12.796989399513098]\n",
      "Parameters: {'colsample_bytree': 0.6992342442511004, 'gamma': 3.234409672434984, 'learning_rate': 0.06125903103262453, 'max_depth': 3.0, 'min_child_weight': 9.543172515645983, 'n_estimators': 192.0, 'random_state': 42, 'reg_alpha': 8.546909574864817, 'reg_lambda': 8.140381559802009, 'subsample': 0.5657732332020389, 'verbose': -1}\n",
      "CV Fold: 1                                                                            \n",
      "LightGBM, Val CV1 Tuned: {'event_rate': 0.0003454401894986182, 'acc': 0.9688610343466245, 'roc_auc': 0.8314797529648954, 'pr_auc': 0.175606167297105, 'recall': 0.009433962264150943, 'precision': 0.8571428571428571, 'f1': 0.018662519440124415, 'lift': 27.309973045822105}\" \n",
      "CV Fold: 2                                                                            \n",
      "LightGBM, Val CV2 Tuned: {'event_rate': 0.00024674299249901303, 'acc': 0.9687623371496249, 'roc_auc': 0.8384029024766314, 'pr_auc': 0.18296037094509676, 'recall': 0.006289308176100629, 'precision': 0.8, 'f1': 0.0124804992199688, 'lift': 25.48930817610063}\" \n",
      "CV Fold: 3                                                                            \n",
      "LightGBM, Val CV3 Tuned: {'event_rate': 0.00039478878799842083, 'acc': 0.9687129885511252, 'roc_auc': 0.8329620805472352, 'pr_auc': 0.1631672772411827, 'recall': 0.007861635220125786, 'precision': 0.625, 'f1': 0.015527950310559004, 'lift': 19.913522012578618}\" \n",
      "CV Fold: 4                                                                            \n",
      "LightGBM, Val CV4 Tuned: {'event_rate': 0.00019739439399921041, 'acc': 0.9687623371496249, 'roc_auc': 0.8314187941050353, 'pr_auc': 0.1729745569951582, 'recall': 0.006279434850863423, 'precision': 1.0, 'f1': 0.0124804992199688, 'lift': 31.8116169544741}\" \n",
      "CV Fold: 5                                                                            \n",
      "LightGBM, Val CV5 Tuned: {'event_rate': 0.00039478878799842083, 'acc': 0.9687623371496249, 'roc_auc': 0.8363783222723895, 'pr_auc': 0.16755197317556758, 'recall': 0.009419152276295133, 'precision': 0.75, 'f1': 0.018604651162790697, 'lift': 23.85871271585557}\" \n",
      "LigthGBM, OOT Tuned: {'event_rate': 0.00015790928111799772, 'acc': 0.967352256128854, 'roc_auc': 0.829396521105217, 'pr_auc': 0.15998228276160922, 'recall': 0.0, 'precision': 0.0, 'f1': 0.0, 'lift': 0.0}\" \n",
      "['LGB_Tune37', 'LightGBM', LGBMClassifier(colsample_bytree=0.6992342442511004, gamma=3.234409672434984,\n",
      "               learning_rate=0.06125903103262453, max_depth=3,\n",
      "               min_child_weight=9.543172515645983, n_estimators=192,\n",
      "               random_state=42, reg_alpha=8.546909574864817,\n",
      "               reg_lambda=8.140381559802009, subsample=0.5657732332020389,\n",
      "               verbose=-1), 0.967352256128854, 0.0, 0.0, 0.0, 0.829396521105217, 0.15998228276160922, 0.0, 0.968772206869325, 0.8064285714285713, 0.007856698557507183, 0.015551223870682343, 0.8341283704732373, 0.17245206913082206, 25.676626580966207]\n",
      "Parameters: {'colsample_bytree': 0.5773256300342998, 'gamma': 1.5318125013433155, 'learning_rate': 0.12874207719319988, 'max_depth': 4.0, 'min_child_weight': 15.180453382383856, 'n_estimators': 116.0, 'random_state': 42, 'reg_alpha': 0.5088699610667466, 'reg_lambda': 6.312326015753967, 'subsample': 0.6310197699388639, 'verbose': -1}\n",
      "CV Fold: 1                                                                            \n",
      "LightGBM, Val CV1 Tuned: {'event_rate': 0.0009869719699960521, 'acc': 0.9692064745361232, 'roc_auc': 0.836878599177404, 'pr_auc': 0.179202322626836, 'recall': 0.025157232704402517, 'precision': 0.8, 'f1': 0.04878048780487805, 'lift': 25.48930817610063}\" \n",
      "CV Fold: 2                                                                            \n",
      "LightGBM, Val CV2 Tuned: {'event_rate': 0.0010363205684958546, 'acc': 0.9688610343466245, 'roc_auc': 0.8415649796914434, 'pr_auc': 0.17877655210856835, 'recall': 0.020440251572327043, 'precision': 0.6190476190476191, 'f1': 0.0395738203957382, 'lift': 19.72386942198263}\" \n",
      "CV Fold: 3                                                                            \n",
      "LightGBM, Val CV3 Tuned: {'event_rate': 0.0010363205684958546, 'acc': 0.9683675483616265, 'roc_auc': 0.8339883627932372, 'pr_auc': 0.16964352969109003, 'recall': 0.012578616352201259, 'precision': 0.38095238095238093, 'f1': 0.024353120243531205, 'lift': 12.137765798143159}\" \n",
      "CV Fold: 4                                                                            \n",
      "LightGBM, Val CV4 Tuned: {'event_rate': 0.0006415317804974339, 'acc': 0.968515594157126, 'roc_auc': 0.833402613370442, 'pr_auc': 0.16446435698395429, 'recall': 0.009419152276295133, 'precision': 0.46153846153846156, 'f1': 0.01846153846153846, 'lift': 14.682284748218812}\" \n",
      "CV Fold: 5                                                                            \n",
      "LightGBM, Val CV5 Tuned: {'event_rate': 0.0008882747729964469, 'acc': 0.9683675483616265, 'roc_auc': 0.8417458921283828, 'pr_auc': 0.17134977267409754, 'recall': 0.01098901098901099, 'precision': 0.3888888888888889, 'f1': 0.021374045801526718, 'lift': 12.371184371184372}\" \n",
      "LigthGBM, OOT Tuned: {'event_rate': 0.0007895464055899886, 'acc': 0.967352256128854, 'roc_auc': 0.8358263654231682, 'pr_auc': 0.1719490404787479, 'recall': 0.009720534629404616, 'precision': 0.4, 'f1': 0.018979833926453138, 'lift': 12.311543134872416}\" \n",
      "['LGB_Tune38', 'LightGBM', LGBMClassifier(colsample_bytree=0.5773256300342998, gamma=1.5318125013433155,\n",
      "               learning_rate=0.12874207719319988, max_depth=4,\n",
      "               min_child_weight=15.180453382383856, n_estimators=116,\n",
      "               random_state=42, reg_alpha=0.5088699610667466,\n",
      "               reg_lambda=6.312326015753967, subsample=0.6310197699388639,\n",
      "               verbose=-1), 0.967352256128854, 0.4, 0.009720534629404616, 0.018979833926453138, 0.8358263654231682, 0.1719490404787479, 12.311543134872416, 0.9686636399526254, 0.53008547008547, 0.015716852778847386, 0.030508602541442525, 0.8375160894321819, 0.17268730681690925, 16.88088250312592]\n",
      "Parameters: {'colsample_bytree': 0.5433943951689475, 'gamma': 2.1939577749733945, 'learning_rate': 0.10156854552649366, 'max_depth': 6.0, 'min_child_weight': 2.502545560168505, 'n_estimators': 77.0, 'random_state': 42, 'reg_alpha': 2.386666570446962, 'reg_lambda': 2.721525744224535, 'subsample': 0.8043987624260589, 'verbose': -1}\n",
      "CV Fold: 1                                                                            \n",
      "LightGBM, Val CV1 Tuned: {'event_rate': 0.0009376233714962495, 'acc': 0.9690584287406238, 'roc_auc': 0.836355905374558, 'pr_auc': 0.17888851072425513, 'recall': 0.0220125786163522, 'precision': 0.7368421052631579, 'f1': 0.042748091603053436, 'lift': 23.476994372724263}\" \n",
      "CV Fold: 2                                                                            \n",
      "LightGBM, Val CV2 Tuned: {'event_rate': 0.0004934859849980261, 'acc': 0.9689103829451243, 'roc_auc': 0.8415588115040381, 'pr_auc': 0.17942744636772678, 'recall': 0.012578616352201259, 'precision': 0.8, 'f1': 0.02476780185758514, 'lift': 25.48930817610063}\" \n",
      "CV Fold: 3                                                                            \n",
      "LightGBM, Val CV3 Tuned: {'event_rate': 0.0008882747729964469, 'acc': 0.9684168969601263, 'roc_auc': 0.8346392267239843, 'pr_auc': 0.16571494896036681, 'recall': 0.0110062893081761, 'precision': 0.3888888888888889, 'f1': 0.021406727828746173, 'lift': 12.390635918937805}\" \n",
      "CV Fold: 4                                                                            \n",
      "LightGBM, Val CV4 Tuned: {'event_rate': 0.0009376233714962495, 'acc': 0.9686142913541256, 'roc_auc': 0.8351852312504185, 'pr_auc': 0.16811368141433247, 'recall': 0.015698587127158554, 'precision': 0.5263157894736842, 'f1': 0.030487804878048776, 'lift': 16.74295629182847}\" \n",
      "CV Fold: 5                                                                            \n",
      "LightGBM, Val CV5 Tuned: {'event_rate': 0.0006908803789972364, 'acc': 0.9684662455586261, 'roc_auc': 0.8364587468373069, 'pr_auc': 0.16334042819689476, 'recall': 0.009419152276295133, 'precision': 0.42857142857142855, 'f1': 0.018433179723502304, 'lift': 13.633550123346042}\" \n",
      "LigthGBM, OOT Tuned: {'event_rate': 0.0007500690853104892, 'acc': 0.9673917334491334, 'roc_auc': 0.8319116073091217, 'pr_auc': 0.16214827032703924, 'recall': 0.009720534629404616, 'precision': 0.42105263157894735, 'f1': 0.01900237529691211, 'lift': 12.959519089339386}\" \n",
      "['LGB_Tune39', 'LightGBM', LGBMClassifier(colsample_bytree=0.5433943951689475, gamma=2.1939577749733945,\n",
      "               learning_rate=0.10156854552649366, max_depth=6,\n",
      "               min_child_weight=2.502545560168505, n_estimators=77,\n",
      "               random_state=42, reg_alpha=2.386666570446962,\n",
      "               reg_lambda=2.721525744224535, subsample=0.8043987624260589,\n",
      "               verbose=-1), 0.9673917334491334, 0.42105263157894735, 0.009720534629404616, 0.01900237529691211, 0.8319116073091217, 0.16214827032703924, 12.959519089339386, 0.9686932491117253, 0.5761236424394318, 0.014143044736036647, 0.027568721178187167, 0.8368395843380612, 0.1710970031327152, 18.34668897658744]\n",
      "Parameters: {'colsample_bytree': 0.7927070771975783, 'gamma': 13.599771840868163, 'learning_rate': 0.08713536405414503, 'max_depth': 4.0, 'min_child_weight': 1.7348295317992029, 'n_estimators': 171.0, 'random_state': 42, 'reg_alpha': 9.80797293465009, 'reg_lambda': 4.470038132320865, 'subsample': 0.6934981153124884, 'verbose': -1}\n",
      "CV Fold: 1                                                                            \n",
      "LightGBM, Val CV1 Tuned: {'event_rate': 0.0005921831819976313, 'acc': 0.969009080142124, 'roc_auc': 0.8367749415864643, 'pr_auc': 0.17850414867181486, 'recall': 0.015723270440251572, 'precision': 0.8333333333333334, 'f1': 0.0308641975308642, 'lift': 26.551362683438153}\" \n",
      "CV Fold: 2                                                                            \n",
      "LightGBM, Val CV2 Tuned: {'event_rate': 0.0005921831819976313, 'acc': 0.969009080142124, 'roc_auc': 0.8452698573979157, 'pr_auc': 0.19328369686821997, 'recall': 0.015723270440251572, 'precision': 0.8333333333333334, 'f1': 0.0308641975308642, 'lift': 26.551362683438153}\" \n",
      "CV Fold: 3                                                                            \n",
      "LightGBM, Val CV3 Tuned: {'event_rate': 0.0009376233714962495, 'acc': 0.9685649427556258, 'roc_auc': 0.8361806727778184, 'pr_auc': 0.16949548865799752, 'recall': 0.014150943396226415, 'precision': 0.47368421052631576, 'f1': 0.027480916030534354, 'lift': 15.092353525322741}\" \n",
      "CV Fold: 4                                                                            \n",
      "LightGBM, Val CV4 Tuned: {'event_rate': 0.0004934859849980261, 'acc': 0.9687623371496249, 'roc_auc': 0.8362133539331132, 'pr_auc': 0.1763898825866472, 'recall': 0.01098901098901099, 'precision': 0.7, 'f1': 0.02163833075734158, 'lift': 22.26813186813187}\" \n",
      "CV Fold: 5                                                                            \n",
      "LightGBM, Val CV5 Tuned: {'event_rate': 0.0006415317804974339, 'acc': 0.968515594157126, 'roc_auc': 0.8418346750891569, 'pr_auc': 0.1716571333935684, 'recall': 0.009419152276295133, 'precision': 0.46153846153846156, 'f1': 0.01846153846153846, 'lift': 14.682284748218812}\" \n",
      "LigthGBM, OOT Tuned: {'event_rate': 0.0009869330069874856, 'acc': 0.9673127788085745, 'roc_auc': 0.8370129246858862, 'pr_auc': 0.16790114029656023, 'recall': 0.012150668286755772, 'precision': 0.4, 'f1': 0.02358490566037736, 'lift': 12.31154313487242}\" \n",
      "['LGB_Tune40', 'LightGBM', LGBMClassifier(colsample_bytree=0.7927070771975783, gamma=13.599771840868163,\n",
      "               learning_rate=0.08713536405414503, max_depth=4,\n",
      "               min_child_weight=1.7348295317992029, n_estimators=171,\n",
      "               random_state=42, reg_alpha=9.80797293465009,\n",
      "               reg_lambda=4.470038132320865, subsample=0.6934981153124884,\n",
      "               verbose=-1), 0.9673127788085745, 0.4, 0.012150668286755772, 0.02358490566037736, 0.8370129246858862, 0.16790114029656023, 12.31154313487242, 0.968772206869325, 0.6603778677462888, 0.013201129508407138, 0.025861836062228562, 0.8392547001568937, 0.17786607003564958, 21.02909910170995]\n",
      "Parameters: {'colsample_bytree': 0.5989611421906862, 'gamma': 31.669334006805155, 'learning_rate': 0.03711799532486247, 'max_depth': 5.0, 'min_child_weight': 27.661054057053082, 'n_estimators': 154.0, 'random_state': 42, 'reg_alpha': 2.9789073112871804, 'reg_lambda': 3.4135008065189854, 'subsample': 0.5921726403283029, 'verbose': -1}\n",
      "CV Fold: 1                                                                            \n",
      "LightGBM, Val CV1 Tuned: {'event_rate': 0.00024674299249901303, 'acc': 0.9687623371496249, 'roc_auc': 0.8325895460598579, 'pr_auc': 0.1738427350090339, 'recall': 0.006289308176100629, 'precision': 0.8, 'f1': 0.0124804992199688, 'lift': 25.48930817610063}\" \n",
      "CV Fold: 2                                                                            \n",
      "LightGBM, Val CV2 Tuned: {'event_rate': 0.00014804579549940782, 'acc': 0.9687623371496249, 'roc_auc': 0.8391120437624084, 'pr_auc': 0.1812337347449248, 'recall': 0.0047169811320754715, 'precision': 1.0, 'f1': 0.009389671361502346, 'lift': 31.861635220125784}\" \n",
      "CV Fold: 3                                                                            \n",
      "LightGBM, Val CV3 Tuned: {'event_rate': 0.00019739439399921041, 'acc': 0.9687129885511252, 'roc_auc': 0.8316893111240137, 'pr_auc': 0.16097869849047283, 'recall': 0.0047169811320754715, 'precision': 0.75, 'f1': 0.009375, 'lift': 23.89622641509434}\" \n",
      "CV Fold: 4                                                                            \n",
      "LightGBM, Val CV4 Tuned: {'event_rate': 9.869719699960521e-05, 'acc': 0.9686636399526254, 'roc_auc': 0.8306661785470133, 'pr_auc': 0.17763770321899985, 'recall': 0.0031397174254317113, 'precision': 1.0, 'f1': 0.006259780907668232, 'lift': 31.8116169544741}\" \n",
      "CV Fold: 5                                                                            \n",
      "LightGBM, Val CV5 Tuned: {'event_rate': 0.00019739439399921041, 'acc': 0.9686636399526254, 'roc_auc': 0.8363816016430126, 'pr_auc': 0.16428282701886923, 'recall': 0.004709576138147566, 'precision': 0.75, 'f1': 0.009360374414976598, 'lift': 23.85871271585557}\" \n",
      "LigthGBM, OOT Tuned: {'event_rate': 7.895464055899886e-05, 'acc': 0.967431210769413, 'roc_auc': 0.8318177554441518, 'pr_auc': 0.16387269777849436, 'recall': 0.0, 'precision': 0.0, 'f1': 0.0, 'lift': 0.0}\" \n",
      "['LGB_Tune41', 'LightGBM', LGBMClassifier(colsample_bytree=0.5989611421906862, gamma=31.669334006805155,\n",
      "               learning_rate=0.03711799532486247, max_depth=5,\n",
      "               min_child_weight=27.661054057053082, n_estimators=154,\n",
      "               random_state=42, reg_alpha=2.9789073112871804,\n",
      "               reg_lambda=3.4135008065189854, subsample=0.5921726403283029,\n",
      "               verbose=-1), 0.967431210769413, 0.0, 0.0, 0.0, 0.8318177554441518, 0.16387269777849436, 0.0, 0.9687129885511251, 0.86, 0.00471451280076617, 0.009373065180823195, 0.8340877362272611, 0.17159513969646012, 27.383499896330086]\n",
      "Parameters: {'colsample_bytree': 0.6679682337497022, 'gamma': 6.835609353694575, 'learning_rate': 0.19996357470784723, 'max_depth': 6.0, 'min_child_weight': 3.7853530245601696, 'n_estimators': 240.0, 'random_state': 42, 'reg_alpha': 1.7906753581472437, 'reg_lambda': 5.176796791834739, 'subsample': 0.6497965941901039, 'verbose': -1}\n",
      "CV Fold: 1                                                                            \n",
      "LightGBM, Val CV1 Tuned: {'event_rate': 0.0025661271219897357, 'acc': 0.9682195025661271, 'roc_auc': 0.8166422983210995, 'pr_auc': 0.158716092664443, 'recall': 0.03459119496855346, 'precision': 0.4230769230769231, 'f1': 0.06395348837209303, 'lift': 13.479922593130139}\" \n",
      "CV Fold: 2                                                                            \n",
      "LightGBM, Val CV2 Tuned: {'event_rate': 0.0018258981444926965, 'acc': 0.9687623371496249, 'roc_auc': 0.8211953819021216, 'pr_auc': 0.16262276228921185, 'recall': 0.031446540880503145, 'precision': 0.5405405405405406, 'f1': 0.05943536404160476, 'lift': 17.222505524392314}\" \n",
      "CV Fold: 3                                                                            \n",
      "LightGBM, Val CV3 Tuned: {'event_rate': 0.002960915909988156, 'acc': 0.9676273193841295, 'roc_auc': 0.8162561057044679, 'pr_auc': 0.14738166109750367, 'recall': 0.031446540880503145, 'precision': 0.3333333333333333, 'f1': 0.05747126436781609, 'lift': 10.620545073375263}\" \n",
      "CV Fold: 4                                                                            \n",
      "LightGBM, Val CV4 Tuned: {'event_rate': 0.0017272009474930913, 'acc': 0.9678247137781287, 'roc_auc': 0.8167457301594679, 'pr_auc': 0.15263124139723908, 'recall': 0.015698587127158554, 'precision': 0.2857142857142857, 'f1': 0.02976190476190476, 'lift': 9.089033415564026}\" \n",
      "CV Fold: 5                                                                            \n",
      "LightGBM, Val CV5 Tuned: {'event_rate': 0.0019245953414923015, 'acc': 0.9678247137781287, 'roc_auc': 0.823277676548317, 'pr_auc': 0.14473546089081568, 'recall': 0.018838304552590265, 'precision': 0.3076923076923077, 'f1': 0.03550295857988166, 'lift': 9.788189832145875}\" \n",
      "LigthGBM, OOT Tuned: {'event_rate': 0.0025265484978879635, 'acc': 0.966641664363823, 'roc_auc': 0.825079657576042, 'pr_auc': 0.16127401666009805, 'recall': 0.02551640340218712, 'precision': 0.328125, 'f1': 0.04735062006764374, 'lift': 10.09931272782503}\" \n",
      "['LGB_Tune42', 'LightGBM', LGBMClassifier(colsample_bytree=0.6679682337497022, gamma=6.835609353694575,\n",
      "               learning_rate=0.19996357470784723, max_depth=6,\n",
      "               min_child_weight=3.7853530245601696, n_estimators=240,\n",
      "               random_state=42, reg_alpha=1.7906753581472437,\n",
      "               reg_lambda=5.176796791834739, subsample=0.6497965941901039,\n",
      "               verbose=-1), 0.966641664363823, 0.328125, 0.02551640340218712, 0.04735062006764374, 0.825079657576042, 0.16127401666009805, 10.09931272782503, 0.9680517173312279, 0.3780714780714781, 0.026404233681861712, 0.04922499602466006, 0.8188234385270949, 0.15321744366784268, 12.040039287721523]\n",
      "Parameters: {'colsample_bytree': 0.6309013088943213, 'gamma': 3.7142753800571464, 'learning_rate': 0.04623437114949645, 'max_depth': 9.0, 'min_child_weight': 1.2687753490126807, 'n_estimators': 209.0, 'random_state': 42, 'reg_alpha': 1.2226858595820103, 'reg_lambda': 9.046431362336014, 'subsample': 0.9156286540549206, 'verbose': -1}\n",
      "CV Fold: 1                                                                            \n",
      "LightGBM, Val CV1 Tuned: {'event_rate': 0.0005428345834978287, 'acc': 0.9689597315436241, 'roc_auc': 0.8371678631348107, 'pr_auc': 0.17874939460019287, 'recall': 0.014150943396226415, 'precision': 0.8181818181818182, 'f1': 0.02782071097372488, 'lift': 26.06861063464837}\" \n",
      "CV Fold: 2                                                                            \n",
      "LightGBM, Val CV2 Tuned: {'event_rate': 0.0004934859849980261, 'acc': 0.9689103829451243, 'roc_auc': 0.8444331067285473, 'pr_auc': 0.1914290633251767, 'recall': 0.012578616352201259, 'precision': 0.8, 'f1': 0.02476780185758514, 'lift': 25.48930817610063}\" \n",
      "CV Fold: 3                                                                            \n",
      "LightGBM, Val CV3 Tuned: {'event_rate': 0.0011350177654954599, 'acc': 0.9685649427556258, 'roc_auc': 0.8385782952860309, 'pr_auc': 0.16882452831144515, 'recall': 0.01729559748427673, 'precision': 0.4782608695652174, 'f1': 0.033383915022761765, 'lift': 15.238173366147116}\" \n",
      "CV Fold: 4                                                                            \n",
      "LightGBM, Val CV4 Tuned: {'event_rate': 0.00044413738649822345, 'acc': 0.9686142913541256, 'roc_auc': 0.8383591821057703, 'pr_auc': 0.16110888110693486, 'recall': 0.007849293563579277, 'precision': 0.5555555555555556, 'f1': 0.015479876160990709, 'lift': 17.673120530263386}\" \n",
      "CV Fold: 5                                                                            \n",
      "LightGBM, Val CV5 Tuned: {'event_rate': 0.0005428345834978287, 'acc': 0.968515594157126, 'roc_auc': 0.8440894423542235, 'pr_auc': 0.17061354233974776, 'recall': 0.007849293563579277, 'precision': 0.45454545454545453, 'f1': 0.015432098765432096, 'lift': 14.459825888397315}\" \n",
      "LigthGBM, OOT Tuned: {'event_rate': 0.0006711144447514903, 'acc': 0.9673127788085745, 'roc_auc': 0.839370426023015, 'pr_auc': 0.17459495096990535, 'recall': 0.007290400972053463, 'precision': 0.35294117647058826, 'f1': 0.014285714285714285, 'lift': 10.863126295475663}\" \n",
      "['LGB_Tune43', 'LightGBM', LGBMClassifier(colsample_bytree=0.6309013088943213, gamma=3.7142753800571464,\n",
      "               learning_rate=0.04623437114949645, max_depth=9,\n",
      "               min_child_weight=1.2687753490126807, n_estimators=209,\n",
      "               random_state=42, reg_alpha=1.2226858595820103,\n",
      "               reg_lambda=9.046431362336014, subsample=0.9156286540549206,\n",
      "               verbose=-1), 0.9673127788085745, 0.35294117647058826, 0.007290400972053463, 0.014285714285714285, 0.839370426023015, 0.17459495096990535, 10.863126295475663, 0.9687129885511252, 0.6213087395696092, 0.011944748871972591, 0.02337688055609892, 0.8405255779218767, 0.17414508193669948, 19.785807719111364]\n",
      "Parameters: {'colsample_bytree': 0.5211848290649301, 'gamma': 5.129099326353033, 'learning_rate': 0.06402281463339042, 'max_depth': 3.0, 'min_child_weight': 2.184487867775928, 'n_estimators': 228.0, 'random_state': 42, 'reg_alpha': 0.11123174166927363, 'reg_lambda': 6.899030433449019, 'subsample': 0.7755408304305949, 'verbose': -1}\n",
      "CV Fold: 1                                                                            \n",
      "LightGBM, Val CV1 Tuned: {'event_rate': 0.00044413738649822345, 'acc': 0.9688610343466245, 'roc_auc': 0.8364745428491963, 'pr_auc': 0.1782376943558808, 'recall': 0.0110062893081761, 'precision': 0.7777777777777778, 'f1': 0.021705426356589144, 'lift': 24.78127183787561}\" \n",
      "CV Fold: 2                                                                            \n",
      "LightGBM, Val CV2 Tuned: {'event_rate': 0.0005428345834978287, 'acc': 0.9688610343466245, 'roc_auc': 0.8454559043491969, 'pr_auc': 0.18476754451060912, 'recall': 0.012578616352201259, 'precision': 0.7272727272727273, 'f1': 0.024729520865533233, 'lift': 23.172098341909663}\" \n",
      "CV Fold: 3                                                                            \n",
      "LightGBM, Val CV3 Tuned: {'event_rate': 0.0007895775759968417, 'acc': 0.968515594157126, 'roc_auc': 0.8371067820582327, 'pr_auc': 0.16232530674013407, 'recall': 0.0110062893081761, 'precision': 0.4375, 'f1': 0.02147239263803681, 'lift': 13.939465408805031}\" \n",
      "CV Fold: 4                                                                            \n",
      "LightGBM, Val CV4 Tuned: {'event_rate': 0.0005921831819976313, 'acc': 0.9686636399526254, 'roc_auc': 0.8343226767918701, 'pr_auc': 0.17587154261709464, 'recall': 0.01098901098901099, 'precision': 0.5833333333333334, 'f1': 0.02157164869029276, 'lift': 18.55677655677656}\" \n",
      "CV Fold: 5                                                                            \n",
      "LightGBM, Val CV5 Tuned: {'event_rate': 0.0006415317804974339, 'acc': 0.9686142913541256, 'roc_auc': 0.8405725173224754, 'pr_auc': 0.16643367613936752, 'recall': 0.01098901098901099, 'precision': 0.5384615384615384, 'f1': 0.02153846153846154, 'lift': 17.129332206255285}\" \n",
      "LigthGBM, OOT Tuned: {'event_rate': 0.00035529588251549487, 'acc': 0.9673127788085745, 'roc_auc': 0.8338564678263114, 'pr_auc': 0.16994581212559617, 'recall': 0.002430133657351154, 'precision': 0.2222222222222222, 'f1': 0.004807692307692308, 'lift': 6.839746186040231}\" \n",
      "['LGB_Tune44', 'LightGBM', LGBMClassifier(colsample_bytree=0.5211848290649301, gamma=5.129099326353033,\n",
      "               learning_rate=0.06402281463339042, max_depth=3,\n",
      "               min_child_weight=2.184487867775928, n_estimators=228,\n",
      "               random_state=42, reg_alpha=0.11123174166927363,\n",
      "               reg_lambda=6.899030433449019, subsample=0.7755408304305949,\n",
      "               verbose=-1), 0.9673127788085745, 0.2222222222222222, 0.002430133657351154, 0.004807692307692308, 0.8338564678263114, 0.16994581212559617, 6.839746186040231, 0.9687031188314252, 0.6128690753690754, 0.011313843389315088, 0.022203490017782695, 0.8387864846741943, 0.17352715287261725, 19.515788870324428]\n",
      "Parameters: {'colsample_bytree': 0.9056858707688906, 'gamma': 9.419129106373111, 'learning_rate': 0.10288483492667998, 'max_depth': 7.0, 'min_child_weight': 15.672187616612286, 'n_estimators': 184.0, 'random_state': 42, 'reg_alpha': 5.244768836948806, 'reg_lambda': 8.009204026598104, 'subsample': 0.8293120276341692, 'verbose': -1}\n",
      "CV Fold: 1                                                                            \n",
      "LightGBM, Val CV1 Tuned: {'event_rate': 0.0008882747729964469, 'acc': 0.969009080142124, 'roc_auc': 0.8328280226040837, 'pr_auc': 0.174989457702109, 'recall': 0.020440251572327043, 'precision': 0.7222222222222222, 'f1': 0.03975535168195718, 'lift': 23.011180992313065}\" \n",
      "CV Fold: 2                                                                            \n",
      "LightGBM, Val CV2 Tuned: {'event_rate': 0.0010363205684958546, 'acc': 0.9689597315436241, 'roc_auc': 0.839991531158799, 'pr_auc': 0.18357460483762475, 'recall': 0.0220125786163522, 'precision': 0.6666666666666666, 'f1': 0.0426179604261796, 'lift': 21.241090146750523}\" \n",
      "CV Fold: 3                                                                            \n",
      "LightGBM, Val CV3 Tuned: {'event_rate': 0.001480457954994078, 'acc': 0.9686142913541256, 'roc_auc': 0.8350567409156217, 'pr_auc': 0.17362168483209725, 'recall': 0.02358490566037736, 'precision': 0.5, 'f1': 0.04504504504504504, 'lift': 15.930817610062896}\" \n",
      "CV Fold: 4                                                                            \n",
      "LightGBM, Val CV4 Tuned: {'event_rate': 0.0007895775759968417, 'acc': 0.9685649427556258, 'roc_auc': 0.8333678200479764, 'pr_auc': 0.16440659694886242, 'recall': 0.012558869701726845, 'precision': 0.5, 'f1': 0.024502297090352225, 'lift': 15.90580847723705}\" \n",
      "CV Fold: 5                                                                            \n",
      "LightGBM, Val CV5 Tuned: {'event_rate': 0.0009869719699960521, 'acc': 0.9683675483616265, 'roc_auc': 0.8447213210840576, 'pr_auc': 0.16369015350390057, 'recall': 0.012558869701726845, 'precision': 0.4, 'f1': 0.024353120243531205, 'lift': 12.72464678178964}\" \n",
      "LigthGBM, OOT Tuned: {'event_rate': 0.0012632742489439817, 'acc': 0.967036437566618, 'roc_auc': 0.8379781660800224, 'pr_auc': 0.16669018470907154, 'recall': 0.012150668286755772, 'precision': 0.3125, 'f1': 0.023391812865497078, 'lift': 9.618393074119076}\" \n",
      "['LGB_Tune45', 'LightGBM', LGBMClassifier(colsample_bytree=0.9056858707688906, gamma=9.419129106373111,\n",
      "               learning_rate=0.10288483492667998, max_depth=7,\n",
      "               min_child_weight=15.672187616612286, n_estimators=184,\n",
      "               random_state=42, reg_alpha=5.244768836948806,\n",
      "               reg_lambda=8.009204026598104, subsample=0.8293120276341692,\n",
      "               verbose=-1), 0.967036437566618, 0.3125, 0.012150668286755772, 0.023391812865497078, 0.8379781660800224, 0.16669018470907154, 9.618393074119076, 0.9687031188314252, 0.5577777777777777, 0.018231095050502057, 0.03525475489741305, 0.8371930871621076, 0.1720564995649188, 17.762708801630634]\n",
      "Parameters: {'colsample_bytree': 0.666307950171082, 'gamma': 1.921634903637024, 'learning_rate': 0.17496013131426932, 'max_depth': 5.0, 'min_child_weight': 10.86225467357714, 'n_estimators': 250.0, 'random_state': 42, 'reg_alpha': 6.054756850428186, 'reg_lambda': 4.217242780824062, 'subsample': 0.5602406828761748, 'verbose': -1}\n",
      "CV Fold: 1                                                                            \n",
      "LightGBM, Val CV1 Tuned: {'event_rate': 0.0022206869324911172, 'acc': 0.9687623371496249, 'roc_auc': 0.8282864743345727, 'pr_auc': 0.1698461662672747, 'recall': 0.03773584905660377, 'precision': 0.5333333333333333, 'f1': 0.07048458149779735, 'lift': 16.99287211740042}\" \n",
      "CV Fold: 2                                                                            \n",
      "LightGBM, Val CV2 Tuned: {'event_rate': 0.001628503750493486, 'acc': 0.9685649427556258, 'roc_auc': 0.8339465472890096, 'pr_auc': 0.1728110254618419, 'recall': 0.025157232704402517, 'precision': 0.48484848484848486, 'f1': 0.04783258594917788, 'lift': 15.44806556127311}\" \n",
      "CV Fold: 3                                                                            \n",
      "LightGBM, Val CV3 Tuned: {'event_rate': 0.0024180813264903277, 'acc': 0.9684662455586261, 'roc_auc': 0.8271745984750318, 'pr_auc': 0.1608826929007921, 'recall': 0.036163522012578615, 'precision': 0.46938775510204084, 'f1': 0.06715328467153285, 'lift': 14.95546142985496}\" \n",
      "CV Fold: 4                                                                            \n",
      "LightGBM, Val CV4 Tuned: {'event_rate': 0.001875246742992499, 'acc': 0.9677753651796289, 'roc_auc': 0.8264337108422152, 'pr_auc': 0.15203992703121053, 'recall': 0.01726844583987441, 'precision': 0.2894736842105263, 'f1': 0.03259259259259259, 'lift': 9.208625960505659}\" \n",
      "CV Fold: 5                                                                            \n",
      "LightGBM, Val CV5 Tuned: {'event_rate': 0.0017272009474930913, 'acc': 0.9681208053691275, 'roc_auc': 0.8360152319566829, 'pr_auc': 0.14956935854744308, 'recall': 0.02040816326530612, 'precision': 0.37142857142857144, 'f1': 0.038690476190476185, 'lift': 11.815743440233234}\" \n",
      "LigthGBM, OOT Tuned: {'event_rate': 0.001934388693695472, 'acc': 0.9670759148868975, 'roc_auc': 0.8341394116157373, 'pr_auc': 0.16584715318539844, 'recall': 0.023086269744835967, 'precision': 0.3877551020408163, 'f1': 0.04357798165137615, 'lift': 11.934659161355915}\" \n",
      "['LGB_Tune46', 'LightGBM', LGBMClassifier(colsample_bytree=0.666307950171082, gamma=1.921634903637024,\n",
      "               learning_rate=0.17496013131426932, max_depth=5,\n",
      "               min_child_weight=10.86225467357714, n_estimators=250,\n",
      "               random_state=42, reg_alpha=6.054756850428186,\n",
      "               reg_lambda=4.217242780824062, subsample=0.5602406828761748,\n",
      "               verbose=-1), 0.9670759148868975, 0.3877551020408163, 0.023086269744835967, 0.04357798165137615, 0.8341394116157373, 0.16584715318539844, 11.934659161355915, 0.9683379392025266, 0.42969436578459136, 0.02734664257575309, 0.05135070418031538, 0.8303713125795025, 0.16102983404171245, 13.684153701853475]\n",
      "Parameters: {'colsample_bytree': 0.7655548348047397, 'gamma': 19.758920843805292, 'learning_rate': 0.03142507429067121, 'max_depth': 6.0, 'min_child_weight': 72.82908296370154, 'n_estimators': 96.0, 'random_state': 42, 'reg_alpha': 3.7402494860691213, 'reg_lambda': 5.627410530318011, 'subsample': 0.6144187481387483, 'verbose': -1}\n",
      "CV Fold: 1                                                                            \n",
      "LightGBM, Val CV1 Tuned: {'event_rate': 0.0, 'acc': 0.9686142913541256, 'roc_auc': 0.8160550388163232, 'pr_auc': 0.155884531643941, 'recall': 0.0, 'precision': 0.0, 'f1': 0.0, 'lift': nan}\" \n",
      "CV Fold: 2                                                                            \n",
      " 19%|█▉        | 47/250 [54:02<4:14:47, 75.31s/trial, best loss: -0.17752098504240574]"
     ]
    },
    {
     "name": "stderr",
     "output_type": "stream",
     "text": [
      "/opt/conda/lib/python3.10/site-packages/sklearn/metrics/_classification.py:1469: UndefinedMetricWarning: Precision is ill-defined and being set to 0.0 due to no predicted samples. Use `zero_division` parameter to control this behavior.\n",
      "  _warn_prf(average, modifier, msg_start, len(result))\n",
      "\n",
      "/home/msds-pt2025b/jco/term2_acs/final_project/HOME_CREDIT_KAGGLE/notebooks/utils/model_helpers.py:45: RuntimeWarning: invalid value encountered in scalar divide\n",
      "  lift = recall / event_rate\n",
      "\n"
     ]
    },
    {
     "name": "stdout",
     "output_type": "stream",
     "text": [
      "LightGBM, Val CV2 Tuned: {'event_rate': 0.0, 'acc': 0.9686142913541256, 'roc_auc': 0.828045474440954, 'pr_auc': 0.1667705311039847, 'recall': 0.0, 'precision': 0.0, 'f1': 0.0, 'lift': nan}\" \n",
      "CV Fold: 3                                                                            \n",
      " 19%|█▉        | 47/250 [54:08<4:14:47, 75.31s/trial, best loss: -0.17752098504240574]"
     ]
    },
    {
     "name": "stderr",
     "output_type": "stream",
     "text": [
      "/opt/conda/lib/python3.10/site-packages/sklearn/metrics/_classification.py:1469: UndefinedMetricWarning: Precision is ill-defined and being set to 0.0 due to no predicted samples. Use `zero_division` parameter to control this behavior.\n",
      "  _warn_prf(average, modifier, msg_start, len(result))\n",
      "\n",
      "/home/msds-pt2025b/jco/term2_acs/final_project/HOME_CREDIT_KAGGLE/notebooks/utils/model_helpers.py:45: RuntimeWarning: invalid value encountered in scalar divide\n",
      "  lift = recall / event_rate\n",
      "\n"
     ]
    },
    {
     "name": "stdout",
     "output_type": "stream",
     "text": [
      "LightGBM, Val CV3 Tuned: {'event_rate': 0.0, 'acc': 0.9686142913541256, 'roc_auc': 0.8222519443408403, 'pr_auc': 0.14808207389164127, 'recall': 0.0, 'precision': 0.0, 'f1': 0.0, 'lift': nan}\" \n",
      "CV Fold: 4                                                                            \n",
      " 19%|█▉        | 47/250 [54:15<4:14:47, 75.31s/trial, best loss: -0.17752098504240574]"
     ]
    },
    {
     "name": "stderr",
     "output_type": "stream",
     "text": [
      "/opt/conda/lib/python3.10/site-packages/sklearn/metrics/_classification.py:1469: UndefinedMetricWarning: Precision is ill-defined and being set to 0.0 due to no predicted samples. Use `zero_division` parameter to control this behavior.\n",
      "  _warn_prf(average, modifier, msg_start, len(result))\n",
      "\n",
      "/home/msds-pt2025b/jco/term2_acs/final_project/HOME_CREDIT_KAGGLE/notebooks/utils/model_helpers.py:45: RuntimeWarning: invalid value encountered in scalar divide\n",
      "  lift = recall / event_rate\n",
      "\n"
     ]
    },
    {
     "name": "stdout",
     "output_type": "stream",
     "text": [
      "LightGBM, Val CV4 Tuned: {'event_rate': 0.0, 'acc': 0.9685649427556258, 'roc_auc': 0.822070628205035, 'pr_auc': 0.15642875502254286, 'recall': 0.0, 'precision': 0.0, 'f1': 0.0, 'lift': nan}\" \n",
      "CV Fold: 5                                                                            \n",
      " 19%|█▉        | 47/250 [54:22<4:14:47, 75.31s/trial, best loss: -0.17752098504240574]"
     ]
    },
    {
     "name": "stderr",
     "output_type": "stream",
     "text": [
      "/opt/conda/lib/python3.10/site-packages/sklearn/metrics/_classification.py:1469: UndefinedMetricWarning: Precision is ill-defined and being set to 0.0 due to no predicted samples. Use `zero_division` parameter to control this behavior.\n",
      "  _warn_prf(average, modifier, msg_start, len(result))\n",
      "\n",
      "/home/msds-pt2025b/jco/term2_acs/final_project/HOME_CREDIT_KAGGLE/notebooks/utils/model_helpers.py:45: RuntimeWarning: invalid value encountered in scalar divide\n",
      "  lift = recall / event_rate\n",
      "\n"
     ]
    },
    {
     "name": "stdout",
     "output_type": "stream",
     "text": [
      "LightGBM, Val CV5 Tuned: {'event_rate': 0.0, 'acc': 0.9685649427556258, 'roc_auc': 0.8229749746428666, 'pr_auc': 0.15026926082859313, 'recall': 0.0, 'precision': 0.0, 'f1': 0.0, 'lift': nan}\" \n",
      " 19%|█▉        | 47/250 [54:28<4:14:47, 75.31s/trial, best loss: -0.17752098504240574]"
     ]
    },
    {
     "name": "stderr",
     "output_type": "stream",
     "text": [
      "/opt/conda/lib/python3.10/site-packages/sklearn/metrics/_classification.py:1469: UndefinedMetricWarning: Precision is ill-defined and being set to 0.0 due to no predicted samples. Use `zero_division` parameter to control this behavior.\n",
      "  _warn_prf(average, modifier, msg_start, len(result))\n",
      "\n",
      "/home/msds-pt2025b/jco/term2_acs/final_project/HOME_CREDIT_KAGGLE/notebooks/utils/model_helpers.py:45: RuntimeWarning: invalid value encountered in scalar divide\n",
      "  lift = recall / event_rate\n",
      "\n"
     ]
    },
    {
     "name": "stdout",
     "output_type": "stream",
     "text": [
      "LigthGBM, OOT Tuned: {'event_rate': 0.0, 'acc': 0.9675101654099719, 'roc_auc': 0.8187455986797082, 'pr_auc': 0.1575050511810205, 'recall': 0.0, 'precision': 0.0, 'f1': 0.0, 'lift': nan}\" \n",
      "['LGB_Tune47', 'LightGBM', LGBMClassifier(colsample_bytree=0.7655548348047397, gamma=19.758920843805292,\n",
      "               learning_rate=0.03142507429067121, max_depth=6,\n",
      "               min_child_weight=72.82908296370154, n_estimators=96,\n",
      "               random_state=42, reg_alpha=3.7402494860691213,\n",
      "               reg_lambda=5.627410530318011, subsample=0.6144187481387483,\n",
      "               verbose=-1), 0.9675101654099719, 0.0, 0.0, 0.0, 0.8187455986797082, 0.1575050511810205, nan, 0.9685945519147257, 0.0, 0.0, 0.0, 0.8222796120892036, 0.15548703049814058, nan]\n",
      "Parameters: {'colsample_bytree': 0.923588054041482, 'gamma': 1.3134849087348655, 'learning_rate': 0.13440272013802937, 'max_depth': 3.0, 'min_child_weight': 3.4987336329960623, 'n_estimators': 198.0, 'random_state': 42, 'reg_alpha': 7.899600085950219, 'reg_lambda': 9.526700178375853, 'subsample': 0.7260177037929656, 'verbose': -1}\n",
      "CV Fold: 1                                                                            \n",
      " 19%|█▉        | 48/250 [54:36<3:39:16, 65.13s/trial, best loss: -0.17752098504240574]"
     ]
    },
    {
     "name": "stderr",
     "output_type": "stream",
     "text": [
      "/opt/conda/lib/python3.10/site-packages/sklearn/metrics/_classification.py:1469: UndefinedMetricWarning: Precision is ill-defined and being set to 0.0 due to no predicted samples. Use `zero_division` parameter to control this behavior.\n",
      "  _warn_prf(average, modifier, msg_start, len(result))\n",
      "\n",
      "/home/msds-pt2025b/jco/term2_acs/final_project/HOME_CREDIT_KAGGLE/notebooks/utils/model_helpers.py:45: RuntimeWarning: invalid value encountered in scalar divide\n",
      "  lift = recall / event_rate\n",
      "\n"
     ]
    },
    {
     "name": "stdout",
     "output_type": "stream",
     "text": [
      "LightGBM, Val CV1 Tuned: {'event_rate': 0.0010856691669956574, 'acc': 0.9693051717331228, 'roc_auc': 0.8368032992272624, 'pr_auc': 0.18065557904104781, 'recall': 0.02830188679245283, 'precision': 0.8181818181818182, 'f1': 0.0547112462006079, 'lift': 26.06861063464837}\" \n",
      "CV Fold: 2                                                                            \n",
      "LightGBM, Val CV2 Tuned: {'event_rate': 0.0008882747729964469, 'acc': 0.969009080142124, 'roc_auc': 0.8450899786340398, 'pr_auc': 0.19567386493706043, 'recall': 0.020440251572327043, 'precision': 0.7222222222222222, 'f1': 0.03975535168195718, 'lift': 23.011180992313065}\" \n",
      "CV Fold: 3                                                                            \n",
      "LightGBM, Val CV3 Tuned: {'event_rate': 0.0009869719699960521, 'acc': 0.9682195025661271, 'roc_auc': 0.8368258491591399, 'pr_auc': 0.1692238068638283, 'recall': 0.009433962264150943, 'precision': 0.3, 'f1': 0.018292682926829267, 'lift': 9.558490566037735}\" \n",
      "CV Fold: 4                                                                            \n",
      "LightGBM, Val CV4 Tuned: {'event_rate': 0.0008389261744966443, 'acc': 0.968515594157126, 'roc_auc': 0.8350810912369698, 'pr_auc': 0.16608283515360894, 'recall': 0.012558869701726845, 'precision': 0.47058823529411764, 'f1': 0.024464831804281346, 'lift': 14.970172684458399}\" \n",
      "CV Fold: 5                                                                            \n",
      "LightGBM, Val CV5 Tuned: {'event_rate': 0.0013817607579944729, 'acc': 0.9683675483616265, 'roc_auc': 0.8424763119462113, 'pr_auc': 0.1676342258242456, 'recall': 0.018838304552590265, 'precision': 0.42857142857142855, 'f1': 0.03609022556390978, 'lift': 13.633550123346042}\" \n",
      "LigthGBM, OOT Tuned: {'event_rate': 0.0010264103272669852, 'acc': 0.967194346847736, 'roc_auc': 0.8360105986668176, 'pr_auc': 0.16809541119456295, 'recall': 0.010935601458080195, 'precision': 0.34615384615384615, 'f1': 0.02120141342756184, 'lift': 10.65422002056267}\" \n",
      "['LGB_Tune48', 'LightGBM', LGBMClassifier(colsample_bytree=0.923588054041482, gamma=1.3134849087348655,\n",
      "               learning_rate=0.13440272013802937, max_depth=3,\n",
      "               min_child_weight=3.4987336329960623, n_estimators=198,\n",
      "               random_state=42, reg_alpha=7.899600085950219,\n",
      "               reg_lambda=9.526700178375853, subsample=0.7260177037929656,\n",
      "               verbose=-1), 0.967194346847736, 0.34615384615384615, 0.010935601458080195, 0.02120141342756184, 0.8360105986668176, 0.16809541119456295, 10.65422002056267, 0.9686833793920254, 0.5479127408539173, 0.017914654976649586, 0.0346628676355171, 0.8392553060407246, 0.17585406236395823, 17.44840100016072]\n",
      "Parameters: {'colsample_bytree': 0.709043167802941, 'gamma': 1.014306427744235, 'learning_rate': 0.07895959185886187, 'max_depth': 8.0, 'min_child_weight': 9.155895739091044, 'n_estimators': 167.0, 'random_state': 42, 'reg_alpha': 6.61277454599481, 'reg_lambda': 4.788276853834324, 'subsample': 0.5829746042574194, 'verbose': -1}\n",
      "CV Fold: 1                                                                            \n",
      "LightGBM, Val CV1 Tuned: {'event_rate': 0.0007895775759968417, 'acc': 0.9688116857481247, 'roc_auc': 0.8351165803440854, 'pr_auc': 0.1706586703608509, 'recall': 0.015723270440251572, 'precision': 0.625, 'f1': 0.03067484662576687, 'lift': 19.913522012578618}\" \n",
      "CV Fold: 2                                                                            \n",
      "LightGBM, Val CV2 Tuned: {'event_rate': 0.0008882747729964469, 'acc': 0.9689103829451243, 'roc_auc': 0.8429785359895311, 'pr_auc': 0.19481891251226302, 'recall': 0.018867924528301886, 'precision': 0.6666666666666666, 'f1': 0.03669724770642202, 'lift': 21.241090146750523}\" \n",
      "CV Fold: 3                                                                            \n",
      "LightGBM, Val CV3 Tuned: {'event_rate': 0.0013324121594946703, 'acc': 0.9684662455586261, 'roc_auc': 0.8374319737046167, 'pr_auc': 0.17151885160578065, 'recall': 0.018867924528301886, 'precision': 0.4444444444444444, 'f1': 0.03619909502262443, 'lift': 14.16072676450035}\" \n",
      "CV Fold: 4                                                                            \n",
      "LightGBM, Val CV4 Tuned: {'event_rate': 0.0009869719699960521, 'acc': 0.9688610343466245, 'roc_auc': 0.8375510971934266, 'pr_auc': 0.17680335421483745, 'recall': 0.02040816326530612, 'precision': 0.65, 'f1': 0.0395738203957382, 'lift': 20.67755102040816}\" \n",
      "CV Fold: 5                                                                            \n",
      "LightGBM, Val CV5 Tuned: {'event_rate': 0.0011350177654954599, 'acc': 0.9684168969601263, 'roc_auc': 0.8448780909967759, 'pr_auc': 0.16873229988055521, 'recall': 0.015698587127158554, 'precision': 0.43478260869565216, 'f1': 0.0303030303030303, 'lift': 13.831137806293086}\" \n",
      "LigthGBM, OOT Tuned: {'event_rate': 0.0008685010461489874, 'acc': 0.967352256128854, 'roc_auc': 0.8392115273292863, 'pr_auc': 0.1717891247421126, 'recall': 0.010935601458080195, 'precision': 0.4090909090909091, 'f1': 0.021301775147928994, 'lift': 12.591350933392246}\" \n",
      "['LGB_Tune49', 'LightGBM', LGBMClassifier(colsample_bytree=0.709043167802941, gamma=1.014306427744235,\n",
      "               learning_rate=0.07895959185886187, max_depth=8,\n",
      "               min_child_weight=9.155895739091044, n_estimators=167,\n",
      "               random_state=42, reg_alpha=6.61277454599481,\n",
      "               reg_lambda=4.788276853834324, subsample=0.5829746042574194,\n",
      "               verbose=-1), 0.967352256128854, 0.4090909090909091, 0.010935601458080195, 0.021301775147928994, 0.8392115273292863, 0.1717891247421126, 12.591350933392246, 0.9686932491117253, 0.5641787439613527, 0.017913173977864006, 0.03468960801071637, 0.839591255645687, 0.17650641771485742, 17.964805550106146]\n",
      "Parameters: {'colsample_bytree': 0.5581526600170379, 'gamma': 24.547630955081505, 'learning_rate': 0.11373092072633241, 'max_depth': 7.0, 'min_child_weight': 6.122559741919708, 'n_estimators': 218.0, 'random_state': 42, 'reg_alpha': 4.797042622057699, 'reg_lambda': 8.458177675745384, 'subsample': 0.8211958409723569, 'verbose': -1}\n",
      "CV Fold: 1                                                                            \n",
      "LightGBM, Val CV1 Tuned: {'event_rate': 0.0011350177654954599, 'acc': 0.9688610343466245, 'roc_auc': 0.8367114973731532, 'pr_auc': 0.17005782935836136, 'recall': 0.0220125786163522, 'precision': 0.6086956521739131, 'f1': 0.0424886191198786, 'lift': 19.394038829641783}\" \n",
      "CV Fold: 2                                                                            \n",
      "LightGBM, Val CV2 Tuned: {'event_rate': 0.0010363205684958546, 'acc': 0.9689597315436241, 'roc_auc': 0.8375493294779759, 'pr_auc': 0.1846677691182266, 'recall': 0.0220125786163522, 'precision': 0.6666666666666666, 'f1': 0.0426179604261796, 'lift': 21.241090146750523}\" \n",
      "CV Fold: 3                                                                            \n",
      "LightGBM, Val CV3 Tuned: {'event_rate': 0.0015791551519936833, 'acc': 0.968515594157126, 'roc_auc': 0.8360450928143981, 'pr_auc': 0.1711782197070634, 'recall': 0.02358490566037736, 'precision': 0.46875, 'f1': 0.04491017964071857, 'lift': 14.935141509433963}\" \n",
      "CV Fold: 4                                                                            \n",
      "LightGBM, Val CV4 Tuned: {'event_rate': 0.0011843663639952626, 'acc': 0.9682688511646269, 'roc_auc': 0.8327620962984784, 'pr_auc': 0.1635213030616918, 'recall': 0.0141287284144427, 'precision': 0.375, 'f1': 0.027231467473524965, 'lift': 11.929356357927787}\" \n",
      "CV Fold: 5                                                                            \n",
      "LightGBM, Val CV5 Tuned: {'event_rate': 0.0013324121594946703, 'acc': 0.968515594157126, 'roc_auc': 0.8393210774988064, 'pr_auc': 0.1657370649552864, 'recall': 0.02040816326530612, 'precision': 0.48148148148148145, 'f1': 0.0391566265060241, 'lift': 15.3167044595616}\" \n",
      "LigthGBM, OOT Tuned: {'event_rate': 0.0016975247720184754, 'acc': 0.9670759148868975, 'roc_auc': 0.8388418213825981, 'pr_auc': 0.174533576235483, 'recall': 0.019441069258809233, 'precision': 0.37209302325581395, 'f1': 0.036951501154734404, 'lift': 11.452598264997597}\" \n",
      "['LGB_Tune50', 'LightGBM', LGBMClassifier(colsample_bytree=0.5581526600170379, gamma=24.547630955081505,\n",
      "               learning_rate=0.11373092072633241, max_depth=7,\n",
      "               min_child_weight=6.122559741919708, n_estimators=218,\n",
      "               random_state=42, reg_alpha=4.797042622057699,\n",
      "               reg_lambda=8.458177675745384, subsample=0.8211958409723569,\n",
      "               verbose=-1), 0.9670759148868975, 0.37209302325581395, 0.019441069258809233, 0.036951501154734404, 0.8388418213825981, 0.174533576235483, 11.452598264997597, 0.9686241610738255, 0.5201187600644122, 0.020429390914566116, 0.03928097063326517, 0.8364778186925624, 0.1710324372401259, 16.563266260663134]\n",
      "Parameters: {'colsample_bytree': 0.8267610206951514, 'gamma': 7.652223292978952, 'learning_rate': 0.020610335637502083, 'max_depth': 5.0, 'min_child_weight': 12.530926926671297, 'n_estimators': 52.0, 'random_state': 42, 'reg_alpha': 4.099033251094494, 'reg_lambda': 2.5424634426055412, 'subsample': 0.5325130753727703, 'verbose': -1}\n",
      "CV Fold: 1                                                                            \n",
      "LightGBM, Val CV1 Tuned: {'event_rate': 0.0, 'acc': 0.9686142913541256, 'roc_auc': 0.7887283664845368, 'pr_auc': 0.12348636649330741, 'recall': 0.0, 'precision': 0.0, 'f1': 0.0, 'lift': nan}\" \n",
      "CV Fold: 2                                                                            \n",
      " 20%|██        | 51/250 [58:40<4:25:24, 80.02s/trial, best loss: -0.17752098504240574]"
     ]
    },
    {
     "name": "stderr",
     "output_type": "stream",
     "text": [
      "/opt/conda/lib/python3.10/site-packages/sklearn/metrics/_classification.py:1469: UndefinedMetricWarning: Precision is ill-defined and being set to 0.0 due to no predicted samples. Use `zero_division` parameter to control this behavior.\n",
      "  _warn_prf(average, modifier, msg_start, len(result))\n",
      "\n",
      "/home/msds-pt2025b/jco/term2_acs/final_project/HOME_CREDIT_KAGGLE/notebooks/utils/model_helpers.py:45: RuntimeWarning: invalid value encountered in scalar divide\n",
      "  lift = recall / event_rate\n",
      "\n"
     ]
    },
    {
     "name": "stdout",
     "output_type": "stream",
     "text": [
      "LightGBM, Val CV2 Tuned: {'event_rate': 0.0, 'acc': 0.9686142913541256, 'roc_auc': 0.8060795177086257, 'pr_auc': 0.14275969982673847, 'recall': 0.0, 'precision': 0.0, 'f1': 0.0, 'lift': nan}\" \n",
      "CV Fold: 3                                                                            \n",
      " 20%|██        | 51/250 [58:45<4:25:24, 80.02s/trial, best loss: -0.17752098504240574]"
     ]
    },
    {
     "name": "stderr",
     "output_type": "stream",
     "text": [
      "/opt/conda/lib/python3.10/site-packages/sklearn/metrics/_classification.py:1469: UndefinedMetricWarning: Precision is ill-defined and being set to 0.0 due to no predicted samples. Use `zero_division` parameter to control this behavior.\n",
      "  _warn_prf(average, modifier, msg_start, len(result))\n",
      "\n",
      "/home/msds-pt2025b/jco/term2_acs/final_project/HOME_CREDIT_KAGGLE/notebooks/utils/model_helpers.py:45: RuntimeWarning: invalid value encountered in scalar divide\n",
      "  lift = recall / event_rate\n",
      "\n"
     ]
    },
    {
     "name": "stdout",
     "output_type": "stream",
     "text": [
      "LightGBM, Val CV3 Tuned: {'event_rate': 0.0, 'acc': 0.9686142913541256, 'roc_auc': 0.7994145108451154, 'pr_auc': 0.12430512139662506, 'recall': 0.0, 'precision': 0.0, 'f1': 0.0, 'lift': nan}\" \n",
      "CV Fold: 4                                                                            \n",
      " 20%|██        | 51/250 [58:51<4:25:24, 80.02s/trial, best loss: -0.17752098504240574]"
     ]
    },
    {
     "name": "stderr",
     "output_type": "stream",
     "text": [
      "/opt/conda/lib/python3.10/site-packages/sklearn/metrics/_classification.py:1469: UndefinedMetricWarning: Precision is ill-defined and being set to 0.0 due to no predicted samples. Use `zero_division` parameter to control this behavior.\n",
      "  _warn_prf(average, modifier, msg_start, len(result))\n",
      "\n",
      "/home/msds-pt2025b/jco/term2_acs/final_project/HOME_CREDIT_KAGGLE/notebooks/utils/model_helpers.py:45: RuntimeWarning: invalid value encountered in scalar divide\n",
      "  lift = recall / event_rate\n",
      "\n"
     ]
    },
    {
     "name": "stdout",
     "output_type": "stream",
     "text": [
      "LightGBM, Val CV4 Tuned: {'event_rate': 0.0, 'acc': 0.9685649427556258, 'roc_auc': 0.8046566103033507, 'pr_auc': 0.13865102423694975, 'recall': 0.0, 'precision': 0.0, 'f1': 0.0, 'lift': nan}\" \n",
      "CV Fold: 5                                                                            \n",
      " 20%|██        | 51/250 [58:56<4:25:24, 80.02s/trial, best loss: -0.17752098504240574]"
     ]
    },
    {
     "name": "stderr",
     "output_type": "stream",
     "text": [
      "/opt/conda/lib/python3.10/site-packages/sklearn/metrics/_classification.py:1469: UndefinedMetricWarning: Precision is ill-defined and being set to 0.0 due to no predicted samples. Use `zero_division` parameter to control this behavior.\n",
      "  _warn_prf(average, modifier, msg_start, len(result))\n",
      "\n",
      "/home/msds-pt2025b/jco/term2_acs/final_project/HOME_CREDIT_KAGGLE/notebooks/utils/model_helpers.py:45: RuntimeWarning: invalid value encountered in scalar divide\n",
      "  lift = recall / event_rate\n",
      "\n"
     ]
    },
    {
     "name": "stdout",
     "output_type": "stream",
     "text": [
      "LightGBM, Val CV5 Tuned: {'event_rate': 0.0, 'acc': 0.9685649427556258, 'roc_auc': 0.7927127425704459, 'pr_auc': 0.13294015836665668, 'recall': 0.0, 'precision': 0.0, 'f1': 0.0, 'lift': nan}\" \n",
      " 20%|██        | 51/250 [59:01<4:25:24, 80.02s/trial, best loss: -0.17752098504240574]"
     ]
    },
    {
     "name": "stderr",
     "output_type": "stream",
     "text": [
      "/opt/conda/lib/python3.10/site-packages/sklearn/metrics/_classification.py:1469: UndefinedMetricWarning: Precision is ill-defined and being set to 0.0 due to no predicted samples. Use `zero_division` parameter to control this behavior.\n",
      "  _warn_prf(average, modifier, msg_start, len(result))\n",
      "\n",
      "/home/msds-pt2025b/jco/term2_acs/final_project/HOME_CREDIT_KAGGLE/notebooks/utils/model_helpers.py:45: RuntimeWarning: invalid value encountered in scalar divide\n",
      "  lift = recall / event_rate\n",
      "\n"
     ]
    },
    {
     "name": "stdout",
     "output_type": "stream",
     "text": [
      "LigthGBM, OOT Tuned: {'event_rate': 0.0, 'acc': 0.9675101654099719, 'roc_auc': 0.7940831084292956, 'pr_auc': 0.13537892698463924, 'recall': 0.0, 'precision': 0.0, 'f1': 0.0, 'lift': nan}\" \n",
      "['LGB_Tune51', 'LightGBM', LGBMClassifier(colsample_bytree=0.8267610206951514, gamma=7.652223292978952,\n",
      "               learning_rate=0.020610335637502083, max_depth=5,\n",
      "               min_child_weight=12.530926926671297, n_estimators=52,\n",
      "               random_state=42, reg_alpha=4.099033251094494,\n",
      "               reg_lambda=2.5424634426055412, subsample=0.5325130753727703,\n",
      "               verbose=-1), 0.9675101654099719, 0.0, 0.0, 0.0, 0.7940831084292956, 0.13537892698463924, nan, 0.9685945519147257, 0.0, 0.0, 0.0, 0.7983183495824149, 0.13242847406405547, nan]\n",
      "Parameters: {'colsample_bytree': 0.5302284208849778, 'gamma': 44.74421891180464, 'learning_rate': 0.03619677686723988, 'max_depth': 4.0, 'min_child_weight': 28.916879357531442, 'n_estimators': 147.0, 'random_state': 42, 'reg_alpha': 5.5822874467669985, 'reg_lambda': 0.2045041795084792, 'subsample': 0.6771208533836146, 'verbose': -1}\n",
      "CV Fold: 1                                                                            \n",
      " 21%|██        | 52/250 [59:07<3:36:46, 65.69s/trial, best loss: -0.17752098504240574]"
     ]
    },
    {
     "name": "stderr",
     "output_type": "stream",
     "text": [
      "/opt/conda/lib/python3.10/site-packages/sklearn/metrics/_classification.py:1469: UndefinedMetricWarning: Precision is ill-defined and being set to 0.0 due to no predicted samples. Use `zero_division` parameter to control this behavior.\n",
      "  _warn_prf(average, modifier, msg_start, len(result))\n",
      "\n",
      "/home/msds-pt2025b/jco/term2_acs/final_project/HOME_CREDIT_KAGGLE/notebooks/utils/model_helpers.py:45: RuntimeWarning: invalid value encountered in scalar divide\n",
      "  lift = recall / event_rate\n",
      "\n"
     ]
    },
    {
     "name": "stdout",
     "output_type": "stream",
     "text": [
      "LightGBM, Val CV1 Tuned: {'event_rate': 9.869719699960521e-05, 'acc': 0.9686142913541256, 'roc_auc': 0.824335870461015, 'pr_auc': 0.1692829053154893, 'recall': 0.0015723270440251573, 'precision': 0.5, 'f1': 0.003134796238244514, 'lift': 15.930817610062894}\" \n",
      "CV Fold: 2                                                                            \n",
      "LightGBM, Val CV2 Tuned: {'event_rate': 9.869719699960521e-05, 'acc': 0.9686142913541256, 'roc_auc': 0.8350003060061804, 'pr_auc': 0.1716405456537921, 'recall': 0.0015723270440251573, 'precision': 0.5, 'f1': 0.003134796238244514, 'lift': 15.930817610062894}\" \n",
      "CV Fold: 3                                                                            \n",
      "LightGBM, Val CV3 Tuned: {'event_rate': 9.869719699960521e-05, 'acc': 0.9687129885511252, 'roc_auc': 0.8304833904331254, 'pr_auc': 0.15571113337776085, 'recall': 0.0031446540880503146, 'precision': 1.0, 'f1': 0.006269592476489028, 'lift': 31.861635220125788}\" \n",
      "CV Fold: 4                                                                            \n",
      "LightGBM, Val CV4 Tuned: {'event_rate': 0.0, 'acc': 0.9685649427556258, 'roc_auc': 0.8258767777288182, 'pr_auc': 0.17084236728154295, 'recall': 0.0, 'precision': 0.0, 'f1': 0.0, 'lift': nan}\" \n",
      "CV Fold: 5                                                                            \n",
      " 21%|██        | 52/250 [59:54<3:36:46, 65.69s/trial, best loss: -0.17752098504240574]"
     ]
    },
    {
     "name": "stderr",
     "output_type": "stream",
     "text": [
      "/opt/conda/lib/python3.10/site-packages/sklearn/metrics/_classification.py:1469: UndefinedMetricWarning: Precision is ill-defined and being set to 0.0 due to no predicted samples. Use `zero_division` parameter to control this behavior.\n",
      "  _warn_prf(average, modifier, msg_start, len(result))\n",
      "\n",
      "/home/msds-pt2025b/jco/term2_acs/final_project/HOME_CREDIT_KAGGLE/notebooks/utils/model_helpers.py:45: RuntimeWarning: invalid value encountered in scalar divide\n",
      "  lift = recall / event_rate\n",
      "\n"
     ]
    },
    {
     "name": "stdout",
     "output_type": "stream",
     "text": [
      "LightGBM, Val CV5 Tuned: {'event_rate': 9.869719699960521e-05, 'acc': 0.9686636399526254, 'roc_auc': 0.8299821898181302, 'pr_auc': 0.16263562700962303, 'recall': 0.0031397174254317113, 'precision': 1.0, 'f1': 0.006259780907668232, 'lift': 31.8116169544741}\" \n",
      "LigthGBM, OOT Tuned: {'event_rate': 0.0, 'acc': 0.9675101654099719, 'roc_auc': 0.8250005552778065, 'pr_auc': 0.15979416465208507, 'recall': 0.0, 'precision': 0.0, 'f1': 0.0, 'lift': nan}\" \n",
      "['LGB_Tune52', 'LightGBM', LGBMClassifier(colsample_bytree=0.5302284208849778, gamma=44.74421891180464,\n",
      "               learning_rate=0.03619677686723988, max_depth=4,\n",
      "               min_child_weight=28.916879357531442, n_estimators=147,\n",
      "               random_state=42, reg_alpha=5.5822874467669985,\n",
      "               reg_lambda=0.2045041795084792, subsample=0.6771208533836146,\n",
      "               verbose=-1), 0.9675101654099719, 0.0, 0.0, 0.0, 0.8250005552778065, 0.15979416465208507, nan, 0.9686340307935254, 0.6, 0.001885805120306468, 0.0037597931721292575, 0.8291357068894538, 0.16602251572764165, nan]\n",
      "Parameters: {'colsample_bytree': 0.610624368769236, 'gamma': 12.485394290176584, 'learning_rate': 0.014702427714143837, 'max_depth': 3.0, 'min_child_weight': 2.6548766223901006, 'n_estimators': 237.0, 'random_state': 42, 'reg_alpha': 6.346831957950769, 'reg_lambda': 1.5340659638095753, 'subsample': 0.7819382064995859, 'verbose': -1}\n",
      "CV Fold: 1                                                                              \n",
      " 21%|██        | 53/250 [1:00:20<3:42:36, 67.80s/trial, best loss: -0.17752098504240574]"
     ]
    },
    {
     "name": "stderr",
     "output_type": "stream",
     "text": [
      "/opt/conda/lib/python3.10/site-packages/sklearn/metrics/_classification.py:1469: UndefinedMetricWarning: Precision is ill-defined and being set to 0.0 due to no predicted samples. Use `zero_division` parameter to control this behavior.\n",
      "  _warn_prf(average, modifier, msg_start, len(result))\n",
      "\n",
      "/home/msds-pt2025b/jco/term2_acs/final_project/HOME_CREDIT_KAGGLE/notebooks/utils/model_helpers.py:45: RuntimeWarning: invalid value encountered in scalar divide\n",
      "  lift = recall / event_rate\n",
      "\n"
     ]
    },
    {
     "name": "stdout",
     "output_type": "stream",
     "text": [
      "LightGBM, Val CV1 Tuned: {'event_rate': 0.0, 'acc': 0.9686142913541256, 'roc_auc': 0.803301790664857, 'pr_auc': 0.1462055483036347, 'recall': 0.0, 'precision': 0.0, 'f1': 0.0, 'lift': nan}\" \n",
      "CV Fold: 2                                                                              \n",
      " 21%|██        | 53/250 [1:00:31<3:42:36, 67.80s/trial, best loss: -0.17752098504240574]"
     ]
    },
    {
     "name": "stderr",
     "output_type": "stream",
     "text": [
      "/opt/conda/lib/python3.10/site-packages/sklearn/metrics/_classification.py:1469: UndefinedMetricWarning: Precision is ill-defined and being set to 0.0 due to no predicted samples. Use `zero_division` parameter to control this behavior.\n",
      "  _warn_prf(average, modifier, msg_start, len(result))\n",
      "\n",
      "/home/msds-pt2025b/jco/term2_acs/final_project/HOME_CREDIT_KAGGLE/notebooks/utils/model_helpers.py:45: RuntimeWarning: invalid value encountered in scalar divide\n",
      "  lift = recall / event_rate\n",
      "\n"
     ]
    },
    {
     "name": "stdout",
     "output_type": "stream",
     "text": [
      "LightGBM, Val CV2 Tuned: {'event_rate': 0.0, 'acc': 0.9686142913541256, 'roc_auc': 0.8192544856340511, 'pr_auc': 0.1597635954894706, 'recall': 0.0, 'precision': 0.0, 'f1': 0.0, 'lift': nan}\" \n",
      "CV Fold: 3                                                                              \n",
      " 21%|██        | 53/250 [1:00:42<3:42:36, 67.80s/trial, best loss: -0.17752098504240574]"
     ]
    },
    {
     "name": "stderr",
     "output_type": "stream",
     "text": [
      "/opt/conda/lib/python3.10/site-packages/sklearn/metrics/_classification.py:1469: UndefinedMetricWarning: Precision is ill-defined and being set to 0.0 due to no predicted samples. Use `zero_division` parameter to control this behavior.\n",
      "  _warn_prf(average, modifier, msg_start, len(result))\n",
      "\n",
      "/home/msds-pt2025b/jco/term2_acs/final_project/HOME_CREDIT_KAGGLE/notebooks/utils/model_helpers.py:45: RuntimeWarning: invalid value encountered in scalar divide\n",
      "  lift = recall / event_rate\n",
      "\n"
     ]
    },
    {
     "name": "stdout",
     "output_type": "stream",
     "text": [
      "LightGBM, Val CV3 Tuned: {'event_rate': 0.0, 'acc': 0.9686142913541256, 'roc_auc': 0.817598046943591, 'pr_auc': 0.14216886907339213, 'recall': 0.0, 'precision': 0.0, 'f1': 0.0, 'lift': nan}\" \n",
      "CV Fold: 4                                                                              \n",
      " 21%|██        | 53/250 [1:00:53<3:42:36, 67.80s/trial, best loss: -0.17752098504240574]"
     ]
    },
    {
     "name": "stderr",
     "output_type": "stream",
     "text": [
      "/opt/conda/lib/python3.10/site-packages/sklearn/metrics/_classification.py:1469: UndefinedMetricWarning: Precision is ill-defined and being set to 0.0 due to no predicted samples. Use `zero_division` parameter to control this behavior.\n",
      "  _warn_prf(average, modifier, msg_start, len(result))\n",
      "\n",
      "/home/msds-pt2025b/jco/term2_acs/final_project/HOME_CREDIT_KAGGLE/notebooks/utils/model_helpers.py:45: RuntimeWarning: invalid value encountered in scalar divide\n",
      "  lift = recall / event_rate\n",
      "\n"
     ]
    },
    {
     "name": "stdout",
     "output_type": "stream",
     "text": [
      "LightGBM, Val CV4 Tuned: {'event_rate': 0.0, 'acc': 0.9685649427556258, 'roc_auc': 0.8130055279790703, 'pr_auc': 0.15841773212319463, 'recall': 0.0, 'precision': 0.0, 'f1': 0.0, 'lift': nan}\" \n",
      "CV Fold: 5                                                                              \n",
      " 21%|██        | 53/250 [1:01:02<3:42:36, 67.80s/trial, best loss: -0.17752098504240574]"
     ]
    },
    {
     "name": "stderr",
     "output_type": "stream",
     "text": [
      "/opt/conda/lib/python3.10/site-packages/sklearn/metrics/_classification.py:1469: UndefinedMetricWarning: Precision is ill-defined and being set to 0.0 due to no predicted samples. Use `zero_division` parameter to control this behavior.\n",
      "  _warn_prf(average, modifier, msg_start, len(result))\n",
      "\n",
      "/home/msds-pt2025b/jco/term2_acs/final_project/HOME_CREDIT_KAGGLE/notebooks/utils/model_helpers.py:45: RuntimeWarning: invalid value encountered in scalar divide\n",
      "  lift = recall / event_rate\n",
      "\n"
     ]
    },
    {
     "name": "stdout",
     "output_type": "stream",
     "text": [
      "LightGBM, Val CV5 Tuned: {'event_rate': 0.0, 'acc': 0.9685649427556258, 'roc_auc': 0.8115641646055289, 'pr_auc': 0.14811867583801383, 'recall': 0.0, 'precision': 0.0, 'f1': 0.0, 'lift': nan}\" \n",
      " 21%|██        | 53/250 [1:01:13<3:42:36, 67.80s/trial, best loss: -0.17752098504240574]"
     ]
    },
    {
     "name": "stderr",
     "output_type": "stream",
     "text": [
      "/opt/conda/lib/python3.10/site-packages/sklearn/metrics/_classification.py:1469: UndefinedMetricWarning: Precision is ill-defined and being set to 0.0 due to no predicted samples. Use `zero_division` parameter to control this behavior.\n",
      "  _warn_prf(average, modifier, msg_start, len(result))\n",
      "\n",
      "/home/msds-pt2025b/jco/term2_acs/final_project/HOME_CREDIT_KAGGLE/notebooks/utils/model_helpers.py:45: RuntimeWarning: invalid value encountered in scalar divide\n",
      "  lift = recall / event_rate\n",
      "\n"
     ]
    },
    {
     "name": "stdout",
     "output_type": "stream",
     "text": [
      "LigthGBM, OOT Tuned: {'event_rate': 0.0, 'acc': 0.9675101654099719, 'roc_auc': 0.805308198022378, 'pr_auc': 0.1492692242448405, 'recall': 0.0, 'precision': 0.0, 'f1': 0.0, 'lift': nan}\" \n",
      "['LGB_Tune53', 'LightGBM', LGBMClassifier(colsample_bytree=0.610624368769236, gamma=12.485394290176584,\n",
      "               learning_rate=0.014702427714143837, max_depth=3,\n",
      "               min_child_weight=2.6548766223901006, n_estimators=237,\n",
      "               random_state=42, reg_alpha=6.346831957950769,\n",
      "               reg_lambda=1.5340659638095753, subsample=0.7819382064995859,\n",
      "               verbose=-1), 0.9675101654099719, 0.0, 0.0, 0.0, 0.805308198022378, 0.1492692242448405, nan, 0.9685945519147257, 0.0, 0.0, 0.0, 0.8129448031654196, 0.15093488416554118, nan]\n",
      "Parameters: {'colsample_bytree': 0.5705281201329306, 'gamma': 16.655068481227126, 'learning_rate': 0.04758874057503692, 'max_depth': 6.0, 'min_child_weight': 4.957237343751569, 'n_estimators': 205.0, 'random_state': 42, 'reg_alpha': 3.2509072144427495, 'reg_lambda': 6.560839760999161, 'subsample': 0.7483908903055889, 'verbose': -1}\n",
      " 22%|██▏       | 54/250 [1:01:26<3:40:12, 67.41s/trial, best loss: -0.17752098504240574]"
     ]
    },
    {
     "name": "stderr",
     "output_type": "stream",
     "text": [
      "/opt/conda/lib/python3.10/site-packages/sklearn/metrics/_classification.py:1469: UndefinedMetricWarning: Precision is ill-defined and being set to 0.0 due to no predicted samples. Use `zero_division` parameter to control this behavior.\n",
      "  _warn_prf(average, modifier, msg_start, len(result))\n",
      "\n",
      "/home/msds-pt2025b/jco/term2_acs/final_project/HOME_CREDIT_KAGGLE/notebooks/utils/model_helpers.py:45: RuntimeWarning: invalid value encountered in scalar divide\n",
      "  lift = recall / event_rate\n",
      "\n"
     ]
    },
    {
     "name": "stdout",
     "output_type": "stream",
     "text": [
      "CV Fold: 1                                                                              \n",
      "LightGBM, Val CV1 Tuned: {'event_rate': 0.00039478878799842083, 'acc': 0.9688116857481247, 'roc_auc': 0.837689115023718, 'pr_auc': 0.17418449876855566, 'recall': 0.009433962264150943, 'precision': 0.75, 'f1': 0.018633540372670808, 'lift': 23.89622641509434}\" \n",
      "CV Fold: 2                                                                              \n",
      "LightGBM, Val CV2 Tuned: {'event_rate': 0.0004934859849980261, 'acc': 0.9689103829451243, 'roc_auc': 0.8429416069714296, 'pr_auc': 0.18331948740041262, 'recall': 0.012578616352201259, 'precision': 0.8, 'f1': 0.02476780185758514, 'lift': 25.48930817610063}\" \n",
      "CV Fold: 3                                                                              \n",
      "LightGBM, Val CV3 Tuned: {'event_rate': 0.0008882747729964469, 'acc': 0.9684168969601263, 'roc_auc': 0.8383632898964769, 'pr_auc': 0.1710669323067559, 'recall': 0.0110062893081761, 'precision': 0.3888888888888889, 'f1': 0.021406727828746173, 'lift': 12.390635918937805}\" \n",
      "CV Fold: 4                                                                              \n",
      "LightGBM, Val CV4 Tuned: {'event_rate': 0.00044413738649822345, 'acc': 0.9687129885511252, 'roc_auc': 0.8374416781931212, 'pr_auc': 0.1707330883004489, 'recall': 0.009419152276295133, 'precision': 0.6666666666666666, 'f1': 0.018575851393188854, 'lift': 21.207744636316065}\" \n",
      "CV Fold: 5                                                                              \n",
      "LightGBM, Val CV5 Tuned: {'event_rate': 0.0006415317804974339, 'acc': 0.968515594157126, 'roc_auc': 0.8446810888054364, 'pr_auc': 0.17423486673735208, 'recall': 0.009419152276295133, 'precision': 0.46153846153846156, 'f1': 0.01846153846153846, 'lift': 14.682284748218812}\" \n",
      "LigthGBM, OOT Tuned: {'event_rate': 0.0005921598041924914, 'acc': 0.9673917334491334, 'roc_auc': 0.8381446502652145, 'pr_auc': 0.17430519105842063, 'recall': 0.007290400972053463, 'precision': 0.4, 'f1': 0.014319809069212411, 'lift': 12.311543134872418}\" \n",
      "['LGB_Tune54', 'LightGBM', LGBMClassifier(colsample_bytree=0.5705281201329306, gamma=16.655068481227126,\n",
      "               learning_rate=0.04758874057503692, max_depth=6,\n",
      "               min_child_weight=4.957237343751569, n_estimators=205,\n",
      "               random_state=42, reg_alpha=3.2509072144427495,\n",
      "               reg_lambda=6.560839760999161, subsample=0.7483908903055889,\n",
      "               verbose=-1), 0.9673917334491334, 0.4, 0.007290400972053463, 0.014319809069212411, 0.8381446502652145, 0.17430519105842063, 12.311543134872418, 0.9686735096723254, 0.6134188034188035, 0.010371434495423713, 0.020369091982745887, 0.8402233557780363, 0.17470777470270502, 19.53323997893353]\n",
      "Parameters: {'colsample_bytree': 0.7314618949770157, 'gamma': 2.799062335982357, 'learning_rate': 0.025866055243263568, 'max_depth': 4.0, 'min_child_weight': 62.37745252582922, 'n_estimators': 115.0, 'random_state': 42, 'reg_alpha': 1.8370587491801227, 'reg_lambda': 3.0302168086924444, 'subsample': 0.651543995767057, 'verbose': -1}\n",
      "CV Fold: 1                                                                              \n",
      "LightGBM, Val CV1 Tuned: {'event_rate': 0.0, 'acc': 0.9686142913541256, 'roc_auc': 0.8080870624432046, 'pr_auc': 0.14996550401705383, 'recall': 0.0, 'precision': 0.0, 'f1': 0.0, 'lift': nan}\" \n",
      "CV Fold: 2                                                                              \n",
      " 22%|██▏       | 55/250 [1:03:18<4:15:08, 78.50s/trial, best loss: -0.17752098504240574]"
     ]
    },
    {
     "name": "stderr",
     "output_type": "stream",
     "text": [
      "/opt/conda/lib/python3.10/site-packages/sklearn/metrics/_classification.py:1469: UndefinedMetricWarning: Precision is ill-defined and being set to 0.0 due to no predicted samples. Use `zero_division` parameter to control this behavior.\n",
      "  _warn_prf(average, modifier, msg_start, len(result))\n",
      "\n",
      "/home/msds-pt2025b/jco/term2_acs/final_project/HOME_CREDIT_KAGGLE/notebooks/utils/model_helpers.py:45: RuntimeWarning: invalid value encountered in scalar divide\n",
      "  lift = recall / event_rate\n",
      "\n"
     ]
    },
    {
     "name": "stdout",
     "output_type": "stream",
     "text": [
      "LightGBM, Val CV2 Tuned: {'event_rate': 0.0, 'acc': 0.9686142913541256, 'roc_auc': 0.824509420824826, 'pr_auc': 0.1606304358796684, 'recall': 0.0, 'precision': 0.0, 'f1': 0.0, 'lift': nan}\" \n",
      "CV Fold: 3                                                                              \n",
      " 22%|██▏       | 55/250 [1:03:25<4:15:08, 78.50s/trial, best loss: -0.17752098504240574]"
     ]
    },
    {
     "name": "stderr",
     "output_type": "stream",
     "text": [
      "/opt/conda/lib/python3.10/site-packages/sklearn/metrics/_classification.py:1469: UndefinedMetricWarning: Precision is ill-defined and being set to 0.0 due to no predicted samples. Use `zero_division` parameter to control this behavior.\n",
      "  _warn_prf(average, modifier, msg_start, len(result))\n",
      "\n",
      "/home/msds-pt2025b/jco/term2_acs/final_project/HOME_CREDIT_KAGGLE/notebooks/utils/model_helpers.py:45: RuntimeWarning: invalid value encountered in scalar divide\n",
      "  lift = recall / event_rate\n",
      "\n"
     ]
    },
    {
     "name": "stdout",
     "output_type": "stream",
     "text": [
      "LightGBM, Val CV3 Tuned: {'event_rate': 0.0, 'acc': 0.9686142913541256, 'roc_auc': 0.8209610708870527, 'pr_auc': 0.14667416839512912, 'recall': 0.0, 'precision': 0.0, 'f1': 0.0, 'lift': nan}\" \n",
      "CV Fold: 4                                                                              \n",
      " 22%|██▏       | 55/250 [1:03:31<4:15:08, 78.50s/trial, best loss: -0.17752098504240574]"
     ]
    },
    {
     "name": "stderr",
     "output_type": "stream",
     "text": [
      "/opt/conda/lib/python3.10/site-packages/sklearn/metrics/_classification.py:1469: UndefinedMetricWarning: Precision is ill-defined and being set to 0.0 due to no predicted samples. Use `zero_division` parameter to control this behavior.\n",
      "  _warn_prf(average, modifier, msg_start, len(result))\n",
      "\n",
      "/home/msds-pt2025b/jco/term2_acs/final_project/HOME_CREDIT_KAGGLE/notebooks/utils/model_helpers.py:45: RuntimeWarning: invalid value encountered in scalar divide\n",
      "  lift = recall / event_rate\n",
      "\n"
     ]
    },
    {
     "name": "stdout",
     "output_type": "stream",
     "text": [
      "LightGBM, Val CV4 Tuned: {'event_rate': 0.0, 'acc': 0.9685649427556258, 'roc_auc': 0.8150226608509294, 'pr_auc': 0.15615624133043723, 'recall': 0.0, 'precision': 0.0, 'f1': 0.0, 'lift': nan}\" \n",
      "CV Fold: 5                                                                              \n",
      " 22%|██▏       | 55/250 [1:03:37<4:15:08, 78.50s/trial, best loss: -0.17752098504240574]"
     ]
    },
    {
     "name": "stderr",
     "output_type": "stream",
     "text": [
      "/opt/conda/lib/python3.10/site-packages/sklearn/metrics/_classification.py:1469: UndefinedMetricWarning: Precision is ill-defined and being set to 0.0 due to no predicted samples. Use `zero_division` parameter to control this behavior.\n",
      "  _warn_prf(average, modifier, msg_start, len(result))\n",
      "\n",
      "/home/msds-pt2025b/jco/term2_acs/final_project/HOME_CREDIT_KAGGLE/notebooks/utils/model_helpers.py:45: RuntimeWarning: invalid value encountered in scalar divide\n",
      "  lift = recall / event_rate\n",
      "\n"
     ]
    },
    {
     "name": "stdout",
     "output_type": "stream",
     "text": [
      "LightGBM, Val CV5 Tuned: {'event_rate': 0.0, 'acc': 0.9685649427556258, 'roc_auc': 0.8156150671563114, 'pr_auc': 0.153228525700203, 'recall': 0.0, 'precision': 0.0, 'f1': 0.0, 'lift': nan}\" \n",
      " 22%|██▏       | 55/250 [1:03:43<4:15:08, 78.50s/trial, best loss: -0.17752098504240574]"
     ]
    },
    {
     "name": "stderr",
     "output_type": "stream",
     "text": [
      "/opt/conda/lib/python3.10/site-packages/sklearn/metrics/_classification.py:1469: UndefinedMetricWarning: Precision is ill-defined and being set to 0.0 due to no predicted samples. Use `zero_division` parameter to control this behavior.\n",
      "  _warn_prf(average, modifier, msg_start, len(result))\n",
      "\n",
      "/home/msds-pt2025b/jco/term2_acs/final_project/HOME_CREDIT_KAGGLE/notebooks/utils/model_helpers.py:45: RuntimeWarning: invalid value encountered in scalar divide\n",
      "  lift = recall / event_rate\n",
      "\n"
     ]
    },
    {
     "name": "stdout",
     "output_type": "stream",
     "text": [
      "LigthGBM, OOT Tuned: {'event_rate': 0.0, 'acc': 0.9675101654099719, 'roc_auc': 0.8117565102852324, 'pr_auc': 0.15108209142665607, 'recall': 0.0, 'precision': 0.0, 'f1': 0.0, 'lift': nan}\" \n",
      "['LGB_Tune55', 'LightGBM', LGBMClassifier(colsample_bytree=0.7314618949770157, gamma=2.799062335982357,\n",
      "               learning_rate=0.025866055243263568, max_depth=4,\n",
      "               min_child_weight=62.37745252582922, n_estimators=115,\n",
      "               random_state=42, reg_alpha=1.8370587491801227,\n",
      "               reg_lambda=3.0302168086924444, subsample=0.651543995767057,\n",
      "               verbose=-1), 0.9675101654099719, 0.0, 0.0, 0.0, 0.8117565102852324, 0.15108209142665607, nan, 0.9685945519147257, 0.0, 0.0, 0.0, 0.816839056432465, 0.1533309750644983, nan]\n",
      "Parameters: {'colsample_bytree': 0.9967462801645117, 'gamma': 8.852874001856815, 'learning_rate': 0.15494976401582597, 'max_depth': 5.0, 'min_child_weight': 1.685225539119468, 'n_estimators': 123.0, 'random_state': 42, 'reg_alpha': 9.221007564228932, 'reg_lambda': 7.059422726654829, 'subsample': 0.703599527062104, 'verbose': -1}\n",
      " 22%|██▏       | 56/250 [1:03:51<3:37:06, 67.15s/trial, best loss: -0.17752098504240574]"
     ]
    },
    {
     "name": "stderr",
     "output_type": "stream",
     "text": [
      "/opt/conda/lib/python3.10/site-packages/sklearn/metrics/_classification.py:1469: UndefinedMetricWarning: Precision is ill-defined and being set to 0.0 due to no predicted samples. Use `zero_division` parameter to control this behavior.\n",
      "  _warn_prf(average, modifier, msg_start, len(result))\n",
      "\n",
      "/home/msds-pt2025b/jco/term2_acs/final_project/HOME_CREDIT_KAGGLE/notebooks/utils/model_helpers.py:45: RuntimeWarning: invalid value encountered in scalar divide\n",
      "  lift = recall / event_rate\n",
      "\n"
     ]
    },
    {
     "name": "stdout",
     "output_type": "stream",
     "text": [
      "CV Fold: 1                                                                              \n",
      "LightGBM, Val CV1 Tuned: {'event_rate': 0.0009376233714962495, 'acc': 0.9691571259376234, 'roc_auc': 0.8362704319205139, 'pr_auc': 0.17118924679472658, 'recall': 0.02358490566037736, 'precision': 0.7894736842105263, 'f1': 0.04580152671755726, 'lift': 25.15392254220457}\" \n",
      "CV Fold: 2                                                                              \n",
      "LightGBM, Val CV2 Tuned: {'event_rate': 0.0009376233714962495, 'acc': 0.9687623371496249, 'roc_auc': 0.842800139192759, 'pr_auc': 0.1848172075091733, 'recall': 0.01729559748427673, 'precision': 0.5789473684210527, 'f1': 0.03358778625954198, 'lift': 18.44620986428335}\" \n",
      "CV Fold: 3                                                                              \n",
      "LightGBM, Val CV3 Tuned: {'event_rate': 0.0013324121594946703, 'acc': 0.9682688511646269, 'roc_auc': 0.8343870519973392, 'pr_auc': 0.16384545715923182, 'recall': 0.015723270440251572, 'precision': 0.37037037037037035, 'f1': 0.030165912518853692, 'lift': 11.800605637083624}\" \n",
      "CV Fold: 4                                                                              \n",
      "LightGBM, Val CV4 Tuned: {'event_rate': 0.0010856691669956574, 'acc': 0.9685649427556258, 'roc_auc': 0.8357202485698944, 'pr_auc': 0.1678861167765522, 'recall': 0.01726844583987441, 'precision': 0.5, 'f1': 0.03338391502276176, 'lift': 15.905808477237047}\" \n",
      "CV Fold: 5                                                                              \n",
      "LightGBM, Val CV5 Tuned: {'event_rate': 0.0009869719699960521, 'acc': 0.9684662455586261, 'roc_auc': 0.840374555315344, 'pr_auc': 0.16283454411302262, 'recall': 0.0141287284144427, 'precision': 0.45, 'f1': 0.027397260273972605, 'lift': 14.315227629513345}\" \n",
      "LigthGBM, OOT Tuned: {'event_rate': 0.0012237969286644822, 'acc': 0.9669969602463385, 'roc_auc': 0.834025976292414, 'pr_auc': 0.16959530071026896, 'recall': 0.010935601458080195, 'precision': 0.2903225806451613, 'f1': 0.02107728337236534, 'lift': 8.93579743660095}\" \n",
      "['LGB_Tune56', 'LightGBM', LGBMClassifier(colsample_bytree=0.9967462801645117, gamma=8.852874001856815,\n",
      "               learning_rate=0.15494976401582597, max_depth=5,\n",
      "               min_child_weight=1.685225539119468, n_estimators=123,\n",
      "               random_state=42, reg_alpha=9.221007564228932,\n",
      "               reg_lambda=7.059422726654829, subsample=0.703599527062104,\n",
      "               verbose=-1), 0.9669969602463385, 0.2903225806451613, 0.010935601458080195, 0.02107728337236534, 0.834025976292414, 0.16959530071026896, 8.93579743660095, 0.9686439005132254, 0.5377582846003899, 0.017600189567844555, 0.03406728015853745, 0.83791048539917, 0.1701145144705413, 17.124354830064384]\n",
      "Parameters: {'colsample_bytree': 0.749276366754476, 'gamma': 4.823467462821248, 'learning_rate': 0.08291265206199948, 'max_depth': 9.0, 'min_child_weight': 4.146702344108486, 'n_estimators': 243.0, 'random_state': 42, 'reg_alpha': 2.5528198644285527, 'reg_lambda': 0.728002106989841, 'subsample': 0.9107254593987765, 'verbose': -1}\n",
      "CV Fold: 1                                                                              \n",
      "LightGBM, Val CV1 Tuned: {'event_rate': 0.0012830635609948678, 'acc': 0.9688116857481247, 'roc_auc': 0.8334690334562485, 'pr_auc': 0.16930024624208523, 'recall': 0.02358490566037736, 'precision': 0.5769230769230769, 'f1': 0.045317220543806644, 'lift': 18.381712626995647}\" \n",
      "CV Fold: 2                                                                              \n",
      "LightGBM, Val CV2 Tuned: {'event_rate': 0.0010363205684958546, 'acc': 0.9687623371496249, 'roc_auc': 0.8383877223271081, 'pr_auc': 0.1719841303776959, 'recall': 0.018867924528301886, 'precision': 0.5714285714285714, 'f1': 0.0365296803652968, 'lift': 18.206648697214735}\" \n",
      "CV Fold: 3                                                                              \n",
      "LightGBM, Val CV3 Tuned: {'event_rate': 0.0022206869324911172, 'acc': 0.9682688511646269, 'roc_auc': 0.8320765451229344, 'pr_auc': 0.17056246365724245, 'recall': 0.029874213836477988, 'precision': 0.4222222222222222, 'f1': 0.05580029368575624, 'lift': 13.452690426275332}\" \n",
      "CV Fold: 4                                                                              \n",
      "LightGBM, Val CV4 Tuned: {'event_rate': 0.001480457954994078, 'acc': 0.9682688511646269, 'roc_auc': 0.8313436485269746, 'pr_auc': 0.1648610857867898, 'recall': 0.018838304552590265, 'precision': 0.4, 'f1': 0.035982008995502246, 'lift': 12.72464678178964}\" \n",
      "CV Fold: 5                                                                              \n",
      "LightGBM, Val CV5 Tuned: {'event_rate': 0.001480457954994078, 'acc': 0.9685649427556258, 'roc_auc': 0.836254705996825, 'pr_auc': 0.16025211877931053, 'recall': 0.023547880690737835, 'precision': 0.5, 'f1': 0.04497751124437781, 'lift': 15.90580847723705}\" \n",
      "LigthGBM, OOT Tuned: {'event_rate': 0.001934388693695472, 'acc': 0.9669969602463385, 'roc_auc': 0.8383550113127939, 'pr_auc': 0.17483898272719073, 'recall': 0.02187120291616039, 'precision': 0.3673469387755102, 'f1': 0.041284403669724766, 'lift': 11.306519205495078}\" \n",
      "['LGB_Tune57', 'LightGBM', LGBMClassifier(colsample_bytree=0.749276366754476, gamma=4.823467462821248,\n",
      "               learning_rate=0.08291265206199948, max_depth=9,\n",
      "               min_child_weight=4.146702344108486, n_estimators=243,\n",
      "               random_state=42, reg_alpha=2.5528198644285527,\n",
      "               reg_lambda=0.728002106989841, subsample=0.9107254593987765,\n",
      "               verbose=-1), 0.9669969602463385, 0.3673469387755102, 0.02187120291616039, 0.041284403669724766, 0.8383550113127939, 0.17483898272719073, 11.306519205495078, 0.9685353335965259, 0.4941147741147741, 0.02294264585369707, 0.04372134296694795, 0.8343063310860181, 0.16739200896862477, 15.73430140190248]\n",
      "Parameters: {'colsample_bytree': 0.5915597756560386, 'gamma': 3.7620872108549976, 'learning_rate': 0.1091821342711679, 'max_depth': 3.0, 'min_child_weight': 7.283978578597314, 'n_estimators': 179.0, 'random_state': 42, 'reg_alpha': 4.299115819370812, 'reg_lambda': 5.8042192897697324, 'subsample': 0.7320364464895951, 'verbose': -1}\n",
      "CV Fold: 1                                                                              \n",
      "LightGBM, Val CV1 Tuned: {'event_rate': 0.0008882747729964469, 'acc': 0.9691077773391236, 'roc_auc': 0.836446425527388, 'pr_auc': 0.1844834067686359, 'recall': 0.0220125786163522, 'precision': 0.7777777777777778, 'f1': 0.042813455657492346, 'lift': 24.78127183787561}\" \n",
      "CV Fold: 2                                                                              \n",
      "LightGBM, Val CV2 Tuned: {'event_rate': 0.0008882747729964469, 'acc': 0.9689103829451243, 'roc_auc': 0.8427429432731831, 'pr_auc': 0.1851308806003453, 'recall': 0.018867924528301886, 'precision': 0.6666666666666666, 'f1': 0.03669724770642202, 'lift': 21.241090146750523}\" \n",
      "CV Fold: 3                                                                              \n",
      "LightGBM, Val CV3 Tuned: {'event_rate': 0.0008882747729964469, 'acc': 0.968515594157126, 'roc_auc': 0.8362389100796832, 'pr_auc': 0.17173276909192553, 'recall': 0.012578616352201259, 'precision': 0.4444444444444444, 'f1': 0.024464831804281346, 'lift': 14.16072676450035}\" \n",
      "CV Fold: 4                                                                              \n",
      "LightGBM, Val CV4 Tuned: {'event_rate': 0.0008882747729964469, 'acc': 0.9686636399526254, 'roc_auc': 0.8328625570180571, 'pr_auc': 0.1723837356736601, 'recall': 0.015698587127158554, 'precision': 0.5555555555555556, 'f1': 0.030534351145038167, 'lift': 17.673120530263386}\" \n",
      "CV Fold: 5                                                                              \n",
      "LightGBM, Val CV5 Tuned: {'event_rate': 0.000740228977497039, 'acc': 0.968515594157126, 'roc_auc': 0.8414763038677616, 'pr_auc': 0.16471775309415823, 'recall': 0.01098901098901099, 'precision': 0.4666666666666667, 'f1': 0.02147239263803681, 'lift': 14.845421245421248}\" \n",
      "LigthGBM, OOT Tuned: {'event_rate': 0.0006711144447514903, 'acc': 0.9673917334491334, 'roc_auc': 0.8372278469440186, 'pr_auc': 0.17197440228616484, 'recall': 0.00850546780072904, 'precision': 0.4117647058823529, 'f1': 0.016666666666666666, 'lift': 12.673647344721605}\" \n",
      "['LGB_Tune58', 'LightGBM', LGBMClassifier(colsample_bytree=0.5915597756560386, gamma=3.7620872108549976,\n",
      "               learning_rate=0.1091821342711679, max_depth=3,\n",
      "               min_child_weight=7.283978578597314, n_estimators=179,\n",
      "               random_state=42, reg_alpha=4.299115819370812,\n",
      "               reg_lambda=5.8042192897697324, subsample=0.7320364464895951,\n",
      "               verbose=-1), 0.9673917334491334, 0.4117647058823529, 0.00850546780072904, 0.016666666666666666, 0.8372278469440186, 0.17197440228616484, 12.673647344721605, 0.9687425977102251, 0.5822222222222223, 0.01602934352260498, 0.03119645579025414, 0.8379534279532145, 0.17568970904574502, 18.540326104962226]\n",
      "Parameters: {'colsample_bytree': 0.5023065347282946, 'gamma': 2.1375598999097933, 'learning_rate': 0.1828972077079535, 'max_depth': 7.0, 'min_child_weight': 1.3782772642296386, 'n_estimators': 192.0, 'random_state': 42, 'reg_alpha': 7.454909439743419, 'reg_lambda': 5.310887078691771, 'subsample': 0.6053098688248545, 'verbose': -1}\n",
      "CV Fold: 1                                                                              \n",
      "LightGBM, Val CV1 Tuned: {'event_rate': 0.0019245953414923015, 'acc': 0.9686636399526254, 'roc_auc': 0.8211507626763461, 'pr_auc': 0.15993378981663062, 'recall': 0.031446540880503145, 'precision': 0.5128205128205128, 'f1': 0.05925925925925926, 'lift': 16.33930011288502}\" \n",
      "CV Fold: 2                                                                              \n",
      "LightGBM, Val CV2 Tuned: {'event_rate': 0.001480457954994078, 'acc': 0.9687129885511252, 'roc_auc': 0.8344823785299655, 'pr_auc': 0.16707368386307253, 'recall': 0.025157232704402517, 'precision': 0.5333333333333333, 'f1': 0.048048048048048055, 'lift': 16.99287211740042}\" \n",
      "CV Fold: 3                                                                              \n",
      "LightGBM, Val CV3 Tuned: {'event_rate': 0.0025661271219897357, 'acc': 0.9679234109751284, 'roc_auc': 0.8251774675633449, 'pr_auc': 0.15174705567296756, 'recall': 0.029874213836477988, 'precision': 0.36538461538461536, 'f1': 0.055232558139534885, 'lift': 11.641751330430575}\" \n",
      "CV Fold: 4                                                                              \n",
      "LightGBM, Val CV4 Tuned: {'event_rate': 0.00246742992499013, 'acc': 0.9679727595736282, 'roc_auc': 0.8286106530434678, 'pr_auc': 0.15490626158348178, 'recall': 0.029827315541601257, 'precision': 0.38, 'f1': 0.055312954876273655, 'lift': 12.088414442700158}\" \n",
      "CV Fold: 5                                                                              \n",
      "LightGBM, Val CV5 Tuned: {'event_rate': 0.0017765495459928938, 'acc': 0.9680714567706277, 'roc_auc': 0.8340754442407413, 'pr_auc': 0.15058534002288632, 'recall': 0.02040816326530612, 'precision': 0.3611111111111111, 'f1': 0.038632986627043085, 'lift': 11.487528344671201}\" \n",
      "LigthGBM, OOT Tuned: {'event_rate': 0.00209229797481347, 'acc': 0.9669180056057795, 'roc_auc': 0.8327741223090592, 'pr_auc': 0.1611181336688965, 'recall': 0.023086269744835967, 'precision': 0.3584905660377358, 'f1': 0.04337899543378996, 'lift': 11.033930168046034}\" \n",
      "['LGB_Tune59', 'LightGBM', LGBMClassifier(colsample_bytree=0.5023065347282946, gamma=2.1375598999097933,\n",
      "               learning_rate=0.1828972077079535, max_depth=7,\n",
      "               min_child_weight=1.3782772642296386, n_estimators=192,\n",
      "               random_state=42, reg_alpha=7.454909439743419,\n",
      "               reg_lambda=5.310887078691771, subsample=0.6053098688248545,\n",
      "               verbose=-1), 0.9669180056057795, 0.3584905660377358, 0.023086269744835967, 0.04337899543378996, 0.8327741223090592, 0.1611181336688965, 11.033930168046034, 0.9682688511646269, 0.4305299145299145, 0.027342693245658207, 0.051297161390031785, 0.8286993412107732, 0.15684922619180774, 13.709973269617473]\n",
      "Parameters: {'colsample_bytree': 0.6455809912821676, 'gamma': 10.66438664961131, 'learning_rate': 0.09338437667899283, 'max_depth': 4.0, 'min_child_weight': 1.1404321477553778, 'n_estimators': 140.0, 'random_state': 42, 'reg_alpha': 0.4901802248246121, 'reg_lambda': 6.037082344951116, 'subsample': 0.6390077543844217, 'verbose': -1}\n",
      "CV Fold: 1                                                                              \n",
      "LightGBM, Val CV1 Tuned: {'event_rate': 0.000740228977497039, 'acc': 0.9690584287406238, 'roc_auc': 0.835767123849513, 'pr_auc': 0.1816621678243252, 'recall': 0.018867924528301886, 'precision': 0.8, 'f1': 0.03686635944700461, 'lift': 25.48930817610063}\" \n",
      "CV Fold: 2                                                                              \n",
      "LightGBM, Val CV2 Tuned: {'event_rate': 0.000740228977497039, 'acc': 0.9688610343466245, 'roc_auc': 0.8425349071343339, 'pr_auc': 0.18504584210217406, 'recall': 0.015723270440251572, 'precision': 0.6666666666666666, 'f1': 0.030721966205837174, 'lift': 21.241090146750526}\" \n",
      "CV Fold: 3                                                                              \n",
      "LightGBM, Val CV3 Tuned: {'event_rate': 0.0009376233714962495, 'acc': 0.9684662455586261, 'roc_auc': 0.8367735797788554, 'pr_auc': 0.16646676222063253, 'recall': 0.012578616352201259, 'precision': 0.42105263157894735, 'f1': 0.024427480916030538, 'lift': 13.415425355842437}\" \n",
      "CV Fold: 4                                                                              \n",
      "LightGBM, Val CV4 Tuned: {'event_rate': 0.000740228977497039, 'acc': 0.9684168969601263, 'roc_auc': 0.8335879378029769, 'pr_auc': 0.1713973091239212, 'recall': 0.009419152276295133, 'precision': 0.4, 'f1': 0.01840490797546012, 'lift': 12.72464678178964}\" \n",
      "CV Fold: 5                                                                              \n",
      "LightGBM, Val CV5 Tuned: {'event_rate': 0.0008882747729964469, 'acc': 0.9686636399526254, 'roc_auc': 0.8407941947781382, 'pr_auc': 0.16899754980380985, 'recall': 0.015698587127158554, 'precision': 0.5555555555555556, 'f1': 0.030534351145038167, 'lift': 17.673120530263386}\" \n",
      "LigthGBM, OOT Tuned: {'event_rate': 0.0008685010461489874, 'acc': 0.967194346847736, 'roc_auc': 0.8359890320734411, 'pr_auc': 0.1698657394205366, 'recall': 0.00850546780072904, 'precision': 0.3181818181818182, 'f1': 0.016568047337278104, 'lift': 9.793272948193968}\" \n",
      "['LGB_Tune60', 'LightGBM', LGBMClassifier(colsample_bytree=0.6455809912821676, gamma=10.66438664961131,\n",
      "               learning_rate=0.09338437667899283, max_depth=4,\n",
      "               min_child_weight=1.1404321477553778, n_estimators=140,\n",
      "               random_state=42, reg_alpha=0.4901802248246121,\n",
      "               reg_lambda=6.037082344951116, subsample=0.6390077543844217,\n",
      "               verbose=-1), 0.967194346847736, 0.3181818181818182, 0.00850546780072904, 0.016568047337278104, 0.8359890320734411, 0.1698657394205366, 9.793272948193968, 0.9686932491117253, 0.5686549707602339, 0.014457510144841682, 0.028191013137874123, 0.8378915486687635, 0.17471392621497256, 18.108718198149326]\n",
      "Parameters: {'colsample_bytree': 0.678209267902937, 'gamma': 6.5302380379936125, 'learning_rate': 0.06531116449005947, 'max_depth': 5.0, 'min_child_weight': 5.573777221200306, 'n_estimators': 224.0, 'random_state': 42, 'reg_alpha': 1.0393697811676093, 'reg_lambda': 3.515305950563371, 'subsample': 0.8564067242208334, 'verbose': -1}\n",
      "CV Fold: 1                                                                              \n",
      "LightGBM, Val CV1 Tuned: {'event_rate': 0.0009376233714962495, 'acc': 0.9691571259376234, 'roc_auc': 0.835528807517947, 'pr_auc': 0.1806758813598413, 'recall': 0.02358490566037736, 'precision': 0.7894736842105263, 'f1': 0.04580152671755726, 'lift': 25.15392254220457}\" \n",
      "CV Fold: 2                                                                              \n",
      "LightGBM, Val CV2 Tuned: {'event_rate': 0.0008882747729964469, 'acc': 0.9689103829451243, 'roc_auc': 0.8430403780762432, 'pr_auc': 0.18846377611546525, 'recall': 0.018867924528301886, 'precision': 0.6666666666666666, 'f1': 0.03669724770642202, 'lift': 21.241090146750523}\" \n",
      "CV Fold: 3                                                                              \n",
      "LightGBM, Val CV3 Tuned: {'event_rate': 0.001233714962495065, 'acc': 0.9682688511646269, 'roc_auc': 0.8358457081591821, 'pr_auc': 0.1644409203769707, 'recall': 0.014150943396226415, 'precision': 0.36, 'f1': 0.027231467473524965, 'lift': 11.470188679245284}\" \n",
      "CV Fold: 4                                                                              \n",
      "LightGBM, Val CV4 Tuned: {'event_rate': 0.0010363205684958546, 'acc': 0.9687129885511252, 'roc_auc': 0.8383186298885519, 'pr_auc': 0.1675942440149006, 'recall': 0.018838304552590265, 'precision': 0.5714285714285714, 'f1': 0.0364741641337386, 'lift': 18.178066831128056}\" \n",
      "CV Fold: 5                                                                              \n",
      "LightGBM, Val CV5 Tuned: {'event_rate': 0.0008389261744966443, 'acc': 0.9684168969601263, 'roc_auc': 0.8449177633828517, 'pr_auc': 0.16758274954508914, 'recall': 0.01098901098901099, 'precision': 0.4117647058823529, 'f1': 0.02140672782874618, 'lift': 13.0989010989011}\" \n",
      "LigthGBM, OOT Tuned: {'event_rate': 0.0011448422881054833, 'acc': 0.9672338241680155, 'roc_auc': 0.8367045967681641, 'pr_auc': 0.17146340131436472, 'recall': 0.013365735115431349, 'precision': 0.3793103448275862, 'f1': 0.02582159624413145, 'lift': 11.674739179620397}\" \n",
      "['LGB_Tune61', 'LightGBM', LGBMClassifier(colsample_bytree=0.678209267902937, gamma=6.5302380379936125,\n",
      "               learning_rate=0.06531116449005947, max_depth=5,\n",
      "               min_child_weight=5.573777221200306, n_estimators=224,\n",
      "               random_state=42, reg_alpha=1.0393697811676093,\n",
      "               reg_lambda=3.515305950563371, subsample=0.8564067242208334,\n",
      "               verbose=-1), 0.9672338241680155, 0.3793103448275862, 0.013365735115431349, 0.02582159624413145, 0.8367045967681641, 0.17146340131436472, 11.674739179620397, 0.9686932491117253, 0.5598667256376234, 0.017286217825301382, 0.0335222267719978, 0.8395302574049552, 0.1737515142824534, 17.828433859645905]\n",
      "Parameters: {'colsample_bytree': 0.539131124061208, 'gamma': 3.861877668961764, 'learning_rate': 0.05642559559786531, 'max_depth': 3.0, 'min_child_weight': 3.078333614504986, 'n_estimators': 217.0, 'random_state': 42, 'reg_alpha': 2.8616471076508905, 'reg_lambda': 4.03491177779136, 'subsample': 0.66759526149041, 'verbose': -1}\n",
      "CV Fold: 1                                                                              \n",
      "LightGBM, Val CV1 Tuned: {'event_rate': 0.00039478878799842083, 'acc': 0.9689103829451243, 'roc_auc': 0.8348504671160311, 'pr_auc': 0.18160663488602047, 'recall': 0.0110062893081761, 'precision': 0.875, 'f1': 0.021739130434782608, 'lift': 27.878930817610062}\" \n",
      "CV Fold: 2                                                                              \n",
      "LightGBM, Val CV2 Tuned: {'event_rate': 0.00044413738649822345, 'acc': 0.9688610343466245, 'roc_auc': 0.8404383242140286, 'pr_auc': 0.17519556120359236, 'recall': 0.0110062893081761, 'precision': 0.7777777777777778, 'f1': 0.021705426356589144, 'lift': 24.78127183787561}\" \n",
      "CV Fold: 3                                                                              \n",
      "LightGBM, Val CV3 Tuned: {'event_rate': 0.0006415317804974339, 'acc': 0.9686636399526254, 'roc_auc': 0.8370878769643673, 'pr_auc': 0.16482300973677907, 'recall': 0.0110062893081761, 'precision': 0.5384615384615384, 'f1': 0.021571648690292756, 'lift': 17.156265118529266}\" \n",
      "CV Fold: 4                                                                              \n",
      "LightGBM, Val CV4 Tuned: {'event_rate': 0.00039478878799842083, 'acc': 0.9687623371496249, 'roc_auc': 0.8325039858350386, 'pr_auc': 0.1745389268702702, 'recall': 0.009419152276295133, 'precision': 0.75, 'f1': 0.018604651162790697, 'lift': 23.85871271585557}\" \n",
      "CV Fold: 5                                                                              \n",
      "LightGBM, Val CV5 Tuned: {'event_rate': 0.0004934859849980261, 'acc': 0.9684662455586261, 'roc_auc': 0.8387751422746947, 'pr_auc': 0.1662989002871933, 'recall': 0.006279434850863423, 'precision': 0.4, 'f1': 0.012364760432766617, 'lift': 12.72464678178964}\" \n",
      "LigthGBM, OOT Tuned: {'event_rate': 0.00031581856223599544, 'acc': 0.967352256128854, 'roc_auc': 0.8323223145724133, 'pr_auc': 0.16751142751394363, 'recall': 0.002430133657351154, 'precision': 0.25, 'f1': 0.004813477737665463, 'lift': 7.69471445929526}\" \n",
      "['LGB_Tune62', 'LightGBM', LGBMClassifier(colsample_bytree=0.539131124061208, gamma=3.861877668961764,\n",
      "               learning_rate=0.05642559559786531, max_depth=3,\n",
      "               min_child_weight=3.078333614504986, n_estimators=217,\n",
      "               random_state=42, reg_alpha=2.8616471076508905,\n",
      "               reg_lambda=4.03491177779136, subsample=0.66759526149041,\n",
      "               verbose=-1), 0.967352256128854, 0.25, 0.002430133657351154, 0.004813477737665463, 0.8323223145724133, 0.16751142751394363, 7.69471445929526, 0.9687327279905251, 0.6682478632478632, 0.009743491010337372, 0.019197123415444363, 0.8367311592808321, 0.17249260659677107, 21.279965454332032]\n",
      "Parameters: {'colsample_bytree': 0.5626790499027122, 'gamma': 75.99225108678549, 'learning_rate': 0.07330617561897328, 'max_depth': 6.0, 'min_child_weight': 1.9055245820140991, 'n_estimators': 155.0, 'random_state': 42, 'reg_alpha': 2.2771968942033514, 'reg_lambda': 7.723167006407064, 'subsample': 0.7565932349674022, 'verbose': -1}\n",
      "CV Fold: 1                                                                              \n",
      "LightGBM, Val CV1 Tuned: {'event_rate': 0.0006415317804974339, 'acc': 0.9687623371496249, 'roc_auc': 0.838668735332531, 'pr_auc': 0.17140172161038628, 'recall': 0.012578616352201259, 'precision': 0.6153846153846154, 'f1': 0.02465331278890601, 'lift': 19.60716013546202}\" \n",
      "CV Fold: 2                                                                              \n",
      "LightGBM, Val CV2 Tuned: {'event_rate': 0.0008882747729964469, 'acc': 0.9688116857481247, 'roc_auc': 0.8474838761979099, 'pr_auc': 0.19302008678586974, 'recall': 0.01729559748427673, 'precision': 0.6111111111111112, 'f1': 0.03363914373088685, 'lift': 19.47099930118798}\" \n",
      "CV Fold: 3                                                                              \n",
      "LightGBM, Val CV3 Tuned: {'event_rate': 0.0009376233714962495, 'acc': 0.9682688511646269, 'roc_auc': 0.8387248097634877, 'pr_auc': 0.16929048908075506, 'recall': 0.009433962264150943, 'precision': 0.3157894736842105, 'f1': 0.0183206106870229, 'lift': 10.061569016881826}\" \n",
      "CV Fold: 4                                                                              \n",
      "LightGBM, Val CV4 Tuned: {'event_rate': 0.0008882747729964469, 'acc': 0.9687623371496249, 'roc_auc': 0.836592801109611, 'pr_auc': 0.17485588732911594, 'recall': 0.01726844583987441, 'precision': 0.6111111111111112, 'f1': 0.03358778625954198, 'lift': 19.440432583289724}\" \n",
      "CV Fold: 5                                                                              \n",
      "LightGBM, Val CV5 Tuned: {'event_rate': 0.0008389261744966443, 'acc': 0.968515594157126, 'roc_auc': 0.8446368572943479, 'pr_auc': 0.17256527030324068, 'recall': 0.012558869701726845, 'precision': 0.47058823529411764, 'f1': 0.024464831804281346, 'lift': 14.970172684458399}\" \n",
      "LigthGBM, OOT Tuned: {'event_rate': 0.0010264103272669852, 'acc': 0.967194346847736, 'roc_auc': 0.8388098929087255, 'pr_auc': 0.1709090557041227, 'recall': 0.010935601458080195, 'precision': 0.34615384615384615, 'f1': 0.02120141342756184, 'lift': 10.65422002056267}\" \n",
      "['LGB_Tune63', 'LightGBM', LGBMClassifier(colsample_bytree=0.5626790499027122, gamma=75.99225108678549,\n",
      "               learning_rate=0.07330617561897328, max_depth=6,\n",
      "               min_child_weight=1.9055245820140991, n_estimators=155,\n",
      "               random_state=42, reg_alpha=2.2771968942033514,\n",
      "               reg_lambda=7.723167006407064, subsample=0.7565932349674022,\n",
      "               verbose=-1), 0.967194346847736, 0.34615384615384615, 0.010935601458080195, 0.02120141342756184, 0.8388098929087255, 0.1709090557041227, 10.65422002056267, 0.9686241610738255, 0.5247969093170333, 0.013827098328446035, 0.026933137054127816, 0.8412214159395776, 0.17622669102187355, 16.71006674425599]\n",
      "Parameters: {'colsample_bytree': 0.6081168068681865, 'gamma': 2.6497585588271413, 'learning_rate': 0.1438428785769112, 'max_depth': 4.0, 'min_child_weight': 4.501764857746496, 'n_estimators': 80.0, 'random_state': 42, 'reg_alpha': 0.04520311459992765, 'reg_lambda': 2.359407250932024, 'subsample': 0.9938632145166301, 'verbose': -1}\n",
      "CV Fold: 1                                                                              \n",
      "LightGBM, Val CV1 Tuned: {'event_rate': 0.0011843663639952626, 'acc': 0.9686142913541256, 'roc_auc': 0.8312672308715697, 'pr_auc': 0.16911670224996803, 'recall': 0.018867924528301886, 'precision': 0.5, 'f1': 0.03636363636363636, 'lift': 15.930817610062892}\" \n",
      "CV Fold: 2                                                                              \n",
      "LightGBM, Val CV2 Tuned: {'event_rate': 0.0014311093564942756, 'acc': 0.9690584287406238, 'roc_auc': 0.8403309016255817, 'pr_auc': 0.18054093056526643, 'recall': 0.029874213836477988, 'precision': 0.6551724137931034, 'f1': 0.05714285714285714, 'lift': 20.87486445456517}\" \n",
      "CV Fold: 3                                                                              \n",
      "LightGBM, Val CV3 Tuned: {'event_rate': 0.0009869719699960521, 'acc': 0.9686142913541256, 'roc_auc': 0.8336694194405887, 'pr_auc': 0.16540377491891056, 'recall': 0.015723270440251572, 'precision': 0.5, 'f1': 0.03048780487804878, 'lift': 15.930817610062892}\" \n",
      "CV Fold: 4                                                                              \n",
      "LightGBM, Val CV4 Tuned: {'event_rate': 0.0010363205684958546, 'acc': 0.9689103829451243, 'roc_auc': 0.8276170037446414, 'pr_auc': 0.16260230232121936, 'recall': 0.02197802197802198, 'precision': 0.6666666666666666, 'f1': 0.0425531914893617, 'lift': 21.207744636316068}\" \n",
      "CV Fold: 5                                                                              \n",
      "LightGBM, Val CV5 Tuned: {'event_rate': 0.0009376233714962495, 'acc': 0.9684168969601263, 'roc_auc': 0.831660667684658, 'pr_auc': 0.15738489397595137, 'recall': 0.012558869701726845, 'precision': 0.42105263157894735, 'f1': 0.024390243902439025, 'lift': 13.394365033462778}\" \n",
      "LigthGBM, OOT Tuned: {'event_rate': 0.0012237969286644822, 'acc': 0.9675496427302515, 'roc_auc': 0.8327307412304282, 'pr_auc': 0.1742304599293017, 'recall': 0.019441069258809233, 'precision': 0.5161290322580645, 'f1': 0.03747072599531615, 'lift': 15.885862109512797}\" \n",
      "['LGB_Tune64', 'LightGBM', LGBMClassifier(colsample_bytree=0.6081168068681865, gamma=2.6497585588271413,\n",
      "               learning_rate=0.1438428785769112, max_depth=4,\n",
      "               min_child_weight=4.501764857746496, n_estimators=80,\n",
      "               random_state=42, reg_alpha=0.04520311459992765,\n",
      "               reg_lambda=2.359407250932024, subsample=0.9938632145166301,\n",
      "               verbose=-1), 0.9675496427302515, 0.5161290322580645, 0.019441069258809233, 0.03747072599531615, 0.8327307412304282, 0.1742304599293017, 15.885862109512797, 0.968722858270825, 0.5485783424077435, 0.019800460096956053, 0.0381875467552686, 0.8329090446734078, 0.16700972080626314, 17.467721868893957]\n",
      "Parameters: {'colsample_bytree': 0.6237465584213526, 'gamma': 4.797364521801694, 'learning_rate': 0.1803452648670532, 'max_depth': 3.0, 'min_child_weight': 2.7248238053856455, 'n_estimators': 232.0, 'random_state': 42, 'reg_alpha': 1.620635808806197, 'reg_lambda': 4.59553593329742, 'subsample': 0.70555202394173, 'verbose': -1}\n",
      "CV Fold: 1                                                                              \n",
      "LightGBM, Val CV1 Tuned: {'event_rate': 0.0019739439399921043, 'acc': 0.9689103829451243, 'roc_auc': 0.8325270631225065, 'pr_auc': 0.17691644094364284, 'recall': 0.036163522012578615, 'precision': 0.575, 'f1': 0.06804733727810651, 'lift': 18.320440251572325}\" \n",
      "CV Fold: 2                                                                              \n",
      "LightGBM, Val CV2 Tuned: {'event_rate': 0.0017272009474930913, 'acc': 0.9689597315436241, 'roc_auc': 0.8404591118066477, 'pr_auc': 0.18211621279558826, 'recall': 0.0330188679245283, 'precision': 0.6, 'f1': 0.06259314456035767, 'lift': 19.11698113207547}\" \n",
      "CV Fold: 3                                                                              \n",
      "LightGBM, Val CV3 Tuned: {'event_rate': 0.002368732727990525, 'acc': 0.9677260165811291, 'roc_auc': 0.8346540463950228, 'pr_auc': 0.15953614787957338, 'recall': 0.02358490566037736, 'precision': 0.3125, 'f1': 0.04385964912280702, 'lift': 9.956761006289309}\" \n",
      "CV Fold: 4                                                                              \n",
      "LightGBM, Val CV4 Tuned: {'event_rate': 0.0017272009474930913, 'acc': 0.9684168969601263, 'roc_auc': 0.8367138178840717, 'pr_auc': 0.1719442604664638, 'recall': 0.02511773940345369, 'precision': 0.45714285714285713, 'f1': 0.04761904761904762, 'lift': 14.542453464902446}\" \n",
      "CV Fold: 5                                                                              \n",
      "LightGBM, Val CV5 Tuned: {'event_rate': 0.001875246742992499, 'acc': 0.9676766679826293, 'roc_auc': 0.8407151299522596, 'pr_auc': 0.15871427245022302, 'recall': 0.015698587127158554, 'precision': 0.2631578947368421, 'f1': 0.029629629629629627, 'lift': 8.371478145914235}\" \n",
      "LigthGBM, OOT Tuned: {'event_rate': 0.0016975247720184754, 'acc': 0.9669180056057795, 'roc_auc': 0.8362112423527835, 'pr_auc': 0.170383719472827, 'recall': 0.01701093560145808, 'precision': 0.32558139534883723, 'f1': 0.03233256351039261, 'lift': 10.021023481872898}\" \n",
      "['LGB_Tune65', 'LightGBM', LGBMClassifier(colsample_bytree=0.6237465584213526, gamma=4.797364521801694,\n",
      "               learning_rate=0.1803452648670532, max_depth=3,\n",
      "               min_child_weight=2.7248238053856455, n_estimators=232,\n",
      "               random_state=42, reg_alpha=1.620635808806197,\n",
      "               reg_lambda=4.59553593329742, subsample=0.70555202394173,\n",
      "               verbose=-1), 0.9669180056057795, 0.32558139534883723, 0.01701093560145808, 0.03233256351039261, 0.8362112423527835, 0.170383719472827, 10.021023481872898, 0.9683379392025266, 0.4415601503759398, 0.026716724425619304, 0.05034976164198969, 0.8370138338321016, 0.16984546690709826, 14.061622800150754]\n",
      "Parameters: {'colsample_bytree': 0.7110456767254262, 'gamma': 7.946879745355176, 'learning_rate': 0.12485500815163374, 'max_depth': 3.0, 'min_child_weight': 6.545860968772894, 'n_estimators': 247.0, 'random_state': 42, 'reg_alpha': 0.6551630746728134, 'reg_lambda': 5.214899077805376, 'subsample': 0.7899498145246793, 'verbose': -1}\n",
      "CV Fold: 1                                                                              \n",
      "LightGBM, Val CV1 Tuned: {'event_rate': 0.0015298065534938808, 'acc': 0.969255823134623, 'roc_auc': 0.8379004355220948, 'pr_auc': 0.18539226208481677, 'recall': 0.03459119496855346, 'precision': 0.7096774193548387, 'f1': 0.06596701649175413, 'lift': 22.611483059444105}\" \n",
      "CV Fold: 2                                                                              \n",
      "LightGBM, Val CV2 Tuned: {'event_rate': 0.0013817607579944729, 'acc': 0.969009080142124, 'roc_auc': 0.8434882525669272, 'pr_auc': 0.18177502757350048, 'recall': 0.02830188679245283, 'precision': 0.6428571428571429, 'f1': 0.05421686746987952, 'lift': 20.48247978436658}\" \n",
      "CV Fold: 3                                                                              \n",
      "LightGBM, Val CV3 Tuned: {'event_rate': 0.0015791551519936833, 'acc': 0.9683181997631267, 'roc_auc': 0.8382323961533582, 'pr_auc': 0.16788522837534506, 'recall': 0.020440251572327043, 'precision': 0.40625, 'f1': 0.038922155688622756, 'lift': 12.9437893081761}\" \n",
      "CV Fold: 4                                                                              \n",
      "LightGBM, Val CV4 Tuned: {'event_rate': 0.0014311093564942756, 'acc': 0.968515594157126, 'roc_auc': 0.8360426666914085, 'pr_auc': 0.17023081372444843, 'recall': 0.02197802197802198, 'precision': 0.4827586206896552, 'f1': 0.042042042042042045, 'lift': 15.357332322849565}\" \n",
      "CV Fold: 5                                                                              \n",
      "LightGBM, Val CV5 Tuned: {'event_rate': 0.0010856691669956574, 'acc': 0.9684662455586261, 'roc_auc': 0.8422672320728206, 'pr_auc': 0.16950183059544746, 'recall': 0.015698587127158554, 'precision': 0.45454545454545453, 'f1': 0.030349013657056143, 'lift': 14.459825888397315}\" \n",
      "LigthGBM, OOT Tuned: {'event_rate': 0.001302751569223481, 'acc': 0.9671548695274564, 'roc_auc': 0.8372453728997856, 'pr_auc': 0.17356849603121796, 'recall': 0.014580801944106925, 'precision': 0.36363636363636365, 'f1': 0.02803738317757009, 'lift': 11.192311940793108}\" \n",
      "['LGB_Tune66', 'LightGBM', LGBMClassifier(colsample_bytree=0.7110456767254262, gamma=7.946879745355176,\n",
      "               learning_rate=0.12485500815163374, max_depth=3,\n",
      "               min_child_weight=6.545860968772894, n_estimators=247,\n",
      "               random_state=42, reg_alpha=0.6551630746728134,\n",
      "               reg_lambda=5.214899077805376, subsample=0.7899498145246793,\n",
      "               verbose=-1), 0.9671548695274564, 0.36363636363636365, 0.014580801944106925, 0.02803738317757009, 0.8372453728997856, 0.17356849603121796, 11.192311940793108, 0.9687129885511252, 0.5392177274894183, 0.024201988487702775, 0.046299419069870916, 0.8395861966013218, 0.17495703247071162, 17.170982072646733]\n",
      "Parameters: {'colsample_bytree': 0.6380649450899574, 'gamma': 1.8811137227621333, 'learning_rate': 0.1639029274521139, 'max_depth': 4.0, 'min_child_weight': 4.047379088494521, 'n_estimators': 245.0, 'random_state': 42, 'reg_alpha': 3.4622866598425146, 'reg_lambda': 4.904269158423048, 'subsample': 0.7146750719688244, 'verbose': -1}\n",
      "CV Fold: 1                                                                              \n",
      "LightGBM, Val CV1 Tuned: {'event_rate': 0.001480457954994078, 'acc': 0.969009080142124, 'roc_auc': 0.8337659075149992, 'pr_auc': 0.17539112085166636, 'recall': 0.029874213836477988, 'precision': 0.6333333333333333, 'f1': 0.05705705705705705, 'lift': 20.179035639412998}\" \n",
      "CV Fold: 2                                                                              \n",
      "LightGBM, Val CV2 Tuned: {'event_rate': 0.0011350177654954599, 'acc': 0.9686636399526254, 'roc_auc': 0.8387091890291496, 'pr_auc': 0.1770487639411886, 'recall': 0.018867924528301886, 'precision': 0.5217391304347826, 'f1': 0.036418816388467376, 'lift': 16.62346185397867}\" \n",
      "CV Fold: 3                                                                              \n",
      "LightGBM, Val CV3 Tuned: {'event_rate': 0.002368732727990525, 'acc': 0.9682195025661271, 'roc_auc': 0.8326715749417146, 'pr_auc': 0.1621976381139794, 'recall': 0.031446540880503145, 'precision': 0.4166666666666667, 'f1': 0.058479532163742694, 'lift': 13.275681341719077}\" \n",
      "CV Fold: 4                                                                              \n",
      "LightGBM, Val CV4 Tuned: {'event_rate': 0.0020232925384919068, 'acc': 0.9686142913541256, 'roc_auc': 0.8310728205042888, 'pr_auc': 0.17770904814193206, 'recall': 0.03296703296703297, 'precision': 0.5121951219512195, 'f1': 0.061946902654867256, 'lift': 16.293755025462342}\" \n",
      "CV Fold: 5                                                                              \n",
      "LightGBM, Val CV5 Tuned: {'event_rate': 0.0015791551519936833, 'acc': 0.9686636399526254, 'roc_auc': 0.838278237640632, 'pr_auc': 0.16235408141176685, 'recall': 0.026687598116169546, 'precision': 0.53125, 'f1': 0.0508221225710015, 'lift': 16.899921507064366}\" \n",
      "LigthGBM, OOT Tuned: {'event_rate': 0.00209229797481347, 'acc': 0.9666811416841025, 'roc_auc': 0.8368631979916394, 'pr_auc': 0.16828727340227478, 'recall': 0.019441069258809233, 'precision': 0.3018867924528302, 'f1': 0.0365296803652968, 'lift': 9.291730667828238}\" \n",
      "['LGB_Tune67', 'LightGBM', LGBMClassifier(colsample_bytree=0.6380649450899574, gamma=1.8811137227621333,\n",
      "               learning_rate=0.1639029274521139, max_depth=4,\n",
      "               min_child_weight=4.047379088494521, n_estimators=245,\n",
      "               random_state=42, reg_alpha=3.4622866598425146,\n",
      "               reg_lambda=4.904269158423048, subsample=0.7146750719688244,\n",
      "               verbose=-1), 0.9666811416841025, 0.3018867924528302, 0.019441069258809233, 0.0365296803652968, 0.8368631979916394, 0.16828727340227478, 9.291730667828238, 0.9686340307935254, 0.5230368504772004, 0.02796866206569711, 0.05294488616702717, 0.8348995459261568, 0.17094013049210666, 16.654371073527493]\n",
      "Parameters: {'colsample_bytree': 0.5184889463894972, 'gamma': 3.447452591871998, 'learning_rate': 0.19639556889783566, 'max_depth': 3.0, 'min_child_weight': 8.525524702608484, 'n_estimators': 203.0, 'random_state': 42, 'reg_alpha': 2.113720028390656, 'reg_lambda': 7.213759047509786, 'subsample': 0.5742469590118529, 'verbose': -1}\n",
      "CV Fold: 1                                                                              \n",
      "LightGBM, Val CV1 Tuned: {'event_rate': 0.0017272009474930913, 'acc': 0.9691571259376234, 'roc_auc': 0.8326036447739271, 'pr_auc': 0.18177568865333868, 'recall': 0.036163522012578615, 'precision': 0.6571428571428571, 'f1': 0.06855439642324888, 'lift': 20.937646001796942}\" \n",
      "CV Fold: 2                                                                              \n",
      "LightGBM, Val CV2 Tuned: {'event_rate': 0.001480457954994078, 'acc': 0.9687129885511252, 'roc_auc': 0.840771927025056, 'pr_auc': 0.1841681013277311, 'recall': 0.025157232704402517, 'precision': 0.5333333333333333, 'f1': 0.048048048048048055, 'lift': 16.99287211740042}\" \n",
      "CV Fold: 3                                                                              \n",
      "LightGBM, Val CV3 Tuned: {'event_rate': 0.0017272009474930913, 'acc': 0.9686636399526254, 'roc_auc': 0.8361654125219651, 'pr_auc': 0.17266066618027573, 'recall': 0.02830188679245283, 'precision': 0.5142857142857142, 'f1': 0.05365126676602087, 'lift': 16.385983827493263}\" \n",
      "CV Fold: 4                                                                              \n",
      "LightGBM, Val CV4 Tuned: {'event_rate': 0.0019245953414923015, 'acc': 0.9683181997631267, 'roc_auc': 0.8338250123036387, 'pr_auc': 0.16745128832705208, 'recall': 0.026687598116169546, 'precision': 0.4358974358974359, 'f1': 0.05029585798816569, 'lift': 13.866602262206658}\" \n",
      "CV Fold: 5                                                                              \n",
      "LightGBM, Val CV5 Tuned: {'event_rate': 0.0016778523489932886, 'acc': 0.9681701539676273, 'roc_auc': 0.8414071571384019, 'pr_auc': 0.16211500931460682, 'recall': 0.02040816326530612, 'precision': 0.38235294117647056, 'f1': 0.038748137108792845, 'lift': 12.16326530612245}\" \n",
      "LigthGBM, OOT Tuned: {'event_rate': 0.001737002092297975, 'acc': 0.966799573644941, 'roc_auc': 0.8377539230872811, 'pr_auc': 0.17444907225024003, 'recall': 0.015795868772782502, 'precision': 0.29545454545454547, 'f1': 0.029988465974625143, 'lift': 9.093753451894399}\" \n",
      "['LGB_Tune68', 'LightGBM', LGBMClassifier(colsample_bytree=0.5184889463894972, gamma=3.447452591871998,\n",
      "               learning_rate=0.19639556889783566, max_depth=3,\n",
      "               min_child_weight=8.525524702608484, n_estimators=203,\n",
      "               random_state=42, reg_alpha=2.113720028390656,\n",
      "               reg_lambda=7.213759047509786, subsample=0.5742469590118529,\n",
      "               verbose=-1), 0.966799573644941, 0.29545454545454547, 0.015795868772782502, 0.029988465974625143, 0.8377539230872811, 0.17444907225024003, 9.093753451894399, 0.9686044216344257, 0.5046024563671623, 0.027343680578181928, 0.05185954126685527, 0.8369546307525978, 0.1736341507606009, 16.069273903003946]\n",
      "Parameters: {'colsample_bytree': 0.5804989278536211, 'gamma': 4.209250420437436, 'learning_rate': 0.1329539637384354, 'max_depth': 3.0, 'min_child_weight': 2.3495173271481313, 'n_estimators': 212.0, 'random_state': 42, 'reg_alpha': 3.7687803721976287, 'reg_lambda': 6.308371650034887, 'subsample': 0.6899108967501224, 'verbose': -1}\n",
      "CV Fold: 1                                                                              \n",
      "LightGBM, Val CV1 Tuned: {'event_rate': 0.0011843663639952626, 'acc': 0.9693051717331228, 'roc_auc': 0.8380085790675113, 'pr_auc': 0.17775462862125915, 'recall': 0.029874213836477988, 'precision': 0.7916666666666666, 'f1': 0.05757575757575757, 'lift': 25.223794549266245}\" \n",
      "CV Fold: 2                                                                              \n",
      "LightGBM, Val CV2 Tuned: {'event_rate': 0.0011843663639952626, 'acc': 0.969009080142124, 'roc_auc': 0.8453750770622893, 'pr_auc': 0.19116744124568158, 'recall': 0.025157232704402517, 'precision': 0.6666666666666666, 'f1': 0.04848484848484849, 'lift': 21.241090146750523}\" \n",
      "CV Fold: 3                                                                              \n",
      "LightGBM, Val CV3 Tuned: {'event_rate': 0.0014311093564942756, 'acc': 0.9681701539676273, 'roc_auc': 0.8383934098765337, 'pr_auc': 0.1713913073816297, 'recall': 0.015723270440251572, 'precision': 0.3448275862068966, 'f1': 0.030075187969924814, 'lift': 10.986770765560616}\" \n",
      "CV Fold: 4                                                                              \n",
      "LightGBM, Val CV4 Tuned: {'event_rate': 0.0009376233714962495, 'acc': 0.968515594157126, 'roc_auc': 0.8344868852769777, 'pr_auc': 0.17230806247073976, 'recall': 0.0141287284144427, 'precision': 0.47368421052631576, 'f1': 0.027439024390243906, 'lift': 15.068660662645625}\" \n",
      "CV Fold: 5                                                                              \n",
      "LightGBM, Val CV5 Tuned: {'event_rate': 0.0009869719699960521, 'acc': 0.9683675483616265, 'roc_auc': 0.845114765574191, 'pr_auc': 0.16939958015535558, 'recall': 0.012558869701726845, 'precision': 0.4, 'f1': 0.024353120243531205, 'lift': 12.72464678178964}\" \n",
      "LigthGBM, OOT Tuned: {'event_rate': 0.0008685010461489874, 'acc': 0.967431210769413, 'roc_auc': 0.8360176883745254, 'pr_auc': 0.17612707743273953, 'recall': 0.012150668286755772, 'precision': 0.45454545454545453, 'f1': 0.023668639053254437, 'lift': 13.990389925991384}\" \n",
      "['LGB_Tune69', 'LightGBM', LGBMClassifier(colsample_bytree=0.5804989278536211, gamma=4.209250420437436,\n",
      "               learning_rate=0.1329539637384354, max_depth=3,\n",
      "               min_child_weight=2.3495173271481313, n_estimators=212,\n",
      "               random_state=42, reg_alpha=3.7687803721976287,\n",
      "               reg_lambda=6.308371650034887, subsample=0.6899108967501224,\n",
      "               verbose=-1), 0.967431210769413, 0.45454545454545453, 0.012150668286755772, 0.023668639053254437, 0.8360176883745254, 0.17612707743273953, 13.990389925991384, 0.9686735096723254, 0.5353690260133092, 0.019488463019460323, 0.0375855877328612, 0.8402757433715007, 0.17640420397493317, 17.04899258120253]\n",
      "Parameters: {'colsample_bytree': 0.6759413662411551, 'gamma': 5.607348275833582, 'learning_rate': 0.0938053939209133, 'max_depth': 4.0, 'min_child_weight': 3.2995718383273998, 'n_estimators': 250.0, 'random_state': 42, 'reg_alpha': 1.4483695304564428, 'reg_lambda': 3.1931769510812105, 'subsample': 0.5490065494015915, 'verbose': -1}\n",
      "CV Fold: 1                                                                              \n",
      "LightGBM, Val CV1 Tuned: {'event_rate': 0.0010856691669956574, 'acc': 0.9692064745361232, 'roc_auc': 0.837418595947517, 'pr_auc': 0.1827987717051667, 'recall': 0.026729559748427674, 'precision': 0.7727272727272727, 'f1': 0.051671732522796346, 'lift': 24.620354488279016}\" \n",
      "CV Fold: 2                                                                              \n",
      "LightGBM, Val CV2 Tuned: {'event_rate': 0.0011350177654954599, 'acc': 0.9689597315436241, 'roc_auc': 0.8431719927763315, 'pr_auc': 0.18318027877851492, 'recall': 0.02358490566037736, 'precision': 0.6521739130434783, 'f1': 0.04552352048558422, 'lift': 20.779327317473342}\" \n",
      "CV Fold: 3                                                                              \n",
      "LightGBM, Val CV3 Tuned: {'event_rate': 0.001480457954994078, 'acc': 0.9683181997631267, 'roc_auc': 0.8373695708735948, 'pr_auc': 0.1682926638280242, 'recall': 0.018867924528301886, 'precision': 0.4, 'f1': 0.036036036036036036, 'lift': 12.744654088050314}\" \n",
      "CV Fold: 4                                                                              \n",
      "LightGBM, Val CV4 Tuned: {'event_rate': 0.0014311093564942756, 'acc': 0.9683181997631267, 'roc_auc': 0.8371974850586674, 'pr_auc': 0.15866174408902656, 'recall': 0.018838304552590265, 'precision': 0.41379310344827586, 'f1': 0.03603603603603603, 'lift': 13.163427705299625}\" \n",
      "CV Fold: 5                                                                              \n",
      "LightGBM, Val CV5 Tuned: {'event_rate': 0.001480457954994078, 'acc': 0.9682688511646269, 'roc_auc': 0.8425996482755029, 'pr_auc': 0.16708604197465043, 'recall': 0.018838304552590265, 'precision': 0.4, 'f1': 0.035982008995502246, 'lift': 12.72464678178964}\" \n",
      "LigthGBM, OOT Tuned: {'event_rate': 0.0014211835300619795, 'acc': 0.967036437566618, 'roc_auc': 0.8394706239200589, 'pr_auc': 0.1759127161874376, 'recall': 0.014580801944106925, 'precision': 0.3333333333333333, 'f1': 0.027939464493597205, 'lift': 10.259619279060347}\" \n",
      "['LGB_Tune70', 'LightGBM', LGBMClassifier(colsample_bytree=0.6759413662411551, gamma=5.607348275833582,\n",
      "               learning_rate=0.0938053939209133, max_depth=4,\n",
      "               min_child_weight=3.2995718383273998, n_estimators=250,\n",
      "               random_state=42, reg_alpha=1.4483695304564428,\n",
      "               reg_lambda=3.1931769510812105, subsample=0.5490065494015915,\n",
      "               verbose=-1), 0.967036437566618, 0.3333333333333333, 0.014580801944106925, 0.027939464493597205, 0.8394706239200589, 0.1759127161874376, 10.259619279060347, 0.9686142913541256, 0.5277388578438054, 0.02137179980845749, 0.041049866815190975, 0.8395514585863229, 0.17200390007507654, 16.80648207617839]\n",
      "Parameters: {'colsample_bytree': 0.6148530478937558, 'gamma': 2.4110473195703808, 'learning_rate': 0.19938177464147616, 'max_depth': 3.0, 'min_child_weight': 4.663708369002218, 'n_estimators': 232.0, 'random_state': 42, 'reg_alpha': 1.0325567112128868, 'reg_lambda': 8.661394297558918, 'subsample': 0.8102782334259961, 'verbose': -1}\n",
      "CV Fold: 1                                                                              \n",
      "LightGBM, Val CV1 Tuned: {'event_rate': 0.0017272009474930913, 'acc': 0.9690584287406238, 'roc_auc': 0.8347533782441461, 'pr_auc': 0.18367880253642593, 'recall': 0.03459119496855346, 'precision': 0.6285714285714286, 'f1': 0.06557377049180328, 'lift': 20.027313566936208}\" \n",
      "CV Fold: 2                                                                              \n",
      "LightGBM, Val CV2 Tuned: {'event_rate': 0.001480457954994078, 'acc': 0.969009080142124, 'roc_auc': 0.8412263702347949, 'pr_auc': 0.1881624538307675, 'recall': 0.029874213836477988, 'precision': 0.6333333333333333, 'f1': 0.05705705705705705, 'lift': 20.179035639412998}\" \n",
      "CV Fold: 3                                                                              \n",
      "LightGBM, Val CV3 Tuned: {'event_rate': 0.0023193841294907223, 'acc': 0.9680714567706277, 'roc_auc': 0.8350134834974553, 'pr_auc': 0.17056192730502623, 'recall': 0.02830188679245283, 'precision': 0.3829787234042553, 'f1': 0.052708638360175704, 'lift': 12.202328382175834}\" \n",
      "CV Fold: 4                                                                              \n",
      "LightGBM, Val CV4 Tuned: {'event_rate': 0.0017272009474930913, 'acc': 0.9687129885511252, 'roc_auc': 0.8333969344603384, 'pr_auc': 0.17370772264523618, 'recall': 0.029827315541601257, 'precision': 0.5428571428571428, 'f1': 0.05654761904761905, 'lift': 17.269163489571653}\" \n",
      "CV Fold: 5                                                                              \n",
      "LightGBM, Val CV5 Tuned: {'event_rate': 0.0017765495459928938, 'acc': 0.9680714567706277, 'roc_auc': 0.839530157372197, 'pr_auc': 0.15731621265703155, 'recall': 0.02040816326530612, 'precision': 0.3611111111111111, 'f1': 0.038632986627043085, 'lift': 11.487528344671201}\" \n",
      "LigthGBM, OOT Tuned: {'event_rate': 0.001737002092297975, 'acc': 0.967194346847736, 'roc_auc': 0.8348253780202403, 'pr_auc': 0.16893190334680114, 'recall': 0.02187120291616039, 'precision': 0.4090909090909091, 'f1': 0.041522491349480974, 'lift': 12.591350933392246}\" \n",
      "['LGB_Tune71', 'LightGBM', LGBMClassifier(colsample_bytree=0.6148530478937558, gamma=2.4110473195703808,\n",
      "               learning_rate=0.19938177464147616, max_depth=3,\n",
      "               min_child_weight=4.663708369002218, n_estimators=232,\n",
      "               random_state=42, reg_alpha=1.0325567112128868,\n",
      "               reg_lambda=8.661394297558918, subsample=0.8102782334259961,\n",
      "               verbose=-1), 0.967194346847736, 0.4090909090909091, 0.02187120291616039, 0.041522491349480974, 0.8348253780202403, 0.16893190334680114, 12.591350933392246, 0.9685846821950257, 0.5097703478554542, 0.028600554880878332, 0.05410401431673963, 0.8367840647617865, 0.17468542379489746, 16.23307388455358]\n",
      "Parameters: {'colsample_bytree': 0.65329058171475, 'gamma': 15.63130179545152, 'learning_rate': 0.10874986937252465, 'max_depth': 5.0, 'min_child_weight': 2.1171375148259783, 'n_estimators': 222.0, 'random_state': 42, 'reg_alpha': 2.7229274114549504, 'reg_lambda': 6.680679109284668, 'subsample': 0.7321988142945559, 'verbose': -1}\n",
      "CV Fold: 1                                                                              \n",
      "LightGBM, Val CV1 Tuned: {'event_rate': 0.0008389261744966443, 'acc': 0.9690584287406238, 'roc_auc': 0.8301565566069778, 'pr_auc': 0.17106560285993566, 'recall': 0.020440251572327043, 'precision': 0.7647058823529411, 'f1': 0.039816232771822356, 'lift': 24.364779874213834}\" \n",
      "CV Fold: 2                                                                              \n",
      "LightGBM, Val CV2 Tuned: {'event_rate': 0.001233714962495065, 'acc': 0.9689597315436241, 'roc_auc': 0.8380025710927657, 'pr_auc': 0.18582692282542737, 'recall': 0.025157232704402517, 'precision': 0.64, 'f1': 0.04841149773071105, 'lift': 20.391446540880505}\" \n",
      "CV Fold: 3                                                                              \n",
      "LightGBM, Val CV3 Tuned: {'event_rate': 0.0015298065534938808, 'acc': 0.9684662455586261, 'roc_auc': 0.8335298341606714, 'pr_auc': 0.1640379960142079, 'recall': 0.0220125786163522, 'precision': 0.45161290322580644, 'f1': 0.04197901049475262, 'lift': 14.389125583282611}\" \n",
      "CV Fold: 4                                                                              \n",
      "LightGBM, Val CV4 Tuned: {'event_rate': 0.0010363205684958546, 'acc': 0.9686142913541256, 'roc_auc': 0.8355368437689438, 'pr_auc': 0.1673692615166885, 'recall': 0.01726844583987441, 'precision': 0.5238095238095238, 'f1': 0.03343465045592705, 'lift': 16.663227928534052}\" \n",
      "CV Fold: 5                                                                              \n",
      "LightGBM, Val CV5 Tuned: {'event_rate': 0.0011843663639952626, 'acc': 0.9686636399526254, 'roc_auc': 0.8417870842227959, 'pr_auc': 0.16623580957458825, 'recall': 0.02040816326530612, 'precision': 0.5416666666666666, 'f1': 0.03933434190620272, 'lift': 17.2312925170068}\" \n",
      "LigthGBM, OOT Tuned: {'event_rate': 0.0013422288895029806, 'acc': 0.9672733014882949, 'roc_auc': 0.8367077202058256, 'pr_auc': 0.17234637756232501, 'recall': 0.01701093560145808, 'precision': 0.4117647058823529, 'f1': 0.03267211201866978, 'lift': 12.673647344721605}\" \n",
      "['LGB_Tune72', 'LightGBM', LGBMClassifier(colsample_bytree=0.65329058171475, gamma=15.63130179545152,\n",
      "               learning_rate=0.10874986937252465, max_depth=5,\n",
      "               min_child_weight=2.1171375148259783, n_estimators=222,\n",
      "               random_state=42, reg_alpha=2.7229274114549504,\n",
      "               reg_lambda=6.680679109284668, subsample=0.7321988142945559,\n",
      "               verbose=-1), 0.9672733014882949, 0.4117647058823529, 0.01701093560145808, 0.03267211201866978, 0.8367077202058256, 0.17234637756232501, 12.673647344721605, 0.9687524674299249, 0.5843589952109876, 0.021057334399652457, 0.04059514667188316, 0.835802577970431, 0.17090711855816954, 18.60797448878356]\n",
      "Parameters: {'colsample_bytree': 0.5953317758839723, 'gamma': 1.5108911356334085, 'learning_rate': 0.0507567269605436, 'max_depth': 4.0, 'min_child_weight': 1.5194042190649832, 'n_estimators': 236.0, 'random_state': 42, 'reg_alpha': 3.125872526212638, 'reg_lambda': 4.253411077853571, 'subsample': 0.7579795112143062, 'verbose': -1}\n",
      "CV Fold: 1                                                                              \n",
      "LightGBM, Val CV1 Tuned: {'event_rate': 0.0005428345834978287, 'acc': 0.9687623371496249, 'roc_auc': 0.8390966633470603, 'pr_auc': 0.18135440541342696, 'recall': 0.0110062893081761, 'precision': 0.6363636363636364, 'f1': 0.021638330757341576, 'lift': 20.275586049170954}\" \n",
      "CV Fold: 2                                                                              \n",
      "LightGBM, Val CV2 Tuned: {'event_rate': 0.0008389261744966443, 'acc': 0.9688610343466245, 'roc_auc': 0.8440256058281521, 'pr_auc': 0.18281714350040035, 'recall': 0.01729559748427673, 'precision': 0.6470588235294118, 'f1': 0.0336906584992343, 'lift': 20.61635220125786}\" \n",
      "CV Fold: 3                                                                              \n",
      "LightGBM, Val CV3 Tuned: {'event_rate': 0.0006908803789972364, 'acc': 0.9684168969601263, 'roc_auc': 0.8371987841781667, 'pr_auc': 0.16869778671781988, 'recall': 0.007861635220125786, 'precision': 0.35714285714285715, 'f1': 0.015384615384615384, 'lift': 11.37915543575921}\" \n",
      "CV Fold: 4                                                                              \n",
      "LightGBM, Val CV4 Tuned: {'event_rate': 0.0005428345834978287, 'acc': 0.9689103829451243, 'roc_auc': 0.8353611974789799, 'pr_auc': 0.171749085385017, 'recall': 0.0141287284144427, 'precision': 0.8181818181818182, 'f1': 0.02777777777777778, 'lift': 26.02768659911517}\" \n",
      "CV Fold: 5                                                                              \n",
      "LightGBM, Val CV5 Tuned: {'event_rate': 0.0006415317804974339, 'acc': 0.968515594157126, 'roc_auc': 0.8432596016172577, 'pr_auc': 0.16802882122465398, 'recall': 0.009419152276295133, 'precision': 0.46153846153846156, 'f1': 0.01846153846153846, 'lift': 14.682284748218812}\" \n",
      "LigthGBM, OOT Tuned: {'event_rate': 0.0006711144447514903, 'acc': 0.9673127788085745, 'roc_auc': 0.8377505517577418, 'pr_auc': 0.16877833084760088, 'recall': 0.007290400972053463, 'precision': 0.35294117647058826, 'f1': 0.014285714285714285, 'lift': 10.863126295475663}\" \n",
      "['LGB_Tune73', 'LightGBM', LGBMClassifier(colsample_bytree=0.5953317758839723, gamma=1.5108911356334085,\n",
      "               learning_rate=0.0507567269605436, max_depth=4,\n",
      "               min_child_weight=1.5194042190649832, n_estimators=236,\n",
      "               random_state=42, reg_alpha=3.125872526212638,\n",
      "               reg_lambda=4.253411077853571, subsample=0.7579795112143062,\n",
      "               verbose=-1), 0.9673127788085745, 0.35294117647058826, 0.007290400972053463, 0.014285714285714285, 0.8377505517577418, 0.16877833084760088, 10.863126295475663, 0.9686932491117253, 0.584057119351237, 0.01194228054066329, 0.023390584176101497, 0.8397883704899234, 0.17452944844826362, 18.596213006704403]\n",
      "Parameters: {'colsample_bytree': 0.5312203954846059, 'gamma': 2.9375263969585177, 'learning_rate': 0.029190649740678774, 'max_depth': 3.0, 'min_child_weight': 5.54311445096138, 'n_estimators': 227.0, 'random_state': 42, 'reg_alpha': 0.3155407254799558, 'reg_lambda': 6.255371035497656, 'subsample': 0.6159037152951214, 'verbose': -1}\n",
      "CV Fold: 1                                                                              \n",
      "LightGBM, Val CV1 Tuned: {'event_rate': 9.869719699960521e-05, 'acc': 0.9687129885511252, 'roc_auc': 0.8230865721924653, 'pr_auc': 0.16987022261223234, 'recall': 0.0031446540880503146, 'precision': 1.0, 'f1': 0.006269592476489028, 'lift': 31.861635220125788}\" \n",
      "CV Fold: 2                                                                              \n",
      "LightGBM, Val CV2 Tuned: {'event_rate': 0.00019739439399921041, 'acc': 0.9687129885511252, 'roc_auc': 0.8344831395400998, 'pr_auc': 0.1709601445362714, 'recall': 0.0047169811320754715, 'precision': 0.75, 'f1': 0.009375, 'lift': 23.89622641509434}\" \n",
      "CV Fold: 3                                                                              \n",
      "LightGBM, Val CV3 Tuned: {'event_rate': 0.00014804579549940782, 'acc': 0.9686636399526254, 'roc_auc': 0.8289779121214336, 'pr_auc': 0.1561003145141146, 'recall': 0.0031446540880503146, 'precision': 0.6666666666666666, 'f1': 0.006259780907668233, 'lift': 21.241090146750523}\" \n",
      "CV Fold: 4                                                                              \n",
      "LightGBM, Val CV4 Tuned: {'event_rate': 4.9348598499802604e-05, 'acc': 0.9686142913541256, 'roc_auc': 0.8259708396764492, 'pr_auc': 0.16555038153143253, 'recall': 0.0015698587127158557, 'precision': 1.0, 'f1': 0.0031347962382445144, 'lift': 31.8116169544741}\" \n",
      "CV Fold: 5                                                                              \n",
      "LightGBM, Val CV5 Tuned: {'event_rate': 9.869719699960521e-05, 'acc': 0.9686636399526254, 'roc_auc': 0.8279101874768195, 'pr_auc': 0.16180897443879252, 'recall': 0.0031397174254317113, 'precision': 1.0, 'f1': 0.006259780907668232, 'lift': 31.8116169544741}\" \n",
      "LigthGBM, OOT Tuned: {'event_rate': 0.0, 'acc': 0.9675101654099719, 'roc_auc': 0.8221320744127788, 'pr_auc': 0.15942316970711706, 'recall': 0.0, 'precision': 0.0, 'f1': 0.0, 'lift': nan}\" \n",
      "['LGB_Tune74', 'LightGBM', LGBMClassifier(colsample_bytree=0.5312203954846059, gamma=2.9375263969585177,\n",
      "               learning_rate=0.029190649740678774, max_depth=3,\n",
      "               min_child_weight=5.54311445096138, n_estimators=227,\n",
      "               random_state=42, reg_alpha=0.3155407254799558,\n",
      "               reg_lambda=6.255371035497656, subsample=0.6159037152951214,\n",
      "               verbose=-1), 0.9675101654099719, 0.0, 0.0, 0.0, 0.8221320744127788, 0.15942316970711706, nan, 0.9686735096723254, 0.8833333333333332, 0.0031431730892647336, 0.006259790106014002, 0.8280857302014535, 0.16485800752656868, 28.124437138183772]\n",
      "Parameters: {'colsample_bytree': 0.503352867400771, 'gamma': 7.117303072943082, 'learning_rate': 0.1484449814536721, 'max_depth': 4.0, 'min_child_weight': 16.994126309315654, 'n_estimators': 199.0, 'random_state': 42, 'reg_alpha': 2.0144226524194004, 'reg_lambda': 5.878739456004845, 'subsample': 0.6397217941425376, 'verbose': -1}\n",
      " 30%|███       | 75/250 [1:26:11<3:51:44, 79.45s/trial, best loss: -0.17752098504240574]"
     ]
    },
    {
     "name": "stderr",
     "output_type": "stream",
     "text": [
      "/opt/conda/lib/python3.10/site-packages/sklearn/metrics/_classification.py:1469: UndefinedMetricWarning: Precision is ill-defined and being set to 0.0 due to no predicted samples. Use `zero_division` parameter to control this behavior.\n",
      "  _warn_prf(average, modifier, msg_start, len(result))\n",
      "\n",
      "/home/msds-pt2025b/jco/term2_acs/final_project/HOME_CREDIT_KAGGLE/notebooks/utils/model_helpers.py:45: RuntimeWarning: invalid value encountered in scalar divide\n",
      "  lift = recall / event_rate\n",
      "\n"
     ]
    },
    {
     "name": "stdout",
     "output_type": "stream",
     "text": [
      "CV Fold: 1                                                                              \n",
      "LightGBM, Val CV1 Tuned: {'event_rate': 0.0013324121594946703, 'acc': 0.9690584287406238, 'roc_auc': 0.8334790467474907, 'pr_auc': 0.175855922818301, 'recall': 0.02830188679245283, 'precision': 0.6666666666666666, 'f1': 0.05429864253393665, 'lift': 21.241090146750526}\" \n",
      "CV Fold: 2                                                                              \n",
      "LightGBM, Val CV2 Tuned: {'event_rate': 0.0013324121594946703, 'acc': 0.9690584287406238, 'roc_auc': 0.8416500526138375, 'pr_auc': 0.18614195806926762, 'recall': 0.02830188679245283, 'precision': 0.6666666666666666, 'f1': 0.05429864253393665, 'lift': 21.241090146750526}\" \n",
      "CV Fold: 3                                                                              \n",
      "LightGBM, Val CV3 Tuned: {'event_rate': 0.0015791551519936833, 'acc': 0.9684168969601263, 'roc_auc': 0.8390417104047229, 'pr_auc': 0.17172057562950313, 'recall': 0.0220125786163522, 'precision': 0.4375, 'f1': 0.041916167664670656, 'lift': 13.939465408805031}\" \n",
      "CV Fold: 4                                                                              \n",
      "LightGBM, Val CV4 Tuned: {'event_rate': 0.001628503750493486, 'acc': 0.968515594157126, 'roc_auc': 0.8375914894413465, 'pr_auc': 0.1753215287035364, 'recall': 0.02511773940345369, 'precision': 0.48484848484848486, 'f1': 0.04776119402985074, 'lift': 15.423814280957139}\" \n",
      "CV Fold: 5                                                                              \n",
      "LightGBM, Val CV5 Tuned: {'event_rate': 0.0014311093564942756, 'acc': 0.9687129885511252, 'roc_auc': 0.8394474532447733, 'pr_auc': 0.1609932881872628, 'recall': 0.02511773940345369, 'precision': 0.5517241379310345, 'f1': 0.04804804804804804, 'lift': 17.5512369403995}\" \n",
      "LigthGBM, OOT Tuned: {'event_rate': 0.0015396154909004776, 'acc': 0.9671548695274564, 'roc_auc': 0.8369688495099971, 'pr_auc': 0.17329398848698796, 'recall': 0.018226002430133656, 'precision': 0.38461538461538464, 'f1': 0.03480278422273781, 'lift': 11.838022245069633}\" \n",
      "['LGB_Tune75', 'LightGBM', LGBMClassifier(colsample_bytree=0.503352867400771, gamma=7.117303072943082,\n",
      "               learning_rate=0.1484449814536721, max_depth=4,\n",
      "               min_child_weight=16.994126309315654, n_estimators=199,\n",
      "               random_state=42, reg_alpha=2.0144226524194004,\n",
      "               reg_lambda=5.878739456004845, subsample=0.6397217941425376,\n",
      "               verbose=-1), 0.9671548695274564, 0.38461538461538464, 0.018226002430133656, 0.03480278422273781, 0.8369688495099971, 0.17329398848698796, 11.838022245069633, 0.968752467429925, 0.5614811912225706, 0.02577036620163305, 0.04926453896208855, 0.8382419504904342, 0.1740066546815742, 17.879339384732546]\n",
      "Parameters: {'colsample_bytree': 0.7961033968858096, 'gamma': 12.182614479927338, 'learning_rate': 0.16606067803952118, 'max_depth': 5.0, 'min_child_weight': 2.900402377116213, 'n_estimators': 241.0, 'random_state': 42, 'reg_alpha': 2.3947526223116116, 'reg_lambda': 3.729039420135675, 'subsample': 0.7195998749361878, 'verbose': -1}\n",
      "CV Fold: 1                                                                              \n",
      "LightGBM, Val CV1 Tuned: {'event_rate': 0.0018258981444926965, 'acc': 0.9684662455586261, 'roc_auc': 0.8220751096175019, 'pr_auc': 0.16212033017436914, 'recall': 0.026729559748427674, 'precision': 0.4594594594594595, 'f1': 0.05052005943536405, 'lift': 14.63912969573347}\" \n",
      "CV Fold: 2                                                                              \n",
      "LightGBM, Val CV2 Tuned: {'event_rate': 0.001875246742992499, 'acc': 0.9684168969601263, 'roc_auc': 0.8284056725535205, 'pr_auc': 0.173879145393761, 'recall': 0.026729559748427674, 'precision': 0.4473684210526316, 'f1': 0.050445103857566766, 'lift': 14.253889440582588}\" \n",
      "CV Fold: 3                                                                              \n",
      "LightGBM, Val CV3 Tuned: {'event_rate': 0.003010264508487959, 'acc': 0.9679727595736282, 'roc_auc': 0.8218868597421473, 'pr_auc': 0.1545569769139727, 'recall': 0.03773584905660377, 'precision': 0.39344262295081966, 'f1': 0.06886657101865136, 'lift': 12.535725332508505}\" \n",
      "CV Fold: 4                                                                              \n",
      "LightGBM, Val CV4 Tuned: {'event_rate': 0.0020726411369917093, 'acc': 0.9679727595736282, 'roc_auc': 0.8199751903614658, 'pr_auc': 0.15792895633587856, 'recall': 0.023547880690737835, 'precision': 0.35714285714285715, 'f1': 0.044182621502209134, 'lift': 11.361291769455036}\" \n",
      "CV Fold: 5                                                                              \n",
      "LightGBM, Val CV5 Tuned: {'event_rate': 0.0017765495459928938, 'acc': 0.9680714567706277, 'roc_auc': 0.8306117889854581, 'pr_auc': 0.14856829814701228, 'recall': 0.02040816326530612, 'precision': 0.3611111111111111, 'f1': 0.038632986627043085, 'lift': 11.487528344671201}\" \n",
      "LigthGBM, OOT Tuned: {'event_rate': 0.002210729935651968, 'acc': 0.967036437566618, 'roc_auc': 0.8335491810544765, 'pr_auc': 0.16576836412403884, 'recall': 0.026731470230862697, 'precision': 0.39285714285714285, 'f1': 0.05005688282138794, 'lift': 12.091694150321125}\" \n",
      "['LGB_Tune76', 'LightGBM', LGBMClassifier(colsample_bytree=0.7961033968858096, gamma=12.182614479927338,\n",
      "               learning_rate=0.16606067803952118, max_depth=5,\n",
      "               min_child_weight=2.900402377116213, n_estimators=241,\n",
      "               random_state=42, reg_alpha=2.3947526223116116,\n",
      "               reg_lambda=3.729039420135675, subsample=0.7195998749361878,\n",
      "               verbose=-1), 0.967036437566618, 0.39285714285714285, 0.026731470230862697, 0.05005688282138794, 0.8335491810544765, 0.16576836412403884, 12.091694150321125, 0.9681800236873273, 0.4037048943433758, 0.027030202501900618, 0.050529468488166876, 0.8245909242520189, 0.15941074139299874, 12.855512916590161]\n",
      "Parameters: {'colsample_bytree': 0.5699821128970438, 'gamma': 4.548484023513434, 'learning_rate': 0.06805661672475607, 'max_depth': 3.0, 'min_child_weight': 11.702563489795233, 'n_estimators': 184.0, 'random_state': 42, 'reg_alpha': 4.695048644142927, 'reg_lambda': 5.426834717100629, 'subsample': 0.6628732860169056, 'verbose': -1}\n",
      "CV Fold: 1                                                                              \n",
      " 31%|███       | 77/250 [1:28:51<3:47:52, 79.03s/trial, best loss: -0.17752098504240574]"
     ]
    }
   ],
   "source": [
    "trials = Trials()\n",
    "best = fmin(fn = objective, space = space, algo = tpe.suggest, max_evals = 250, trials = trials)"
   ]
  },
  {
   "cell_type": "code",
   "execution_count": null,
   "id": "339b88d5-8cdd-4037-88d2-f77211e0044b",
   "metadata": {},
   "outputs": [],
   "source": []
  }
 ],
 "metadata": {
  "kernelspec": {
   "display_name": "Python 3 (ipykernel)",
   "language": "python",
   "name": "python3"
  },
  "language_info": {
   "codemirror_mode": {
    "name": "ipython",
    "version": 3
   },
   "file_extension": ".py",
   "mimetype": "text/x-python",
   "name": "python",
   "nbconvert_exporter": "python",
   "pygments_lexer": "ipython3",
   "version": "3.10.12"
  }
 },
 "nbformat": 4,
 "nbformat_minor": 5
}
