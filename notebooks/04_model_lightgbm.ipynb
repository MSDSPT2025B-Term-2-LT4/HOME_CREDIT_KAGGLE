{
 "cells": [
  {
   "cell_type": "code",
   "execution_count": 1,
   "id": "11fc3423-8a19-4501-824c-3114a6a414a8",
   "metadata": {
    "execution": {
     "iopub.execute_input": "2024-05-27T09:15:59.472549Z",
     "iopub.status.busy": "2024-05-27T09:15:59.471802Z",
     "iopub.status.idle": "2024-05-27T09:15:59.512833Z",
     "shell.execute_reply": "2024-05-27T09:15:59.512033Z",
     "shell.execute_reply.started": "2024-05-27T09:15:59.472443Z"
    },
    "tags": []
   },
   "outputs": [],
   "source": [
    "%load_ext autoreload\n",
    "%autoreload 2"
   ]
  },
  {
   "cell_type": "code",
   "execution_count": 2,
   "id": "e801884b-b38e-45c4-be43-847cd41901c4",
   "metadata": {
    "execution": {
     "iopub.execute_input": "2024-05-27T09:16:01.010186Z",
     "iopub.status.busy": "2024-05-27T09:16:01.008857Z",
     "iopub.status.idle": "2024-05-27T09:16:01.799782Z",
     "shell.execute_reply": "2024-05-27T09:16:01.798855Z",
     "shell.execute_reply.started": "2024-05-27T09:16:01.010118Z"
    },
    "tags": []
   },
   "outputs": [],
   "source": [
    "import pandas as pd\n",
    "import polars"
   ]
  },
  {
   "cell_type": "code",
   "execution_count": 3,
   "id": "1b7356f5-50e2-4700-a03e-9ffbb6332be3",
   "metadata": {
    "execution": {
     "iopub.execute_input": "2024-05-27T09:16:01.801530Z",
     "iopub.status.busy": "2024-05-27T09:16:01.801157Z",
     "iopub.status.idle": "2024-05-27T09:16:02.926529Z",
     "shell.execute_reply": "2024-05-27T09:16:02.924915Z",
     "shell.execute_reply.started": "2024-05-27T09:16:01.801506Z"
    },
    "tags": []
   },
   "outputs": [],
   "source": [
    "data = polars.read_csv('/mnt/processed/private/msds-pt2025b/lt4/final_project/train_base.csv')"
   ]
  },
  {
   "cell_type": "code",
   "execution_count": 5,
   "id": "07e24003-34da-4511-a07c-c2da5013069a",
   "metadata": {
    "execution": {
     "iopub.execute_input": "2024-05-27T09:16:03.274176Z",
     "iopub.status.busy": "2024-05-27T09:16:03.273461Z",
     "iopub.status.idle": "2024-05-27T09:16:03.308217Z",
     "shell.execute_reply": "2024-05-27T09:16:03.307499Z",
     "shell.execute_reply.started": "2024-05-27T09:16:03.274113Z"
    },
    "tags": []
   },
   "outputs": [
    {
     "data": {
      "text/plain": [
       "(126651, 472)"
      ]
     },
     "execution_count": 5,
     "metadata": {},
     "output_type": "execute_result"
    }
   ],
   "source": [
    "data.shape"
   ]
  },
  {
   "cell_type": "code",
   "execution_count": 6,
   "id": "313d19a5-a177-4707-88e3-5c71520acf99",
   "metadata": {
    "execution": {
     "iopub.execute_input": "2024-05-27T09:16:04.720182Z",
     "iopub.status.busy": "2024-05-27T09:16:04.719439Z",
     "iopub.status.idle": "2024-05-27T09:16:04.765814Z",
     "shell.execute_reply": "2024-05-27T09:16:04.765043Z",
     "shell.execute_reply.started": "2024-05-27T09:16:04.720120Z"
    },
    "tags": []
   },
   "outputs": [
    {
     "data": {
      "text/html": [
       "<div><style>\n",
       ".dataframe > thead > tr,\n",
       ".dataframe > tbody > tr {\n",
       "  text-align: right;\n",
       "  white-space: pre-wrap;\n",
       "}\n",
       "</style>\n",
       "<small>shape: (5, 472)</small><table border=\"1\" class=\"dataframe\"><thead><tr><th>case_id</th><th>month</th><th>week_num</th><th>target</th><th>assignmentdate_238D</th><th>assignmentdate_4527235D</th><th>birthdate_574D</th><th>contractssum_5085716L</th><th>dateofbirth_337D</th><th>days120_123L</th><th>days180_256L</th><th>days30_165L</th><th>days360_512L</th><th>days90_310L</th><th>description_5085714M</th><th>education_1103M</th><th>education_88M</th><th>firstquarter_103L</th><th>fourthquarter_440L</th><th>maritalst_385M</th><th>maritalst_893M</th><th>numberofqueries_373L</th><th>pmtaverage_3A</th><th>pmtaverage_4527227A</th><th>pmtcount_4527229L</th><th>pmtcount_693L</th><th>pmtscount_423L</th><th>pmtssum_45A</th><th>requesttype_4525192L</th><th>responsedate_1012D</th><th>responsedate_4527233D</th><th>responsedate_4917613D</th><th>secondquarter_766L</th><th>thirdquarter_1082L</th><th>actualdpdtolerance_344P</th><th>amtinstpaidbefduel24m_4187115A</th><th>annuity_780A</th><th>&hellip;</th><th>mean_mainoccupationinc_384A</th><th>max_amount_416A</th><th>max_num_group1_10</th><th>max_openingdate_313D</th><th>mean_amount_416A</th><th>mean_openingdate_313D</th><th>max_num_group1_11</th><th>max_openingdate_857D</th><th>mean_openingdate_857D</th><th>max_collater_typofvalofguarant_298M</th><th>max_collater_typofvalofguarant_407M</th><th>max_collater_valueofguarantee_1124L</th><th>max_collater_valueofguarantee_876L</th><th>max_collaterals_typeofguarante_359M</th><th>max_collaterals_typeofguarante_669M</th><th>max_num_group1_12</th><th>max_num_group2</th><th>max_pmts_dpd_1073P</th><th>max_pmts_dpd_303P</th><th>max_pmts_month_158T</th><th>max_pmts_month_706T</th><th>max_pmts_overdue_1140A</th><th>max_pmts_overdue_1152A</th><th>max_pmts_year_1139T</th><th>max_pmts_year_507T</th><th>max_subjectroles_name_541M</th><th>max_subjectroles_name_838M</th><th>mean_pmts_dpd_1073P</th><th>mean_pmts_dpd_303P</th><th>mean_pmts_overdue_1140A</th><th>mean_pmts_overdue_1152A</th><th>var_pmts_dpd_1073P</th><th>var_pmts_dpd_303P</th><th>var_pmts_overdue_1140A</th><th>var_pmts_overdue_1152A</th><th>year</th><th>day</th></tr><tr><td>i64</td><td>i64</td><td>i64</td><td>i64</td><td>i64</td><td>i64</td><td>i64</td><td>f64</td><td>i64</td><td>f64</td><td>f64</td><td>f64</td><td>f64</td><td>f64</td><td>str</td><td>str</td><td>str</td><td>f64</td><td>f64</td><td>str</td><td>str</td><td>f64</td><td>f64</td><td>f64</td><td>f64</td><td>f64</td><td>f64</td><td>f64</td><td>str</td><td>i64</td><td>i64</td><td>i64</td><td>f64</td><td>f64</td><td>f64</td><td>f64</td><td>f64</td><td>&hellip;</td><td>f64</td><td>f64</td><td>i64</td><td>i64</td><td>f64</td><td>i64</td><td>i64</td><td>i64</td><td>i64</td><td>str</td><td>str</td><td>f64</td><td>f64</td><td>str</td><td>str</td><td>i64</td><td>i64</td><td>f64</td><td>f64</td><td>f64</td><td>f64</td><td>f64</td><td>f64</td><td>f64</td><td>f64</td><td>str</td><td>str</td><td>f64</td><td>f64</td><td>f64</td><td>f64</td><td>f64</td><td>f64</td><td>f64</td><td>f64</td><td>i64</td><td>i64</td></tr></thead><tbody><tr><td>1402704</td><td>201906</td><td>23</td><td>0</td><td>null</td><td>null</td><td>-12127</td><td>null</td><td>-12127</td><td>1.0</td><td>1.0</td><td>0.0</td><td>1.0</td><td>0.0</td><td>&quot;a55475b1&quot;</td><td>&quot;a55475b1&quot;</td><td>&quot;a55475b1&quot;</td><td>1.0</td><td>0.0</td><td>&quot;a55475b1&quot;</td><td>&quot;a55475b1&quot;</td><td>1.0</td><td>null</td><td>null</td><td>null</td><td>null</td><td>5.0</td><td>74996.805</td><td>null</td><td>14</td><td>null</td><td>null</td><td>1.0</td><td>0.0</td><td>0.0</td><td>83502.14</td><td>3833.4001</td><td>&hellip;</td><td>80000.0</td><td>null</td><td>null</td><td>null</td><td>null</td><td>null</td><td>null</td><td>null</td><td>null</td><td>&quot;a55475b1&quot;</td><td>&quot;a55475b1&quot;</td><td>null</td><td>0.0</td><td>&quot;c7a5ad39&quot;</td><td>&quot;a55475b1&quot;</td><td>0</td><td>23</td><td>null</td><td>0.0</td><td>null</td><td>12.0</td><td>null</td><td>0.0</td><td>null</td><td>2020.0</td><td>&quot;ab3c25cf&quot;</td><td>&quot;a55475b1&quot;</td><td>null</td><td>0.0</td><td>null</td><td>0.0</td><td>null</td><td>0.0</td><td>null</td><td>0.0</td><td>2019</td><td>14</td></tr><tr><td>1482183</td><td>201908</td><td>31</td><td>0</td><td>-2705</td><td>null</td><td>-23902</td><td>null</td><td>-23902</td><td>1.0</td><td>1.0</td><td>1.0</td><td>1.0</td><td>1.0</td><td>&quot;a55475b1&quot;</td><td>&quot;a55475b1&quot;</td><td>&quot;a55475b1&quot;</td><td>0.0</td><td>0.0</td><td>&quot;b6cabe76&quot;</td><td>&quot;a55475b1&quot;</td><td>1.0</td><td>16674.201</td><td>null</td><td>null</td><td>6.0</td><td>null</td><td>null</td><td>null</td><td>14</td><td>null</td><td>null</td><td>0.0</td><td>1.0</td><td>0.0</td><td>0.0</td><td>4809.6</td><td>&hellip;</td><td>22400.0</td><td>null</td><td>null</td><td>null</td><td>null</td><td>null</td><td>null</td><td>null</td><td>null</td><td>&quot;a55475b1&quot;</td><td>&quot;a55475b1&quot;</td><td>null</td><td>200000.0</td><td>&quot;c7a5ad39&quot;</td><td>&quot;a55475b1&quot;</td><td>1</td><td>23</td><td>null</td><td>0.0</td><td>null</td><td>12.0</td><td>null</td><td>0.0</td><td>null</td><td>2015.0</td><td>&quot;ab3c25cf&quot;</td><td>&quot;a55475b1&quot;</td><td>null</td><td>0.0</td><td>null</td><td>0.0</td><td>null</td><td>0.0</td><td>null</td><td>0.0</td><td>2019</td><td>9</td></tr><tr><td>856351</td><td>201911</td><td>44</td><td>0</td><td>null</td><td>null</td><td>null</td><td>null</td><td>-13128</td><td>0.0</td><td>0.0</td><td>0.0</td><td>1.0</td><td>0.0</td><td>&quot;a55475b1&quot;</td><td>&quot;a55475b1&quot;</td><td>&quot;a55475b1&quot;</td><td>0.0</td><td>1.0</td><td>&quot;a55475b1&quot;</td><td>&quot;a55475b1&quot;</td><td>1.0</td><td>null</td><td>null</td><td>null</td><td>null</td><td>null</td><td>null</td><td>&quot;DEDUCTION_6&quot;</td><td>null</td><td>14</td><td>null</td><td>1.0</td><td>0.0</td><td>null</td><td>null</td><td>7727.2</td><td>&hellip;</td><td>80000.0</td><td>null</td><td>null</td><td>null</td><td>null</td><td>null</td><td>null</td><td>null</td><td>null</td><td>&quot;a55475b1&quot;</td><td>&quot;a55475b1&quot;</td><td>null</td><td>0.0</td><td>&quot;c7a5ad39&quot;</td><td>&quot;a55475b1&quot;</td><td>9</td><td>35</td><td>null</td><td>11.0</td><td>null</td><td>12.0</td><td>null</td><td>1393.248</td><td>null</td><td>2019.0</td><td>&quot;ab3c25cf&quot;</td><td>&quot;a55475b1&quot;</td><td>null</td><td>0.111111</td><td>null</td><td>12.990037</td><td>null</td><td>1.1277258</td><td>null</td><td>17972.053</td><td>2019</td><td>10</td></tr><tr><td>1927558</td><td>202009</td><td>88</td><td>0</td><td>null</td><td>null</td><td>null</td><td>null</td><td>-20620</td><td>0.0</td><td>0.0</td><td>0.0</td><td>0.0</td><td>0.0</td><td>&quot;2fc785b2&quot;</td><td>&quot;a55475b1&quot;</td><td>&quot;a55475b1&quot;</td><td>1.0</td><td>1.0</td><td>&quot;a55475b1&quot;</td><td>&quot;a55475b1&quot;</td><td>0.0</td><td>null</td><td>null</td><td>null</td><td>null</td><td>null</td><td>null</td><td>null</td><td>null</td><td>null</td><td>14</td><td>0.0</td><td>1.0</td><td>0.0</td><td>17261.201</td><td>7436.0</td><td>&hellip;</td><td>90000.0</td><td>null</td><td>null</td><td>null</td><td>null</td><td>null</td><td>null</td><td>null</td><td>null</td><td>&quot;a55475b1&quot;</td><td>&quot;a55475b1&quot;</td><td>null</td><td>0.0</td><td>&quot;c7a5ad39&quot;</td><td>&quot;a55475b1&quot;</td><td>2</td><td>23</td><td>null</td><td>0.0</td><td>null</td><td>12.0</td><td>null</td><td>0.0</td><td>null</td><td>2020.0</td><td>&quot;ab3c25cf&quot;</td><td>&quot;a55475b1&quot;</td><td>null</td><td>0.0</td><td>null</td><td>0.0</td><td>null</td><td>0.0</td><td>null</td><td>0.0</td><td>2020</td><td>14</td></tr><tr><td>2676673</td><td>202003</td><td>62</td><td>0</td><td>null</td><td>null</td><td>null</td><td>null</td><td>-16874</td><td>0.0</td><td>2.0</td><td>0.0</td><td>2.0</td><td>0.0</td><td>&quot;a55475b1&quot;</td><td>&quot;a55475b1&quot;</td><td>&quot;a55475b1&quot;</td><td>0.0</td><td>4.0</td><td>&quot;a55475b1&quot;</td><td>&quot;a55475b1&quot;</td><td>2.0</td><td>null</td><td>null</td><td>null</td><td>null</td><td>null</td><td>null</td><td>&quot;DEDUCTION_6&quot;</td><td>null</td><td>14</td><td>null</td><td>0.0</td><td>0.0</td><td>0.0</td><td>164638.36</td><td>7338.8003</td><td>&hellip;</td><td>62000.0</td><td>null</td><td>null</td><td>null</td><td>null</td><td>null</td><td>null</td><td>null</td><td>null</td><td>&quot;a55475b1&quot;</td><td>&quot;a55475b1&quot;</td><td>0.0</td><td>0.0</td><td>&quot;c7a5ad39&quot;</td><td>&quot;c7a5ad39&quot;</td><td>2</td><td>23</td><td>0.0</td><td>14.0</td><td>12.0</td><td>12.0</td><td>0.0</td><td>6049.6</td><td>2021.0</td><td>2020.0</td><td>&quot;ab3c25cf&quot;</td><td>&quot;ab3c25cf&quot;</td><td>0.0</td><td>1.1818181</td><td>0.0</td><td>280.34546</td><td>0.0</td><td>12.822511</td><td>0.0</td><td>1660920.5</td><td>2020</td><td>14</td></tr></tbody></table></div>"
      ],
      "text/plain": [
       "shape: (5, 472)\n",
       "┌─────────┬────────┬──────────┬────────┬───┬─────────────────────┬────────────────────┬──────┬─────┐\n",
       "│ case_id ┆ month  ┆ week_num ┆ target ┆ … ┆ var_pmts_overdue_11 ┆ var_pmts_overdue_1 ┆ year ┆ day │\n",
       "│ ---     ┆ ---    ┆ ---      ┆ ---    ┆   ┆ 40A                 ┆ 152A               ┆ ---  ┆ --- │\n",
       "│ i64     ┆ i64    ┆ i64      ┆ i64    ┆   ┆ ---                 ┆ ---                ┆ i64  ┆ i64 │\n",
       "│         ┆        ┆          ┆        ┆   ┆ f64                 ┆ f64                ┆      ┆     │\n",
       "╞═════════╪════════╪══════════╪════════╪═══╪═════════════════════╪════════════════════╪══════╪═════╡\n",
       "│ 1402704 ┆ 201906 ┆ 23       ┆ 0      ┆ … ┆ null                ┆ 0.0                ┆ 2019 ┆ 14  │\n",
       "│ 1482183 ┆ 201908 ┆ 31       ┆ 0      ┆ … ┆ null                ┆ 0.0                ┆ 2019 ┆ 9   │\n",
       "│ 856351  ┆ 201911 ┆ 44       ┆ 0      ┆ … ┆ null                ┆ 17972.053          ┆ 2019 ┆ 10  │\n",
       "│ 1927558 ┆ 202009 ┆ 88       ┆ 0      ┆ … ┆ null                ┆ 0.0                ┆ 2020 ┆ 14  │\n",
       "│ 2676673 ┆ 202003 ┆ 62       ┆ 0      ┆ … ┆ 0.0                 ┆ 1660920.5          ┆ 2020 ┆ 14  │\n",
       "└─────────┴────────┴──────────┴────────┴───┴─────────────────────┴────────────────────┴──────┴─────┘"
      ]
     },
     "execution_count": 6,
     "metadata": {},
     "output_type": "execute_result"
    }
   ],
   "source": [
    "data.head()"
   ]
  },
  {
   "cell_type": "code",
   "execution_count": 7,
   "id": "c31668c2-fae5-4222-ac37-b98eee2cfb05",
   "metadata": {
    "execution": {
     "iopub.execute_input": "2024-05-27T09:16:06.107231Z",
     "iopub.status.busy": "2024-05-27T09:16:06.106502Z",
     "iopub.status.idle": "2024-05-27T09:16:07.194383Z",
     "shell.execute_reply": "2024-05-27T09:16:07.193120Z",
     "shell.execute_reply.started": "2024-05-27T09:16:06.107168Z"
    },
    "tags": []
   },
   "outputs": [],
   "source": [
    "data = data.to_pandas()"
   ]
  },
  {
   "cell_type": "code",
   "execution_count": 8,
   "id": "93ed95d6-a5d2-41fb-8346-d285e9fdc19a",
   "metadata": {
    "execution": {
     "iopub.execute_input": "2024-05-27T09:16:07.773376Z",
     "iopub.status.busy": "2024-05-27T09:16:07.772548Z",
     "iopub.status.idle": "2024-05-27T09:16:07.811466Z",
     "shell.execute_reply": "2024-05-27T09:16:07.810707Z",
     "shell.execute_reply.started": "2024-05-27T09:16:07.773299Z"
    },
    "tags": []
   },
   "outputs": [
    {
     "data": {
      "text/plain": [
       "(126651, 472)"
      ]
     },
     "execution_count": 8,
     "metadata": {},
     "output_type": "execute_result"
    }
   ],
   "source": [
    "data.shape"
   ]
  },
  {
   "cell_type": "code",
   "execution_count": 12,
   "id": "24d67506-e089-4872-a7c6-aead7a67a6b2",
   "metadata": {
    "execution": {
     "iopub.execute_input": "2024-05-27T09:16:41.638377Z",
     "iopub.status.busy": "2024-05-27T09:16:41.637569Z",
     "iopub.status.idle": "2024-05-27T09:16:41.683795Z",
     "shell.execute_reply": "2024-05-27T09:16:41.682985Z",
     "shell.execute_reply.started": "2024-05-27T09:16:41.638305Z"
    },
    "tags": []
   },
   "outputs": [],
   "source": [
    "cat_cols = [col for col, dtype in dict(data.dtypes).items() if dtype == 'O']\n",
    "data[cat_cols] = data[cat_cols].astype('category')"
   ]
  },
  {
   "cell_type": "code",
   "execution_count": 13,
   "id": "f6c31461-32b0-4e8d-99cc-0b48d3bf15b8",
   "metadata": {
    "execution": {
     "iopub.execute_input": "2024-05-27T09:16:42.422856Z",
     "iopub.status.busy": "2024-05-27T09:16:42.420748Z",
     "iopub.status.idle": "2024-05-27T09:16:43.116833Z",
     "shell.execute_reply": "2024-05-27T09:16:43.115746Z",
     "shell.execute_reply.started": "2024-05-27T09:16:42.422784Z"
    },
    "tags": []
   },
   "outputs": [],
   "source": [
    "from sklearn.model_selection import train_test_split\n",
    "\n",
    "\n",
    "X = data.drop(['month', 'week_num', 'target'], axis = 1)\n",
    "y = data['target']\n",
    "X_train_val, X_test, y_train_val, y_test = train_test_split(X, y, test_size=0.2, random_state=42)\n"
   ]
  },
  {
   "cell_type": "code",
   "execution_count": 14,
   "id": "eaba93ce-4a24-4aba-b99d-3b8eb20503b3",
   "metadata": {
    "execution": {
     "iopub.execute_input": "2024-05-27T09:16:43.598037Z",
     "iopub.status.busy": "2024-05-27T09:16:43.597287Z",
     "iopub.status.idle": "2024-05-27T09:16:43.651868Z",
     "shell.execute_reply": "2024-05-27T09:16:43.651063Z",
     "shell.execute_reply.started": "2024-05-27T09:16:43.597939Z"
    },
    "tags": []
   },
   "outputs": [
    {
     "data": {
      "text/html": [
       "<div>\n",
       "<style scoped>\n",
       "    .dataframe tbody tr th:only-of-type {\n",
       "        vertical-align: middle;\n",
       "    }\n",
       "\n",
       "    .dataframe tbody tr th {\n",
       "        vertical-align: top;\n",
       "    }\n",
       "\n",
       "    .dataframe thead th {\n",
       "        text-align: right;\n",
       "    }\n",
       "</style>\n",
       "<table border=\"1\" class=\"dataframe\">\n",
       "  <thead>\n",
       "    <tr style=\"text-align: right;\">\n",
       "      <th></th>\n",
       "      <th>model_name</th>\n",
       "      <th>model</th>\n",
       "      <th>params</th>\n",
       "      <th>accuracy</th>\n",
       "      <th>precision</th>\n",
       "      <th>recall</th>\n",
       "      <th>f1_score</th>\n",
       "      <th>roc_auc</th>\n",
       "      <th>pr_auc</th>\n",
       "      <th>lift</th>\n",
       "      <th>accuracy_cv</th>\n",
       "      <th>precision_cv</th>\n",
       "      <th>recall_cv</th>\n",
       "      <th>f1_score_cv</th>\n",
       "      <th>roc_auc_cv</th>\n",
       "      <th>pr_auc_cv</th>\n",
       "      <th>lift_cv</th>\n",
       "    </tr>\n",
       "  </thead>\n",
       "  <tbody>\n",
       "  </tbody>\n",
       "</table>\n",
       "</div>"
      ],
      "text/plain": [
       "Empty DataFrame\n",
       "Columns: [model_name, model, params, accuracy, precision, recall, f1_score, roc_auc, pr_auc, lift, accuracy_cv, precision_cv, recall_cv, f1_score_cv, roc_auc_cv, pr_auc_cv, lift_cv]\n",
       "Index: []"
      ]
     },
     "execution_count": 14,
     "metadata": {},
     "output_type": "execute_result"
    }
   ],
   "source": [
    "score_schema = {'model_name': 'str', \n",
    "                        'model': 'str',\n",
    "                        'params': 'str',\n",
    "                        'accuracy': 'float',\n",
    "                        'precision': 'float',\n",
    "                        'recall': 'float',\n",
    "                        'f1_score': 'float',\n",
    "                        'roc_auc': 'float',\n",
    "                        'pr_auc': 'float',\n",
    "                        'lift': 'float',\n",
    "                        'accuracy_cv': 'float',\n",
    "                        'precision_cv': 'float',\n",
    "                        'recall_cv': 'float',\n",
    "                        'f1_score_cv': 'float',\n",
    "                        'roc_auc_cv': 'float',\n",
    "                        'pr_auc_cv': 'float',\n",
    "                        'lift_cv': 'float'}\n",
    "scores = pd.DataFrame(columns = score_schema.keys()).astype(score_schema)\n",
    "scores"
   ]
  },
  {
   "cell_type": "code",
   "execution_count": 19,
   "id": "f0d6b773-785a-4278-96b0-a0456dad3ff3",
   "metadata": {
    "execution": {
     "iopub.execute_input": "2024-05-27T09:17:22.615903Z",
     "iopub.status.busy": "2024-05-27T09:17:22.615143Z",
     "iopub.status.idle": "2024-05-27T09:17:22.666654Z",
     "shell.execute_reply": "2024-05-27T09:17:22.665347Z",
     "shell.execute_reply.started": "2024-05-27T09:17:22.615840Z"
    },
    "tags": []
   },
   "outputs": [],
   "source": [
    "feature_cols = X.columns[1:]"
   ]
  },
  {
   "cell_type": "code",
   "execution_count": 20,
   "id": "e3e60734-2ea3-4702-8be9-0db883a7f171",
   "metadata": {
    "execution": {
     "iopub.execute_input": "2024-05-27T09:17:24.208369Z",
     "iopub.status.busy": "2024-05-27T09:17:24.207627Z",
     "iopub.status.idle": "2024-05-27T09:17:24.268512Z",
     "shell.execute_reply": "2024-05-27T09:17:24.267294Z",
     "shell.execute_reply.started": "2024-05-27T09:17:24.208305Z"
    },
    "tags": []
   },
   "outputs": [],
   "source": [
    "from hyperopt import hp, fmin, tpe, STATUS_OK, Trials\n",
    "from utils.model_helpers import model_evals\n",
    "import xgboost\n",
    "import lightgbm\n",
    "from time import time\n",
    "from sklearn.model_selection import cross_validate, StratifiedKFold\n",
    "import numpy as np\n",
    "from utils.model_helpers import cutoff_perc, model_evals\n",
    "\n",
    "space = {\n",
    "    'max_depth': hp.quniform(\"max_depth\", 3, 10, 1),  #Max depth 10\n",
    "    'gamma': hp.loguniform('gamma', np.log(1), np.log(100)),\n",
    "    'reg_alpha': hp.uniform('reg_alpha', 0, 10),\n",
    "    'reg_lambda': hp.uniform('reg_lambda', 0, 10),\n",
    "    'colsample_bytree': hp.uniform('colsample_bytree', 0.5, 1),\n",
    "    'min_child_weight': hp.loguniform('min_child_weight',np.log(1), np.log(100)),\n",
    "    'n_estimators': hp.quniform('n_estimators', 50, 250, 1),\n",
    "    'learning_rate': hp.loguniform('learning_rate', np.log(0.01), np.log(0.2)),\n",
    "    'subsample': hp.uniform('subsample', 0.5, 1),\n",
    "    'random_state': 42,   \n",
    "    'verbose': -1\n",
    "}\n",
    "\n",
    "def objective(space):\n",
    "    start_time = time()\n",
    "\n",
    "    print(f\"Parameters: {space}\")\n",
    "    space['max_depth'] = int(space['max_depth'])\n",
    "    #space['reg_alpha'] = int(space['reg_alpha'])\n",
    "    space['n_estimators'] = int(space['n_estimators'])\n",
    "\n",
    "    cv_folds = StratifiedKFold(n_splits=5, shuffle=True, random_state=42)\n",
    "\n",
    "    i = 1\n",
    "    \n",
    "    model_name = f'LGB_Tune{len(scores)}'\n",
    "    model_type = 'LightGBM'\n",
    "    params = 'default'\n",
    "    dict_results = {'acc': [],\n",
    "                        'precision': [],\n",
    "                        'recall': [],\n",
    "                        'f1': [],\n",
    "                        'roc_auc': [],\n",
    "                        'pr_auc': [],\n",
    "                        'lift': []}\n",
    "    \n",
    "    for train_index, test_index in cv_folds.split(X_train_val[feature_cols], y_train_val):\n",
    "\n",
    "        print(f\"CV Fold: {i}\")\n",
    "        # Get the training and testing data for this fold\n",
    "        X_train_cv, X_test_cv = X_train_val.iloc[train_index], X_train_val.iloc[test_index]\n",
    "        y_train_cv, y_test_cv = y_train_val.iloc[train_index], y_train_val.iloc[test_index]\n",
    "\n",
    "        lgb = lightgbm.LGBMClassifier(**space)\n",
    "        lgb.fit(X_train_cv, y_train_cv)\n",
    "\n",
    "        y_test_proba_cv = lgb.predict_proba(X_test_cv)[:, 1]\n",
    "        results = model_evals(y_test_cv, y_test_proba_cv)\n",
    "        print(f'LightGBM, Val CV{i} Tuned: {results}\" ')\n",
    "\n",
    "        i += 1\n",
    "        \n",
    "        for key in dict_results.keys():\n",
    "            dict_results[key].append(results[key])\n",
    "    \n",
    "    lgb.fit(X_train_val, y_train_val)\n",
    "    y_test_proba = lgb.predict_proba(X_test)[:, 1]\n",
    "    test_results = model_evals(y_test, y_test_proba)\n",
    "    print(f'LigthGBM, OOT Tuned: {test_results}\" ')\n",
    "\n",
    "    elapsed_time = time() - start_time\n",
    "    \n",
    "    row = [model_name, model_type, lgb]\n",
    "    for key in dict_results.keys():\n",
    "        row.append(test_results[key])\n",
    "\n",
    "    for key in dict_results.keys():\n",
    "        row.append(np.array(dict_results[key]).mean())\n",
    "\n",
    "    \n",
    "    print(row)\n",
    "    scores.loc[len(scores)] = row\n",
    "    scores.to_csv('../data/LGB_Tuned_Mobile.csv')\n",
    "\n",
    "    return {'loss': -test_results['pr_auc'], 'status': STATUS_OK, 'model': lgb, 'elapsed_time': elapsed_time}\n"
   ]
  },
  {
   "cell_type": "code",
   "execution_count": null,
   "id": "bdc767df-fe28-4707-a286-c75e8927355d",
   "metadata": {
    "execution": {
     "iopub.execute_input": "2024-05-27T09:17:25.793039Z",
     "iopub.status.busy": "2024-05-27T09:17:25.792300Z"
    },
    "tags": []
   },
   "outputs": [
    {
     "name": "stdout",
     "output_type": "stream",
     "text": [
      "Parameters: {'colsample_bytree': 0.789453478290231, 'gamma': 37.824530939163736, 'learning_rate': 0.01565456848540161, 'max_depth': 6.0, 'min_child_weight': 11.39398330882743, 'n_estimators': 80.0, 'random_state': 42, 'reg_alpha': 9.765784982987437, 'reg_lambda': 8.936204136622948, 'subsample': 0.8066223904381988, 'verbose': -1}\n",
      "CV Fold: 1                                             \n",
      "LightGBM, Val CV1 Tuned: {'event_rate': 0.0, 'acc': 0.9686142913541256, 'roc_auc': 0.7900861687769878, 'pr_auc': 0.12086250172586943, 'recall': 0.0, 'precision': 0.0, 'f1': 0.0, 'lift': nan}\" \n",
      "CV Fold: 2                                             \n",
      "  0%|          | 0/250 [00:07<?, ?trial/s, best loss=?]"
     ]
    },
    {
     "name": "stderr",
     "output_type": "stream",
     "text": [
      "/opt/conda/lib/python3.10/site-packages/sklearn/metrics/_classification.py:1469: UndefinedMetricWarning: Precision is ill-defined and being set to 0.0 due to no predicted samples. Use `zero_division` parameter to control this behavior.\n",
      "  _warn_prf(average, modifier, msg_start, len(result))\n",
      "\n",
      "/home/msds-pt2025b/jco/term2_acs/final_project/HOME_CREDIT_KAGGLE/notebooks/utils/model_helpers.py:45: RuntimeWarning: invalid value encountered in scalar divide\n",
      "  lift = recall / event_rate\n",
      "\n"
     ]
    },
    {
     "name": "stdout",
     "output_type": "stream",
     "text": [
      "LightGBM, Val CV2 Tuned: {'event_rate': 0.0, 'acc': 0.9686142913541256, 'roc_auc': 0.8100955284005779, 'pr_auc': 0.14818536154082015, 'recall': 0.0, 'precision': 0.0, 'f1': 0.0, 'lift': nan}\" \n",
      "CV Fold: 3                                             \n",
      "  0%|          | 0/250 [00:14<?, ?trial/s, best loss=?]"
     ]
    },
    {
     "name": "stderr",
     "output_type": "stream",
     "text": [
      "/opt/conda/lib/python3.10/site-packages/sklearn/metrics/_classification.py:1469: UndefinedMetricWarning: Precision is ill-defined and being set to 0.0 due to no predicted samples. Use `zero_division` parameter to control this behavior.\n",
      "  _warn_prf(average, modifier, msg_start, len(result))\n",
      "\n",
      "/home/msds-pt2025b/jco/term2_acs/final_project/HOME_CREDIT_KAGGLE/notebooks/utils/model_helpers.py:45: RuntimeWarning: invalid value encountered in scalar divide\n",
      "  lift = recall / event_rate\n",
      "\n"
     ]
    },
    {
     "name": "stdout",
     "output_type": "stream",
     "text": [
      "LightGBM, Val CV3 Tuned: {'event_rate': 0.0, 'acc': 0.9686142913541256, 'roc_auc': 0.8052062786059703, 'pr_auc': 0.1273384899770608, 'recall': 0.0, 'precision': 0.0, 'f1': 0.0, 'lift': nan}\" \n",
      "CV Fold: 4                                             \n",
      "  0%|          | 0/250 [00:21<?, ?trial/s, best loss=?]"
     ]
    },
    {
     "name": "stderr",
     "output_type": "stream",
     "text": [
      "/opt/conda/lib/python3.10/site-packages/sklearn/metrics/_classification.py:1469: UndefinedMetricWarning: Precision is ill-defined and being set to 0.0 due to no predicted samples. Use `zero_division` parameter to control this behavior.\n",
      "  _warn_prf(average, modifier, msg_start, len(result))\n",
      "\n",
      "/home/msds-pt2025b/jco/term2_acs/final_project/HOME_CREDIT_KAGGLE/notebooks/utils/model_helpers.py:45: RuntimeWarning: invalid value encountered in scalar divide\n",
      "  lift = recall / event_rate\n",
      "\n"
     ]
    },
    {
     "name": "stdout",
     "output_type": "stream",
     "text": [
      "LightGBM, Val CV4 Tuned: {'event_rate': 0.0, 'acc': 0.9685649427556258, 'roc_auc': 0.8077059050826966, 'pr_auc': 0.13220030609735517, 'recall': 0.0, 'precision': 0.0, 'f1': 0.0, 'lift': nan}\" \n",
      "CV Fold: 5                                             \n",
      "  0%|          | 0/250 [00:28<?, ?trial/s, best loss=?]"
     ]
    },
    {
     "name": "stderr",
     "output_type": "stream",
     "text": [
      "/opt/conda/lib/python3.10/site-packages/sklearn/metrics/_classification.py:1469: UndefinedMetricWarning: Precision is ill-defined and being set to 0.0 due to no predicted samples. Use `zero_division` parameter to control this behavior.\n",
      "  _warn_prf(average, modifier, msg_start, len(result))\n",
      "\n",
      "/home/msds-pt2025b/jco/term2_acs/final_project/HOME_CREDIT_KAGGLE/notebooks/utils/model_helpers.py:45: RuntimeWarning: invalid value encountered in scalar divide\n",
      "  lift = recall / event_rate\n",
      "\n"
     ]
    },
    {
     "name": "stdout",
     "output_type": "stream",
     "text": [
      "LightGBM, Val CV5 Tuned: {'event_rate': 0.0, 'acc': 0.9685649427556258, 'roc_auc': 0.7995404322002521, 'pr_auc': 0.13101789067077724, 'recall': 0.0, 'precision': 0.0, 'f1': 0.0, 'lift': nan}\" \n",
      "  0%|          | 0/250 [00:35<?, ?trial/s, best loss=?]"
     ]
    },
    {
     "name": "stderr",
     "output_type": "stream",
     "text": [
      "/opt/conda/lib/python3.10/site-packages/sklearn/metrics/_classification.py:1469: UndefinedMetricWarning: Precision is ill-defined and being set to 0.0 due to no predicted samples. Use `zero_division` parameter to control this behavior.\n",
      "  _warn_prf(average, modifier, msg_start, len(result))\n",
      "\n",
      "/home/msds-pt2025b/jco/term2_acs/final_project/HOME_CREDIT_KAGGLE/notebooks/utils/model_helpers.py:45: RuntimeWarning: invalid value encountered in scalar divide\n",
      "  lift = recall / event_rate\n",
      "\n"
     ]
    },
    {
     "name": "stdout",
     "output_type": "stream",
     "text": [
      "LigthGBM, OOT Tuned: {'event_rate': 0.0, 'acc': 0.9675101654099719, 'roc_auc': 0.7997258464565642, 'pr_auc': 0.13149216196206268, 'recall': 0.0, 'precision': 0.0, 'f1': 0.0, 'lift': nan}\" \n",
      "['LGB_Tune0', 'LightGBM', LGBMClassifier(colsample_bytree=0.789453478290231, gamma=37.824530939163736,\n",
      "               learning_rate=0.01565456848540161, max_depth=6,\n",
      "               min_child_weight=11.39398330882743, n_estimators=80,\n",
      "               random_state=42, reg_alpha=9.765784982987437,\n",
      "               reg_lambda=8.936204136622948, subsample=0.8066223904381988,\n",
      "               verbose=-1), 0.9675101654099719, 0.0, 0.0, 0.0, 0.7997258464565642, 0.13149216196206268, nan, 0.9685945519147257, 0.0, 0.0, 0.0, 0.802526862613297, 0.13192091000237655, nan]\n",
      "Parameters: {'colsample_bytree': 0.6876045723814304, 'gamma': 35.12028593188927, 'learning_rate': 0.043083218392070737, 'max_depth': 9.0, 'min_child_weight': 1.0705733972681386, 'n_estimators': 63.0, 'random_state': 42, 'reg_alpha': 8.14739586408704, 'reg_lambda': 1.8735914130489495, 'subsample': 0.9640278804430715, 'verbose': -1}\n",
      "  0%|          | 1/250 [00:43<3:01:19, 43.69s/trial, best loss: -0.13149216196206268]"
     ]
    },
    {
     "name": "stderr",
     "output_type": "stream",
     "text": [
      "/opt/conda/lib/python3.10/site-packages/sklearn/metrics/_classification.py:1469: UndefinedMetricWarning: Precision is ill-defined and being set to 0.0 due to no predicted samples. Use `zero_division` parameter to control this behavior.\n",
      "  _warn_prf(average, modifier, msg_start, len(result))\n",
      "\n",
      "/home/msds-pt2025b/jco/term2_acs/final_project/HOME_CREDIT_KAGGLE/notebooks/utils/model_helpers.py:45: RuntimeWarning: invalid value encountered in scalar divide\n",
      "  lift = recall / event_rate\n",
      "\n"
     ]
    },
    {
     "name": "stdout",
     "output_type": "stream",
     "text": [
      "CV Fold: 1                                                                           \n",
      "LightGBM, Val CV1 Tuned: {'event_rate': 0.0, 'acc': 0.9686142913541256, 'roc_auc': 0.8143722451433135, 'pr_auc': 0.1465627691447623, 'recall': 0.0, 'precision': 0.0, 'f1': 0.0, 'lift': nan}\" \n",
      "CV Fold: 2                                                                           \n",
      "  0%|          | 1/250 [00:50<3:01:19, 43.69s/trial, best loss: -0.13149216196206268]"
     ]
    },
    {
     "name": "stderr",
     "output_type": "stream",
     "text": [
      "/opt/conda/lib/python3.10/site-packages/sklearn/metrics/_classification.py:1469: UndefinedMetricWarning: Precision is ill-defined and being set to 0.0 due to no predicted samples. Use `zero_division` parameter to control this behavior.\n",
      "  _warn_prf(average, modifier, msg_start, len(result))\n",
      "\n",
      "/home/msds-pt2025b/jco/term2_acs/final_project/HOME_CREDIT_KAGGLE/notebooks/utils/model_helpers.py:45: RuntimeWarning: invalid value encountered in scalar divide\n",
      "  lift = recall / event_rate\n",
      "\n"
     ]
    },
    {
     "name": "stdout",
     "output_type": "stream",
     "text": [
      "LightGBM, Val CV2 Tuned: {'event_rate': 0.0, 'acc': 0.9686142913541256, 'roc_auc': 0.8293738777103176, 'pr_auc': 0.16890310109632134, 'recall': 0.0, 'precision': 0.0, 'f1': 0.0, 'lift': nan}\" \n",
      "CV Fold: 3                                                                           \n",
      "  0%|          | 1/250 [00:57<3:01:19, 43.69s/trial, best loss: -0.13149216196206268]"
     ]
    },
    {
     "name": "stderr",
     "output_type": "stream",
     "text": [
      "/opt/conda/lib/python3.10/site-packages/sklearn/metrics/_classification.py:1469: UndefinedMetricWarning: Precision is ill-defined and being set to 0.0 due to no predicted samples. Use `zero_division` parameter to control this behavior.\n",
      "  _warn_prf(average, modifier, msg_start, len(result))\n",
      "\n",
      "/home/msds-pt2025b/jco/term2_acs/final_project/HOME_CREDIT_KAGGLE/notebooks/utils/model_helpers.py:45: RuntimeWarning: invalid value encountered in scalar divide\n",
      "  lift = recall / event_rate\n",
      "\n"
     ]
    },
    {
     "name": "stdout",
     "output_type": "stream",
     "text": [
      "LightGBM, Val CV3 Tuned: {'event_rate': 0.00014804579549940782, 'acc': 0.9686636399526254, 'roc_auc': 0.8258767157173745, 'pr_auc': 0.1539895878778309, 'recall': 0.0031446540880503146, 'precision': 0.6666666666666666, 'f1': 0.006259780907668233, 'lift': 21.241090146750523}\" \n",
      "CV Fold: 4                                                                           \n",
      "LightGBM, Val CV4 Tuned: {'event_rate': 0.0, 'acc': 0.9685649427556258, 'roc_auc': 0.8214923791825873, 'pr_auc': 0.1630394659793807, 'recall': 0.0, 'precision': 0.0, 'f1': 0.0, 'lift': nan}\" \n",
      "CV Fold: 5                                                                           \n",
      "  0%|          | 1/250 [01:10<3:01:19, 43.69s/trial, best loss: -0.13149216196206268]"
     ]
    },
    {
     "name": "stderr",
     "output_type": "stream",
     "text": [
      "/opt/conda/lib/python3.10/site-packages/sklearn/metrics/_classification.py:1469: UndefinedMetricWarning: Precision is ill-defined and being set to 0.0 due to no predicted samples. Use `zero_division` parameter to control this behavior.\n",
      "  _warn_prf(average, modifier, msg_start, len(result))\n",
      "\n",
      "/home/msds-pt2025b/jco/term2_acs/final_project/HOME_CREDIT_KAGGLE/notebooks/utils/model_helpers.py:45: RuntimeWarning: invalid value encountered in scalar divide\n",
      "  lift = recall / event_rate\n",
      "\n"
     ]
    },
    {
     "name": "stdout",
     "output_type": "stream",
     "text": [
      "LightGBM, Val CV5 Tuned: {'event_rate': 0.0, 'acc': 0.9685649427556258, 'roc_auc': 0.8222032027613261, 'pr_auc': 0.15324052399294769, 'recall': 0.0, 'precision': 0.0, 'f1': 0.0, 'lift': nan}\" \n",
      "  0%|          | 1/250 [01:16<3:01:19, 43.69s/trial, best loss: -0.13149216196206268]"
     ]
    },
    {
     "name": "stderr",
     "output_type": "stream",
     "text": [
      "/opt/conda/lib/python3.10/site-packages/sklearn/metrics/_classification.py:1469: UndefinedMetricWarning: Precision is ill-defined and being set to 0.0 due to no predicted samples. Use `zero_division` parameter to control this behavior.\n",
      "  _warn_prf(average, modifier, msg_start, len(result))\n",
      "\n",
      "/home/msds-pt2025b/jco/term2_acs/final_project/HOME_CREDIT_KAGGLE/notebooks/utils/model_helpers.py:45: RuntimeWarning: invalid value encountered in scalar divide\n",
      "  lift = recall / event_rate\n",
      "\n"
     ]
    },
    {
     "name": "stdout",
     "output_type": "stream",
     "text": [
      "LigthGBM, OOT Tuned: {'event_rate': 0.0, 'acc': 0.9675101654099719, 'roc_auc': 0.8198898923772455, 'pr_auc': 0.1496291936488765, 'recall': 0.0, 'precision': 0.0, 'f1': 0.0, 'lift': nan}\" \n",
      "['LGB_Tune1', 'LightGBM', LGBMClassifier(colsample_bytree=0.6876045723814304, gamma=35.12028593188927,\n",
      "               learning_rate=0.043083218392070737, max_depth=9,\n",
      "               min_child_weight=1.0705733972681386, n_estimators=63,\n",
      "               random_state=42, reg_alpha=8.14739586408704,\n",
      "               reg_lambda=1.8735914130489495, subsample=0.9640278804430715,\n",
      "               verbose=-1), 0.9675101654099719, 0.0, 0.0, 0.0, 0.8198898923772455, 0.1496291936488765, nan, 0.9686044216344257, 0.13333333333333333, 0.000628930817610063, 0.0012519561815336464, 0.8226636841029838, 0.15714708961824858, nan]\n",
      "Parameters: {'colsample_bytree': 0.7209796070361758, 'gamma': 37.418352977557774, 'learning_rate': 0.1801521225224105, 'max_depth': 4.0, 'min_child_weight': 3.2459791996224, 'n_estimators': 160.0, 'random_state': 42, 'reg_alpha': 1.8773668480387184, 'reg_lambda': 5.525462702121063, 'subsample': 0.8795742925715252, 'verbose': -1}\n",
      "  1%|          | 2/250 [01:24<2:53:38, 42.01s/trial, best loss: -0.1496291936488765]"
     ]
    },
    {
     "name": "stderr",
     "output_type": "stream",
     "text": [
      "/opt/conda/lib/python3.10/site-packages/sklearn/metrics/_classification.py:1469: UndefinedMetricWarning: Precision is ill-defined and being set to 0.0 due to no predicted samples. Use `zero_division` parameter to control this behavior.\n",
      "  _warn_prf(average, modifier, msg_start, len(result))\n",
      "\n",
      "/home/msds-pt2025b/jco/term2_acs/final_project/HOME_CREDIT_KAGGLE/notebooks/utils/model_helpers.py:45: RuntimeWarning: invalid value encountered in scalar divide\n",
      "  lift = recall / event_rate\n",
      "\n"
     ]
    },
    {
     "name": "stdout",
     "output_type": "stream",
     "text": [
      "CV Fold: 1                                                                          \n",
      "LightGBM, Val CV1 Tuned: {'event_rate': 0.0016778523489932886, 'acc': 0.969009080142124, 'roc_auc': 0.8338155734395607, 'pr_auc': 0.17803355247311478, 'recall': 0.0330188679245283, 'precision': 0.6176470588235294, 'f1': 0.0626865671641791, 'lift': 19.67924528301887}\" \n",
      "CV Fold: 2                                                                          \n",
      "LightGBM, Val CV2 Tuned: {'event_rate': 0.0017272009474930913, 'acc': 0.9687623371496249, 'roc_auc': 0.8410794552256883, 'pr_auc': 0.17624172072377778, 'recall': 0.029874213836477988, 'precision': 0.5428571428571428, 'f1': 0.05663189269746646, 'lift': 17.296316262353997}\" \n",
      "CV Fold: 3                                                                          \n",
      "LightGBM, Val CV3 Tuned: {'event_rate': 0.0017272009474930913, 'acc': 0.9683675483616265, 'roc_auc': 0.8303514553077174, 'pr_auc': 0.16009188910574781, 'recall': 0.02358490566037736, 'precision': 0.42857142857142855, 'f1': 0.04470938897168406, 'lift': 13.654986522911052}\" \n",
      "CV Fold: 4                                                                          \n",
      "LightGBM, Val CV4 Tuned: {'event_rate': 0.001480457954994078, 'acc': 0.9685649427556258, 'roc_auc': 0.8334937158860471, 'pr_auc': 0.16855731678781574, 'recall': 0.023547880690737835, 'precision': 0.5, 'f1': 0.04497751124437781, 'lift': 15.90580847723705}\" \n",
      "CV Fold: 5                                                                          \n",
      "LightGBM, Val CV5 Tuned: {'event_rate': 0.0016778523489932886, 'acc': 0.9679727595736282, 'roc_auc': 0.8396136613461144, 'pr_auc': 0.1556385905892794, 'recall': 0.01726844583987441, 'precision': 0.3235294117647059, 'f1': 0.032786885245901634, 'lift': 10.291993720565149}\" \n",
      "LigthGBM, OOT Tuned: {'event_rate': 0.0015790928111799772, 'acc': 0.967194346847736, 'roc_auc': 0.8323550858786707, 'pr_auc': 0.17132123792633594, 'recall': 0.019441069258809233, 'precision': 0.4, 'f1': 0.03707995365005793, 'lift': 12.311543134872416}\" \n",
      "['LGB_Tune2', 'LightGBM', LGBMClassifier(colsample_bytree=0.7209796070361758, gamma=37.418352977557774,\n",
      "               learning_rate=0.1801521225224105, max_depth=4,\n",
      "               min_child_weight=3.2459791996224, n_estimators=160,\n",
      "               random_state=42, reg_alpha=1.8773668480387184,\n",
      "               reg_lambda=5.525462702121063, subsample=0.8795742925715252,\n",
      "               verbose=-1), 0.967194346847736, 0.4, 0.019441069258809233, 0.03707995365005793, 0.8323550858786707, 0.17132123792633594, 12.311543134872416, 0.9685353335965259, 0.4825210084033613, 0.02545886279039918, 0.04835844906472181, 0.8356707722410256, 0.1677126139359471, 15.365670053217224]\n",
      "Parameters: {'colsample_bytree': 0.9516151393578345, 'gamma': 49.80746514822247, 'learning_rate': 0.03354754222025174, 'max_depth': 9.0, 'min_child_weight': 2.2646338455187367, 'n_estimators': 101.0, 'random_state': 42, 'reg_alpha': 3.374311363909369, 'reg_lambda': 2.7484640675006657, 'subsample': 0.9835975716398615, 'verbose': -1}\n",
      "CV Fold: 1                                                                           \n",
      "LightGBM, Val CV1 Tuned: {'event_rate': 4.9348598499802604e-05, 'acc': 0.9686636399526254, 'roc_auc': 0.8230883745848889, 'pr_auc': 0.164616780449502, 'recall': 0.0015723270440251573, 'precision': 1.0, 'f1': 0.0031397174254317113, 'lift': 31.861635220125788}\" \n",
      "CV Fold: 2                                                                           \n",
      "LightGBM, Val CV2 Tuned: {'event_rate': 0.0, 'acc': 0.9686142913541256, 'roc_auc': 0.8375795696175274, 'pr_auc': 0.17993294823096867, 'recall': 0.0, 'precision': 0.0, 'f1': 0.0, 'lift': nan}\" \n",
      "CV Fold: 3                                                                           \n",
      "  1%|          | 3/250 [02:33<3:03:22, 44.54s/trial, best loss: -0.17132123792633594]"
     ]
    },
    {
     "name": "stderr",
     "output_type": "stream",
     "text": [
      "/opt/conda/lib/python3.10/site-packages/sklearn/metrics/_classification.py:1469: UndefinedMetricWarning: Precision is ill-defined and being set to 0.0 due to no predicted samples. Use `zero_division` parameter to control this behavior.\n",
      "  _warn_prf(average, modifier, msg_start, len(result))\n",
      "\n",
      "/home/msds-pt2025b/jco/term2_acs/final_project/HOME_CREDIT_KAGGLE/notebooks/utils/model_helpers.py:45: RuntimeWarning: invalid value encountered in scalar divide\n",
      "  lift = recall / event_rate\n",
      "\n"
     ]
    },
    {
     "name": "stdout",
     "output_type": "stream",
     "text": [
      "LightGBM, Val CV3 Tuned: {'event_rate': 9.869719699960521e-05, 'acc': 0.9686142913541256, 'roc_auc': 0.8300738468213167, 'pr_auc': 0.15452399930696753, 'recall': 0.0015723270440251573, 'precision': 0.5, 'f1': 0.003134796238244514, 'lift': 15.930817610062894}\" \n",
      "CV Fold: 4                                                                           \n",
      "LightGBM, Val CV4 Tuned: {'event_rate': 0.0, 'acc': 0.9685649427556258, 'roc_auc': 0.8272288382413647, 'pr_auc': 0.16713968932009546, 'recall': 0.0, 'precision': 0.0, 'f1': 0.0, 'lift': nan}\" \n",
      "CV Fold: 5                                                                           \n",
      "  1%|          | 3/250 [02:55<3:03:22, 44.54s/trial, best loss: -0.17132123792633594]"
     ]
    },
    {
     "name": "stderr",
     "output_type": "stream",
     "text": [
      "/opt/conda/lib/python3.10/site-packages/sklearn/metrics/_classification.py:1469: UndefinedMetricWarning: Precision is ill-defined and being set to 0.0 due to no predicted samples. Use `zero_division` parameter to control this behavior.\n",
      "  _warn_prf(average, modifier, msg_start, len(result))\n",
      "\n",
      "/home/msds-pt2025b/jco/term2_acs/final_project/HOME_CREDIT_KAGGLE/notebooks/utils/model_helpers.py:45: RuntimeWarning: invalid value encountered in scalar divide\n",
      "  lift = recall / event_rate\n",
      "\n"
     ]
    },
    {
     "name": "stdout",
     "output_type": "stream",
     "text": [
      "LightGBM, Val CV5 Tuned: {'event_rate': 0.0, 'acc': 0.9685649427556258, 'roc_auc': 0.8310292688627199, 'pr_auc': 0.16374508186283984, 'recall': 0.0, 'precision': 0.0, 'f1': 0.0, 'lift': nan}\" \n",
      "  1%|          | 3/250 [03:06<3:03:22, 44.54s/trial, best loss: -0.17132123792633594]"
     ]
    },
    {
     "name": "stderr",
     "output_type": "stream",
     "text": [
      "/opt/conda/lib/python3.10/site-packages/sklearn/metrics/_classification.py:1469: UndefinedMetricWarning: Precision is ill-defined and being set to 0.0 due to no predicted samples. Use `zero_division` parameter to control this behavior.\n",
      "  _warn_prf(average, modifier, msg_start, len(result))\n",
      "\n",
      "/home/msds-pt2025b/jco/term2_acs/final_project/HOME_CREDIT_KAGGLE/notebooks/utils/model_helpers.py:45: RuntimeWarning: invalid value encountered in scalar divide\n",
      "  lift = recall / event_rate\n",
      "\n"
     ]
    },
    {
     "name": "stdout",
     "output_type": "stream",
     "text": [
      "LigthGBM, OOT Tuned: {'event_rate': 3.947732027949943e-05, 'acc': 0.9675496427302515, 'roc_auc': 0.8253605686520691, 'pr_auc': 0.1571638690721343, 'recall': 0.001215066828675577, 'precision': 1.0, 'f1': 0.002427184466019417, 'lift': 30.77885783718104}\" \n",
      "['LGB_Tune3', 'LightGBM', LGBMClassifier(colsample_bytree=0.9516151393578345, gamma=49.80746514822247,\n",
      "               learning_rate=0.03354754222025174, max_depth=9,\n",
      "               min_child_weight=2.2646338455187367, n_estimators=101,\n",
      "               random_state=42, reg_alpha=3.374311363909369,\n",
      "               reg_lambda=2.7484640675006657, subsample=0.9835975716398615,\n",
      "               verbose=-1), 0.9675496427302515, 1.0, 0.001215066828675577, 0.002427184466019417, 0.8253605686520691, 0.1571638690721343, 30.77885783718104, 0.9686044216344257, 0.3, 0.000628930817610063, 0.001254902732735245, 0.8297999796255635, 0.16599169983407472, nan]\n",
      "Parameters: {'colsample_bytree': 0.6609773444596988, 'gamma': 2.03327221771314, 'learning_rate': 0.15035372015512244, 'max_depth': 5.0, 'min_child_weight': 23.224652823084934, 'n_estimators': 61.0, 'random_state': 42, 'reg_alpha': 8.907420274338119, 'reg_lambda': 0.33204052459685607, 'subsample': 0.799990727787688, 'verbose': -1}\n",
      "CV Fold: 1                                                                           \n",
      "LightGBM, Val CV1 Tuned: {'event_rate': 0.0004934859849980261, 'acc': 0.9689103829451243, 'roc_auc': 0.8319341961746344, 'pr_auc': 0.1705581317525337, 'recall': 0.012578616352201259, 'precision': 0.8, 'f1': 0.02476780185758514, 'lift': 25.48930817610063}\" \n",
      "CV Fold: 2                                                                           \n",
      "LightGBM, Val CV2 Tuned: {'event_rate': 0.0007895775759968417, 'acc': 0.9687129885511252, 'roc_auc': 0.8378014240982912, 'pr_auc': 0.1714187345125854, 'recall': 0.014150943396226415, 'precision': 0.5625, 'f1': 0.02760736196319018, 'lift': 17.922169811320757}\" \n",
      "CV Fold: 3                                                                           \n",
      "LightGBM, Val CV3 Tuned: {'event_rate': 0.0008882747729964469, 'acc': 0.9686142913541256, 'roc_auc': 0.8299943813420182, 'pr_auc': 0.17331976541817126, 'recall': 0.014150943396226415, 'precision': 0.5, 'f1': 0.027522935779816512, 'lift': 15.930817610062894}\" \n",
      "CV Fold: 4                                                                           \n",
      "LightGBM, Val CV4 Tuned: {'event_rate': 0.0005428345834978287, 'acc': 0.9687129885511252, 'roc_auc': 0.8311813596734514, 'pr_auc': 0.16575058340212737, 'recall': 0.01098901098901099, 'precision': 0.6363636363636364, 'f1': 0.021604938271604944, 'lift': 20.243756243756245}\" \n",
      "CV Fold: 5                                                                           \n",
      "LightGBM, Val CV5 Tuned: {'event_rate': 0.0008389261744966443, 'acc': 0.968515594157126, 'roc_auc': 0.8390447705276403, 'pr_auc': 0.1646110241010031, 'recall': 0.012558869701726845, 'precision': 0.47058823529411764, 'f1': 0.024464831804281346, 'lift': 14.970172684458399}\" \n",
      "LigthGBM, OOT Tuned: {'event_rate': 0.0009079783664284869, 'acc': 0.9671548695274564, 'roc_auc': 0.8329782364813155, 'pr_auc': 0.1623952663616648, 'recall': 0.00850546780072904, 'precision': 0.30434782608695654, 'f1': 0.016548463356973995, 'lift': 9.367478472185534}\" \n",
      "['LGB_Tune4', 'LightGBM', LGBMClassifier(colsample_bytree=0.6609773444596988, gamma=2.03327221771314,\n",
      "               learning_rate=0.15035372015512244, max_depth=5,\n",
      "               min_child_weight=23.224652823084934, n_estimators=61,\n",
      "               random_state=42, reg_alpha=8.907420274338119,\n",
      "               reg_lambda=0.33204052459685607, subsample=0.799990727787688,\n",
      "               verbose=-1), 0.9671548695274564, 0.30434782608695654, 0.00850546780072904, 0.016548463356973995, 0.8329782364813155, 0.1623952663616648, 9.367478472185534, 0.9686932491117254, 0.5938903743315509, 0.012885676767078386, 0.025193573935295626, 0.8339912263632071, 0.16913164783728418, 18.91124490513979]\n",
      "Parameters: {'colsample_bytree': 0.894900333994989, 'gamma': 14.3288515375394, 'learning_rate': 0.11684997696303606, 'max_depth': 9.0, 'min_child_weight': 13.673227889165576, 'n_estimators': 183.0, 'random_state': 42, 'reg_alpha': 9.465051788311543, 'reg_lambda': 7.014569620039165, 'subsample': 0.6239611856424436, 'verbose': -1}\n",
      "CV Fold: 1                                                                           \n",
      "LightGBM, Val CV1 Tuned: {'event_rate': 0.0013817607579944729, 'acc': 0.9686142913541256, 'roc_auc': 0.833931807724301, 'pr_auc': 0.16043747505143174, 'recall': 0.0220125786163522, 'precision': 0.5, 'f1': 0.04216867469879518, 'lift': 15.930817610062894}\" \n",
      "CV Fold: 2                                                                           \n",
      "LightGBM, Val CV2 Tuned: {'event_rate': 0.0011350177654954599, 'acc': 0.9688610343466245, 'roc_auc': 0.8400679525975598, 'pr_auc': 0.18626921716699033, 'recall': 0.0220125786163522, 'precision': 0.6086956521739131, 'f1': 0.0424886191198786, 'lift': 19.394038829641783}\" \n",
      "CV Fold: 3                                                                           \n",
      "LightGBM, Val CV3 Tuned: {'event_rate': 0.0015791551519936833, 'acc': 0.9683181997631267, 'roc_auc': 0.8314602871267205, 'pr_auc': 0.1635090581910391, 'recall': 0.020440251572327043, 'precision': 0.40625, 'f1': 0.038922155688622756, 'lift': 12.9437893081761}\" \n",
      "CV Fold: 4                                                                           \n",
      "LightGBM, Val CV4 Tuned: {'event_rate': 0.0011350177654954599, 'acc': 0.968515594157126, 'roc_auc': 0.8362830205626937, 'pr_auc': 0.16110526015573828, 'recall': 0.01726844583987441, 'precision': 0.4782608695652174, 'f1': 0.033333333333333326, 'lift': 15.214251586922394}\" \n",
      "CV Fold: 5                                                                           \n",
      "LightGBM, Val CV5 Tuned: {'event_rate': 0.0015298065534938808, 'acc': 0.9683181997631267, 'roc_auc': 0.8434534044226231, 'pr_auc': 0.16938538556668034, 'recall': 0.02040816326530612, 'precision': 0.41935483870967744, 'f1': 0.03892215568862275, 'lift': 13.340355497037523}\" \n",
      "LigthGBM, OOT Tuned: {'event_rate': 0.0015790928111799772, 'acc': 0.9668785282855, 'roc_auc': 0.8373796559300396, 'pr_auc': 0.16153909261221877, 'recall': 0.014580801944106925, 'precision': 0.3, 'f1': 0.027809965237543453, 'lift': 9.233657351154314}\" \n",
      "['LGB_Tune5', 'LightGBM', LGBMClassifier(colsample_bytree=0.894900333994989, gamma=14.3288515375394,\n",
      "               learning_rate=0.11684997696303606, max_depth=9,\n",
      "               min_child_weight=13.673227889165576, n_estimators=183,\n",
      "               random_state=42, reg_alpha=9.465051788311543,\n",
      "               reg_lambda=7.014569620039165, subsample=0.6239611856424436,\n",
      "               verbose=-1), 0.9668785282855, 0.3, 0.014580801944106925, 0.027809965237543453, 0.8373796559300396, 0.16153909261221877, 9.233657351154314, 0.968525463876826, 0.48251227208976155, 0.020428403582042395, 0.039166987705850524, 0.8370392944867795, 0.16814127922637595, 15.364650566368137]\n",
      "Parameters: {'colsample_bytree': 0.8096705729152254, 'gamma': 9.99302692730635, 'learning_rate': 0.010742453265466126, 'max_depth': 7.0, 'min_child_weight': 1.8719306732711125, 'n_estimators': 159.0, 'random_state': 42, 'reg_alpha': 0.9246730295965844, 'reg_lambda': 9.233960396307538, 'subsample': 0.5416355977662524, 'verbose': -1}\n",
      "CV Fold: 1                                                                           \n",
      "LightGBM, Val CV1 Tuned: {'event_rate': 0.0, 'acc': 0.9686142913541256, 'roc_auc': 0.8051548102889852, 'pr_auc': 0.14037464716420683, 'recall': 0.0, 'precision': 0.0, 'f1': 0.0, 'lift': nan}\" \n",
      "CV Fold: 2                                                                           \n",
      "  2%|▏         | 6/250 [05:26<3:55:55, 58.01s/trial, best loss: -0.17132123792633594]"
     ]
    },
    {
     "name": "stderr",
     "output_type": "stream",
     "text": [
      "/opt/conda/lib/python3.10/site-packages/sklearn/metrics/_classification.py:1469: UndefinedMetricWarning: Precision is ill-defined and being set to 0.0 due to no predicted samples. Use `zero_division` parameter to control this behavior.\n",
      "  _warn_prf(average, modifier, msg_start, len(result))\n",
      "\n",
      "/home/msds-pt2025b/jco/term2_acs/final_project/HOME_CREDIT_KAGGLE/notebooks/utils/model_helpers.py:45: RuntimeWarning: invalid value encountered in scalar divide\n",
      "  lift = recall / event_rate\n",
      "\n"
     ]
    },
    {
     "name": "stdout",
     "output_type": "stream",
     "text": [
      "LightGBM, Val CV2 Tuned: {'event_rate': 0.0, 'acc': 0.9686142913541256, 'roc_auc': 0.8226787108135855, 'pr_auc': 0.16378453081678676, 'recall': 0.0, 'precision': 0.0, 'f1': 0.0, 'lift': nan}\" \n",
      "CV Fold: 3                                                                           \n",
      "  2%|▏         | 6/250 [05:38<3:55:55, 58.01s/trial, best loss: -0.17132123792633594]"
     ]
    },
    {
     "name": "stderr",
     "output_type": "stream",
     "text": [
      "/opt/conda/lib/python3.10/site-packages/sklearn/metrics/_classification.py:1469: UndefinedMetricWarning: Precision is ill-defined and being set to 0.0 due to no predicted samples. Use `zero_division` parameter to control this behavior.\n",
      "  _warn_prf(average, modifier, msg_start, len(result))\n",
      "\n",
      "/home/msds-pt2025b/jco/term2_acs/final_project/HOME_CREDIT_KAGGLE/notebooks/utils/model_helpers.py:45: RuntimeWarning: invalid value encountered in scalar divide\n",
      "  lift = recall / event_rate\n",
      "\n"
     ]
    },
    {
     "name": "stdout",
     "output_type": "stream",
     "text": [
      "LightGBM, Val CV3 Tuned: {'event_rate': 0.0, 'acc': 0.9686142913541256, 'roc_auc': 0.8166688535694739, 'pr_auc': 0.14041643840554785, 'recall': 0.0, 'precision': 0.0, 'f1': 0.0, 'lift': nan}\" \n",
      "CV Fold: 4                                                                           \n",
      "  2%|▏         | 6/250 [05:52<3:55:55, 58.01s/trial, best loss: -0.17132123792633594]"
     ]
    },
    {
     "name": "stderr",
     "output_type": "stream",
     "text": [
      "/opt/conda/lib/python3.10/site-packages/sklearn/metrics/_classification.py:1469: UndefinedMetricWarning: Precision is ill-defined and being set to 0.0 due to no predicted samples. Use `zero_division` parameter to control this behavior.\n",
      "  _warn_prf(average, modifier, msg_start, len(result))\n",
      "\n",
      "/home/msds-pt2025b/jco/term2_acs/final_project/HOME_CREDIT_KAGGLE/notebooks/utils/model_helpers.py:45: RuntimeWarning: invalid value encountered in scalar divide\n",
      "  lift = recall / event_rate\n",
      "\n"
     ]
    },
    {
     "name": "stdout",
     "output_type": "stream",
     "text": [
      "LightGBM, Val CV4 Tuned: {'event_rate': 0.0, 'acc': 0.9685649427556258, 'roc_auc': 0.8169845643224152, 'pr_auc': 0.15312868215648764, 'recall': 0.0, 'precision': 0.0, 'f1': 0.0, 'lift': nan}\" \n",
      "CV Fold: 5                                                                           \n",
      "  2%|▏         | 6/250 [06:05<3:55:55, 58.01s/trial, best loss: -0.17132123792633594]"
     ]
    },
    {
     "name": "stderr",
     "output_type": "stream",
     "text": [
      "/opt/conda/lib/python3.10/site-packages/sklearn/metrics/_classification.py:1469: UndefinedMetricWarning: Precision is ill-defined and being set to 0.0 due to no predicted samples. Use `zero_division` parameter to control this behavior.\n",
      "  _warn_prf(average, modifier, msg_start, len(result))\n",
      "\n",
      "/home/msds-pt2025b/jco/term2_acs/final_project/HOME_CREDIT_KAGGLE/notebooks/utils/model_helpers.py:45: RuntimeWarning: invalid value encountered in scalar divide\n",
      "  lift = recall / event_rate\n",
      "\n"
     ]
    },
    {
     "name": "stdout",
     "output_type": "stream",
     "text": [
      "LightGBM, Val CV5 Tuned: {'event_rate': 0.0, 'acc': 0.9685649427556258, 'roc_auc': 0.8148268184370054, 'pr_auc': 0.15021790521251455, 'recall': 0.0, 'precision': 0.0, 'f1': 0.0, 'lift': nan}\" \n",
      "  2%|▏         | 6/250 [06:18<3:55:55, 58.01s/trial, best loss: -0.17132123792633594]"
     ]
    },
    {
     "name": "stderr",
     "output_type": "stream",
     "text": [
      "/opt/conda/lib/python3.10/site-packages/sklearn/metrics/_classification.py:1469: UndefinedMetricWarning: Precision is ill-defined and being set to 0.0 due to no predicted samples. Use `zero_division` parameter to control this behavior.\n",
      "  _warn_prf(average, modifier, msg_start, len(result))\n",
      "\n",
      "/home/msds-pt2025b/jco/term2_acs/final_project/HOME_CREDIT_KAGGLE/notebooks/utils/model_helpers.py:45: RuntimeWarning: invalid value encountered in scalar divide\n",
      "  lift = recall / event_rate\n",
      "\n"
     ]
    },
    {
     "name": "stdout",
     "output_type": "stream",
     "text": [
      "LigthGBM, OOT Tuned: {'event_rate': 0.0, 'acc': 0.9675101654099719, 'roc_auc': 0.8111313269691887, 'pr_auc': 0.14421346875563426, 'recall': 0.0, 'precision': 0.0, 'f1': 0.0, 'lift': nan}\" \n",
      "['LGB_Tune6', 'LightGBM', LGBMClassifier(colsample_bytree=0.8096705729152254, gamma=9.99302692730635,\n",
      "               learning_rate=0.010742453265466126, max_depth=7,\n",
      "               min_child_weight=1.8719306732711125, n_estimators=159,\n",
      "               random_state=42, reg_alpha=0.9246730295965844,\n",
      "               reg_lambda=9.233960396307538, subsample=0.5416355977662524,\n",
      "               verbose=-1), 0.9675101654099719, 0.0, 0.0, 0.0, 0.8111313269691887, 0.14421346875563426, nan, 0.9685945519147257, 0.0, 0.0, 0.0, 0.815262751486293, 0.14958444075110872, nan]\n",
      "Parameters: {'colsample_bytree': 0.8685155164517726, 'gamma': 10.932639005816261, 'learning_rate': 0.011248653389733894, 'max_depth': 7.0, 'min_child_weight': 10.226113650954535, 'n_estimators': 223.0, 'random_state': 42, 'reg_alpha': 6.648432463874489, 'reg_lambda': 0.5605627499607424, 'subsample': 0.5589555456169157, 'verbose': -1}\n",
      "  3%|▎         | 7/250 [06:33<4:23:47, 65.13s/trial, best loss: -0.17132123792633594]"
     ]
    },
    {
     "name": "stderr",
     "output_type": "stream",
     "text": [
      "/opt/conda/lib/python3.10/site-packages/sklearn/metrics/_classification.py:1469: UndefinedMetricWarning: Precision is ill-defined and being set to 0.0 due to no predicted samples. Use `zero_division` parameter to control this behavior.\n",
      "  _warn_prf(average, modifier, msg_start, len(result))\n",
      "\n",
      "/home/msds-pt2025b/jco/term2_acs/final_project/HOME_CREDIT_KAGGLE/notebooks/utils/model_helpers.py:45: RuntimeWarning: invalid value encountered in scalar divide\n",
      "  lift = recall / event_rate\n",
      "\n"
     ]
    },
    {
     "name": "stdout",
     "output_type": "stream",
     "text": [
      "CV Fold: 1                                                                           \n",
      "LightGBM, Val CV1 Tuned: {'event_rate': 0.0, 'acc': 0.9686142913541256, 'roc_auc': 0.8148177164440992, 'pr_auc': 0.1505601248000744, 'recall': 0.0, 'precision': 0.0, 'f1': 0.0, 'lift': nan}\" \n",
      "CV Fold: 2                                                                           \n",
      "  3%|▎         | 7/250 [06:48<4:23:47, 65.13s/trial, best loss: -0.17132123792633594]"
     ]
    },
    {
     "name": "stderr",
     "output_type": "stream",
     "text": [
      "/opt/conda/lib/python3.10/site-packages/sklearn/metrics/_classification.py:1469: UndefinedMetricWarning: Precision is ill-defined and being set to 0.0 due to no predicted samples. Use `zero_division` parameter to control this behavior.\n",
      "  _warn_prf(average, modifier, msg_start, len(result))\n",
      "\n",
      "/home/msds-pt2025b/jco/term2_acs/final_project/HOME_CREDIT_KAGGLE/notebooks/utils/model_helpers.py:45: RuntimeWarning: invalid value encountered in scalar divide\n",
      "  lift = recall / event_rate\n",
      "\n"
     ]
    },
    {
     "name": "stdout",
     "output_type": "stream",
     "text": [
      "LightGBM, Val CV2 Tuned: {'event_rate': 0.0, 'acc': 0.9686142913541256, 'roc_auc': 0.8304841514432596, 'pr_auc': 0.17119682589514268, 'recall': 0.0, 'precision': 0.0, 'f1': 0.0, 'lift': nan}\" \n",
      "CV Fold: 3                                                                           \n",
      "  3%|▎         | 7/250 [07:03<4:23:47, 65.13s/trial, best loss: -0.17132123792633594]"
     ]
    },
    {
     "name": "stderr",
     "output_type": "stream",
     "text": [
      "/opt/conda/lib/python3.10/site-packages/sklearn/metrics/_classification.py:1469: UndefinedMetricWarning: Precision is ill-defined and being set to 0.0 due to no predicted samples. Use `zero_division` parameter to control this behavior.\n",
      "  _warn_prf(average, modifier, msg_start, len(result))\n",
      "\n",
      "/home/msds-pt2025b/jco/term2_acs/final_project/HOME_CREDIT_KAGGLE/notebooks/utils/model_helpers.py:45: RuntimeWarning: invalid value encountered in scalar divide\n",
      "  lift = recall / event_rate\n",
      "\n"
     ]
    },
    {
     "name": "stdout",
     "output_type": "stream",
     "text": [
      "LightGBM, Val CV3 Tuned: {'event_rate': 9.869719699960521e-05, 'acc': 0.9687129885511252, 'roc_auc': 0.8245358158605406, 'pr_auc': 0.14873091772734115, 'recall': 0.0031446540880503146, 'precision': 1.0, 'f1': 0.006269592476489028, 'lift': 31.861635220125788}\" \n",
      "CV Fold: 4                                                                           \n",
      "LightGBM, Val CV4 Tuned: {'event_rate': 0.0, 'acc': 0.9685649427556258, 'roc_auc': 0.8236580835406069, 'pr_auc': 0.1609470647511666, 'recall': 0.0, 'precision': 0.0, 'f1': 0.0, 'lift': nan}\" \n",
      "CV Fold: 5                                                                           \n",
      "  3%|▎         | 7/250 [07:35<4:23:47, 65.13s/trial, best loss: -0.17132123792633594]"
     ]
    },
    {
     "name": "stderr",
     "output_type": "stream",
     "text": [
      "/opt/conda/lib/python3.10/site-packages/sklearn/metrics/_classification.py:1469: UndefinedMetricWarning: Precision is ill-defined and being set to 0.0 due to no predicted samples. Use `zero_division` parameter to control this behavior.\n",
      "  _warn_prf(average, modifier, msg_start, len(result))\n",
      "\n",
      "/home/msds-pt2025b/jco/term2_acs/final_project/HOME_CREDIT_KAGGLE/notebooks/utils/model_helpers.py:45: RuntimeWarning: invalid value encountered in scalar divide\n",
      "  lift = recall / event_rate\n",
      "\n"
     ]
    },
    {
     "name": "stdout",
     "output_type": "stream",
     "text": [
      "LightGBM, Val CV5 Tuned: {'event_rate': 0.0, 'acc': 0.9685649427556258, 'roc_auc': 0.8248562135954867, 'pr_auc': 0.15802635568715728, 'recall': 0.0, 'precision': 0.0, 'f1': 0.0, 'lift': nan}\" \n",
      "  3%|▎         | 7/250 [07:50<4:23:47, 65.13s/trial, best loss: -0.17132123792633594]"
     ]
    },
    {
     "name": "stderr",
     "output_type": "stream",
     "text": [
      "/opt/conda/lib/python3.10/site-packages/sklearn/metrics/_classification.py:1469: UndefinedMetricWarning: Precision is ill-defined and being set to 0.0 due to no predicted samples. Use `zero_division` parameter to control this behavior.\n",
      "  _warn_prf(average, modifier, msg_start, len(result))\n",
      "\n",
      "/home/msds-pt2025b/jco/term2_acs/final_project/HOME_CREDIT_KAGGLE/notebooks/utils/model_helpers.py:45: RuntimeWarning: invalid value encountered in scalar divide\n",
      "  lift = recall / event_rate\n",
      "\n"
     ]
    },
    {
     "name": "stdout",
     "output_type": "stream",
     "text": [
      "LigthGBM, OOT Tuned: {'event_rate': 0.0, 'acc': 0.9675101654099719, 'roc_auc': 0.819365948104133, 'pr_auc': 0.14559867488908101, 'recall': 0.0, 'precision': 0.0, 'f1': 0.0, 'lift': nan}\" \n",
      "['LGB_Tune7', 'LightGBM', LGBMClassifier(colsample_bytree=0.8685155164517726, gamma=10.932639005816261,\n",
      "               learning_rate=0.011248653389733894, max_depth=7,\n",
      "               min_child_weight=10.226113650954535, n_estimators=223,\n",
      "               random_state=42, reg_alpha=6.648432463874489,\n",
      "               reg_lambda=0.5605627499607424, subsample=0.5589555456169157,\n",
      "               verbose=-1), 0.9675101654099719, 0.0, 0.0, 0.0, 0.819365948104133, 0.14559867488908101, nan, 0.9686142913541256, 0.2, 0.000628930817610063, 0.0012539184952978055, 0.8236703961767986, 0.15789225777217641, nan]\n",
      "Parameters: {'colsample_bytree': 0.960757737061781, 'gamma': 7.325375529493693, 'learning_rate': 0.01728557188933433, 'max_depth': 6.0, 'min_child_weight': 2.178769033331809, 'n_estimators': 143.0, 'random_state': 42, 'reg_alpha': 2.6192567312764514, 'reg_lambda': 9.988657496835899, 'subsample': 0.5826453483582761, 'verbose': -1}\n",
      "CV Fold: 1                                                                           \n",
      "  3%|▎         | 8/250 [08:11<5:05:51, 75.83s/trial, best loss: -0.17132123792633594]"
     ]
    },
    {
     "name": "stderr",
     "output_type": "stream",
     "text": [
      "/opt/conda/lib/python3.10/site-packages/sklearn/metrics/_classification.py:1469: UndefinedMetricWarning: Precision is ill-defined and being set to 0.0 due to no predicted samples. Use `zero_division` parameter to control this behavior.\n",
      "  _warn_prf(average, modifier, msg_start, len(result))\n",
      "\n",
      "/home/msds-pt2025b/jco/term2_acs/final_project/HOME_CREDIT_KAGGLE/notebooks/utils/model_helpers.py:45: RuntimeWarning: invalid value encountered in scalar divide\n",
      "  lift = recall / event_rate\n",
      "\n"
     ]
    },
    {
     "name": "stdout",
     "output_type": "stream",
     "text": [
      "LightGBM, Val CV1 Tuned: {'event_rate': 0.0, 'acc': 0.9686142913541256, 'roc_auc': 0.8143444482468248, 'pr_auc': 0.14790347975342913, 'recall': 0.0, 'precision': 0.0, 'f1': 0.0, 'lift': nan}\" \n",
      "CV Fold: 2                                                                           \n",
      "  3%|▎         | 8/250 [08:24<5:05:51, 75.83s/trial, best loss: -0.17132123792633594]"
     ]
    },
    {
     "name": "stderr",
     "output_type": "stream",
     "text": [
      "/opt/conda/lib/python3.10/site-packages/sklearn/metrics/_classification.py:1469: UndefinedMetricWarning: Precision is ill-defined and being set to 0.0 due to no predicted samples. Use `zero_division` parameter to control this behavior.\n",
      "  _warn_prf(average, modifier, msg_start, len(result))\n",
      "\n",
      "/home/msds-pt2025b/jco/term2_acs/final_project/HOME_CREDIT_KAGGLE/notebooks/utils/model_helpers.py:45: RuntimeWarning: invalid value encountered in scalar divide\n",
      "  lift = recall / event_rate\n",
      "\n"
     ]
    },
    {
     "name": "stdout",
     "output_type": "stream",
     "text": [
      "LightGBM, Val CV2 Tuned: {'event_rate': 0.0, 'acc': 0.9686142913541256, 'roc_auc': 0.8291310754242751, 'pr_auc': 0.16813093290562903, 'recall': 0.0, 'precision': 0.0, 'f1': 0.0, 'lift': nan}\" \n",
      "CV Fold: 3                                                                           \n",
      "  3%|▎         | 8/250 [08:36<5:05:51, 75.83s/trial, best loss: -0.17132123792633594]"
     ]
    },
    {
     "name": "stderr",
     "output_type": "stream",
     "text": [
      "/opt/conda/lib/python3.10/site-packages/sklearn/metrics/_classification.py:1469: UndefinedMetricWarning: Precision is ill-defined and being set to 0.0 due to no predicted samples. Use `zero_division` parameter to control this behavior.\n",
      "  _warn_prf(average, modifier, msg_start, len(result))\n",
      "\n",
      "/home/msds-pt2025b/jco/term2_acs/final_project/HOME_CREDIT_KAGGLE/notebooks/utils/model_helpers.py:45: RuntimeWarning: invalid value encountered in scalar divide\n",
      "  lift = recall / event_rate\n",
      "\n"
     ]
    },
    {
     "name": "stdout",
     "output_type": "stream",
     "text": [
      "LightGBM, Val CV3 Tuned: {'event_rate': 0.0, 'acc': 0.9686142913541256, 'roc_auc': 0.8228865066334449, 'pr_auc': 0.15019945622654912, 'recall': 0.0, 'precision': 0.0, 'f1': 0.0, 'lift': nan}\" \n",
      "CV Fold: 4                                                                           \n",
      "  3%|▎         | 8/250 [08:48<5:05:51, 75.83s/trial, best loss: -0.17132123792633594]"
     ]
    },
    {
     "name": "stderr",
     "output_type": "stream",
     "text": [
      "/opt/conda/lib/python3.10/site-packages/sklearn/metrics/_classification.py:1469: UndefinedMetricWarning: Precision is ill-defined and being set to 0.0 due to no predicted samples. Use `zero_division` parameter to control this behavior.\n",
      "  _warn_prf(average, modifier, msg_start, len(result))\n",
      "\n",
      "/home/msds-pt2025b/jco/term2_acs/final_project/HOME_CREDIT_KAGGLE/notebooks/utils/model_helpers.py:45: RuntimeWarning: invalid value encountered in scalar divide\n",
      "  lift = recall / event_rate\n",
      "\n"
     ]
    },
    {
     "name": "stdout",
     "output_type": "stream",
     "text": [
      "LightGBM, Val CV4 Tuned: {'event_rate': 0.0, 'acc': 0.9685649427556258, 'roc_auc': 0.8206906930421913, 'pr_auc': 0.1610597457703186, 'recall': 0.0, 'precision': 0.0, 'f1': 0.0, 'lift': nan}\" \n",
      "CV Fold: 5                                                                           \n",
      "  3%|▎         | 8/250 [09:01<5:05:51, 75.83s/trial, best loss: -0.17132123792633594]"
     ]
    },
    {
     "name": "stderr",
     "output_type": "stream",
     "text": [
      "/opt/conda/lib/python3.10/site-packages/sklearn/metrics/_classification.py:1469: UndefinedMetricWarning: Precision is ill-defined and being set to 0.0 due to no predicted samples. Use `zero_division` parameter to control this behavior.\n",
      "  _warn_prf(average, modifier, msg_start, len(result))\n",
      "\n",
      "/home/msds-pt2025b/jco/term2_acs/final_project/HOME_CREDIT_KAGGLE/notebooks/utils/model_helpers.py:45: RuntimeWarning: invalid value encountered in scalar divide\n",
      "  lift = recall / event_rate\n",
      "\n"
     ]
    },
    {
     "name": "stdout",
     "output_type": "stream",
     "text": [
      "LightGBM, Val CV5 Tuned: {'event_rate': 0.0, 'acc': 0.9685649427556258, 'roc_auc': 0.823784899202145, 'pr_auc': 0.15734221639086363, 'recall': 0.0, 'precision': 0.0, 'f1': 0.0, 'lift': nan}\" \n",
      "  3%|▎         | 8/250 [09:14<5:05:51, 75.83s/trial, best loss: -0.17132123792633594]"
     ]
    },
    {
     "name": "stderr",
     "output_type": "stream",
     "text": [
      "/opt/conda/lib/python3.10/site-packages/sklearn/metrics/_classification.py:1469: UndefinedMetricWarning: Precision is ill-defined and being set to 0.0 due to no predicted samples. Use `zero_division` parameter to control this behavior.\n",
      "  _warn_prf(average, modifier, msg_start, len(result))\n",
      "\n",
      "/home/msds-pt2025b/jco/term2_acs/final_project/HOME_CREDIT_KAGGLE/notebooks/utils/model_helpers.py:45: RuntimeWarning: invalid value encountered in scalar divide\n",
      "  lift = recall / event_rate\n",
      "\n"
     ]
    },
    {
     "name": "stdout",
     "output_type": "stream",
     "text": [
      "LigthGBM, OOT Tuned: {'event_rate': 0.0, 'acc': 0.9675101654099719, 'roc_auc': 0.8184368493457934, 'pr_auc': 0.15119434661657355, 'recall': 0.0, 'precision': 0.0, 'f1': 0.0, 'lift': nan}\" \n",
      "['LGB_Tune8', 'LightGBM', LGBMClassifier(colsample_bytree=0.960757737061781, gamma=7.325375529493693,\n",
      "               learning_rate=0.01728557188933433, max_depth=6,\n",
      "               min_child_weight=2.178769033331809, n_estimators=143,\n",
      "               random_state=42, reg_alpha=2.6192567312764514,\n",
      "               reg_lambda=9.988657496835899, subsample=0.5826453483582761,\n",
      "               verbose=-1), 0.9675101654099719, 0.0, 0.0, 0.0, 0.8184368493457934, 0.15119434661657355, nan, 0.9685945519147257, 0.0, 0.0, 0.0, 0.8221675245097764, 0.15692716620935793, nan]\n",
      "Parameters: {'colsample_bytree': 0.9454983490320152, 'gamma': 53.10088517779677, 'learning_rate': 0.09973218161167083, 'max_depth': 7.0, 'min_child_weight': 1.5089622650909982, 'n_estimators': 60.0, 'random_state': 42, 'reg_alpha': 0.0034771800024346877, 'reg_lambda': 2.1351799427897866, 'subsample': 0.5939388114926489, 'verbose': -1}\n",
      "CV Fold: 1                                                                           \n",
      "  4%|▎         | 9/250 [09:28<5:05:02, 75.94s/trial, best loss: -0.17132123792633594]"
     ]
    },
    {
     "name": "stderr",
     "output_type": "stream",
     "text": [
      "/opt/conda/lib/python3.10/site-packages/sklearn/metrics/_classification.py:1469: UndefinedMetricWarning: Precision is ill-defined and being set to 0.0 due to no predicted samples. Use `zero_division` parameter to control this behavior.\n",
      "  _warn_prf(average, modifier, msg_start, len(result))\n",
      "\n",
      "/home/msds-pt2025b/jco/term2_acs/final_project/HOME_CREDIT_KAGGLE/notebooks/utils/model_helpers.py:45: RuntimeWarning: invalid value encountered in scalar divide\n",
      "  lift = recall / event_rate\n",
      "\n"
     ]
    },
    {
     "name": "stdout",
     "output_type": "stream",
     "text": [
      "LightGBM, Val CV1 Tuned: {'event_rate': 0.0005428345834978287, 'acc': 0.9688610343466245, 'roc_auc': 0.8314534780886758, 'pr_auc': 0.17586362477994302, 'recall': 0.012578616352201259, 'precision': 0.7272727272727273, 'f1': 0.024729520865533233, 'lift': 23.172098341909663}\" \n",
      "CV Fold: 2                                                                           \n",
      "LightGBM, Val CV2 Tuned: {'event_rate': 0.00039478878799842083, 'acc': 0.9687129885511252, 'roc_auc': 0.8411159837121401, 'pr_auc': 0.16773024635241898, 'recall': 0.007861635220125786, 'precision': 0.625, 'f1': 0.015527950310559004, 'lift': 19.913522012578618}\" \n",
      "CV Fold: 3                                                                           \n",
      "  4%|▎         | 9/250 [09:42<5:05:02, 75.94s/trial, best loss: -0.17132123792633594]"
     ]
    }
   ],
   "source": [
    "trials = Trials()\n",
    "best = fmin(fn = objective, space = space, algo = tpe.suggest, max_evals = 250, trials = trials)"
   ]
  },
  {
   "cell_type": "code",
   "execution_count": null,
   "id": "339b88d5-8cdd-4037-88d2-f77211e0044b",
   "metadata": {},
   "outputs": [],
   "source": []
  }
 ],
 "metadata": {
  "kernelspec": {
   "display_name": "Python 3 (ipykernel)",
   "language": "python",
   "name": "python3"
  },
  "language_info": {
   "codemirror_mode": {
    "name": "ipython",
    "version": 3
   },
   "file_extension": ".py",
   "mimetype": "text/x-python",
   "name": "python",
   "nbconvert_exporter": "python",
   "pygments_lexer": "ipython3",
   "version": "3.10.12"
  }
 },
 "nbformat": 4,
 "nbformat_minor": 5
}
