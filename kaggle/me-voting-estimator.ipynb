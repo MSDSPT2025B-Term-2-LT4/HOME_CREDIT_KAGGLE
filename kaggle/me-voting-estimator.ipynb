{
 "cells": [
  {
   "cell_type": "code",
   "execution_count": 1,
   "id": "c742c45a",
   "metadata": {
    "_cell_guid": "b1076dfc-b9ad-4769-8c92-a6c4dae69d19",
    "_uuid": "8f2839f25d086af736a60e9eeb907d3b93b6e0e5",
    "execution": {
     "iopub.execute_input": "2024-06-04T12:41:09.594813Z",
     "iopub.status.busy": "2024-06-04T12:41:09.593748Z",
     "iopub.status.idle": "2024-06-04T12:41:20.996878Z",
     "shell.execute_reply": "2024-06-04T12:41:20.995668Z"
    },
    "papermill": {
     "duration": 11.419324,
     "end_time": "2024-06-04T12:41:20.999642",
     "exception": false,
     "start_time": "2024-06-04T12:41:09.580318",
     "status": "completed"
    },
    "tags": []
   },
   "outputs": [],
   "source": [
    "import os\n",
    "import gc \n",
    "from glob import glob\n",
    "from pathlib import Path\n",
    "from datetime import datetime\n",
    "import numpy as np\n",
    "import pandas as pd\n",
    "import polars as pl\n",
    "import matplotlib.pyplot as plt\n",
    "import seaborn as sns\n",
    "import joblib\n",
    "import lightgbm\n",
    "import torch\n",
    "import torch.nn as nn\n",
    "\n",
    "from sklearn.model_selection import StratifiedGroupKFold\n",
    "from sklearn.metrics import roc_auc_score\n",
    "from sklearn.ensemble import VotingClassifier\n",
    "from sklearn.preprocessing import LabelEncoder\n",
    "from catboost import CatBoostClassifier, Pool\n",
    "import xgboost\n",
    "from collections import Counter\n",
    "\n",
    "import shap\n",
    "import pickle\n",
    "import warnings\n",
    "warnings.filterwarnings(action='ignore')"
   ]
  },
  {
   "cell_type": "code",
   "execution_count": 2,
   "id": "89c15317",
   "metadata": {
    "execution": {
     "iopub.execute_input": "2024-06-04T12:41:21.023380Z",
     "iopub.status.busy": "2024-06-04T12:41:21.022633Z",
     "iopub.status.idle": "2024-06-04T12:41:21.028073Z",
     "shell.execute_reply": "2024-06-04T12:41:21.026845Z"
    },
    "papermill": {
     "duration": 0.019948,
     "end_time": "2024-06-04T12:41:21.030457",
     "exception": false,
     "start_time": "2024-06-04T12:41:21.010509",
     "status": "completed"
    },
    "tags": []
   },
   "outputs": [],
   "source": [
    "ROOT            = Path(\"/kaggle/input/home-credit-risk-model-train-test\")\n",
    "SCHEMA_PATH            = Path(\"/kaggle/input/schema-home-credit-risk-data\")"
   ]
  },
  {
   "cell_type": "code",
   "execution_count": 3,
   "id": "596e8d9c",
   "metadata": {
    "execution": {
     "iopub.execute_input": "2024-06-04T12:41:21.053521Z",
     "iopub.status.busy": "2024-06-04T12:41:21.053101Z",
     "iopub.status.idle": "2024-06-04T12:41:21.059136Z",
     "shell.execute_reply": "2024-06-04T12:41:21.058064Z"
    },
    "papermill": {
     "duration": 0.020322,
     "end_time": "2024-06-04T12:41:21.061345",
     "exception": false,
     "start_time": "2024-06-04T12:41:21.041023",
     "status": "completed"
    },
    "tags": []
   },
   "outputs": [],
   "source": [
    "def set_data_types(df, schema):\n",
    "    \n",
    "    for col, dtype in schema.items():\n",
    "        if dtype == 'category':\n",
    "            dtype = 'object'\n",
    "        df[col] = df[col].astype(dtype, errors = 'ignore')\n",
    "    return df"
   ]
  },
  {
   "cell_type": "code",
   "execution_count": 4,
   "id": "2a74e1c3",
   "metadata": {
    "execution": {
     "iopub.execute_input": "2024-06-04T12:41:21.084415Z",
     "iopub.status.busy": "2024-06-04T12:41:21.083990Z",
     "iopub.status.idle": "2024-06-04T12:42:06.516006Z",
     "shell.execute_reply": "2024-06-04T12:42:06.514431Z"
    },
    "papermill": {
     "duration": 45.447286,
     "end_time": "2024-06-04T12:42:06.519294",
     "exception": false,
     "start_time": "2024-06-04T12:41:21.072008",
     "status": "completed"
    },
    "tags": []
   },
   "outputs": [],
   "source": [
    "X = pl.read_csv(ROOT/'model_abt_train.csv').to_pandas()\n",
    "X_test = pl.read_csv(ROOT/'model_abt_test.csv').to_pandas()\n",
    "\n",
    "schema = pd.read_csv(SCHEMA_PATH / \"data_schema.csv\", names = ['Columns', 'dtype'])\n",
    "schema = schema[schema['Columns'].isin(X.columns)]\n",
    "schema = schema.set_index('Columns')['dtype'].to_dict()\n",
    "\n",
    "X = set_data_types(X, schema)\n",
    "X_test = set_data_types(X_test, schema)\n",
    "del schema"
   ]
  },
  {
   "cell_type": "code",
   "execution_count": 5,
   "id": "4ea7b5ee",
   "metadata": {
    "execution": {
     "iopub.execute_input": "2024-06-04T12:42:06.542698Z",
     "iopub.status.busy": "2024-06-04T12:42:06.542312Z",
     "iopub.status.idle": "2024-06-04T12:42:16.422359Z",
     "shell.execute_reply": "2024-06-04T12:42:16.421156Z"
    },
    "papermill": {
     "duration": 9.895044,
     "end_time": "2024-06-04T12:42:16.425384",
     "exception": false,
     "start_time": "2024-06-04T12:42:06.530340",
     "status": "completed"
    },
    "tags": []
   },
   "outputs": [],
   "source": [
    "id_val = X[['case_id', 'WEEK_NUM']]\n",
    "id_test_val = X_test[['case_id', 'WEEK_NUM']]\n",
    "\n",
    "y = X['target']\n",
    "y_test = X_test['target']\n",
    "\n",
    "cols = X.drop(['case_id', 'WEEK_NUM', 'target', 'decision_month', 'decision_weekday'], axis = 1).columns\n",
    "\n",
    "X = X.drop(['case_id', 'WEEK_NUM', 'target', 'decision_month', 'decision_weekday'], axis = 1)\n",
    "X_test = X_test.drop(['case_id', 'WEEK_NUM', 'target', 'decision_month', 'decision_weekday'], axis = 1)"
   ]
  },
  {
   "cell_type": "code",
   "execution_count": 6,
   "id": "d5b16db6",
   "metadata": {
    "execution": {
     "iopub.execute_input": "2024-06-04T12:42:16.448782Z",
     "iopub.status.busy": "2024-06-04T12:42:16.448268Z",
     "iopub.status.idle": "2024-06-04T12:42:33.590482Z",
     "shell.execute_reply": "2024-06-04T12:42:33.589355Z"
    },
    "papermill": {
     "duration": 17.157088,
     "end_time": "2024-06-04T12:42:33.593275",
     "exception": false,
     "start_time": "2024-06-04T12:42:16.436187",
     "status": "completed"
    },
    "tags": []
   },
   "outputs": [],
   "source": [
    "cat_cols = [x for x, dtypes in X.dtypes.items() if dtypes == 'O']\n",
    "num_cols = [x for x, dtypes in X.dtypes.items() if dtypes in ['float', 'int']]\n",
    "X[cat_cols] = X[cat_cols].astype(str)\n",
    "X_test[cat_cols] = X_test[cat_cols].astype(str)"
   ]
  },
  {
   "cell_type": "code",
   "execution_count": 7,
   "id": "24dfb8da",
   "metadata": {
    "execution": {
     "iopub.execute_input": "2024-06-04T12:42:33.616605Z",
     "iopub.status.busy": "2024-06-04T12:42:33.616190Z",
     "iopub.status.idle": "2024-06-04T12:42:33.621962Z",
     "shell.execute_reply": "2024-06-04T12:42:33.620787Z"
    },
    "papermill": {
     "duration": 0.020415,
     "end_time": "2024-06-04T12:42:33.624378",
     "exception": false,
     "start_time": "2024-06-04T12:42:33.603963",
     "status": "completed"
    },
    "tags": []
   },
   "outputs": [],
   "source": [
    "with open('cat_cols.pkl', 'wb') as f:\n",
    "    pickle.dump(cat_cols, f)"
   ]
  },
  {
   "cell_type": "code",
   "execution_count": 8,
   "id": "85ab74e0",
   "metadata": {
    "execution": {
     "iopub.execute_input": "2024-06-04T12:42:33.648339Z",
     "iopub.status.busy": "2024-06-04T12:42:33.647939Z",
     "iopub.status.idle": "2024-06-04T12:42:33.696952Z",
     "shell.execute_reply": "2024-06-04T12:42:33.695644Z"
    },
    "papermill": {
     "duration": 0.064536,
     "end_time": "2024-06-04T12:42:33.699907",
     "exception": false,
     "start_time": "2024-06-04T12:42:33.635371",
     "status": "completed"
    },
    "tags": []
   },
   "outputs": [],
   "source": [
    "class Model_Utils:\n",
    "    @staticmethod\n",
    "    def model_evals(y_true, y_proba, cutoff = 0.5):\n",
    "        from sklearn.metrics import make_scorer, accuracy_score, precision_score, recall_score, f1_score, average_precision_score, roc_auc_score\n",
    "        \"\"\"\n",
    "        Returns model evaluation metrics for a binary classification model\n",
    "\n",
    "        Parameters:\n",
    "        -----------\n",
    "            y_true: int (0,1) \n",
    "                Actual binary labels\n",
    "\n",
    "            y_proba: float (between 0 and 1)\n",
    "                Probability scores output of model \n",
    "\n",
    "        Returns:\n",
    "        --------\n",
    "            result: dict\n",
    "                Dictionary of metrics and their results based on the input\n",
    "                    - event rate (% predicted 1's)\n",
    "                    - accuracy\n",
    "                    - roc_auc\n",
    "                    - pr_auc\n",
    "                    - recall\n",
    "                    - precision\n",
    "                    - f1\n",
    "                    - lift\n",
    "        \"\"\"\n",
    "\n",
    "        y_pred = (y_proba > cutoff).astype(int)\n",
    "\n",
    "        event_rate = y_pred.mean()\n",
    "\n",
    "        accuracy = accuracy_score(y_true, y_pred)\n",
    "\n",
    "        roc_auc = roc_auc_score(y_true, y_proba)\n",
    "\n",
    "        pr_auc = average_precision_score(y_true, y_proba)\n",
    "\n",
    "        recall = recall_score(y_true, y_pred)\n",
    "\n",
    "        precision = precision_score(y_true, y_pred)\n",
    "\n",
    "        f1 = f1_score(y_true, y_pred)\n",
    "\n",
    "        lift = recall / event_rate\n",
    "\n",
    "        return {'event_rate': event_rate,\n",
    "                'acc': accuracy, \n",
    "                'precision': precision, \n",
    "                'recall': recall, \n",
    "                'f1': f1, \n",
    "                'roc_auc': roc_auc,\n",
    "                'pr_auc': pr_auc, \n",
    "                'lift': lift}\n",
    "    \n",
    "    @staticmethod\n",
    "    def cutoff_perc(y_actual, y_proba, percent):\n",
    "        n_cutoff = int(len(y_actual) * percent)\n",
    "\n",
    "        scores = pd.DataFrame({'actual': y_actual, 'proba': y_proba})\n",
    "        scores = scores.sort_values(by = 'proba', ascending= False)\n",
    "        scores['rank'] = scores['proba'].rank(ascending = False)\n",
    "        scores['ranked_pred'] = np.where(scores['rank']<= n_cutoff, 1, 0)\n",
    "\n",
    "        print(len(scores[scores['ranked_pred'] == 1]))\n",
    "        print(scores[scores['ranked_pred'] == 1]['proba'].min())\n",
    "        return Model_Utils.model_evals(y_actual, y_proba, cutoff = scores[scores['ranked_pred'] == 1]['proba'].min())\n",
    "    \n",
    "    @staticmethod\n",
    "    def DumbClassifier(y_true):\n",
    "        import numpy as np\n",
    "        y_pred = np.zeros(len(y_true))\n",
    "        return y_pred\n",
    "    \n",
    "    @staticmethod\n",
    "    def RandomChanceClassifier(y_true):\n",
    "        import numpy as np\n",
    "        y_pred = Model_Utils.DumbClassifier(y_true)\n",
    "        event = y_true.sum()\n",
    "        ind = np.random.randint(0, len(y_true), size=event)\n",
    "        y_pred[ind] = 1\n",
    "        return y_pred\n",
    "    \n",
    "    @staticmethod\n",
    "    def save_model_results(results, schema, filepath):\n",
    "        if not os.path.exists(filepath):\n",
    "            score_schema = {'model_name': 'str', \n",
    "                        'model': 'str',\n",
    "                        'params': 'str',\n",
    "                        'acc': 'float',\n",
    "                        'precision': 'float',\n",
    "                        'recall': 'float',\n",
    "                        'f1_score': 'float',\n",
    "                        'roc_auc': 'float',\n",
    "                        'pr_auc': 'float',\n",
    "                        'lift': 'float'}\n",
    "            scores = pd.DataFrame(columns = score_schema.keys()).astype(score_schema)\n",
    "        else:\n",
    "            scores = pd.read_csv(filepath)\n",
    "        row = []\n",
    "        \n",
    "        for key in schema.keys():\n",
    "            row.append(results[key])\n",
    "        \n",
    "        scores.loc[len(scores)] = row\n",
    "        scores.to_csv(filepath, index = False)\n",
    "        \n",
    "    @staticmethod\n",
    "    def LightGBMClassifier_CV(X, y, cat_cols, cv = 5, group = None, params = None):\n",
    "        import lightgbm\n",
    "        from sklearn.model_selection import StratifiedGroupKFold\n",
    "        \n",
    "        cv = StratifiedGroupKFold(n_splits=cv, shuffle = True, random_state = 42)\n",
    "        \n",
    "        if params == None:\n",
    "            params = {'random_state': 42\n",
    "                     ,'objective': 'binary'\n",
    "                     ,'verbose': -1\n",
    "                     ,'n_jobs': -1}\n",
    "        \n",
    "        scores = {'acc': [],\n",
    "                        'precision': [],\n",
    "                        'recall': [],\n",
    "                        'f1': [],\n",
    "                        'roc_auc': [],\n",
    "                        'pr_auc': [],\n",
    "                        'lift': []}\n",
    "\n",
    "        split = 1\n",
    "        \n",
    "        for train_ind, valid_ind in cv.split(X, y, groups=group):\n",
    "            X_train, y_train = X.iloc[train_ind], y.iloc[train_ind]\n",
    "            X_valid, y_valid = X.iloc[valid_ind], y.iloc[valid_ind]\n",
    "\n",
    "            X_train[cat_cols] = X_train[cat_cols].astype(\"category\")\n",
    "            X_valid[cat_cols] = X_valid[cat_cols].astype(\"category\")\n",
    "            \n",
    "            lgb = lightgbm.LGBMClassifier(**params)\n",
    "            lgb.fit(X_train, y_train)\n",
    "\n",
    "            y_proba = lgb.predict_proba(X_valid)[:, 1]\n",
    "            results = Model_Utils.model_evals(y_valid, y_proba)\n",
    "            print(f'LightGBM, Val CV{split}: {results}\"')\n",
    "            \n",
    "            split += 1\n",
    "            \n",
    "            for key in results.keys():\n",
    "                if key in scores.keys():\n",
    "                    scores[key].append(results[key])\n",
    "        \n",
    "        for key in results.keys():\n",
    "            if key in scores.keys():\n",
    "                scores[key] = np.array(scores[key]).mean()\n",
    "            \n",
    "        print(f'LightGBM, Average CV: {scores}\"')\n",
    "        return lgb, scores\n",
    "\n",
    "    \n",
    "    @staticmethod\n",
    "    def LightGBMClassifier_pred(X, y, X_test, y_test, cat_cols, params = None):\n",
    "        import lightgbm\n",
    "        \n",
    "        if params == None:\n",
    "            params = {'random_state': 42\n",
    "                     ,'objective': 'binary'\n",
    "                     ,'verbose': -1\n",
    "                     ,'n_jobs': -1}\n",
    "        \n",
    "        scores = {'acc': [],\n",
    "                        'precision': [],\n",
    "                        'recall': [],\n",
    "                        'f1': [],\n",
    "                        'roc_auc': [],\n",
    "                        'pr_auc': [],\n",
    "                        'lift': []}\n",
    "\n",
    "        \n",
    "        X[cat_cols] = X[cat_cols].astype(\"category\")\n",
    "        X_test[cat_cols] = X_test[cat_cols].astype(\"category\")\n",
    "            \n",
    "        lgb = lightgbm.LGBMClassifier(**params)\n",
    "        lgb.fit(X, y)\n",
    "\n",
    "        y_proba = lgb.predict_proba(X_test)[:, 1]\n",
    "        results = Model_Utils.model_evals(y_test, y_proba)\n",
    "        print(f'LightGBM, Test: {results}\"')\n",
    "        \n",
    "        return lgb, y_proba, results\n",
    "    \n",
    "    \n",
    "    @staticmethod\n",
    "    def CatBoostClassifier_CV(X, y, cat_cols, cv = 5, group = None, params = None):\n",
    "        import catboost\n",
    "        from sklearn.model_selection import StratifiedGroupKFold\n",
    "        \n",
    "        cv = StratifiedGroupKFold(n_splits=cv, shuffle = True, random_state = 42)\n",
    "        \n",
    "        if params == None:\n",
    "             params = {'boosting_type' : \"Plain\",\n",
    "                      'eval_metric': 'PRAUC',\n",
    "                      'random_seed': 42,\n",
    "                      'learning_rate': 0.05,\n",
    "                      'use_best_model': True,\n",
    "                      'iterations': 1000}\n",
    "        \n",
    "        scores = {'acc': [],\n",
    "                        'precision': [],\n",
    "                        'recall': [],\n",
    "                        'f1': [],\n",
    "                        'roc_auc': [],\n",
    "                        'pr_auc': [],\n",
    "                        'lift': []}\n",
    "\n",
    "        split = 1\n",
    "        \n",
    "        for train_ind, valid_ind in cv.split(X, y, groups=group):\n",
    "            X_train, y_train = X.iloc[train_ind], y.iloc[train_ind]\n",
    "            X_valid, y_valid = X.iloc[valid_ind], y.iloc[valid_ind]\n",
    "            \n",
    "            \n",
    "            clf = CatBoostClassifier(**params)\n",
    "        \n",
    "            train_pool = Pool(X_train, y_train, cat_features=cat_cols)\n",
    "            val_pool = Pool(X_valid, y_valid, cat_features=cat_cols)\n",
    "            \n",
    "            clf.fit(train_pool, eval_set=val_pool, verbose=False)\n",
    "            \n",
    "            y_proba = clf.predict_proba(X_valid)[:, 1]\n",
    "            results = Model_Utils.model_evals(y_valid, y_proba)\n",
    "            print(f'CatBoost, Val CV{split}: {results}\"')\n",
    "            \n",
    "            split += 1\n",
    "            \n",
    "            for key in results.keys():\n",
    "                if key in scores.keys():\n",
    "                    scores[key].append(results[key])\n",
    "        \n",
    "        for key in results.keys():\n",
    "            if key in scores.keys():\n",
    "                scores[key] = np.array(scores[key]).mean()\n",
    "            \n",
    "        print(f'CatBoost, Average CV: {scores}\"')\n",
    "        return clf, scores\n",
    "    \n",
    "    \n",
    "    @staticmethod\n",
    "    def CatBoostClassifier_pred(X, y, X_test, y_test, cat_cols, params = None):\n",
    "        import catboost\n",
    "    \n",
    "        if params == None:\n",
    "             params = {'boosting_type' : \"Plain\",\n",
    "                      'eval_metric': 'PRAUC',\n",
    "                      'random_seed': 42,\n",
    "                      'learning_rate': 0.05,\n",
    "                      'use_best_model': True,\n",
    "                      'iterations': 1000}\n",
    "                \n",
    "        clf = CatBoostClassifier(**params)\n",
    "        \n",
    "        train_pool = Pool(X, y, cat_features=cat_cols)\n",
    "        test_pool = Pool(X_test, y_test, cat_features=cat_cols)\n",
    "            \n",
    "        clf.fit(train_pool, eval_set=test_pool, verbose=False)\n",
    "            \n",
    "        y_proba = clf.predict_proba(X_test)[:, 1]\n",
    "        results = Model_Utils.model_evals(y_test, y_proba)\n",
    "        print(f'CatBoost, Test: {results}\"')\n",
    "            \n",
    "        return clf, y_proba, results\n",
    "\n",
    "    \n",
    "    @staticmethod\n",
    "    def train_test_split(X, y, test_size = 0.2):\n",
    "        from sklearn.model_selection import train_test_split\n",
    "        import polars as pl\n",
    "        \n",
    "        X_train, X_test, y_train, y_test = train_test_split(X, y, test_size=test_size, random_state=42)\n",
    "        pl.from_pandas(pd.concat([y_train, X_train], axis = 1)).write_csv('model_abt_train.csv')\n",
    "        del X_train\n",
    "        del y_train\n",
    "        gc.collect()\n",
    "        \n",
    "        pl.from_pandas(pd.concat([y_test, X_test], axis = 1)).write_csv('model_abt_test.csv')\n",
    "        del X_test\n",
    "        del y_test\n",
    "        gc.collect()"
   ]
  },
  {
   "cell_type": "code",
   "execution_count": 9,
   "id": "efcbba17",
   "metadata": {
    "execution": {
     "iopub.execute_input": "2024-06-04T12:42:33.723716Z",
     "iopub.status.busy": "2024-06-04T12:42:33.723343Z",
     "iopub.status.idle": "2024-06-04T12:42:33.731326Z",
     "shell.execute_reply": "2024-06-04T12:42:33.730150Z"
    },
    "papermill": {
     "duration": 0.022699,
     "end_time": "2024-06-04T12:42:33.733758",
     "exception": false,
     "start_time": "2024-06-04T12:42:33.711059",
     "status": "completed"
    },
    "tags": []
   },
   "outputs": [],
   "source": [
    "params_lgb = {'colsample_bytree': 0.8091363920278533, \n",
    "              'gamma': 1.6740930883959255, \n",
    "              'learning_rate': 0.0816628382148218, \n",
    "              'max_depth': 7, 'min_child_weight': 1.7065771300111194, \n",
    "              'n_estimators': 250, 'random_state': 42, \n",
    "              'reg_alpha': 7.114616964626139, 'reg_lambda': 8.853463059493436, \n",
    "              'subsample': 0.5494975675591438, 'verbose': -1}\n",
    "\n",
    "\n",
    "params_catboost = {'bagging_temperature': 3.0469773840224983,\n",
    "                   'boosting_type': 'Ordered', \n",
    "                   'border_count': 96, \n",
    "                   'colsample_bylevel': 0.5008191566781925, \n",
    "                   'depth': 5, 'iterations': 250, \n",
    "                   'l2_leaf_reg': 8.0, \n",
    "                   'learning_rate': 0.19362752313765308, \n",
    "                   'max_ctr_complexity': 5.0, \n",
    "                   'one_hot_max_size': 50, \n",
    "                   'random_state': 42, \n",
    "                   'verbose': -1}\n"
   ]
  },
  {
   "cell_type": "code",
   "execution_count": 10,
   "id": "bc35a290",
   "metadata": {
    "execution": {
     "iopub.execute_input": "2024-06-04T12:42:33.757882Z",
     "iopub.status.busy": "2024-06-04T12:42:33.757492Z",
     "iopub.status.idle": "2024-06-04T12:42:33.765685Z",
     "shell.execute_reply": "2024-06-04T12:42:33.764593Z"
    },
    "papermill": {
     "duration": 0.023565,
     "end_time": "2024-06-04T12:42:33.768161",
     "exception": false,
     "start_time": "2024-06-04T12:42:33.744596",
     "status": "completed"
    },
    "tags": []
   },
   "outputs": [
    {
     "data": {
      "text/plain": [
       "(1221327, 450)"
      ]
     },
     "execution_count": 10,
     "metadata": {},
     "output_type": "execute_result"
    }
   ],
   "source": [
    "X.shape"
   ]
  },
  {
   "cell_type": "code",
   "execution_count": 11,
   "id": "bdc6dfe8",
   "metadata": {
    "execution": {
     "iopub.execute_input": "2024-06-04T12:42:33.791094Z",
     "iopub.status.busy": "2024-06-04T12:42:33.790719Z",
     "iopub.status.idle": "2024-06-04T12:42:33.797794Z",
     "shell.execute_reply": "2024-06-04T12:42:33.796703Z"
    },
    "papermill": {
     "duration": 0.021564,
     "end_time": "2024-06-04T12:42:33.800378",
     "exception": false,
     "start_time": "2024-06-04T12:42:33.778814",
     "status": "completed"
    },
    "tags": []
   },
   "outputs": [
    {
     "data": {
      "text/plain": [
       "(305332, 450)"
      ]
     },
     "execution_count": 11,
     "metadata": {},
     "output_type": "execute_result"
    }
   ],
   "source": [
    "X_test.shape"
   ]
  },
  {
   "cell_type": "code",
   "execution_count": 12,
   "id": "286205e1",
   "metadata": {
    "execution": {
     "iopub.execute_input": "2024-06-04T12:42:33.824066Z",
     "iopub.status.busy": "2024-06-04T12:42:33.823681Z",
     "iopub.status.idle": "2024-06-04T12:57:58.495817Z",
     "shell.execute_reply": "2024-06-04T12:57:58.494678Z"
    },
    "papermill": {
     "duration": 924.697612,
     "end_time": "2024-06-04T12:57:58.509028",
     "exception": false,
     "start_time": "2024-06-04T12:42:33.811416",
     "status": "completed"
    },
    "tags": []
   },
   "outputs": [
    {
     "name": "stdout",
     "output_type": "stream",
     "text": [
      "CatBoost, Test: {'event_rate': 0.0011757693265036092, 'acc': 0.9687356713348093, 'precision': 0.5097493036211699, 'recall': 0.019156285983460693, 'f1': 0.03692493946731235, 'roc_auc': 0.8518577582368849, 'pr_auc': 0.18576100417804817, 'lift': 16.292554629253537}\"\n"
     ]
    }
   ],
   "source": [
    "#CatBoost\n",
    "clf, y_pred, cat_scores = Model_Utils.CatBoostClassifier_pred(X, y, X_test, y_test, cat_cols, params_catboost)\n"
   ]
  },
  {
   "cell_type": "code",
   "execution_count": 13,
   "id": "4a8799a0",
   "metadata": {
    "execution": {
     "iopub.execute_input": "2024-06-04T12:57:58.533563Z",
     "iopub.status.busy": "2024-06-04T12:57:58.532529Z",
     "iopub.status.idle": "2024-06-04T13:05:54.069458Z",
     "shell.execute_reply": "2024-06-04T13:05:54.067900Z"
    },
    "papermill": {
     "duration": 475.567335,
     "end_time": "2024-06-04T13:05:54.087709",
     "exception": false,
     "start_time": "2024-06-04T12:57:58.520374",
     "status": "completed"
    },
    "tags": []
   },
   "outputs": [
    {
     "name": "stdout",
     "output_type": "stream",
     "text": [
      "LightGBM, Test: {'event_rate': 0.000985812165118625, 'acc': 0.9687553220756423, 'precision': 0.521594684385382, 'recall': 0.01643462786559196, 'f1': 0.03186523239293688, 'roc_auc': 0.8561347087184998, 'pr_auc': 0.18964341686977695, 'lift': 16.6711554666343}\"\n"
     ]
    }
   ],
   "source": [
    "lgb, lgb_pred, lgb_scores = Model_Utils.LightGBMClassifier_pred(X, y, X_test, y_test, cat_cols, params_lgb)"
   ]
  },
  {
   "cell_type": "code",
   "execution_count": 14,
   "id": "e09c5037",
   "metadata": {
    "execution": {
     "iopub.execute_input": "2024-06-04T13:05:54.112994Z",
     "iopub.status.busy": "2024-06-04T13:05:54.112532Z",
     "iopub.status.idle": "2024-06-04T13:06:01.208020Z",
     "shell.execute_reply": "2024-06-04T13:06:01.206698Z"
    },
    "papermill": {
     "duration": 7.112032,
     "end_time": "2024-06-04T13:06:01.210935",
     "exception": false,
     "start_time": "2024-06-04T13:05:54.098903",
     "status": "completed"
    },
    "tags": []
   },
   "outputs": [],
   "source": [
    "mean_vote = [np.mean(k) for k in zip(lgb_pred, y_pred)]\n",
    "max_vote = [np.max(k) for k in zip(lgb_pred, y_pred)]"
   ]
  },
  {
   "cell_type": "code",
   "execution_count": 15,
   "id": "72d253e2",
   "metadata": {
    "execution": {
     "iopub.execute_input": "2024-06-04T13:06:01.236123Z",
     "iopub.status.busy": "2024-06-04T13:06:01.235630Z",
     "iopub.status.idle": "2024-06-04T13:06:01.894942Z",
     "shell.execute_reply": "2024-06-04T13:06:01.893690Z"
    },
    "papermill": {
     "duration": 0.675421,
     "end_time": "2024-06-04T13:06:01.897649",
     "exception": false,
     "start_time": "2024-06-04T13:06:01.222228",
     "status": "completed"
    },
    "tags": []
   },
   "outputs": [
    {
     "data": {
      "text/plain": [
       "{'event_rate': 0.0009530609303970759,\n",
       " 'acc': 0.9687684225695309,\n",
       " 'precision': 0.5292096219931272,\n",
       " 'recall': 0.01612059039045326,\n",
       " 'f1': 0.0312880942706217,\n",
       " 'roc_auc': 0.8564343500178961,\n",
       " 'pr_auc': 0.19210358190432258,\n",
       " 'lift': 16.914543316487542}"
      ]
     },
     "execution_count": 15,
     "metadata": {},
     "output_type": "execute_result"
    }
   ],
   "source": [
    "Model_Utils.model_evals(y_test, pd.Series(mean_vote))"
   ]
  },
  {
   "cell_type": "code",
   "execution_count": 16,
   "id": "dfaecff9",
   "metadata": {
    "execution": {
     "iopub.execute_input": "2024-06-04T13:06:01.922577Z",
     "iopub.status.busy": "2024-06-04T13:06:01.922148Z",
     "iopub.status.idle": "2024-06-04T13:06:02.576413Z",
     "shell.execute_reply": "2024-06-04T13:06:02.575190Z"
    },
    "papermill": {
     "duration": 0.670211,
     "end_time": "2024-06-04T13:06:02.579397",
     "exception": false,
     "start_time": "2024-06-04T13:06:01.909186",
     "status": "completed"
    },
    "tags": []
   },
   "outputs": [
    {
     "data": {
      "text/plain": [
       "{'event_rate': 0.001506556797191254,\n",
       " 'acc': 0.9686734439888384,\n",
       " 'precision': 0.48695652173913045,\n",
       " 'recall': 0.023448131477022925,\n",
       " 'f1': 0.044741835613702194,\n",
       " 'roc_auc': 0.8555645074387427,\n",
       " 'pr_auc': 0.19049408734010242,\n",
       " 'lift': 15.564054087266008}"
      ]
     },
     "execution_count": 16,
     "metadata": {},
     "output_type": "execute_result"
    }
   ],
   "source": [
    "Model_Utils.model_evals(y_test, pd.Series(max_vote))"
   ]
  },
  {
   "cell_type": "code",
   "execution_count": 17,
   "id": "881c1a41",
   "metadata": {
    "execution": {
     "iopub.execute_input": "2024-06-04T13:06:02.604733Z",
     "iopub.status.busy": "2024-06-04T13:06:02.604326Z",
     "iopub.status.idle": "2024-06-04T13:06:03.262742Z",
     "shell.execute_reply": "2024-06-04T13:06:03.261557Z"
    },
    "papermill": {
     "duration": 0.674098,
     "end_time": "2024-06-04T13:06:03.265246",
     "exception": false,
     "start_time": "2024-06-04T13:06:02.591148",
     "status": "completed"
    },
    "tags": []
   },
   "outputs": [
    {
     "name": "stdout",
     "output_type": "stream",
     "text": [
      "30533\n",
      "0.08083977608976073\n"
     ]
    },
    {
     "data": {
      "text/plain": [
       "{'event_rate': 0.09999606985183342,\n",
       " 'acc': 0.9004722728046848,\n",
       " 'precision': 0.1587842263854317,\n",
       " 'recall': 0.507484559824139,\n",
       " 'f1': 0.24188599226643387,\n",
       " 'roc_auc': 0.8561347087184998,\n",
       " 'pr_auc': 0.18964341686977695,\n",
       " 'lift': 5.075045055031573}"
      ]
     },
     "execution_count": 17,
     "metadata": {},
     "output_type": "execute_result"
    }
   ],
   "source": [
    "Model_Utils.cutoff_perc(y_test, lgb_pred, 0.1)"
   ]
  },
  {
   "cell_type": "code",
   "execution_count": 18,
   "id": "baea3be8",
   "metadata": {
    "execution": {
     "iopub.execute_input": "2024-06-04T13:06:03.290750Z",
     "iopub.status.busy": "2024-06-04T13:06:03.290336Z",
     "iopub.status.idle": "2024-06-04T13:06:04.621124Z",
     "shell.execute_reply": "2024-06-04T13:06:04.620171Z"
    },
    "papermill": {
     "duration": 1.346579,
     "end_time": "2024-06-04T13:06:04.623849",
     "exception": false,
     "start_time": "2024-06-04T13:06:03.277270",
     "status": "completed"
    },
    "tags": []
   },
   "outputs": [],
   "source": [
    "with open('catboost_champ.joblib', 'wb') as f:\n",
    "    joblib.dump(clf, f)\n",
    "    \n",
    "with open('lgb_champ.joblib', 'wb') as f:\n",
    "    joblib.dump(lgb, f)"
   ]
  },
  {
   "cell_type": "code",
   "execution_count": 19,
   "id": "f929256a",
   "metadata": {
    "execution": {
     "iopub.execute_input": "2024-06-04T13:06:04.649461Z",
     "iopub.status.busy": "2024-06-04T13:06:04.648959Z",
     "iopub.status.idle": "2024-06-04T13:06:04.656435Z",
     "shell.execute_reply": "2024-06-04T13:06:04.655191Z"
    },
    "papermill": {
     "duration": 0.023531,
     "end_time": "2024-06-04T13:06:04.658995",
     "exception": false,
     "start_time": "2024-06-04T13:06:04.635464",
     "status": "completed"
    },
    "tags": []
   },
   "outputs": [
    {
     "data": {
      "text/plain": [
       "(1221327, 450)"
      ]
     },
     "execution_count": 19,
     "metadata": {},
     "output_type": "execute_result"
    }
   ],
   "source": [
    "X.shape"
   ]
  },
  {
   "cell_type": "code",
   "execution_count": 20,
   "id": "3f303be8",
   "metadata": {
    "execution": {
     "iopub.execute_input": "2024-06-04T13:06:04.684728Z",
     "iopub.status.busy": "2024-06-04T13:06:04.684350Z",
     "iopub.status.idle": "2024-06-04T13:06:04.691036Z",
     "shell.execute_reply": "2024-06-04T13:06:04.689961Z"
    },
    "papermill": {
     "duration": 0.022702,
     "end_time": "2024-06-04T13:06:04.693512",
     "exception": false,
     "start_time": "2024-06-04T13:06:04.670810",
     "status": "completed"
    },
    "tags": []
   },
   "outputs": [
    {
     "data": {
      "text/plain": [
       "(305332, 450)"
      ]
     },
     "execution_count": 20,
     "metadata": {},
     "output_type": "execute_result"
    }
   ],
   "source": [
    "X_test.shape"
   ]
  },
  {
   "cell_type": "code",
   "execution_count": 21,
   "id": "87f207d4",
   "metadata": {
    "execution": {
     "iopub.execute_input": "2024-06-04T13:06:04.719422Z",
     "iopub.status.busy": "2024-06-04T13:06:04.718773Z",
     "iopub.status.idle": "2024-06-04T13:06:08.337141Z",
     "shell.execute_reply": "2024-06-04T13:06:08.336123Z"
    },
    "papermill": {
     "duration": 3.634969,
     "end_time": "2024-06-04T13:06:08.340329",
     "exception": false,
     "start_time": "2024-06-04T13:06:04.705360",
     "status": "completed"
    },
    "tags": []
   },
   "outputs": [],
   "source": [
    "X = pd.concat([X, X_test], ignore_index=True)\n",
    "y = pd.concat([y, y_test], ignore_index = True)"
   ]
  },
  {
   "cell_type": "code",
   "execution_count": 22,
   "id": "a5f7ac02",
   "metadata": {
    "execution": {
     "iopub.execute_input": "2024-06-04T13:06:08.366536Z",
     "iopub.status.busy": "2024-06-04T13:06:08.366101Z",
     "iopub.status.idle": "2024-06-04T13:06:08.718653Z",
     "shell.execute_reply": "2024-06-04T13:06:08.717460Z"
    },
    "papermill": {
     "duration": 0.36864,
     "end_time": "2024-06-04T13:06:08.721211",
     "exception": false,
     "start_time": "2024-06-04T13:06:08.352571",
     "status": "completed"
    },
    "tags": []
   },
   "outputs": [
    {
     "data": {
      "text/plain": [
       "0"
      ]
     },
     "execution_count": 22,
     "metadata": {},
     "output_type": "execute_result"
    }
   ],
   "source": [
    "del X_test\n",
    "del y_test\n",
    "gc.collect()"
   ]
  },
  {
   "cell_type": "code",
   "execution_count": 23,
   "id": "efa669b9",
   "metadata": {
    "execution": {
     "iopub.execute_input": "2024-06-04T13:06:08.747452Z",
     "iopub.status.busy": "2024-06-04T13:06:08.747005Z",
     "iopub.status.idle": "2024-06-04T13:06:08.754289Z",
     "shell.execute_reply": "2024-06-04T13:06:08.752915Z"
    },
    "papermill": {
     "duration": 0.02337,
     "end_time": "2024-06-04T13:06:08.756692",
     "exception": false,
     "start_time": "2024-06-04T13:06:08.733322",
     "status": "completed"
    },
    "tags": []
   },
   "outputs": [
    {
     "data": {
      "text/plain": [
       "(1526659, 450)"
      ]
     },
     "execution_count": 23,
     "metadata": {},
     "output_type": "execute_result"
    }
   ],
   "source": [
    "X.shape"
   ]
  },
  {
   "cell_type": "code",
   "execution_count": 24,
   "id": "61d3831b",
   "metadata": {
    "execution": {
     "iopub.execute_input": "2024-06-04T13:06:08.783025Z",
     "iopub.status.busy": "2024-06-04T13:06:08.782618Z",
     "iopub.status.idle": "2024-06-04T13:23:27.508372Z",
     "shell.execute_reply": "2024-06-04T13:23:27.507092Z"
    },
    "papermill": {
     "duration": 1038.74257,
     "end_time": "2024-06-04T13:23:27.511511",
     "exception": false,
     "start_time": "2024-06-04T13:06:08.768941",
     "status": "completed"
    },
    "tags": []
   },
   "outputs": [],
   "source": [
    "X[cat_cols] = X[cat_cols].astype(\"category\")\n",
    "lgbf = lightgbm.LGBMClassifier(**params_lgb)\n",
    "lgbf.fit(X, y)\n",
    "\n",
    "with open('lgb_champ_full.joblib', 'wb') as f:\n",
    "    joblib.dump(lgbf, f)"
   ]
  },
  {
   "cell_type": "code",
   "execution_count": 25,
   "id": "132f9d60",
   "metadata": {
    "execution": {
     "iopub.execute_input": "2024-06-04T13:23:27.540301Z",
     "iopub.status.busy": "2024-06-04T13:23:27.539860Z",
     "iopub.status.idle": "2024-06-04T13:40:18.449129Z",
     "shell.execute_reply": "2024-06-04T13:40:18.447495Z"
    },
    "papermill": {
     "duration": 1010.928144,
     "end_time": "2024-06-04T13:40:18.453357",
     "exception": false,
     "start_time": "2024-06-04T13:23:27.525213",
     "status": "completed"
    },
    "tags": []
   },
   "outputs": [],
   "source": [
    "clff = CatBoostClassifier(**params_catboost)\n",
    "train_pool = Pool(X, y, cat_features=cat_cols)\n",
    "clff.fit(train_pool, verbose=False)\n",
    "            \n",
    "with open('catboost_champ_full.joblib', 'wb') as f:\n",
    "    joblib.dump(clff, f)"
   ]
  },
  {
   "cell_type": "code",
   "execution_count": 26,
   "id": "df8bda8a",
   "metadata": {
    "execution": {
     "iopub.execute_input": "2024-06-04T13:40:18.485309Z",
     "iopub.status.busy": "2024-06-04T13:40:18.484681Z",
     "iopub.status.idle": "2024-06-04T13:40:18.525270Z",
     "shell.execute_reply": "2024-06-04T13:40:18.523806Z"
    },
    "papermill": {
     "duration": 0.059712,
     "end_time": "2024-06-04T13:40:18.528221",
     "exception": false,
     "start_time": "2024-06-04T13:40:18.468509",
     "status": "completed"
    },
    "tags": []
   },
   "outputs": [
    {
     "data": {
      "text/html": [
       "<div>\n",
       "<style scoped>\n",
       "    .dataframe tbody tr th:only-of-type {\n",
       "        vertical-align: middle;\n",
       "    }\n",
       "\n",
       "    .dataframe tbody tr th {\n",
       "        vertical-align: top;\n",
       "    }\n",
       "\n",
       "    .dataframe thead th {\n",
       "        text-align: right;\n",
       "    }\n",
       "</style>\n",
       "<table border=\"1\" class=\"dataframe\">\n",
       "  <thead>\n",
       "    <tr style=\"text-align: right;\">\n",
       "      <th></th>\n",
       "      <th>0</th>\n",
       "      <th>Importance</th>\n",
       "      <th>perc_imp</th>\n",
       "    </tr>\n",
       "  </thead>\n",
       "  <tbody>\n",
       "    <tr>\n",
       "      <th>410</th>\n",
       "      <td>first_birth_259D</td>\n",
       "      <td>3.252309</td>\n",
       "      <td>0.032523</td>\n",
       "    </tr>\n",
       "    <tr>\n",
       "      <th>408</th>\n",
       "      <td>first_sex_738L</td>\n",
       "      <td>2.724090</td>\n",
       "      <td>0.027241</td>\n",
       "    </tr>\n",
       "    <tr>\n",
       "      <th>127</th>\n",
       "      <td>pmtnum_254L</td>\n",
       "      <td>2.571376</td>\n",
       "      <td>0.025714</td>\n",
       "    </tr>\n",
       "    <tr>\n",
       "      <th>259</th>\n",
       "      <td>max_numberofcontrsvalue_358L</td>\n",
       "      <td>2.404486</td>\n",
       "      <td>0.024045</td>\n",
       "    </tr>\n",
       "    <tr>\n",
       "      <th>101</th>\n",
       "      <td>mobilephncnt_593L</td>\n",
       "      <td>2.227366</td>\n",
       "      <td>0.022274</td>\n",
       "    </tr>\n",
       "    <tr>\n",
       "      <th>119</th>\n",
       "      <td>numrejects9m_859L</td>\n",
       "      <td>2.193117</td>\n",
       "      <td>0.021931</td>\n",
       "    </tr>\n",
       "    <tr>\n",
       "      <th>18</th>\n",
       "      <td>requesttype_4525192L</td>\n",
       "      <td>2.186818</td>\n",
       "      <td>0.021868</td>\n",
       "    </tr>\n",
       "    <tr>\n",
       "      <th>407</th>\n",
       "      <td>first_incometype_1044T</td>\n",
       "      <td>2.047790</td>\n",
       "      <td>0.020478</td>\n",
       "    </tr>\n",
       "    <tr>\n",
       "      <th>437</th>\n",
       "      <td>mean_depth2_pmts_overdue_1140A</td>\n",
       "      <td>2.039812</td>\n",
       "      <td>0.020398</td>\n",
       "    </tr>\n",
       "    <tr>\n",
       "      <th>281</th>\n",
       "      <td>max_totalamount_6A</td>\n",
       "      <td>1.953187</td>\n",
       "      <td>0.019532</td>\n",
       "    </tr>\n",
       "    <tr>\n",
       "      <th>261</th>\n",
       "      <td>max_numberofoverdueinstlmaxdat_148D</td>\n",
       "      <td>1.944928</td>\n",
       "      <td>0.019449</td>\n",
       "    </tr>\n",
       "    <tr>\n",
       "      <th>402</th>\n",
       "      <td>sum_pmtamount_36A</td>\n",
       "      <td>1.895972</td>\n",
       "      <td>0.018960</td>\n",
       "    </tr>\n",
       "    <tr>\n",
       "      <th>131</th>\n",
       "      <td>price_1097A</td>\n",
       "      <td>1.783820</td>\n",
       "      <td>0.017838</td>\n",
       "    </tr>\n",
       "    <tr>\n",
       "      <th>404</th>\n",
       "      <td>first_empl_employedfrom_271D</td>\n",
       "      <td>1.665607</td>\n",
       "      <td>0.016656</td>\n",
       "    </tr>\n",
       "    <tr>\n",
       "      <th>291</th>\n",
       "      <td>min_dateofcredstart_739D</td>\n",
       "      <td>1.659508</td>\n",
       "      <td>0.016595</td>\n",
       "    </tr>\n",
       "    <tr>\n",
       "      <th>184</th>\n",
       "      <td>min_education_1138M</td>\n",
       "      <td>1.408292</td>\n",
       "      <td>0.014083</td>\n",
       "    </tr>\n",
       "    <tr>\n",
       "      <th>250</th>\n",
       "      <td>max_dpdmax_139P</td>\n",
       "      <td>1.347217</td>\n",
       "      <td>0.013472</td>\n",
       "    </tr>\n",
       "    <tr>\n",
       "      <th>139</th>\n",
       "      <td>validfrom_1069D</td>\n",
       "      <td>1.322043</td>\n",
       "      <td>0.013220</td>\n",
       "    </tr>\n",
       "    <tr>\n",
       "      <th>97</th>\n",
       "      <td>maxdpdtolerance_374P</td>\n",
       "      <td>1.318032</td>\n",
       "      <td>0.013180</td>\n",
       "    </tr>\n",
       "    <tr>\n",
       "      <th>3</th>\n",
       "      <td>days120_123L</td>\n",
       "      <td>1.197168</td>\n",
       "      <td>0.011972</td>\n",
       "    </tr>\n",
       "  </tbody>\n",
       "</table>\n",
       "</div>"
      ],
      "text/plain": [
       "                                       0  Importance  perc_imp\n",
       "410                     first_birth_259D    3.252309  0.032523\n",
       "408                       first_sex_738L    2.724090  0.027241\n",
       "127                          pmtnum_254L    2.571376  0.025714\n",
       "259         max_numberofcontrsvalue_358L    2.404486  0.024045\n",
       "101                    mobilephncnt_593L    2.227366  0.022274\n",
       "119                    numrejects9m_859L    2.193117  0.021931\n",
       "18                  requesttype_4525192L    2.186818  0.021868\n",
       "407               first_incometype_1044T    2.047790  0.020478\n",
       "437       mean_depth2_pmts_overdue_1140A    2.039812  0.020398\n",
       "281                   max_totalamount_6A    1.953187  0.019532\n",
       "261  max_numberofoverdueinstlmaxdat_148D    1.944928  0.019449\n",
       "402                    sum_pmtamount_36A    1.895972  0.018960\n",
       "131                          price_1097A    1.783820  0.017838\n",
       "404         first_empl_employedfrom_271D    1.665607  0.016656\n",
       "291             min_dateofcredstart_739D    1.659508  0.016595\n",
       "184                  min_education_1138M    1.408292  0.014083\n",
       "250                      max_dpdmax_139P    1.347217  0.013472\n",
       "139                      validfrom_1069D    1.322043  0.013220\n",
       "97                  maxdpdtolerance_374P    1.318032  0.013180\n",
       "3                           days120_123L    1.197168  0.011972"
      ]
     },
     "execution_count": 26,
     "metadata": {},
     "output_type": "execute_result"
    }
   ],
   "source": [
    "cat_imp = pd.DataFrame(clf.feature_names_)\n",
    "cat_imp['Importance'] = clf.feature_importances_\n",
    "cat_imp['perc_imp'] = cat_imp['Importance']/cat_imp['Importance'].sum()\n",
    "cat_imp = cat_imp.sort_values(by = 'Importance', ascending = False)\n",
    "cat_imp.head(20)"
   ]
  },
  {
   "cell_type": "code",
   "execution_count": 27,
   "id": "7912923d",
   "metadata": {
    "execution": {
     "iopub.execute_input": "2024-06-04T13:40:18.558219Z",
     "iopub.status.busy": "2024-06-04T13:40:18.557182Z",
     "iopub.status.idle": "2024-06-04T13:40:18.585037Z",
     "shell.execute_reply": "2024-06-04T13:40:18.583868Z"
    },
    "papermill": {
     "duration": 0.04634,
     "end_time": "2024-06-04T13:40:18.588360",
     "exception": false,
     "start_time": "2024-06-04T13:40:18.542020",
     "status": "completed"
    },
    "tags": []
   },
   "outputs": [
    {
     "data": {
      "text/html": [
       "<div>\n",
       "<style scoped>\n",
       "    .dataframe tbody tr th:only-of-type {\n",
       "        vertical-align: middle;\n",
       "    }\n",
       "\n",
       "    .dataframe tbody tr th {\n",
       "        vertical-align: top;\n",
       "    }\n",
       "\n",
       "    .dataframe thead th {\n",
       "        text-align: right;\n",
       "    }\n",
       "</style>\n",
       "<table border=\"1\" class=\"dataframe\">\n",
       "  <thead>\n",
       "    <tr style=\"text-align: right;\">\n",
       "      <th></th>\n",
       "      <th>0</th>\n",
       "      <th>Importance</th>\n",
       "      <th>perc_imp</th>\n",
       "    </tr>\n",
       "  </thead>\n",
       "  <tbody>\n",
       "    <tr>\n",
       "      <th>131</th>\n",
       "      <td>price_1097A</td>\n",
       "      <td>168</td>\n",
       "      <td>0.022400</td>\n",
       "    </tr>\n",
       "    <tr>\n",
       "      <th>410</th>\n",
       "      <td>first_birth_259D</td>\n",
       "      <td>133</td>\n",
       "      <td>0.017733</td>\n",
       "    </tr>\n",
       "    <tr>\n",
       "      <th>25</th>\n",
       "      <td>annuity_780A</td>\n",
       "      <td>128</td>\n",
       "      <td>0.017067</td>\n",
       "    </tr>\n",
       "    <tr>\n",
       "      <th>291</th>\n",
       "      <td>min_dateofcredstart_739D</td>\n",
       "      <td>127</td>\n",
       "      <td>0.016933</td>\n",
       "    </tr>\n",
       "    <tr>\n",
       "      <th>127</th>\n",
       "      <td>pmtnum_254L</td>\n",
       "      <td>123</td>\n",
       "      <td>0.016400</td>\n",
       "    </tr>\n",
       "    <tr>\n",
       "      <th>278</th>\n",
       "      <td>max_residualamount_856A</td>\n",
       "      <td>110</td>\n",
       "      <td>0.014667</td>\n",
       "    </tr>\n",
       "    <tr>\n",
       "      <th>66</th>\n",
       "      <td>eir_270L</td>\n",
       "      <td>94</td>\n",
       "      <td>0.012533</td>\n",
       "    </tr>\n",
       "    <tr>\n",
       "      <th>17</th>\n",
       "      <td>pmtssum_45A</td>\n",
       "      <td>93</td>\n",
       "      <td>0.012400</td>\n",
       "    </tr>\n",
       "    <tr>\n",
       "      <th>326</th>\n",
       "      <td>min_refreshdate_3813885D</td>\n",
       "      <td>85</td>\n",
       "      <td>0.011333</td>\n",
       "    </tr>\n",
       "    <tr>\n",
       "      <th>247</th>\n",
       "      <td>max_dateofcredstart_739D</td>\n",
       "      <td>85</td>\n",
       "      <td>0.011333</td>\n",
       "    </tr>\n",
       "    <tr>\n",
       "      <th>407</th>\n",
       "      <td>first_incometype_1044T</td>\n",
       "      <td>80</td>\n",
       "      <td>0.010667</td>\n",
       "    </tr>\n",
       "    <tr>\n",
       "      <th>388</th>\n",
       "      <td>max_amount_4527230A</td>\n",
       "      <td>79</td>\n",
       "      <td>0.010533</td>\n",
       "    </tr>\n",
       "    <tr>\n",
       "      <th>269</th>\n",
       "      <td>max_overdueamountmax2date_1002D</td>\n",
       "      <td>77</td>\n",
       "      <td>0.010267</td>\n",
       "    </tr>\n",
       "    <tr>\n",
       "      <th>265</th>\n",
       "      <td>max_outstandingamount_362A</td>\n",
       "      <td>76</td>\n",
       "      <td>0.010133</td>\n",
       "    </tr>\n",
       "    <tr>\n",
       "      <th>55</th>\n",
       "      <td>cntpmts24_3658933L</td>\n",
       "      <td>74</td>\n",
       "      <td>0.009867</td>\n",
       "    </tr>\n",
       "    <tr>\n",
       "      <th>261</th>\n",
       "      <td>max_numberofoverdueinstlmaxdat_148D</td>\n",
       "      <td>72</td>\n",
       "      <td>0.009600</td>\n",
       "    </tr>\n",
       "    <tr>\n",
       "      <th>441</th>\n",
       "      <td>std_pmts_dpd_1073P</td>\n",
       "      <td>68</td>\n",
       "      <td>0.009067</td>\n",
       "    </tr>\n",
       "    <tr>\n",
       "      <th>101</th>\n",
       "      <td>mobilephncnt_593L</td>\n",
       "      <td>68</td>\n",
       "      <td>0.009067</td>\n",
       "    </tr>\n",
       "    <tr>\n",
       "      <th>214</th>\n",
       "      <td>mean_outstandingdebt_522A</td>\n",
       "      <td>63</td>\n",
       "      <td>0.008400</td>\n",
       "    </tr>\n",
       "    <tr>\n",
       "      <th>408</th>\n",
       "      <td>first_sex_738L</td>\n",
       "      <td>63</td>\n",
       "      <td>0.008400</td>\n",
       "    </tr>\n",
       "  </tbody>\n",
       "</table>\n",
       "</div>"
      ],
      "text/plain": [
       "                                       0  Importance  perc_imp\n",
       "131                          price_1097A         168  0.022400\n",
       "410                     first_birth_259D         133  0.017733\n",
       "25                          annuity_780A         128  0.017067\n",
       "291             min_dateofcredstart_739D         127  0.016933\n",
       "127                          pmtnum_254L         123  0.016400\n",
       "278              max_residualamount_856A         110  0.014667\n",
       "66                              eir_270L          94  0.012533\n",
       "17                           pmtssum_45A          93  0.012400\n",
       "326             min_refreshdate_3813885D          85  0.011333\n",
       "247             max_dateofcredstart_739D          85  0.011333\n",
       "407               first_incometype_1044T          80  0.010667\n",
       "388                  max_amount_4527230A          79  0.010533\n",
       "269      max_overdueamountmax2date_1002D          77  0.010267\n",
       "265           max_outstandingamount_362A          76  0.010133\n",
       "55                    cntpmts24_3658933L          74  0.009867\n",
       "261  max_numberofoverdueinstlmaxdat_148D          72  0.009600\n",
       "441                   std_pmts_dpd_1073P          68  0.009067\n",
       "101                    mobilephncnt_593L          68  0.009067\n",
       "214            mean_outstandingdebt_522A          63  0.008400\n",
       "408                       first_sex_738L          63  0.008400"
      ]
     },
     "execution_count": 27,
     "metadata": {},
     "output_type": "execute_result"
    }
   ],
   "source": [
    "lgb_imp = pd.DataFrame(lgb.feature_name_)\n",
    "lgb_imp['Importance'] = lgb.feature_importances_\n",
    "lgb_imp['perc_imp'] = lgb_imp['Importance']/lgb_imp['Importance'].sum()\n",
    "lgb_imp = lgb_imp.sort_values(by = 'Importance', ascending = False)\n",
    "lgb_imp.head(20)"
   ]
  },
  {
   "cell_type": "code",
   "execution_count": 28,
   "id": "4957512d",
   "metadata": {
    "execution": {
     "iopub.execute_input": "2024-06-04T13:40:18.618560Z",
     "iopub.status.busy": "2024-06-04T13:40:18.618138Z",
     "iopub.status.idle": "2024-06-04T13:40:18.633641Z",
     "shell.execute_reply": "2024-06-04T13:40:18.632550Z"
    },
    "papermill": {
     "duration": 0.03287,
     "end_time": "2024-06-04T13:40:18.636470",
     "exception": false,
     "start_time": "2024-06-04T13:40:18.603600",
     "status": "completed"
    },
    "tags": []
   },
   "outputs": [],
   "source": [
    "cat_imp.to_csv('CatBoost_Feature_Imp.csv', index = False)\n",
    "lgb_imp.to_csv('LightGBM_Feature_Imp.csv', index = False)"
   ]
  },
  {
   "cell_type": "code",
   "execution_count": 29,
   "id": "e3393e07",
   "metadata": {
    "execution": {
     "iopub.execute_input": "2024-06-04T13:40:18.666826Z",
     "iopub.status.busy": "2024-06-04T13:40:18.665806Z",
     "iopub.status.idle": "2024-06-04T13:40:18.688683Z",
     "shell.execute_reply": "2024-06-04T13:40:18.687454Z"
    },
    "papermill": {
     "duration": 0.040467,
     "end_time": "2024-06-04T13:40:18.690904",
     "exception": false,
     "start_time": "2024-06-04T13:40:18.650437",
     "status": "completed"
    },
    "tags": []
   },
   "outputs": [
    {
     "data": {
      "text/html": [
       "<div>\n",
       "<style scoped>\n",
       "    .dataframe tbody tr th:only-of-type {\n",
       "        vertical-align: middle;\n",
       "    }\n",
       "\n",
       "    .dataframe tbody tr th {\n",
       "        vertical-align: top;\n",
       "    }\n",
       "\n",
       "    .dataframe thead th {\n",
       "        text-align: right;\n",
       "    }\n",
       "</style>\n",
       "<table border=\"1\" class=\"dataframe\">\n",
       "  <thead>\n",
       "    <tr style=\"text-align: right;\">\n",
       "      <th></th>\n",
       "      <th>0</th>\n",
       "      <th>Importance</th>\n",
       "      <th>perc_imp</th>\n",
       "    </tr>\n",
       "  </thead>\n",
       "  <tbody>\n",
       "    <tr>\n",
       "      <th>345</th>\n",
       "      <td>mean_numberofoverdueinstlmax_1151L</td>\n",
       "      <td>2.995362</td>\n",
       "      <td>0.029954</td>\n",
       "    </tr>\n",
       "    <tr>\n",
       "      <th>410</th>\n",
       "      <td>first_birth_259D</td>\n",
       "      <td>2.706137</td>\n",
       "      <td>0.027061</td>\n",
       "    </tr>\n",
       "    <tr>\n",
       "      <th>408</th>\n",
       "      <td>first_sex_738L</td>\n",
       "      <td>2.691655</td>\n",
       "      <td>0.026917</td>\n",
       "    </tr>\n",
       "    <tr>\n",
       "      <th>127</th>\n",
       "      <td>pmtnum_254L</td>\n",
       "      <td>2.362397</td>\n",
       "      <td>0.023624</td>\n",
       "    </tr>\n",
       "    <tr>\n",
       "      <th>407</th>\n",
       "      <td>first_incometype_1044T</td>\n",
       "      <td>2.361663</td>\n",
       "      <td>0.023617</td>\n",
       "    </tr>\n",
       "    <tr>\n",
       "      <th>259</th>\n",
       "      <td>max_numberofcontrsvalue_358L</td>\n",
       "      <td>2.063867</td>\n",
       "      <td>0.020639</td>\n",
       "    </tr>\n",
       "    <tr>\n",
       "      <th>101</th>\n",
       "      <td>mobilephncnt_593L</td>\n",
       "      <td>2.038168</td>\n",
       "      <td>0.020382</td>\n",
       "    </tr>\n",
       "    <tr>\n",
       "      <th>18</th>\n",
       "      <td>requesttype_4525192L</td>\n",
       "      <td>1.991101</td>\n",
       "      <td>0.019911</td>\n",
       "    </tr>\n",
       "    <tr>\n",
       "      <th>291</th>\n",
       "      <td>min_dateofcredstart_739D</td>\n",
       "      <td>1.972814</td>\n",
       "      <td>0.019728</td>\n",
       "    </tr>\n",
       "    <tr>\n",
       "      <th>119</th>\n",
       "      <td>numrejects9m_859L</td>\n",
       "      <td>1.956379</td>\n",
       "      <td>0.019564</td>\n",
       "    </tr>\n",
       "    <tr>\n",
       "      <th>443</th>\n",
       "      <td>std_pmts_overdue_1140A</td>\n",
       "      <td>1.860229</td>\n",
       "      <td>0.018602</td>\n",
       "    </tr>\n",
       "    <tr>\n",
       "      <th>3</th>\n",
       "      <td>days120_123L</td>\n",
       "      <td>1.783374</td>\n",
       "      <td>0.017834</td>\n",
       "    </tr>\n",
       "    <tr>\n",
       "      <th>131</th>\n",
       "      <td>price_1097A</td>\n",
       "      <td>1.770948</td>\n",
       "      <td>0.017709</td>\n",
       "    </tr>\n",
       "    <tr>\n",
       "      <th>441</th>\n",
       "      <td>std_pmts_dpd_1073P</td>\n",
       "      <td>1.692800</td>\n",
       "      <td>0.016928</td>\n",
       "    </tr>\n",
       "    <tr>\n",
       "      <th>17</th>\n",
       "      <td>pmtssum_45A</td>\n",
       "      <td>1.559031</td>\n",
       "      <td>0.015590</td>\n",
       "    </tr>\n",
       "    <tr>\n",
       "      <th>55</th>\n",
       "      <td>cntpmts24_3658933L</td>\n",
       "      <td>1.530339</td>\n",
       "      <td>0.015303</td>\n",
       "    </tr>\n",
       "    <tr>\n",
       "      <th>139</th>\n",
       "      <td>validfrom_1069D</td>\n",
       "      <td>1.524006</td>\n",
       "      <td>0.015240</td>\n",
       "    </tr>\n",
       "    <tr>\n",
       "      <th>125</th>\n",
       "      <td>pctinstlsallpaidlate4d_3546849L</td>\n",
       "      <td>1.460886</td>\n",
       "      <td>0.014609</td>\n",
       "    </tr>\n",
       "    <tr>\n",
       "      <th>377</th>\n",
       "      <td>first_numberofoverdueinstlmax_1039L</td>\n",
       "      <td>1.361229</td>\n",
       "      <td>0.013612</td>\n",
       "    </tr>\n",
       "    <tr>\n",
       "      <th>93</th>\n",
       "      <td>maxdpdlast24m_143P</td>\n",
       "      <td>1.312799</td>\n",
       "      <td>0.013128</td>\n",
       "    </tr>\n",
       "  </tbody>\n",
       "</table>\n",
       "</div>"
      ],
      "text/plain": [
       "                                       0  Importance  perc_imp\n",
       "345   mean_numberofoverdueinstlmax_1151L    2.995362  0.029954\n",
       "410                     first_birth_259D    2.706137  0.027061\n",
       "408                       first_sex_738L    2.691655  0.026917\n",
       "127                          pmtnum_254L    2.362397  0.023624\n",
       "407               first_incometype_1044T    2.361663  0.023617\n",
       "259         max_numberofcontrsvalue_358L    2.063867  0.020639\n",
       "101                    mobilephncnt_593L    2.038168  0.020382\n",
       "18                  requesttype_4525192L    1.991101  0.019911\n",
       "291             min_dateofcredstart_739D    1.972814  0.019728\n",
       "119                    numrejects9m_859L    1.956379  0.019564\n",
       "443               std_pmts_overdue_1140A    1.860229  0.018602\n",
       "3                           days120_123L    1.783374  0.017834\n",
       "131                          price_1097A    1.770948  0.017709\n",
       "441                   std_pmts_dpd_1073P    1.692800  0.016928\n",
       "17                           pmtssum_45A    1.559031  0.015590\n",
       "55                    cntpmts24_3658933L    1.530339  0.015303\n",
       "139                      validfrom_1069D    1.524006  0.015240\n",
       "125      pctinstlsallpaidlate4d_3546849L    1.460886  0.014609\n",
       "377  first_numberofoverdueinstlmax_1039L    1.361229  0.013612\n",
       "93                    maxdpdlast24m_143P    1.312799  0.013128"
      ]
     },
     "execution_count": 29,
     "metadata": {},
     "output_type": "execute_result"
    }
   ],
   "source": [
    "catf_imp = pd.DataFrame(clff.feature_names_)\n",
    "catf_imp['Importance'] = clff.feature_importances_\n",
    "catf_imp['perc_imp'] = catf_imp['Importance']/catf_imp['Importance'].sum()\n",
    "catf_imp = catf_imp.sort_values(by = 'Importance', ascending = False)\n",
    "catf_imp.head(20)"
   ]
  },
  {
   "cell_type": "code",
   "execution_count": 30,
   "id": "8fd09a29",
   "metadata": {
    "execution": {
     "iopub.execute_input": "2024-06-04T13:40:18.722391Z",
     "iopub.status.busy": "2024-06-04T13:40:18.721952Z",
     "iopub.status.idle": "2024-06-04T13:40:18.753759Z",
     "shell.execute_reply": "2024-06-04T13:40:18.752315Z"
    },
    "papermill": {
     "duration": 0.051272,
     "end_time": "2024-06-04T13:40:18.757560",
     "exception": false,
     "start_time": "2024-06-04T13:40:18.706288",
     "status": "completed"
    },
    "tags": []
   },
   "outputs": [
    {
     "data": {
      "text/html": [
       "<div>\n",
       "<style scoped>\n",
       "    .dataframe tbody tr th:only-of-type {\n",
       "        vertical-align: middle;\n",
       "    }\n",
       "\n",
       "    .dataframe tbody tr th {\n",
       "        vertical-align: top;\n",
       "    }\n",
       "\n",
       "    .dataframe thead th {\n",
       "        text-align: right;\n",
       "    }\n",
       "</style>\n",
       "<table border=\"1\" class=\"dataframe\">\n",
       "  <thead>\n",
       "    <tr style=\"text-align: right;\">\n",
       "      <th></th>\n",
       "      <th>0</th>\n",
       "      <th>Importance</th>\n",
       "      <th>perc_imp</th>\n",
       "    </tr>\n",
       "  </thead>\n",
       "  <tbody>\n",
       "    <tr>\n",
       "      <th>131</th>\n",
       "      <td>price_1097A</td>\n",
       "      <td>161</td>\n",
       "      <td>0.021467</td>\n",
       "    </tr>\n",
       "    <tr>\n",
       "      <th>410</th>\n",
       "      <td>first_birth_259D</td>\n",
       "      <td>140</td>\n",
       "      <td>0.018667</td>\n",
       "    </tr>\n",
       "    <tr>\n",
       "      <th>127</th>\n",
       "      <td>pmtnum_254L</td>\n",
       "      <td>133</td>\n",
       "      <td>0.017733</td>\n",
       "    </tr>\n",
       "    <tr>\n",
       "      <th>25</th>\n",
       "      <td>annuity_780A</td>\n",
       "      <td>129</td>\n",
       "      <td>0.017200</td>\n",
       "    </tr>\n",
       "    <tr>\n",
       "      <th>291</th>\n",
       "      <td>min_dateofcredstart_739D</td>\n",
       "      <td>117</td>\n",
       "      <td>0.015600</td>\n",
       "    </tr>\n",
       "    <tr>\n",
       "      <th>278</th>\n",
       "      <td>max_residualamount_856A</td>\n",
       "      <td>110</td>\n",
       "      <td>0.014667</td>\n",
       "    </tr>\n",
       "    <tr>\n",
       "      <th>66</th>\n",
       "      <td>eir_270L</td>\n",
       "      <td>81</td>\n",
       "      <td>0.010800</td>\n",
       "    </tr>\n",
       "    <tr>\n",
       "      <th>214</th>\n",
       "      <td>mean_outstandingdebt_522A</td>\n",
       "      <td>81</td>\n",
       "      <td>0.010800</td>\n",
       "    </tr>\n",
       "    <tr>\n",
       "      <th>17</th>\n",
       "      <td>pmtssum_45A</td>\n",
       "      <td>80</td>\n",
       "      <td>0.010667</td>\n",
       "    </tr>\n",
       "    <tr>\n",
       "      <th>55</th>\n",
       "      <td>cntpmts24_3658933L</td>\n",
       "      <td>80</td>\n",
       "      <td>0.010667</td>\n",
       "    </tr>\n",
       "    <tr>\n",
       "      <th>407</th>\n",
       "      <td>first_incometype_1044T</td>\n",
       "      <td>80</td>\n",
       "      <td>0.010667</td>\n",
       "    </tr>\n",
       "    <tr>\n",
       "      <th>101</th>\n",
       "      <td>mobilephncnt_593L</td>\n",
       "      <td>76</td>\n",
       "      <td>0.010133</td>\n",
       "    </tr>\n",
       "    <tr>\n",
       "      <th>389</th>\n",
       "      <td>max_num_group1_7</td>\n",
       "      <td>75</td>\n",
       "      <td>0.010000</td>\n",
       "    </tr>\n",
       "    <tr>\n",
       "      <th>247</th>\n",
       "      <td>max_dateofcredstart_739D</td>\n",
       "      <td>75</td>\n",
       "      <td>0.010000</td>\n",
       "    </tr>\n",
       "    <tr>\n",
       "      <th>388</th>\n",
       "      <td>max_amount_4527230A</td>\n",
       "      <td>75</td>\n",
       "      <td>0.010000</td>\n",
       "    </tr>\n",
       "    <tr>\n",
       "      <th>408</th>\n",
       "      <td>first_sex_738L</td>\n",
       "      <td>73</td>\n",
       "      <td>0.009733</td>\n",
       "    </tr>\n",
       "    <tr>\n",
       "      <th>269</th>\n",
       "      <td>max_overdueamountmax2date_1002D</td>\n",
       "      <td>68</td>\n",
       "      <td>0.009067</td>\n",
       "    </tr>\n",
       "    <tr>\n",
       "      <th>326</th>\n",
       "      <td>min_refreshdate_3813885D</td>\n",
       "      <td>67</td>\n",
       "      <td>0.008933</td>\n",
       "    </tr>\n",
       "    <tr>\n",
       "      <th>261</th>\n",
       "      <td>max_numberofoverdueinstlmaxdat_148D</td>\n",
       "      <td>65</td>\n",
       "      <td>0.008667</td>\n",
       "    </tr>\n",
       "    <tr>\n",
       "      <th>77</th>\n",
       "      <td>lastapprcommoditycat_1041M</td>\n",
       "      <td>64</td>\n",
       "      <td>0.008533</td>\n",
       "    </tr>\n",
       "  </tbody>\n",
       "</table>\n",
       "</div>"
      ],
      "text/plain": [
       "                                       0  Importance  perc_imp\n",
       "131                          price_1097A         161  0.021467\n",
       "410                     first_birth_259D         140  0.018667\n",
       "127                          pmtnum_254L         133  0.017733\n",
       "25                          annuity_780A         129  0.017200\n",
       "291             min_dateofcredstart_739D         117  0.015600\n",
       "278              max_residualamount_856A         110  0.014667\n",
       "66                              eir_270L          81  0.010800\n",
       "214            mean_outstandingdebt_522A          81  0.010800\n",
       "17                           pmtssum_45A          80  0.010667\n",
       "55                    cntpmts24_3658933L          80  0.010667\n",
       "407               first_incometype_1044T          80  0.010667\n",
       "101                    mobilephncnt_593L          76  0.010133\n",
       "389                     max_num_group1_7          75  0.010000\n",
       "247             max_dateofcredstart_739D          75  0.010000\n",
       "388                  max_amount_4527230A          75  0.010000\n",
       "408                       first_sex_738L          73  0.009733\n",
       "269      max_overdueamountmax2date_1002D          68  0.009067\n",
       "326             min_refreshdate_3813885D          67  0.008933\n",
       "261  max_numberofoverdueinstlmaxdat_148D          65  0.008667\n",
       "77            lastapprcommoditycat_1041M          64  0.008533"
      ]
     },
     "execution_count": 30,
     "metadata": {},
     "output_type": "execute_result"
    }
   ],
   "source": [
    "lgbf_imp = pd.DataFrame(lgbf.feature_name_)\n",
    "lgbf_imp['Importance'] = lgbf.feature_importances_\n",
    "lgbf_imp['perc_imp'] = lgbf_imp['Importance']/lgbf_imp['Importance'].sum()\n",
    "lgbf_imp = lgbf_imp.sort_values(by = 'Importance', ascending = False)\n",
    "lgbf_imp.head(20)"
   ]
  },
  {
   "cell_type": "code",
   "execution_count": null,
   "id": "ffc8563b",
   "metadata": {
    "papermill": {
     "duration": 0.017225,
     "end_time": "2024-06-04T13:40:18.795358",
     "exception": false,
     "start_time": "2024-06-04T13:40:18.778133",
     "status": "completed"
    },
    "tags": []
   },
   "outputs": [],
   "source": []
  }
 ],
 "metadata": {
  "kaggle": {
   "accelerator": "none",
   "dataSources": [
    {
     "databundleVersionId": 8733380,
     "datasetId": 5136208,
     "sourceId": 8587177,
     "sourceType": "datasetVersion"
    },
    {
     "databundleVersionId": 8749129,
     "datasetId": 5137337,
     "sourceId": 8602130,
     "sourceType": "datasetVersion"
    }
   ],
   "dockerImageVersionId": 30715,
   "isGpuEnabled": false,
   "isInternetEnabled": true,
   "language": "python",
   "sourceType": "notebook"
  },
  "kernelspec": {
   "display_name": "Python 3",
   "language": "python",
   "name": "python3"
  },
  "language_info": {
   "codemirror_mode": {
    "name": "ipython",
    "version": 3
   },
   "file_extension": ".py",
   "mimetype": "text/x-python",
   "name": "python",
   "nbconvert_exporter": "python",
   "pygments_lexer": "ipython3",
   "version": "3.10.13"
  },
  "papermill": {
   "default_parameters": {},
   "duration": 3555.756824,
   "end_time": "2024-06-04T13:40:22.205952",
   "environment_variables": {},
   "exception": null,
   "input_path": "__notebook__.ipynb",
   "output_path": "__notebook__.ipynb",
   "parameters": {},
   "start_time": "2024-06-04T12:41:06.449128",
   "version": "2.5.0"
  }
 },
 "nbformat": 4,
 "nbformat_minor": 5
}
