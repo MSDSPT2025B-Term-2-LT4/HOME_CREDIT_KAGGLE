{
 "cells": [
  {
   "cell_type": "code",
   "execution_count": 1,
   "id": "04295139",
   "metadata": {
    "_cell_guid": "b1076dfc-b9ad-4769-8c92-a6c4dae69d19",
    "_uuid": "8f2839f25d086af736a60e9eeb907d3b93b6e0e5",
    "execution": {
     "iopub.execute_input": "2024-06-09T13:27:41.166827Z",
     "iopub.status.busy": "2024-06-09T13:27:41.166313Z",
     "iopub.status.idle": "2024-06-09T13:27:50.665281Z",
     "shell.execute_reply": "2024-06-09T13:27:50.664021Z"
    },
    "papermill": {
     "duration": 9.511171,
     "end_time": "2024-06-09T13:27:50.668264",
     "exception": false,
     "start_time": "2024-06-09T13:27:41.157093",
     "status": "completed"
    },
    "tags": []
   },
   "outputs": [],
   "source": [
    "import os\n",
    "import gc\n",
    "from glob import glob\n",
    "from pathlib import Path\n",
    "from datetime import datetime\n",
    "import numpy as np\n",
    "import pandas as pd\n",
    "import polars as pl\n",
    "import matplotlib.pyplot as plt\n",
    "import seaborn as sns\n",
    "import joblib\n",
    "import lightgbm as lgb\n",
    "import torch\n",
    "import torch.nn as nn\n",
    "\n",
    "from sklearn.model_selection import StratifiedGroupKFold\n",
    "from sklearn.metrics import roc_auc_score\n",
    "from sklearn.ensemble import VotingClassifier\n",
    "from sklearn.preprocessing import LabelEncoder\n",
    "from catboost import CatBoostClassifier, Pool\n",
    "import xgboost\n",
    "from collections import Counter\n",
    "\n",
    "import warnings\n",
    "warnings.filterwarnings(action='ignore')"
   ]
  },
  {
   "cell_type": "code",
   "execution_count": 2,
   "id": "98e25d76",
   "metadata": {
    "execution": {
     "iopub.execute_input": "2024-06-09T13:27:50.684501Z",
     "iopub.status.busy": "2024-06-09T13:27:50.683840Z",
     "iopub.status.idle": "2024-06-09T13:27:50.689761Z",
     "shell.execute_reply": "2024-06-09T13:27:50.688377Z"
    },
    "papermill": {
     "duration": 0.016647,
     "end_time": "2024-06-09T13:27:50.692168",
     "exception": false,
     "start_time": "2024-06-09T13:27:50.675521",
     "status": "completed"
    },
    "tags": []
   },
   "outputs": [],
   "source": [
    "ROOT            = Path(\"/kaggle/input/home-credit-risk-dataset-corr-dropped-top-2\")\n",
    "SCHEMA_PATH     = Path(\"/kaggle/input/schema-home-credit-risk-data\")"
   ]
  },
  {
   "cell_type": "code",
   "execution_count": 3,
   "id": "aa1731fa",
   "metadata": {
    "execution": {
     "iopub.execute_input": "2024-06-09T13:27:50.708015Z",
     "iopub.status.busy": "2024-06-09T13:27:50.707585Z",
     "iopub.status.idle": "2024-06-09T13:28:52.223381Z",
     "shell.execute_reply": "2024-06-09T13:28:52.221685Z"
    },
    "papermill": {
     "duration": 61.534067,
     "end_time": "2024-06-09T13:28:52.233128",
     "exception": false,
     "start_time": "2024-06-09T13:27:50.699061",
     "status": "completed"
    },
    "tags": []
   },
   "outputs": [
    {
     "data": {
      "text/plain": [
       "(1526659, 455)"
      ]
     },
     "execution_count": 3,
     "metadata": {},
     "output_type": "execute_result"
    }
   ],
   "source": [
    "df = pl.read_csv(ROOT / 'model_abt_pl_corr2_drop.csv').to_pandas()\n",
    "df.shape"
   ]
  },
  {
   "cell_type": "code",
   "execution_count": 4,
   "id": "ee6668c4",
   "metadata": {
    "execution": {
     "iopub.execute_input": "2024-06-09T13:28:52.249293Z",
     "iopub.status.busy": "2024-06-09T13:28:52.248885Z",
     "iopub.status.idle": "2024-06-09T13:28:52.289043Z",
     "shell.execute_reply": "2024-06-09T13:28:52.287826Z"
    },
    "papermill": {
     "duration": 0.05174,
     "end_time": "2024-06-09T13:28:52.292003",
     "exception": false,
     "start_time": "2024-06-09T13:28:52.240263",
     "status": "completed"
    },
    "tags": []
   },
   "outputs": [
    {
     "data": {
      "text/html": [
       "<div>\n",
       "<style scoped>\n",
       "    .dataframe tbody tr th:only-of-type {\n",
       "        vertical-align: middle;\n",
       "    }\n",
       "\n",
       "    .dataframe tbody tr th {\n",
       "        vertical-align: top;\n",
       "    }\n",
       "\n",
       "    .dataframe thead th {\n",
       "        text-align: right;\n",
       "    }\n",
       "</style>\n",
       "<table border=\"1\" class=\"dataframe\">\n",
       "  <thead>\n",
       "    <tr style=\"text-align: right;\">\n",
       "      <th></th>\n",
       "      <th>case_id</th>\n",
       "      <th>WEEK_NUM</th>\n",
       "      <th>target</th>\n",
       "      <th>decision_month</th>\n",
       "      <th>decision_weekday</th>\n",
       "      <th>assignmentdate_238D</th>\n",
       "      <th>birthdate_574D</th>\n",
       "      <th>contractssum_5085716L</th>\n",
       "      <th>days120_123L</th>\n",
       "      <th>days180_256L</th>\n",
       "      <th>...</th>\n",
       "      <th>std_collater_valueofguarantee_876L</th>\n",
       "      <th>std_pmts_dpd_1073P</th>\n",
       "      <th>std_pmts_dpd_303P</th>\n",
       "      <th>std_pmts_overdue_1140A</th>\n",
       "      <th>std_pmts_overdue_1152A</th>\n",
       "      <th>count_depth2_a2_num_group2</th>\n",
       "      <th>first_empls_economicalst_849M</th>\n",
       "      <th>first_empls_employer_name_740M</th>\n",
       "      <th>last_empls_economicalst_849M</th>\n",
       "      <th>last_empls_employer_name_740M</th>\n",
       "    </tr>\n",
       "  </thead>\n",
       "  <tbody>\n",
       "    <tr>\n",
       "      <th>0</th>\n",
       "      <td>0</td>\n",
       "      <td>0</td>\n",
       "      <td>0</td>\n",
       "      <td>1</td>\n",
       "      <td>4</td>\n",
       "      <td>None</td>\n",
       "      <td>None</td>\n",
       "      <td>None</td>\n",
       "      <td>None</td>\n",
       "      <td>None</td>\n",
       "      <td>...</td>\n",
       "      <td>None</td>\n",
       "      <td>None</td>\n",
       "      <td>None</td>\n",
       "      <td>None</td>\n",
       "      <td>None</td>\n",
       "      <td>None</td>\n",
       "      <td>None</td>\n",
       "      <td>None</td>\n",
       "      <td>None</td>\n",
       "      <td>None</td>\n",
       "    </tr>\n",
       "    <tr>\n",
       "      <th>1</th>\n",
       "      <td>1</td>\n",
       "      <td>0</td>\n",
       "      <td>0</td>\n",
       "      <td>1</td>\n",
       "      <td>4</td>\n",
       "      <td>None</td>\n",
       "      <td>None</td>\n",
       "      <td>None</td>\n",
       "      <td>None</td>\n",
       "      <td>None</td>\n",
       "      <td>...</td>\n",
       "      <td>None</td>\n",
       "      <td>None</td>\n",
       "      <td>None</td>\n",
       "      <td>None</td>\n",
       "      <td>None</td>\n",
       "      <td>None</td>\n",
       "      <td>None</td>\n",
       "      <td>None</td>\n",
       "      <td>None</td>\n",
       "      <td>None</td>\n",
       "    </tr>\n",
       "    <tr>\n",
       "      <th>2</th>\n",
       "      <td>2</td>\n",
       "      <td>0</td>\n",
       "      <td>0</td>\n",
       "      <td>1</td>\n",
       "      <td>5</td>\n",
       "      <td>None</td>\n",
       "      <td>None</td>\n",
       "      <td>None</td>\n",
       "      <td>None</td>\n",
       "      <td>None</td>\n",
       "      <td>...</td>\n",
       "      <td>None</td>\n",
       "      <td>None</td>\n",
       "      <td>None</td>\n",
       "      <td>None</td>\n",
       "      <td>None</td>\n",
       "      <td>None</td>\n",
       "      <td>None</td>\n",
       "      <td>None</td>\n",
       "      <td>None</td>\n",
       "      <td>None</td>\n",
       "    </tr>\n",
       "    <tr>\n",
       "      <th>3</th>\n",
       "      <td>3</td>\n",
       "      <td>0</td>\n",
       "      <td>0</td>\n",
       "      <td>1</td>\n",
       "      <td>4</td>\n",
       "      <td>None</td>\n",
       "      <td>None</td>\n",
       "      <td>None</td>\n",
       "      <td>None</td>\n",
       "      <td>None</td>\n",
       "      <td>...</td>\n",
       "      <td>None</td>\n",
       "      <td>None</td>\n",
       "      <td>None</td>\n",
       "      <td>None</td>\n",
       "      <td>None</td>\n",
       "      <td>None</td>\n",
       "      <td>None</td>\n",
       "      <td>None</td>\n",
       "      <td>None</td>\n",
       "      <td>None</td>\n",
       "    </tr>\n",
       "    <tr>\n",
       "      <th>4</th>\n",
       "      <td>4</td>\n",
       "      <td>0</td>\n",
       "      <td>1</td>\n",
       "      <td>1</td>\n",
       "      <td>5</td>\n",
       "      <td>None</td>\n",
       "      <td>None</td>\n",
       "      <td>None</td>\n",
       "      <td>None</td>\n",
       "      <td>None</td>\n",
       "      <td>...</td>\n",
       "      <td>None</td>\n",
       "      <td>None</td>\n",
       "      <td>None</td>\n",
       "      <td>None</td>\n",
       "      <td>None</td>\n",
       "      <td>None</td>\n",
       "      <td>None</td>\n",
       "      <td>None</td>\n",
       "      <td>None</td>\n",
       "      <td>None</td>\n",
       "    </tr>\n",
       "  </tbody>\n",
       "</table>\n",
       "<p>5 rows × 455 columns</p>\n",
       "</div>"
      ],
      "text/plain": [
       "   case_id  WEEK_NUM  target  decision_month  decision_weekday  \\\n",
       "0        0         0       0               1                 4   \n",
       "1        1         0       0               1                 4   \n",
       "2        2         0       0               1                 5   \n",
       "3        3         0       0               1                 4   \n",
       "4        4         0       1               1                 5   \n",
       "\n",
       "  assignmentdate_238D birthdate_574D contractssum_5085716L days120_123L  \\\n",
       "0                None           None                  None         None   \n",
       "1                None           None                  None         None   \n",
       "2                None           None                  None         None   \n",
       "3                None           None                  None         None   \n",
       "4                None           None                  None         None   \n",
       "\n",
       "  days180_256L  ... std_collater_valueofguarantee_876L std_pmts_dpd_1073P  \\\n",
       "0         None  ...                               None               None   \n",
       "1         None  ...                               None               None   \n",
       "2         None  ...                               None               None   \n",
       "3         None  ...                               None               None   \n",
       "4         None  ...                               None               None   \n",
       "\n",
       "  std_pmts_dpd_303P std_pmts_overdue_1140A std_pmts_overdue_1152A  \\\n",
       "0              None                   None                   None   \n",
       "1              None                   None                   None   \n",
       "2              None                   None                   None   \n",
       "3              None                   None                   None   \n",
       "4              None                   None                   None   \n",
       "\n",
       "  count_depth2_a2_num_group2 first_empls_economicalst_849M  \\\n",
       "0                       None                          None   \n",
       "1                       None                          None   \n",
       "2                       None                          None   \n",
       "3                       None                          None   \n",
       "4                       None                          None   \n",
       "\n",
       "  first_empls_employer_name_740M last_empls_economicalst_849M  \\\n",
       "0                           None                         None   \n",
       "1                           None                         None   \n",
       "2                           None                         None   \n",
       "3                           None                         None   \n",
       "4                           None                         None   \n",
       "\n",
       "  last_empls_employer_name_740M  \n",
       "0                          None  \n",
       "1                          None  \n",
       "2                          None  \n",
       "3                          None  \n",
       "4                          None  \n",
       "\n",
       "[5 rows x 455 columns]"
      ]
     },
     "execution_count": 4,
     "metadata": {},
     "output_type": "execute_result"
    }
   ],
   "source": [
    "df.head()"
   ]
  },
  {
   "cell_type": "code",
   "execution_count": 5,
   "id": "f194e109",
   "metadata": {
    "execution": {
     "iopub.execute_input": "2024-06-09T13:28:52.309997Z",
     "iopub.status.busy": "2024-06-09T13:28:52.309518Z",
     "iopub.status.idle": "2024-06-09T13:28:52.315890Z",
     "shell.execute_reply": "2024-06-09T13:28:52.314665Z"
    },
    "papermill": {
     "duration": 0.018285,
     "end_time": "2024-06-09T13:28:52.318396",
     "exception": false,
     "start_time": "2024-06-09T13:28:52.300111",
     "status": "completed"
    },
    "tags": []
   },
   "outputs": [],
   "source": [
    "def set_data_types(df, schema):\n",
    "    for col, dtype in schema.items():\n",
    "        if dtype == 'category':\n",
    "            dtype = 'object'\n",
    "        df[col] = df[col].astype(dtype)\n",
    "    return df\n",
    "    "
   ]
  },
  {
   "cell_type": "code",
   "execution_count": 6,
   "id": "ea057bf5",
   "metadata": {
    "execution": {
     "iopub.execute_input": "2024-06-09T13:28:52.335953Z",
     "iopub.status.busy": "2024-06-09T13:28:52.335547Z",
     "iopub.status.idle": "2024-06-09T13:28:52.367134Z",
     "shell.execute_reply": "2024-06-09T13:28:52.365679Z"
    },
    "papermill": {
     "duration": 0.043542,
     "end_time": "2024-06-09T13:28:52.369603",
     "exception": false,
     "start_time": "2024-06-09T13:28:52.326061",
     "status": "completed"
    },
    "tags": []
   },
   "outputs": [],
   "source": [
    "class Model_Utils:\n",
    "    \"\"\"\n",
    "    Created by: Julie Anne Co, 2024\n",
    "    \n",
    "    Helper functions for modeling LightGBM & CatBoost\n",
    "    Model evaluation functions\n",
    "    \"\"\"\n",
    "    @staticmethod\n",
    "    def model_evals(y_true, y_proba, cutoff = 0.5):\n",
    "        from sklearn.metrics import make_scorer, accuracy_score, precision_score, recall_score, f1_score, average_precision_score, roc_auc_score\n",
    "        \"\"\"\n",
    "        Returns model evaluation metrics for a binary classification model\n",
    "\n",
    "        Parameters:\n",
    "        -----------\n",
    "            y_true: int (0,1) \n",
    "                Actual binary labels\n",
    "\n",
    "            y_proba: float (between 0 and 1)\n",
    "                Probability scores output of model \n",
    "\n",
    "        Returns:\n",
    "        --------\n",
    "            result: dict\n",
    "                Dictionary of metrics and their results based on the input\n",
    "                    - event rate (% predicted 1's)\n",
    "                    - accuracy\n",
    "                    - roc_auc\n",
    "                    - pr_auc\n",
    "                    - recall\n",
    "                    - precision\n",
    "                    - f1\n",
    "                    - lift\n",
    "        \"\"\"\n",
    "\n",
    "        y_pred = (y_proba > cutoff).astype(int)\n",
    "\n",
    "        event_rate = y_pred.mean()\n",
    "\n",
    "        accuracy = accuracy_score(y_true, y_pred)\n",
    "\n",
    "        roc_auc = roc_auc_score(y_true, y_proba)\n",
    "\n",
    "        pr_auc = average_precision_score(y_true, y_proba)\n",
    "\n",
    "        recall = recall_score(y_true, y_pred)\n",
    "\n",
    "        precision = precision_score(y_true, y_pred)\n",
    "\n",
    "        f1 = f1_score(y_true, y_pred)\n",
    "\n",
    "        lift = recall / event_rate\n",
    "\n",
    "        return {'event_rate': event_rate,\n",
    "                'acc': accuracy, \n",
    "                'roc_auc': roc_auc,\n",
    "                'pr_auc': pr_auc, \n",
    "                'recall': recall, \n",
    "                'precision': precision, \n",
    "                'f1': f1, \n",
    "                'lift': lift}\n",
    "    \n",
    "    @staticmethod\n",
    "    def DumbClassifier(y_true):\n",
    "        \"\"\"\n",
    "        Predict 0 (majority class) for all\n",
    "        \"\"\"\n",
    "        import numpy as np\n",
    "        y_pred = np.zeros(len(y_true))\n",
    "        return y_pred\n",
    "    \n",
    "    @staticmethod\n",
    "    def RandomChanceClassifier(y_true):\n",
    "        \"\"\"\n",
    "        Predict random 1 based on event rate\n",
    "        \"\"\"\n",
    "        import numpy as np\n",
    "        y_pred = Model_Utils.DumbClassifier(y_true)\n",
    "        event = y_true.sum()\n",
    "        ind = np.random.randint(0, len(y_true), size=event)\n",
    "        y_pred[ind] = 1\n",
    "        return y_pred\n",
    "    \n",
    "    @staticmethod\n",
    "    def save_model_results(results, schema, filepath):\n",
    "        \"\"\"\n",
    "        Save Model Results in csv\n",
    "        \"\"\"\n",
    "        if not os.path.exists(filepath):\n",
    "            score_schema = {'model_name': 'str', \n",
    "                        'model': 'str',\n",
    "                        'params': 'str',\n",
    "                        'acc': 'float',\n",
    "                        'precision': 'float',\n",
    "                        'recall': 'float',\n",
    "                        'f1_score': 'float',\n",
    "                        'roc_auc': 'float',\n",
    "                        'pr_auc': 'float',\n",
    "                        'lift': 'float'}\n",
    "            scores = pd.DataFrame(columns = score_schema.keys()).astype(score_schema)\n",
    "        else:\n",
    "            scores = pd.read_csv(filepath)\n",
    "        row = []\n",
    "        \n",
    "        for key in schema.keys():\n",
    "            row.append(results[key])\n",
    "        \n",
    "        scores.loc[len(scores)] = row\n",
    "        scores.to_csv(filepath, index = False)\n",
    "        \n",
    "    @staticmethod\n",
    "    def LightGBMClassifier_CV(X, y, cat_cols, cv = 5, group = None, params = None):\n",
    "        \"\"\"\n",
    "        K-Fold Average peformance of a LigthGBM estimator\n",
    "        \"\"\"\n",
    "        import lightgbm\n",
    "        from sklearn.model_selection import StratifiedGroupKFold\n",
    "        \n",
    "        cv = StratifiedGroupKFold(n_splits=cv, shuffle = True, random_state = 42)\n",
    "        \n",
    "        if params == None:\n",
    "            params = {'random_state': 42\n",
    "                     ,'objective': 'binary'\n",
    "                     ,'verbose': -1\n",
    "                     ,'n_jobs': -1}\n",
    "        \n",
    "        scores = {'params': params,\n",
    "                        'acc': [],\n",
    "                        'precision': [],\n",
    "                        'recall': [],\n",
    "                        'f1_score': [],\n",
    "                        'roc_auc': [],\n",
    "                        'pr_auc': [],\n",
    "                        'lift': []}\n",
    "\n",
    "        split = 1\n",
    "        \n",
    "        for train_ind, valid_ind in cv.split(X, y, groups=group):\n",
    "            X_train, y_train = X.iloc[train_ind], y.iloc[train_ind]\n",
    "            X_valid, y_valid = X.iloc[valid_ind], y.iloc[valid_ind]\n",
    "\n",
    "            X_train[cat_cols] = X_train[cat_cols].astype(\"category\")\n",
    "            X_valid[cat_cols] = X_valid[cat_cols].astype(\"category\")\n",
    "\n",
    "            lgb = lightgbm.LGBMClassifier(**params)\n",
    "            lgb.fit(X_train, y_train)\n",
    "            print(lgb.get_params(deep=True))\n",
    "            print(lgb._other_params)\n",
    "\n",
    "            y_proba = lgb.predict_proba(X_valid)[:, 1]\n",
    "            results = Model_Utils.model_evals(y_valid, y_proba)\n",
    "            print(f'LightGBM, Val CV{split}: {results}\"')\n",
    "            \n",
    "            split += 1\n",
    "            \n",
    "            for key in results.keys():\n",
    "                if key in scores.keys():\n",
    "                    scores[key].append(results[key])\n",
    "        \n",
    "        for key in results.keys():\n",
    "            if key in scores.keys():\n",
    "                scores[key] = np.array(scores[key]).mean()\n",
    "        \n",
    "        return scores\n",
    "\n",
    "    \n",
    "    @staticmethod\n",
    "    def train_test_split(X, y, test_size = 0.2):\n",
    "        \"\"\"\n",
    "        Split data into train-test\n",
    "        \"\"\"\n",
    "        from sklearn.model_selection import train_test_split\n",
    "        import polars as pl\n",
    "        \n",
    "        X_train, X_test, y_train, y_test = train_test_split(X, y, test_size=test_size, random_state=42)\n",
    "        \n",
    "        print(f\"X_train: {X_train.shape}\")\n",
    "        print(f\"y_train: {y_train.shape}\")\n",
    "        #pl.from_pandas(pd.concat([y_train, X_train], axis = 1)).write_csv('model_abt_train.csv')\n",
    "        del X_train\n",
    "        del y_train\n",
    "        gc.collect()\n",
    "        \n",
    "        print(f\"X_test: {X_test.shape}\")\n",
    "        print(f\"y_test: {y_test.shape}\")\n",
    "        pl.from_pandas(pd.concat([y_test, X_test], axis = 1)).write_csv('model_abt_test.csv')\n",
    "        del X_test\n",
    "        del y_test\n",
    "        gc.collect()"
   ]
  },
  {
   "cell_type": "code",
   "execution_count": 7,
   "id": "7d02907b",
   "metadata": {
    "execution": {
     "iopub.execute_input": "2024-06-09T13:28:52.386942Z",
     "iopub.status.busy": "2024-06-09T13:28:52.386509Z",
     "iopub.status.idle": "2024-06-09T13:28:52.424853Z",
     "shell.execute_reply": "2024-06-09T13:28:52.423653Z"
    },
    "papermill": {
     "duration": 0.050238,
     "end_time": "2024-06-09T13:28:52.427554",
     "exception": false,
     "start_time": "2024-06-09T13:28:52.377316",
     "status": "completed"
    },
    "tags": []
   },
   "outputs": [
    {
     "data": {
      "text/plain": [
       "{'bool', 'category', 'float64', 'int64', 'int8'}"
      ]
     },
     "execution_count": 7,
     "metadata": {},
     "output_type": "execute_result"
    }
   ],
   "source": [
    "schema = pd.read_csv(SCHEMA_PATH / \"data_schema.csv\", names = ['Columns', 'dtype'])\n",
    "schema = schema[schema['Columns'].isin(df.columns)]\n",
    "schema = schema.set_index('Columns')['dtype'].to_dict()\n",
    "set(schema.values())"
   ]
  },
  {
   "cell_type": "code",
   "execution_count": 8,
   "id": "f703dfda",
   "metadata": {
    "execution": {
     "iopub.execute_input": "2024-06-09T13:28:52.445493Z",
     "iopub.status.busy": "2024-06-09T13:28:52.445056Z",
     "iopub.status.idle": "2024-06-09T13:28:52.452217Z",
     "shell.execute_reply": "2024-06-09T13:28:52.450851Z"
    },
    "papermill": {
     "duration": 0.019372,
     "end_time": "2024-06-09T13:28:52.454971",
     "exception": false,
     "start_time": "2024-06-09T13:28:52.435599",
     "status": "completed"
    },
    "tags": []
   },
   "outputs": [],
   "source": [
    "non_feat = ['case_id', 'WEEK_NUM', 'decision_month', 'decision_weekday', 'target']\n",
    "num_cols = [x for x, dtype in schema.items() if x not in non_feat and dtype in ['int64', 'float64', 'int8']]\n",
    "cat_cols = [x for x, dtype in schema.items() if x not in non_feat and dtype == 'category']"
   ]
  },
  {
   "cell_type": "code",
   "execution_count": 9,
   "id": "9a64ac98",
   "metadata": {
    "execution": {
     "iopub.execute_input": "2024-06-09T13:28:52.472730Z",
     "iopub.status.busy": "2024-06-09T13:28:52.472289Z",
     "iopub.status.idle": "2024-06-09T13:29:44.600063Z",
     "shell.execute_reply": "2024-06-09T13:29:44.598621Z"
    },
    "papermill": {
     "duration": 52.140309,
     "end_time": "2024-06-09T13:29:44.603269",
     "exception": false,
     "start_time": "2024-06-09T13:28:52.462960",
     "status": "completed"
    },
    "tags": []
   },
   "outputs": [],
   "source": [
    "df = set_data_types(df, schema)"
   ]
  },
  {
   "cell_type": "code",
   "execution_count": 10,
   "id": "96a4b4a6",
   "metadata": {
    "execution": {
     "iopub.execute_input": "2024-06-09T13:29:44.621786Z",
     "iopub.status.busy": "2024-06-09T13:29:44.620713Z",
     "iopub.status.idle": "2024-06-09T13:29:50.094394Z",
     "shell.execute_reply": "2024-06-09T13:29:50.093133Z"
    },
    "papermill": {
     "duration": 5.485929,
     "end_time": "2024-06-09T13:29:50.097325",
     "exception": false,
     "start_time": "2024-06-09T13:29:44.611396",
     "status": "completed"
    },
    "tags": []
   },
   "outputs": [],
   "source": [
    "id_val = df[['case_id', 'WEEK_NUM', 'target', 'decision_month', 'decision_weekday']]\n",
    "y = df['target']\n",
    "X = df[num_cols + cat_cols]\n",
    "del df"
   ]
  },
  {
   "cell_type": "markdown",
   "id": "e2e5522d",
   "metadata": {
    "papermill": {
     "duration": 0.007828,
     "end_time": "2024-06-09T13:29:50.113665",
     "exception": false,
     "start_time": "2024-06-09T13:29:50.105837",
     "status": "completed"
    },
    "tags": []
   },
   "source": [
    "#### Split Data into Train & Test\n",
    "We will get 20% of the data as holdout. We will tune our model on the 80%."
   ]
  },
  {
   "cell_type": "code",
   "execution_count": 11,
   "id": "cd8229ea",
   "metadata": {
    "execution": {
     "iopub.execute_input": "2024-06-09T13:29:50.131136Z",
     "iopub.status.busy": "2024-06-09T13:29:50.130671Z",
     "iopub.status.idle": "2024-06-09T13:30:28.897906Z",
     "shell.execute_reply": "2024-06-09T13:30:28.896308Z"
    },
    "papermill": {
     "duration": 38.779732,
     "end_time": "2024-06-09T13:30:28.901158",
     "exception": false,
     "start_time": "2024-06-09T13:29:50.121426",
     "status": "completed"
    },
    "tags": []
   },
   "outputs": [
    {
     "name": "stdout",
     "output_type": "stream",
     "text": [
      "X_train: (1221327, 449)\n",
      "y_train: (1221327,)\n",
      "X_test: (305332, 449)\n",
      "y_test: (305332,)\n"
     ]
    }
   ],
   "source": [
    "Model_Utils.train_test_split(X, y)"
   ]
  },
  {
   "cell_type": "code",
   "execution_count": 12,
   "id": "a647ecc0",
   "metadata": {
    "execution": {
     "iopub.execute_input": "2024-06-09T13:30:28.920434Z",
     "iopub.status.busy": "2024-06-09T13:30:28.919545Z",
     "iopub.status.idle": "2024-06-09T13:30:34.390318Z",
     "shell.execute_reply": "2024-06-09T13:30:34.388629Z"
    },
    "papermill": {
     "duration": 5.484147,
     "end_time": "2024-06-09T13:30:34.394269",
     "exception": false,
     "start_time": "2024-06-09T13:30:28.910122",
     "status": "completed"
    },
    "tags": []
   },
   "outputs": [
    {
     "data": {
      "text/html": [
       "<div><style>\n",
       ".dataframe > thead > tr,\n",
       ".dataframe > tbody > tr {\n",
       "  text-align: right;\n",
       "  white-space: pre-wrap;\n",
       "}\n",
       "</style>\n",
       "<small>shape: (5, 450)</small><table border=\"1\" class=\"dataframe\"><thead><tr><th>target</th><th>assignmentdate_238D</th><th>birthdate_574D</th><th>contractssum_5085716L</th><th>days120_123L</th><th>days180_256L</th><th>days30_165L</th><th>days360_512L</th><th>firstquarter_103L</th><th>fourthquarter_440L</th><th>numberofqueries_373L</th><th>pmtaverage_3A</th><th>pmtaverage_4527227A</th><th>pmtssum_45A</th><th>responsedate_1012D</th><th>responsedate_4917613D</th><th>secondquarter_766L</th><th>thirdquarter_1082L</th><th>actualdpdtolerance_344P</th><th>amtinstpaidbefduel24m_4187115A</th><th>annuity_780A</th><th>annuitynextmonth_57A</th><th>applicationcnt_361L</th><th>applications30d_658L</th><th>applicationscnt_1086L</th><th>applicationscnt_464L</th><th>applicationscnt_629L</th><th>applicationscnt_867L</th><th>avgdbddpdlast24m_3658932P</th><th>avgdbdtollast24m_4525197P</th><th>avginstallast24m_3658937A</th><th>avglnamtstart24m_4525187A</th><th>avgmaxdpdlast9m_3716943P</th><th>avgpmtlast12m_4525200A</th><th>clientscnt12m_3712952L</th><th>clientscnt_100L</th><th>clientscnt_1022L</th><th>&hellip;</th><th>min_status_219L</th><th>max_classificationofcontr_13M</th><th>max_contractst_545M</th><th>max_description_351M</th><th>max_purposeofcred_426M</th><th>max_purposeofcred_874M</th><th>max_subjectrole_182M</th><th>max_subjectrole_93M</th><th>min_classificationofcontr_13M</th><th>min_contractst_545M</th><th>min_description_351M</th><th>min_purposeofcred_426M</th><th>min_purposeofcred_874M</th><th>min_subjectrole_182M</th><th>min_subjectrole_93M</th><th>first_empl_employedtotal_800L</th><th>first_empl_industry_691L</th><th>first_familystate_447L</th><th>first_incometype_1044T</th><th>first_sex_738L</th><th>first_housetype_905L</th><th>max_depth2_collater_typofvalofguarant_298M</th><th>max_depth2_collater_typofvalofguarant_407M</th><th>max_depth2_collaterals_typeofguarante_359M</th><th>max_depth2_collaterals_typeofguarante_669M</th><th>max_depth2_subjectroles_name_541M</th><th>max_depth2_subjectroles_name_838M</th><th>min_depth2_collater_typofvalofguarant_298M</th><th>min_depth2_collater_typofvalofguarant_407M</th><th>min_depth2_collaterals_typeofguarante_359M</th><th>min_depth2_collaterals_typeofguarante_669M</th><th>min_depth2_subjectroles_name_541M</th><th>min_depth2_subjectroles_name_838M</th><th>first_empls_economicalst_849M</th><th>first_empls_employer_name_740M</th><th>last_empls_economicalst_849M</th><th>last_empls_employer_name_740M</th></tr><tr><td>i64</td><td>f64</td><td>f64</td><td>f64</td><td>f64</td><td>f64</td><td>f64</td><td>f64</td><td>f64</td><td>f64</td><td>f64</td><td>f64</td><td>f64</td><td>f64</td><td>f64</td><td>f64</td><td>f64</td><td>f64</td><td>f64</td><td>f64</td><td>f64</td><td>f64</td><td>f64</td><td>f64</td><td>f64</td><td>f64</td><td>f64</td><td>f64</td><td>f64</td><td>f64</td><td>f64</td><td>f64</td><td>f64</td><td>f64</td><td>f64</td><td>f64</td><td>f64</td><td>&hellip;</td><td>str</td><td>str</td><td>str</td><td>str</td><td>str</td><td>str</td><td>str</td><td>str</td><td>str</td><td>str</td><td>str</td><td>str</td><td>str</td><td>str</td><td>str</td><td>str</td><td>str</td><td>str</td><td>str</td><td>str</td><td>str</td><td>str</td><td>str</td><td>str</td><td>str</td><td>str</td><td>str</td><td>str</td><td>str</td><td>str</td><td>str</td><td>str</td><td>str</td><td>str</td><td>str</td><td>str</td><td>str</td></tr></thead><tbody><tr><td>0</td><td>null</td><td>null</td><td>0.0</td><td>0.0</td><td>0.0</td><td>0.0</td><td>1.0</td><td>4.0</td><td>1.0</td><td>1.0</td><td>null</td><td>null</td><td>null</td><td>null</td><td>14.0</td><td>0.0</td><td>1.0</td><td>0.0</td><td>0.0</td><td>6747.2</td><td>0.0</td><td>0.0</td><td>0.0</td><td>0.0</td><td>0.0</td><td>0.0</td><td>0.0</td><td>null</td><td>null</td><td>null</td><td>null</td><td>null</td><td>null</td><td>0.0</td><td>0.0</td><td>0.0</td><td>&hellip;</td><td>&quot;D&quot;</td><td>&quot;ea6782cc&quot;</td><td>&quot;a55475b1&quot;</td><td>&quot;a55475b1&quot;</td><td>&quot;a55475b1&quot;</td><td>&quot;a55475b1&quot;</td><td>&quot;ab3c25cf&quot;</td><td>&quot;ab3c25cf&quot;</td><td>&quot;a55475b1&quot;</td><td>&quot;7241344e&quot;</td><td>&quot;a55475b1&quot;</td><td>&quot;60c73645&quot;</td><td>&quot;5065c2b8&quot;</td><td>&quot;a55475b1&quot;</td><td>&quot;a55475b1&quot;</td><td>null</td><td>null</td><td>null</td><td>&quot;RETIRED_PENSIONER&quot;</td><td>&quot;F&quot;</td><td>&quot;OWNED&quot;</td><td>&quot;a55475b1&quot;</td><td>&quot;a55475b1&quot;</td><td>&quot;c7a5ad39&quot;</td><td>&quot;c7a5ad39&quot;</td><td>&quot;ab3c25cf&quot;</td><td>&quot;ab3c25cf&quot;</td><td>&quot;9a0c095e&quot;</td><td>&quot;8fd95e4b&quot;</td><td>&quot;3cbe86ba&quot;</td><td>&quot;a55475b1&quot;</td><td>&quot;a55475b1&quot;</td><td>&quot;a55475b1&quot;</td><td>&quot;a55475b1&quot;</td><td>&quot;a55475b1&quot;</td><td>&quot;a55475b1&quot;</td><td>&quot;a55475b1&quot;</td></tr><tr><td>0</td><td>null</td><td>null</td><td>null</td><td>0.0</td><td>1.0</td><td>0.0</td><td>5.0</td><td>5.0</td><td>8.0</td><td>5.0</td><td>null</td><td>null</td><td>null</td><td>null</td><td>14.0</td><td>3.0</td><td>4.0</td><td>null</td><td>null</td><td>2206.6</td><td>0.0</td><td>0.0</td><td>0.0</td><td>0.0</td><td>0.0</td><td>0.0</td><td>0.0</td><td>null</td><td>null</td><td>null</td><td>null</td><td>null</td><td>null</td><td>0.0</td><td>0.0</td><td>0.0</td><td>&hellip;</td><td>&quot;D&quot;</td><td>&quot;ea6782cc&quot;</td><td>&quot;a55475b1&quot;</td><td>&quot;a55475b1&quot;</td><td>&quot;a55475b1&quot;</td><td>&quot;a55475b1&quot;</td><td>&quot;ab3c25cf&quot;</td><td>&quot;ab3c25cf&quot;</td><td>&quot;a55475b1&quot;</td><td>&quot;7241344e&quot;</td><td>&quot;a55475b1&quot;</td><td>&quot;60c73645&quot;</td><td>&quot;60c73645&quot;</td><td>&quot;a55475b1&quot;</td><td>&quot;a55475b1&quot;</td><td>null</td><td>null</td><td>&quot;MARRIED&quot;</td><td>&quot;SALARIED_GOVT&quot;</td><td>&quot;F&quot;</td><td>null</td><td>&quot;a55475b1&quot;</td><td>&quot;a55475b1&quot;</td><td>&quot;c7a5ad39&quot;</td><td>&quot;c7a5ad39&quot;</td><td>&quot;ab3c25cf&quot;</td><td>&quot;ab3c25cf&quot;</td><td>&quot;9a0c095e&quot;</td><td>&quot;8fd95e4b&quot;</td><td>&quot;3cbe86ba&quot;</td><td>&quot;a55475b1&quot;</td><td>&quot;a55475b1&quot;</td><td>&quot;a55475b1&quot;</td><td>&quot;a55475b1&quot;</td><td>&quot;a55475b1&quot;</td><td>&quot;a55475b1&quot;</td><td>&quot;a55475b1&quot;</td></tr><tr><td>0</td><td>null</td><td>null</td><td>1441527.5</td><td>1.0</td><td>1.0</td><td>0.0</td><td>4.0</td><td>3.0</td><td>4.0</td><td>4.0</td><td>null</td><td>null</td><td>null</td><td>null</td><td>14.0</td><td>1.0</td><td>2.0</td><td>0.0</td><td>63936.85</td><td>3342.4001</td><td>0.0</td><td>0.0</td><td>0.0</td><td>0.0</td><td>0.0</td><td>0.0</td><td>6.0</td><td>-5.0</td><td>-9.0</td><td>4652.8003</td><td>null</td><td>0.0</td><td>3491.2</td><td>0.0</td><td>0.0</td><td>0.0</td><td>&hellip;</td><td>&quot;D&quot;</td><td>&quot;ea6782cc&quot;</td><td>&quot;a55475b1&quot;</td><td>&quot;a55475b1&quot;</td><td>&quot;a55475b1&quot;</td><td>&quot;a55475b1&quot;</td><td>&quot;ab3c25cf&quot;</td><td>&quot;ab3c25cf&quot;</td><td>&quot;01f63ac8&quot;</td><td>&quot;7241344e&quot;</td><td>&quot;a55475b1&quot;</td><td>&quot;60c73645&quot;</td><td>&quot;5065c2b8&quot;</td><td>&quot;a55475b1&quot;</td><td>&quot;a55475b1&quot;</td><td>null</td><td>null</td><td>null</td><td>&quot;RETIRED_PENSIONER&quot;</td><td>&quot;M&quot;</td><td>&quot;OWNED&quot;</td><td>&quot;a55475b1&quot;</td><td>&quot;a55475b1&quot;</td><td>&quot;c7a5ad39&quot;</td><td>&quot;c7a5ad39&quot;</td><td>&quot;ab3c25cf&quot;</td><td>&quot;ab3c25cf&quot;</td><td>&quot;8fd95e4b&quot;</td><td>&quot;8fd95e4b&quot;</td><td>&quot;3cbe86ba&quot;</td><td>&quot;a55475b1&quot;</td><td>&quot;a55475b1&quot;</td><td>&quot;a55475b1&quot;</td><td>&quot;a55475b1&quot;</td><td>&quot;a55475b1&quot;</td><td>&quot;a55475b1&quot;</td><td>&quot;a55475b1&quot;</td></tr><tr><td>0</td><td>null</td><td>-9312.0</td><td>null</td><td>0.0</td><td>1.0</td><td>0.0</td><td>2.0</td><td>0.0</td><td>0.0</td><td>2.0</td><td>null</td><td>null</td><td>5100.0</td><td>14.0</td><td>null</td><td>2.0</td><td>1.0</td><td>0.0</td><td>41398.8</td><td>3141.4001</td><td>3083.0</td><td>0.0</td><td>0.0</td><td>0.0</td><td>0.0</td><td>0.0</td><td>3.0</td><td>-6.0</td><td>null</td><td>2531.0</td><td>null</td><td>0.0</td><td>null</td><td>0.0</td><td>0.0</td><td>0.0</td><td>&hellip;</td><td>&quot;A&quot;</td><td>&quot;ea6782cc&quot;</td><td>&quot;a55475b1&quot;</td><td>&quot;a55475b1&quot;</td><td>&quot;a55475b1&quot;</td><td>&quot;a55475b1&quot;</td><td>&quot;ab3c25cf&quot;</td><td>&quot;ab3c25cf&quot;</td><td>&quot;a55475b1&quot;</td><td>&quot;7241344e&quot;</td><td>&quot;a55475b1&quot;</td><td>&quot;60c73645&quot;</td><td>&quot;60c73645&quot;</td><td>&quot;a55475b1&quot;</td><td>&quot;a55475b1&quot;</td><td>null</td><td>null</td><td>null</td><td>&quot;EMPLOYED&quot;</td><td>&quot;F&quot;</td><td>null</td><td>&quot;a55475b1&quot;</td><td>&quot;a55475b1&quot;</td><td>&quot;c7a5ad39&quot;</td><td>&quot;c7a5ad39&quot;</td><td>&quot;ab3c25cf&quot;</td><td>&quot;ab3c25cf&quot;</td><td>&quot;9a0c095e&quot;</td><td>&quot;9a0c095e&quot;</td><td>&quot;a55475b1&quot;</td><td>&quot;a55475b1&quot;</td><td>&quot;a55475b1&quot;</td><td>&quot;a55475b1&quot;</td><td>&quot;a55475b1&quot;</td><td>&quot;a55475b1&quot;</td><td>&quot;a55475b1&quot;</td><td>&quot;a55475b1&quot;</td></tr><tr><td>0</td><td>null</td><td>null</td><td>649318.75</td><td>0.0</td><td>0.0</td><td>0.0</td><td>1.0</td><td>1.0</td><td>0.0</td><td>1.0</td><td>null</td><td>null</td><td>null</td><td>null</td><td>14.0</td><td>0.0</td><td>3.0</td><td>0.0</td><td>151496.0</td><td>6327.6</td><td>15914.0</td><td>0.0</td><td>0.0</td><td>0.0</td><td>0.0</td><td>0.0</td><td>6.0</td><td>-8.0</td><td>-9.0</td><td>11140.2</td><td>null</td><td>1.0</td><td>11140.2</td><td>0.0</td><td>0.0</td><td>0.0</td><td>&hellip;</td><td>&quot;A&quot;</td><td>&quot;ea6782cc&quot;</td><td>&quot;a55475b1&quot;</td><td>&quot;a55475b1&quot;</td><td>&quot;a55475b1&quot;</td><td>&quot;a55475b1&quot;</td><td>&quot;ab3c25cf&quot;</td><td>&quot;ab3c25cf&quot;</td><td>&quot;a55475b1&quot;</td><td>&quot;7241344e&quot;</td><td>&quot;a55475b1&quot;</td><td>&quot;60c73645&quot;</td><td>&quot;60c73645&quot;</td><td>&quot;a55475b1&quot;</td><td>&quot;a55475b1&quot;</td><td>null</td><td>null</td><td>null</td><td>&quot;RETIRED_PENSIONER&quot;</td><td>&quot;F&quot;</td><td>&quot;OWNED&quot;</td><td>&quot;a55475b1&quot;</td><td>&quot;a55475b1&quot;</td><td>&quot;c7a5ad39&quot;</td><td>&quot;c7a5ad39&quot;</td><td>&quot;ab3c25cf&quot;</td><td>&quot;ab3c25cf&quot;</td><td>&quot;9a0c095e&quot;</td><td>&quot;9a0c095e&quot;</td><td>&quot;a55475b1&quot;</td><td>&quot;a55475b1&quot;</td><td>&quot;a55475b1&quot;</td><td>&quot;a55475b1&quot;</td><td>&quot;a55475b1&quot;</td><td>&quot;a55475b1&quot;</td><td>&quot;a55475b1&quot;</td><td>&quot;a55475b1&quot;</td></tr></tbody></table></div>"
      ],
      "text/plain": [
       "shape: (5, 450)\n",
       "┌────────┬────────────┬────────────┬───────────┬───┬───────────┬───────────┬───────────┬───────────┐\n",
       "│ target ┆ assignment ┆ birthdate_ ┆ contracts ┆ … ┆ first_emp ┆ first_emp ┆ last_empl ┆ last_empl │\n",
       "│ ---    ┆ date_238D  ┆ 574D       ┆ sum_50857 ┆   ┆ ls_econom ┆ ls_employ ┆ s_economi ┆ s_employe │\n",
       "│ i64    ┆ ---        ┆ ---        ┆ 16L       ┆   ┆ icalst_84 ┆ er_name_7 ┆ calst_849 ┆ r_name_74 │\n",
       "│        ┆ f64        ┆ f64        ┆ ---       ┆   ┆ 9M        ┆ 40M       ┆ M         ┆ 0M        │\n",
       "│        ┆            ┆            ┆ f64       ┆   ┆ ---       ┆ ---       ┆ ---       ┆ ---       │\n",
       "│        ┆            ┆            ┆           ┆   ┆ str       ┆ str       ┆ str       ┆ str       │\n",
       "╞════════╪════════════╪════════════╪═══════════╪═══╪═══════════╪═══════════╪═══════════╪═══════════╡\n",
       "│ 0      ┆ null       ┆ null       ┆ 0.0       ┆ … ┆ a55475b1  ┆ a55475b1  ┆ a55475b1  ┆ a55475b1  │\n",
       "│ 0      ┆ null       ┆ null       ┆ null      ┆ … ┆ a55475b1  ┆ a55475b1  ┆ a55475b1  ┆ a55475b1  │\n",
       "│ 0      ┆ null       ┆ null       ┆ 1441527.5 ┆ … ┆ a55475b1  ┆ a55475b1  ┆ a55475b1  ┆ a55475b1  │\n",
       "│ 0      ┆ null       ┆ -9312.0    ┆ null      ┆ … ┆ a55475b1  ┆ a55475b1  ┆ a55475b1  ┆ a55475b1  │\n",
       "│ 0      ┆ null       ┆ null       ┆ 649318.75 ┆ … ┆ a55475b1  ┆ a55475b1  ┆ a55475b1  ┆ a55475b1  │\n",
       "└────────┴────────────┴────────────┴───────────┴───┴───────────┴───────────┴───────────┴───────────┘"
      ]
     },
     "execution_count": 12,
     "metadata": {},
     "output_type": "execute_result"
    }
   ],
   "source": [
    "pl.read_csv('model_abt_test.csv').head()"
   ]
  },
  {
   "cell_type": "markdown",
   "id": "908812df",
   "metadata": {
    "papermill": {
     "duration": 0.033347,
     "end_time": "2024-06-09T13:30:34.441339",
     "exception": false,
     "start_time": "2024-06-09T13:30:34.407992",
     "status": "completed"
    },
    "tags": []
   },
   "source": [
    "##### We will define our baseline vs Random Classifier (random chance) and a Dumb Classifier (predict all majority class). Optimized models should be able to beat these 2.\n"
   ]
  },
  {
   "cell_type": "code",
   "execution_count": 13,
   "id": "a813abf0",
   "metadata": {
    "execution": {
     "iopub.execute_input": "2024-06-09T13:30:34.475319Z",
     "iopub.status.busy": "2024-06-09T13:30:34.474863Z",
     "iopub.status.idle": "2024-06-09T13:30:34.482640Z",
     "shell.execute_reply": "2024-06-09T13:30:34.481125Z"
    },
    "papermill": {
     "duration": 0.028681,
     "end_time": "2024-06-09T13:30:34.485590",
     "exception": false,
     "start_time": "2024-06-09T13:30:34.456909",
     "status": "completed"
    },
    "tags": []
   },
   "outputs": [],
   "source": [
    "score_schema = {'model_name': 'str', \n",
    "                        'model': 'str',\n",
    "                        'params': 'str',\n",
    "                        'acc': 'float',\n",
    "                        'precision': 'float',\n",
    "                        'recall': 'float',\n",
    "                        'f1': 'float',\n",
    "                        'roc_auc': 'float',\n",
    "                        'pr_auc': 'float',\n",
    "                        'lift': 'float'}"
   ]
  },
  {
   "cell_type": "markdown",
   "id": "6f4f4aef",
   "metadata": {
    "papermill": {
     "duration": 0.01695,
     "end_time": "2024-06-09T13:30:34.513901",
     "exception": false,
     "start_time": "2024-06-09T13:30:34.496951",
     "status": "completed"
    },
    "tags": []
   },
   "source": [
    "##### Dumb Classifier\n"
   ]
  },
  {
   "cell_type": "code",
   "execution_count": 14,
   "id": "9acfe77b",
   "metadata": {
    "execution": {
     "iopub.execute_input": "2024-06-09T13:30:34.548163Z",
     "iopub.status.busy": "2024-06-09T13:30:34.547103Z",
     "iopub.status.idle": "2024-06-09T13:30:37.197264Z",
     "shell.execute_reply": "2024-06-09T13:30:37.195781Z"
    },
    "papermill": {
     "duration": 2.668697,
     "end_time": "2024-06-09T13:30:37.200005",
     "exception": false,
     "start_time": "2024-06-09T13:30:34.531308",
     "status": "completed"
    },
    "tags": []
   },
   "outputs": [
    {
     "name": "stdout",
     "output_type": "stream",
     "text": [
      "{'event_rate': 0.0, 'acc': 0.9685627242232876, 'roc_auc': 0.5, 'pr_auc': 0.03143727577671242, 'recall': 0.0, 'precision': 0.0, 'f1': 0.0, 'lift': nan}\n"
     ]
    },
    {
     "data": {
      "text/plain": [
       "0"
      ]
     },
     "execution_count": 14,
     "metadata": {},
     "output_type": "execute_result"
    }
   ],
   "source": [
    "results  = Model_Utils.model_evals(y, Model_Utils.DumbClassifier(y))\n",
    "print(results)\n",
    "results['model_name'] = 'Dumb Classifier'\n",
    "results['model'] = 'Predict All Major'\n",
    "results['params'] = None\n",
    "Model_Utils.save_model_results(results, score_schema, \"baseline.csv\")\n",
    "del results\n",
    "gc.collect()"
   ]
  },
  {
   "cell_type": "markdown",
   "id": "b3848e7e",
   "metadata": {
    "papermill": {
     "duration": 0.008401,
     "end_time": "2024-06-09T13:30:37.217044",
     "exception": false,
     "start_time": "2024-06-09T13:30:37.208643",
     "status": "completed"
    },
    "tags": []
   },
   "source": [
    "##### Random Chance Classifier"
   ]
  },
  {
   "cell_type": "code",
   "execution_count": 15,
   "id": "9f9651d1",
   "metadata": {
    "execution": {
     "iopub.execute_input": "2024-06-09T13:30:37.237233Z",
     "iopub.status.busy": "2024-06-09T13:30:37.235914Z",
     "iopub.status.idle": "2024-06-09T13:30:39.956501Z",
     "shell.execute_reply": "2024-06-09T13:30:39.955237Z"
    },
    "papermill": {
     "duration": 2.786401,
     "end_time": "2024-06-09T13:30:40.012365",
     "exception": false,
     "start_time": "2024-06-09T13:30:37.225964",
     "status": "completed"
    },
    "tags": []
   },
   "outputs": [
    {
     "name": "stdout",
     "output_type": "stream",
     "text": [
      "{'event_rate': 0.03094535190897247, 'acc': 0.9395352858758897, 'roc_auc': 0.4997720648744228, 'pr_auc': 0.0314235930512936, 'recall': 0.030503812976622077, 'precision': 0.03098871790529814, 'f1': 0.03074435356006594, 'lift': 0.9857316558024868}\n"
     ]
    },
    {
     "data": {
      "text/plain": [
       "0"
      ]
     },
     "execution_count": 15,
     "metadata": {},
     "output_type": "execute_result"
    }
   ],
   "source": [
    "results  = Model_Utils.model_evals(y, Model_Utils.RandomChanceClassifier(y))\n",
    "print(results)\n",
    "results['model_name'] = 'Random Chance Classifier'\n",
    "results['model'] = 'Randomly Predict at Event Rate'\n",
    "results['params'] = None\n",
    "Model_Utils.save_model_results(results, score_schema, \"baseline.csv\")\n",
    "del results\n",
    "gc.collect()\n"
   ]
  }
 ],
 "metadata": {
  "kaggle": {
   "accelerator": "none",
   "dataSources": [
    {
     "datasetId": 5136026,
     "sourceId": 8586937,
     "sourceType": "datasetVersion"
    },
    {
     "datasetId": 5136208,
     "sourceId": 8604711,
     "sourceType": "datasetVersion"
    }
   ],
   "dockerImageVersionId": 30715,
   "isGpuEnabled": false,
   "isInternetEnabled": true,
   "language": "python",
   "sourceType": "notebook"
  },
  "kernelspec": {
   "display_name": "Python 3",
   "language": "python",
   "name": "python3"
  },
  "language_info": {
   "codemirror_mode": {
    "name": "ipython",
    "version": 3
   },
   "file_extension": ".py",
   "mimetype": "text/x-python",
   "name": "python",
   "nbconvert_exporter": "python",
   "pygments_lexer": "ipython3",
   "version": "3.10.13"
  },
  "papermill": {
   "default_parameters": {},
   "duration": 185.874804,
   "end_time": "2024-06-09T13:30:43.347856",
   "environment_variables": {},
   "exception": null,
   "input_path": "__notebook__.ipynb",
   "output_path": "__notebook__.ipynb",
   "parameters": {},
   "start_time": "2024-06-09T13:27:37.473052",
   "version": "2.5.0"
  }
 },
 "nbformat": 4,
 "nbformat_minor": 5
}
