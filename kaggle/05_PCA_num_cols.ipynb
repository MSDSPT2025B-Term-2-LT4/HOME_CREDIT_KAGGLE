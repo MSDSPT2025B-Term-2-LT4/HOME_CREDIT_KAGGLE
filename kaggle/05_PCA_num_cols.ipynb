{
 "cells": [
  {
   "cell_type": "code",
   "execution_count": 1,
   "id": "059e41c3",
   "metadata": {
    "_cell_guid": "b1076dfc-b9ad-4769-8c92-a6c4dae69d19",
    "_uuid": "8f2839f25d086af736a60e9eeb907d3b93b6e0e5",
    "execution": {
     "iopub.execute_input": "2024-06-05T07:26:04.176938Z",
     "iopub.status.busy": "2024-06-05T07:26:04.176488Z",
     "iopub.status.idle": "2024-06-05T07:26:14.795454Z",
     "shell.execute_reply": "2024-06-05T07:26:14.794298Z"
    },
    "papermill": {
     "duration": 10.636073,
     "end_time": "2024-06-05T07:26:14.798318",
     "exception": false,
     "start_time": "2024-06-05T07:26:04.162245",
     "status": "completed"
    },
    "tags": []
   },
   "outputs": [],
   "source": [
    "import os\n",
    "import gc \n",
    "from glob import glob\n",
    "from pathlib import Path\n",
    "from datetime import datetime\n",
    "import numpy as np\n",
    "import pandas as pd\n",
    "import polars as pl\n",
    "import matplotlib.pyplot as plt\n",
    "import seaborn as sns\n",
    "import joblib\n",
    "import lightgbm\n",
    "import torch\n",
    "import torch.nn as nn\n",
    "\n",
    "from sklearn.model_selection import StratifiedGroupKFold\n",
    "from sklearn.metrics import roc_auc_score\n",
    "from sklearn.ensemble import VotingClassifier\n",
    "from sklearn.preprocessing import LabelEncoder\n",
    "from catboost import CatBoostClassifier, Pool\n",
    "import xgboost\n",
    "from collections import Counter\n",
    "\n",
    "import shap\n",
    "import pickle\n",
    "import warnings\n",
    "warnings.filterwarnings(action='ignore')"
   ]
  },
  {
   "cell_type": "code",
   "execution_count": 2,
   "id": "fc3911f3",
   "metadata": {
    "execution": {
     "iopub.execute_input": "2024-06-05T07:26:14.825543Z",
     "iopub.status.busy": "2024-06-05T07:26:14.824983Z",
     "iopub.status.idle": "2024-06-05T07:26:14.830428Z",
     "shell.execute_reply": "2024-06-05T07:26:14.829349Z"
    },
    "papermill": {
     "duration": 0.021207,
     "end_time": "2024-06-05T07:26:14.832644",
     "exception": false,
     "start_time": "2024-06-05T07:26:14.811437",
     "status": "completed"
    },
    "tags": []
   },
   "outputs": [],
   "source": [
    "ROOT            = Path(\"/kaggle/input/home-credit-risk-model-train-test\")\n",
    "SCHEMA_PATH            = Path(\"/kaggle/input/schema-home-credit-risk-data\")"
   ]
  },
  {
   "cell_type": "code",
   "execution_count": 3,
   "id": "dd44d04f",
   "metadata": {
    "execution": {
     "iopub.execute_input": "2024-06-05T07:26:14.858691Z",
     "iopub.status.busy": "2024-06-05T07:26:14.858260Z",
     "iopub.status.idle": "2024-06-05T07:26:14.864268Z",
     "shell.execute_reply": "2024-06-05T07:26:14.863194Z"
    },
    "papermill": {
     "duration": 0.021724,
     "end_time": "2024-06-05T07:26:14.866566",
     "exception": false,
     "start_time": "2024-06-05T07:26:14.844842",
     "status": "completed"
    },
    "tags": []
   },
   "outputs": [],
   "source": [
    "def set_data_types(df, schema):\n",
    "    \n",
    "    for col, dtype in schema.items():\n",
    "        if dtype == 'category':\n",
    "            dtype = 'object'\n",
    "        df[col] = df[col].astype(dtype, errors = 'ignore')\n",
    "    return df"
   ]
  },
  {
   "cell_type": "code",
   "execution_count": 4,
   "id": "9f9c64ae",
   "metadata": {
    "execution": {
     "iopub.execute_input": "2024-06-05T07:26:14.893317Z",
     "iopub.status.busy": "2024-06-05T07:26:14.892387Z",
     "iopub.status.idle": "2024-06-05T07:26:58.556875Z",
     "shell.execute_reply": "2024-06-05T07:26:58.555267Z"
    },
    "papermill": {
     "duration": 43.681905,
     "end_time": "2024-06-05T07:26:58.560758",
     "exception": false,
     "start_time": "2024-06-05T07:26:14.878853",
     "status": "completed"
    },
    "tags": []
   },
   "outputs": [],
   "source": [
    "X = pl.read_csv(ROOT/'model_abt_train.csv').to_pandas()\n",
    "X_test = pl.read_csv(ROOT/'model_abt_test.csv').to_pandas()\n",
    "\n",
    "schema = pd.read_csv(SCHEMA_PATH / \"data_schema.csv\", names = ['Columns', 'dtype'])\n",
    "schema = schema[schema['Columns'].isin(X.columns)]\n",
    "schema = schema.set_index('Columns')['dtype'].to_dict()\n",
    "\n",
    "X = set_data_types(X, schema)\n",
    "X_test = set_data_types(X_test, schema)\n",
    "del schema"
   ]
  },
  {
   "cell_type": "code",
   "execution_count": 5,
   "id": "60e3075a",
   "metadata": {
    "execution": {
     "iopub.execute_input": "2024-06-05T07:26:58.595892Z",
     "iopub.status.busy": "2024-06-05T07:26:58.595338Z",
     "iopub.status.idle": "2024-06-05T07:27:08.239479Z",
     "shell.execute_reply": "2024-06-05T07:27:08.238212Z"
    },
    "papermill": {
     "duration": 9.665754,
     "end_time": "2024-06-05T07:27:08.242205",
     "exception": false,
     "start_time": "2024-06-05T07:26:58.576451",
     "status": "completed"
    },
    "tags": []
   },
   "outputs": [],
   "source": [
    "id_val = X[['case_id', 'WEEK_NUM']]\n",
    "id_test_val = X_test[['case_id', 'WEEK_NUM']]\n",
    "\n",
    "y = X['target']\n",
    "y_test = X_test['target']\n",
    "\n",
    "cols = X.drop(['case_id', 'WEEK_NUM', 'target', 'decision_month', 'decision_weekday'], axis = 1).columns\n",
    "\n",
    "X = X.drop(['case_id', 'WEEK_NUM', 'target', 'decision_month', 'decision_weekday'], axis = 1)\n",
    "X_test = X_test.drop(['case_id', 'WEEK_NUM', 'target', 'decision_month', 'decision_weekday'], axis = 1)"
   ]
  },
  {
   "cell_type": "code",
   "execution_count": 6,
   "id": "2ba65f64",
   "metadata": {
    "execution": {
     "iopub.execute_input": "2024-06-05T07:27:08.268685Z",
     "iopub.status.busy": "2024-06-05T07:27:08.268269Z",
     "iopub.status.idle": "2024-06-05T07:27:20.784752Z",
     "shell.execute_reply": "2024-06-05T07:27:20.783590Z"
    },
    "papermill": {
     "duration": 12.533141,
     "end_time": "2024-06-05T07:27:20.787495",
     "exception": false,
     "start_time": "2024-06-05T07:27:08.254354",
     "status": "completed"
    },
    "tags": []
   },
   "outputs": [],
   "source": [
    "cat_cols = [x for x, dtypes in X.dtypes.items() if dtypes == 'O']\n",
    "num_cols = [x for x, dtypes in X.dtypes.items() if dtypes in ['float', 'int']]\n",
    "X[cat_cols] = X[cat_cols].astype(str)\n",
    "X_test[cat_cols] = X_test[cat_cols].astype(str)"
   ]
  },
  {
   "cell_type": "code",
   "execution_count": 7,
   "id": "d2098a65",
   "metadata": {
    "execution": {
     "iopub.execute_input": "2024-06-05T07:27:20.815778Z",
     "iopub.status.busy": "2024-06-05T07:27:20.815326Z",
     "iopub.status.idle": "2024-06-05T07:27:20.853237Z",
     "shell.execute_reply": "2024-06-05T07:27:20.852024Z"
    },
    "papermill": {
     "duration": 0.055232,
     "end_time": "2024-06-05T07:27:20.855682",
     "exception": false,
     "start_time": "2024-06-05T07:27:20.800450",
     "status": "completed"
    },
    "tags": []
   },
   "outputs": [],
   "source": [
    "class Model_Utils:\n",
    "    @staticmethod\n",
    "    def model_evals(y_true, y_proba, cutoff = 0.5):\n",
    "        from sklearn.metrics import make_scorer, accuracy_score, precision_score, recall_score, f1_score, average_precision_score, roc_auc_score\n",
    "        \"\"\"\n",
    "        Returns model evaluation metrics for a binary classification model\n",
    "\n",
    "        Parameters:\n",
    "        -----------\n",
    "            y_true: int (0,1) \n",
    "                Actual binary labels\n",
    "\n",
    "            y_proba: float (between 0 and 1)\n",
    "                Probability scores output of model \n",
    "\n",
    "        Returns:\n",
    "        --------\n",
    "            result: dict\n",
    "                Dictionary of metrics and their results based on the input\n",
    "                    - event rate (% predicted 1's)\n",
    "                    - accuracy\n",
    "                    - roc_auc\n",
    "                    - pr_auc\n",
    "                    - recall\n",
    "                    - precision\n",
    "                    - f1\n",
    "                    - lift\n",
    "        \"\"\"\n",
    "\n",
    "        y_pred = (y_proba > cutoff).astype(int)\n",
    "\n",
    "        event_rate = y_pred.mean()\n",
    "\n",
    "        accuracy = accuracy_score(y_true, y_pred)\n",
    "\n",
    "        roc_auc = roc_auc_score(y_true, y_proba)\n",
    "\n",
    "        pr_auc = average_precision_score(y_true, y_proba)\n",
    "\n",
    "        recall = recall_score(y_true, y_pred)\n",
    "\n",
    "        precision = precision_score(y_true, y_pred)\n",
    "\n",
    "        f1 = f1_score(y_true, y_pred)\n",
    "\n",
    "        lift = recall / event_rate\n",
    "\n",
    "        return {'event_rate': event_rate,\n",
    "                'acc': accuracy, \n",
    "                'precision': precision, \n",
    "                'recall': recall, \n",
    "                'f1': f1, \n",
    "                'roc_auc': roc_auc,\n",
    "                'pr_auc': pr_auc, \n",
    "                'lift': lift}\n",
    "    \n",
    "    @staticmethod\n",
    "    def cutoff_perc(y_actual, y_proba, percent):\n",
    "        n_cutoff = int(len(y_actual) * percent)\n",
    "\n",
    "        scores = pd.DataFrame({'actual': y_actual, 'proba': y_proba})\n",
    "        scores = scores.sort_values(by = 'proba', ascending= False)\n",
    "        scores['rank'] = scores['proba'].rank(ascending = False)\n",
    "        scores['ranked_pred'] = np.where(scores['rank']<= n_cutoff, 1, 0)\n",
    "\n",
    "        print(len(scores[scores['ranked_pred'] == 1]))\n",
    "        print(scores[scores['ranked_pred'] == 1]['proba'].min())\n",
    "        return Model_Utils.model_evals(y_actual, y_proba, cutoff = scores[scores['ranked_pred'] == 1]['proba'].min())\n",
    "    \n",
    "    @staticmethod\n",
    "    def DumbClassifier(y_true):\n",
    "        import numpy as np\n",
    "        y_pred = np.zeros(len(y_true))\n",
    "        return y_pred\n",
    "    \n",
    "    @staticmethod\n",
    "    def RandomChanceClassifier(y_true):\n",
    "        import numpy as np\n",
    "        y_pred = Model_Utils.DumbClassifier(y_true)\n",
    "        event = y_true.sum()\n",
    "        ind = np.random.randint(0, len(y_true), size=event)\n",
    "        y_pred[ind] = 1\n",
    "        return y_pred\n",
    "    \n",
    "    @staticmethod\n",
    "    def save_model_results(results, schema, filepath):\n",
    "        if not os.path.exists(filepath):\n",
    "            score_schema = {'model_name': 'str', \n",
    "                        'model': 'str',\n",
    "                        'params': 'str',\n",
    "                        'acc': 'float',\n",
    "                        'precision': 'float',\n",
    "                        'recall': 'float',\n",
    "                        'f1_score': 'float',\n",
    "                        'roc_auc': 'float',\n",
    "                        'pr_auc': 'float',\n",
    "                        'lift': 'float'}\n",
    "            scores = pd.DataFrame(columns = score_schema.keys()).astype(score_schema)\n",
    "        else:\n",
    "            scores = pd.read_csv(filepath)\n",
    "        row = []\n",
    "        \n",
    "        for key in schema.keys():\n",
    "            row.append(results[key])\n",
    "        \n",
    "        scores.loc[len(scores)] = row\n",
    "        scores.to_csv(filepath, index = False)\n",
    "        \n",
    "    @staticmethod\n",
    "    def LightGBMClassifier_CV(X, y, cat_cols, cv = 5, group = None, params = None):\n",
    "        import lightgbm\n",
    "        from sklearn.model_selection import StratifiedGroupKFold\n",
    "        \n",
    "        cv = StratifiedGroupKFold(n_splits=cv, shuffle = True, random_state = 42)\n",
    "        \n",
    "        if params == None:\n",
    "            params = {'random_state': 42\n",
    "                     ,'objective': 'binary'\n",
    "                     ,'verbose': -1\n",
    "                     ,'n_jobs': -1}\n",
    "        \n",
    "        scores = {'acc': [],\n",
    "                        'precision': [],\n",
    "                        'recall': [],\n",
    "                        'f1': [],\n",
    "                        'roc_auc': [],\n",
    "                        'pr_auc': [],\n",
    "                        'lift': []}\n",
    "\n",
    "        split = 1\n",
    "        \n",
    "        for train_ind, valid_ind in cv.split(X, y, groups=group):\n",
    "            X_train, y_train = X.iloc[train_ind], y.iloc[train_ind]\n",
    "            X_valid, y_valid = X.iloc[valid_ind], y.iloc[valid_ind]\n",
    "\n",
    "            X_train[cat_cols] = X_train[cat_cols].astype(\"category\")\n",
    "            X_valid[cat_cols] = X_valid[cat_cols].astype(\"category\")\n",
    "            \n",
    "            lgb = lightgbm.LGBMClassifier(**params)\n",
    "            lgb.fit(X_train, y_train)\n",
    "\n",
    "            y_proba = lgb.predict_proba(X_valid)[:, 1]\n",
    "            results = Model_Utils.model_evals(y_valid, y_proba)\n",
    "            print(f'LightGBM, Val CV{split}: {results}\"')\n",
    "            \n",
    "            split += 1\n",
    "            \n",
    "            for key in results.keys():\n",
    "                if key in scores.keys():\n",
    "                    scores[key].append(results[key])\n",
    "        \n",
    "        for key in results.keys():\n",
    "            if key in scores.keys():\n",
    "                scores[key] = np.array(scores[key]).mean()\n",
    "            \n",
    "        print(f'LightGBM, Average CV: {scores}\"')\n",
    "        return lgb, scores\n",
    "\n",
    "    \n",
    "    @staticmethod\n",
    "    def LightGBMClassifier_pred(X, y, X_test, y_test, cat_cols, params = None):\n",
    "        import lightgbm\n",
    "        \n",
    "        if params == None:\n",
    "            params = {'random_state': 42\n",
    "                     ,'objective': 'binary'\n",
    "                     ,'verbose': -1\n",
    "                     ,'n_jobs': -1}\n",
    "        \n",
    "        scores = {'acc': [],\n",
    "                        'precision': [],\n",
    "                        'recall': [],\n",
    "                        'f1': [],\n",
    "                        'roc_auc': [],\n",
    "                        'pr_auc': [],\n",
    "                        'lift': []}\n",
    "\n",
    "        \n",
    "        X[cat_cols] = X[cat_cols].astype(\"category\")\n",
    "        X_test[cat_cols] = X_test[cat_cols].astype(\"category\")\n",
    "            \n",
    "        lgb = lightgbm.LGBMClassifier(**params)\n",
    "        lgb.fit(X, y)\n",
    "\n",
    "        y_proba = lgb.predict_proba(X_test)[:, 1]\n",
    "        results = Model_Utils.model_evals(y_test, y_proba)\n",
    "        print(f'LightGBM, Test: {results}\"')\n",
    "        \n",
    "        return lgb, y_proba, results\n",
    "    \n",
    "    \n",
    "    @staticmethod\n",
    "    def CatBoostClassifier_CV(X, y, cat_cols, cv = 5, group = None, params = None):\n",
    "        import catboost\n",
    "        from sklearn.model_selection import StratifiedGroupKFold\n",
    "        \n",
    "        cv = StratifiedGroupKFold(n_splits=cv, shuffle = True, random_state = 42)\n",
    "        \n",
    "        if params == None:\n",
    "             params = {'boosting_type' : \"Plain\",\n",
    "                      'eval_metric': 'PRAUC',\n",
    "                      'random_seed': 42,\n",
    "                      'learning_rate': 0.05,\n",
    "                      'use_best_model': True,\n",
    "                      'iterations': 1000}\n",
    "        \n",
    "        scores = {'acc': [],\n",
    "                        'precision': [],\n",
    "                        'recall': [],\n",
    "                        'f1': [],\n",
    "                        'roc_auc': [],\n",
    "                        'pr_auc': [],\n",
    "                        'lift': []}\n",
    "\n",
    "        split = 1\n",
    "        \n",
    "        for train_ind, valid_ind in cv.split(X, y, groups=group):\n",
    "            X_train, y_train = X.iloc[train_ind], y.iloc[train_ind]\n",
    "            X_valid, y_valid = X.iloc[valid_ind], y.iloc[valid_ind]\n",
    "            \n",
    "            \n",
    "            clf = CatBoostClassifier(**params)\n",
    "        \n",
    "            train_pool = Pool(X_train, y_train, cat_features=cat_cols)\n",
    "            val_pool = Pool(X_valid, y_valid, cat_features=cat_cols)\n",
    "            \n",
    "            clf.fit(train_pool, eval_set=val_pool, verbose=False)\n",
    "            \n",
    "            y_proba = clf.predict_proba(X_valid)[:, 1]\n",
    "            results = Model_Utils.model_evals(y_valid, y_proba)\n",
    "            print(f'CatBoost, Val CV{split}: {results}\"')\n",
    "            \n",
    "            split += 1\n",
    "            \n",
    "            for key in results.keys():\n",
    "                if key in scores.keys():\n",
    "                    scores[key].append(results[key])\n",
    "        \n",
    "        for key in results.keys():\n",
    "            if key in scores.keys():\n",
    "                scores[key] = np.array(scores[key]).mean()\n",
    "            \n",
    "        print(f'CatBoost, Average CV: {scores}\"')\n",
    "        return clf, scores\n",
    "    \n",
    "    \n",
    "    @staticmethod\n",
    "    def CatBoostClassifier_pred(X, y, X_test, y_test, cat_cols, params = None):\n",
    "        import catboost\n",
    "    \n",
    "        if params == None:\n",
    "             params = {'boosting_type' : \"Plain\",\n",
    "                      'eval_metric': 'PRAUC',\n",
    "                      'random_seed': 42,\n",
    "                      'learning_rate': 0.05,\n",
    "                      'use_best_model': True,\n",
    "                      'iterations': 1000}\n",
    "                \n",
    "        clf = CatBoostClassifier(**params)\n",
    "        \n",
    "        train_pool = Pool(X, y, cat_features=cat_cols)\n",
    "        test_pool = Pool(X_test, y_test, cat_features=cat_cols)\n",
    "            \n",
    "        clf.fit(train_pool, eval_set=test_pool, verbose=False)\n",
    "            \n",
    "        y_proba = clf.predict_proba(X_test)[:, 1]\n",
    "        results = Model_Utils.model_evals(y_test, y_proba)\n",
    "        print(f'CatBoost, Test: {results}\"')\n",
    "            \n",
    "        return clf, y_proba, results\n",
    "\n",
    "    \n",
    "    @staticmethod\n",
    "    def train_test_split(X, y, test_size = 0.2):\n",
    "        from sklearn.model_selection import train_test_split\n",
    "        import polars as pl\n",
    "        \n",
    "        X_train, X_test, y_train, y_test = train_test_split(X, y, test_size=test_size, random_state=42)\n",
    "        pl.from_pandas(pd.concat([y_train, X_train], axis = 1)).write_csv('model_abt_train.csv')\n",
    "        del X_train\n",
    "        del y_train\n",
    "        gc.collect()\n",
    "        \n",
    "        pl.from_pandas(pd.concat([y_test, X_test], axis = 1)).write_csv('model_abt_test.csv')\n",
    "        del X_test\n",
    "        del y_test\n",
    "        gc.collect()"
   ]
  },
  {
   "cell_type": "code",
   "execution_count": 8,
   "id": "8b04ab0a",
   "metadata": {
    "execution": {
     "iopub.execute_input": "2024-06-05T07:27:20.882169Z",
     "iopub.status.busy": "2024-06-05T07:27:20.881786Z",
     "iopub.status.idle": "2024-06-05T07:27:20.889301Z",
     "shell.execute_reply": "2024-06-05T07:27:20.887855Z"
    },
    "papermill": {
     "duration": 0.02379,
     "end_time": "2024-06-05T07:27:20.891898",
     "exception": false,
     "start_time": "2024-06-05T07:27:20.868108",
     "status": "completed"
    },
    "tags": []
   },
   "outputs": [],
   "source": [
    "params_lgb = {'colsample_bytree': 0.8091363920278533, \n",
    "              'gamma': 1.6740930883959255, \n",
    "              'learning_rate': 0.0816628382148218, \n",
    "              'max_depth': 7, 'min_child_weight': 1.7065771300111194, \n",
    "              'n_estimators': 250, 'random_state': 42, \n",
    "              'reg_alpha': 7.114616964626139, 'reg_lambda': 8.853463059493436, \n",
    "              'subsample': 0.5494975675591438, 'verbose': -1}\n",
    "\n",
    "\n",
    "params_catboost = {'bagging_temperature': 3.0469773840224983,\n",
    "                   'boosting_type': 'Ordered', \n",
    "                   'border_count': 96, \n",
    "                   'colsample_bylevel': 0.5008191566781925, \n",
    "                   'depth': 5, 'iterations': 250, \n",
    "                   'l2_leaf_reg': 8.0, \n",
    "                   'learning_rate': 0.19362752313765308, \n",
    "                   'max_ctr_complexity': 5.0, \n",
    "                   'one_hot_max_size': 50, \n",
    "                   'random_state': 42, \n",
    "                   'verbose': -1}\n"
   ]
  },
  {
   "cell_type": "code",
   "execution_count": 9,
   "id": "c21e7a70",
   "metadata": {
    "execution": {
     "iopub.execute_input": "2024-06-05T07:27:20.921026Z",
     "iopub.status.busy": "2024-06-05T07:27:20.920571Z",
     "iopub.status.idle": "2024-06-05T07:27:22.922083Z",
     "shell.execute_reply": "2024-06-05T07:27:22.920692Z"
    },
    "papermill": {
     "duration": 2.020036,
     "end_time": "2024-06-05T07:27:22.924811",
     "exception": false,
     "start_time": "2024-06-05T07:27:20.904775",
     "status": "completed"
    },
    "tags": []
   },
   "outputs": [
    {
     "data": {
      "text/html": [
       "<div>\n",
       "<style scoped>\n",
       "    .dataframe tbody tr th:only-of-type {\n",
       "        vertical-align: middle;\n",
       "    }\n",
       "\n",
       "    .dataframe tbody tr th {\n",
       "        vertical-align: top;\n",
       "    }\n",
       "\n",
       "    .dataframe thead th {\n",
       "        text-align: right;\n",
       "    }\n",
       "</style>\n",
       "<table border=\"1\" class=\"dataframe\">\n",
       "  <thead>\n",
       "    <tr style=\"text-align: right;\">\n",
       "      <th></th>\n",
       "      <th>nulls</th>\n",
       "      <th>perc_nulls</th>\n",
       "    </tr>\n",
       "  </thead>\n",
       "  <tbody>\n",
       "    <tr>\n",
       "      <th>assignmentdate_238D</th>\n",
       "      <td>1111559</td>\n",
       "      <td>0.910124</td>\n",
       "    </tr>\n",
       "    <tr>\n",
       "      <th>birthdate_574D</th>\n",
       "      <td>734752</td>\n",
       "      <td>0.601601</td>\n",
       "    </tr>\n",
       "    <tr>\n",
       "      <th>contractssum_5085716L</th>\n",
       "      <td>1095742</td>\n",
       "      <td>0.897173</td>\n",
       "    </tr>\n",
       "    <tr>\n",
       "      <th>days120_123L</th>\n",
       "      <td>112943</td>\n",
       "      <td>0.092476</td>\n",
       "    </tr>\n",
       "    <tr>\n",
       "      <th>days180_256L</th>\n",
       "      <td>112943</td>\n",
       "      <td>0.092476</td>\n",
       "    </tr>\n",
       "    <tr>\n",
       "      <th>...</th>\n",
       "      <td>...</td>\n",
       "      <td>...</td>\n",
       "    </tr>\n",
       "    <tr>\n",
       "      <th>std_pmts_dpd_1073P</th>\n",
       "      <td>219517</td>\n",
       "      <td>0.179736</td>\n",
       "    </tr>\n",
       "    <tr>\n",
       "      <th>std_pmts_dpd_303P</th>\n",
       "      <td>414577</td>\n",
       "      <td>0.339448</td>\n",
       "    </tr>\n",
       "    <tr>\n",
       "      <th>std_pmts_overdue_1140A</th>\n",
       "      <td>219070</td>\n",
       "      <td>0.179370</td>\n",
       "    </tr>\n",
       "    <tr>\n",
       "      <th>std_pmts_overdue_1152A</th>\n",
       "      <td>414498</td>\n",
       "      <td>0.339383</td>\n",
       "    </tr>\n",
       "    <tr>\n",
       "      <th>count_depth2_a2_num_group2</th>\n",
       "      <td>113256</td>\n",
       "      <td>0.092732</td>\n",
       "    </tr>\n",
       "  </tbody>\n",
       "</table>\n",
       "<p>368 rows × 2 columns</p>\n",
       "</div>"
      ],
      "text/plain": [
       "                              nulls  perc_nulls\n",
       "assignmentdate_238D         1111559    0.910124\n",
       "birthdate_574D               734752    0.601601\n",
       "contractssum_5085716L       1095742    0.897173\n",
       "days120_123L                 112943    0.092476\n",
       "days180_256L                 112943    0.092476\n",
       "...                             ...         ...\n",
       "std_pmts_dpd_1073P           219517    0.179736\n",
       "std_pmts_dpd_303P            414577    0.339448\n",
       "std_pmts_overdue_1140A       219070    0.179370\n",
       "std_pmts_overdue_1152A       414498    0.339383\n",
       "count_depth2_a2_num_group2   113256    0.092732\n",
       "\n",
       "[368 rows x 2 columns]"
      ]
     },
     "execution_count": 9,
     "metadata": {},
     "output_type": "execute_result"
    }
   ],
   "source": [
    "num_nulls = pd.DataFrame(X[num_cols].isna().sum(), columns = ['nulls'])\n",
    "num_nulls['perc_nulls'] = num_nulls['nulls']/len(X)\n",
    "num_nulls"
   ]
  },
  {
   "cell_type": "code",
   "execution_count": 10,
   "id": "f24deb7b",
   "metadata": {
    "execution": {
     "iopub.execute_input": "2024-06-05T07:27:22.951482Z",
     "iopub.status.busy": "2024-06-05T07:27:22.951085Z",
     "iopub.status.idle": "2024-06-05T07:27:23.263312Z",
     "shell.execute_reply": "2024-06-05T07:27:23.262146Z"
    },
    "papermill": {
     "duration": 0.328404,
     "end_time": "2024-06-05T07:27:23.265757",
     "exception": false,
     "start_time": "2024-06-05T07:27:22.937353",
     "status": "completed"
    },
    "tags": []
   },
   "outputs": [
    {
     "name": "stdout",
     "output_type": "stream",
     "text": [
      "count    368.000000\n",
      "mean       0.374706\n",
      "std        0.277153\n",
      "min        0.000000\n",
      "25%        0.172483\n",
      "50%        0.336008\n",
      "75%        0.551126\n",
      "max        0.946321\n",
      "Name: perc_nulls, dtype: float64\n"
     ]
    },
    {
     "data": {
      "image/png": "[encoded data removed]",
      "text/plain": [
       "<Figure size 640x480 with 1 Axes>"
      ]
     },
     "metadata": {},
     "output_type": "display_data"
    }
   ],
   "source": [
    "print(num_nulls['perc_nulls'].describe())\n",
    "num_nulls['perc_nulls'].hist(bins = 20);"
   ]
  },
  {
   "cell_type": "code",
   "execution_count": 11,
   "id": "619a35c4",
   "metadata": {
    "execution": {
     "iopub.execute_input": "2024-06-05T07:27:23.293276Z",
     "iopub.status.busy": "2024-06-05T07:27:23.292873Z",
     "iopub.status.idle": "2024-06-05T07:27:47.833978Z",
     "shell.execute_reply": "2024-06-05T07:27:47.832899Z"
    },
    "papermill": {
     "duration": 24.557816,
     "end_time": "2024-06-05T07:27:47.836579",
     "exception": false,
     "start_time": "2024-06-05T07:27:23.278763",
     "status": "completed"
    },
    "tags": []
   },
   "outputs": [],
   "source": [
    "import numpy as np\n",
    "from sklearn.impute import SimpleImputer\n",
    "imp_mean = SimpleImputer(missing_values=np.nan, strategy='mean')\n",
    "imp_mean.fit(X[num_cols])\n",
    "X[num_cols] = imp_mean.transform(X[num_cols])\n",
    "X_test[num_cols] = imp_mean.transform(X_test[num_cols])"
   ]
  },
  {
   "cell_type": "code",
   "execution_count": 12,
   "id": "a3c4ffe5",
   "metadata": {
    "execution": {
     "iopub.execute_input": "2024-06-05T07:27:47.864489Z",
     "iopub.status.busy": "2024-06-05T07:27:47.863874Z",
     "iopub.status.idle": "2024-06-05T07:28:54.058165Z",
     "shell.execute_reply": "2024-06-05T07:28:54.056803Z"
    },
    "papermill": {
     "duration": 66.212399,
     "end_time": "2024-06-05T07:28:54.061828",
     "exception": false,
     "start_time": "2024-06-05T07:27:47.849429",
     "status": "completed"
    },
    "tags": []
   },
   "outputs": [],
   "source": [
    "from sklearn.decomposition import PCA\n",
    "from sklearn.preprocessing import StandardScaler\n",
    "\n",
    "X_num = X[num_cols].to_numpy()\n",
    "scaler = StandardScaler()\n",
    "X_num = scaler.fit_transform(X_num)\n",
    "pca = PCA(random_state = 42)\n",
    "X_num = pca.fit_transform(X_num)\n",
    "\n",
    "Xt_num = X_test[num_cols].to_numpy()\n",
    "Xt_num = scaler.transform(Xt_num)\n",
    "Xt_num = pca.transform(Xt_num)"
   ]
  },
  {
   "cell_type": "code",
   "execution_count": 13,
   "id": "bc2b6572",
   "metadata": {
    "execution": {
     "iopub.execute_input": "2024-06-05T07:28:54.109146Z",
     "iopub.status.busy": "2024-06-05T07:28:54.108543Z",
     "iopub.status.idle": "2024-06-05T07:28:54.398932Z",
     "shell.execute_reply": "2024-06-05T07:28:54.397645Z"
    },
    "papermill": {
     "duration": 0.316692,
     "end_time": "2024-06-05T07:28:54.401476",
     "exception": false,
     "start_time": "2024-06-05T07:28:54.084784",
     "status": "completed"
    },
    "tags": []
   },
   "outputs": [
    {
     "data": {
      "image/png": "[encoded data removed]",
      "text/plain": [
       "<Figure size 2000x600 with 1 Axes>"
      ]
     },
     "metadata": {},
     "output_type": "display_data"
    }
   ],
   "source": [
    "plt.figure(figsize=(20,6))\n",
    "plt.plot(\n",
    "    range(1, len(pca.explained_variance_ratio_) + 1), pca.explained_variance_ratio_.cumsum(), \"o-\"\n",
    ")\n",
    "plt.ylim(0, 1)\n",
    "plt.xlabel(\"number of PCs\")\n",
    "plt.ylabel(\"cumulative variance explained\");"
   ]
  },
  {
   "cell_type": "code",
   "execution_count": 14,
   "id": "4eab0b0d",
   "metadata": {
    "execution": {
     "iopub.execute_input": "2024-06-05T07:28:54.430020Z",
     "iopub.status.busy": "2024-06-05T07:28:54.429621Z",
     "iopub.status.idle": "2024-06-05T07:28:54.635687Z",
     "shell.execute_reply": "2024-06-05T07:28:54.634454Z"
    },
    "papermill": {
     "duration": 0.22351,
     "end_time": "2024-06-05T07:28:54.638119",
     "exception": false,
     "start_time": "2024-06-05T07:28:54.414609",
     "status": "completed"
    },
    "tags": []
   },
   "outputs": [
    {
     "data": {
      "image/png": "[encoded data removed]",
      "text/plain": [
       "<Figure size 640x480 with 1 Axes>"
      ]
     },
     "metadata": {},
     "output_type": "display_data"
    }
   ],
   "source": [
    "plt.plot(range(1, len(pca.explained_variance_ratio_)+1), pca.explained_variance_ratio_, 'o-')\n",
    "plt.ylim(0,1)\n",
    "plt.xlabel('PC')\n",
    "plt.ylabel('variance explained');"
   ]
  },
  {
   "cell_type": "code",
   "execution_count": 15,
   "id": "241fbd0c",
   "metadata": {
    "execution": {
     "iopub.execute_input": "2024-06-05T07:28:54.667135Z",
     "iopub.status.busy": "2024-06-05T07:28:54.666737Z",
     "iopub.status.idle": "2024-06-05T07:28:54.693998Z",
     "shell.execute_reply": "2024-06-05T07:28:54.692890Z"
    },
    "papermill": {
     "duration": 0.044648,
     "end_time": "2024-06-05T07:28:54.696410",
     "exception": false,
     "start_time": "2024-06-05T07:28:54.651762",
     "status": "completed"
    },
    "tags": []
   },
   "outputs": [
    {
     "data": {
      "text/html": [
       "<div>\n",
       "<style scoped>\n",
       "    .dataframe tbody tr th:only-of-type {\n",
       "        vertical-align: middle;\n",
       "    }\n",
       "\n",
       "    .dataframe tbody tr th {\n",
       "        vertical-align: top;\n",
       "    }\n",
       "\n",
       "    .dataframe thead th {\n",
       "        text-align: right;\n",
       "    }\n",
       "</style>\n",
       "<table border=\"1\" class=\"dataframe\">\n",
       "  <thead>\n",
       "    <tr style=\"text-align: right;\">\n",
       "      <th></th>\n",
       "      <th>feature</th>\n",
       "      <th>n_components</th>\n",
       "      <th>explained_var</th>\n",
       "      <th>cum_explained_var</th>\n",
       "    </tr>\n",
       "  </thead>\n",
       "  <tbody>\n",
       "    <tr>\n",
       "      <th>0</th>\n",
       "      <td>pca0</td>\n",
       "      <td>1</td>\n",
       "      <td>0.054521</td>\n",
       "      <td>0.054521</td>\n",
       "    </tr>\n",
       "    <tr>\n",
       "      <th>1</th>\n",
       "      <td>pca1</td>\n",
       "      <td>2</td>\n",
       "      <td>0.033866</td>\n",
       "      <td>0.088387</td>\n",
       "    </tr>\n",
       "    <tr>\n",
       "      <th>2</th>\n",
       "      <td>pca2</td>\n",
       "      <td>3</td>\n",
       "      <td>0.024961</td>\n",
       "      <td>0.113348</td>\n",
       "    </tr>\n",
       "    <tr>\n",
       "      <th>3</th>\n",
       "      <td>pca3</td>\n",
       "      <td>4</td>\n",
       "      <td>0.023134</td>\n",
       "      <td>0.136482</td>\n",
       "    </tr>\n",
       "    <tr>\n",
       "      <th>4</th>\n",
       "      <td>pca4</td>\n",
       "      <td>5</td>\n",
       "      <td>0.022114</td>\n",
       "      <td>0.158596</td>\n",
       "    </tr>\n",
       "    <tr>\n",
       "      <th>...</th>\n",
       "      <td>...</td>\n",
       "      <td>...</td>\n",
       "      <td>...</td>\n",
       "      <td>...</td>\n",
       "    </tr>\n",
       "    <tr>\n",
       "      <th>363</th>\n",
       "      <td>pca363</td>\n",
       "      <td>364</td>\n",
       "      <td>0.0</td>\n",
       "      <td>1.0</td>\n",
       "    </tr>\n",
       "    <tr>\n",
       "      <th>364</th>\n",
       "      <td>pca364</td>\n",
       "      <td>365</td>\n",
       "      <td>0.0</td>\n",
       "      <td>1.0</td>\n",
       "    </tr>\n",
       "    <tr>\n",
       "      <th>365</th>\n",
       "      <td>pca365</td>\n",
       "      <td>366</td>\n",
       "      <td>0.0</td>\n",
       "      <td>1.0</td>\n",
       "    </tr>\n",
       "    <tr>\n",
       "      <th>366</th>\n",
       "      <td>pca366</td>\n",
       "      <td>367</td>\n",
       "      <td>0.0</td>\n",
       "      <td>1.0</td>\n",
       "    </tr>\n",
       "    <tr>\n",
       "      <th>367</th>\n",
       "      <td>pca367</td>\n",
       "      <td>368</td>\n",
       "      <td>0.0</td>\n",
       "      <td>1.0</td>\n",
       "    </tr>\n",
       "  </tbody>\n",
       "</table>\n",
       "<p>368 rows × 4 columns</p>\n",
       "</div>"
      ],
      "text/plain": [
       "    feature n_components explained_var cum_explained_var\n",
       "0      pca0            1      0.054521          0.054521\n",
       "1      pca1            2      0.033866          0.088387\n",
       "2      pca2            3      0.024961          0.113348\n",
       "3      pca3            4      0.023134          0.136482\n",
       "4      pca4            5      0.022114          0.158596\n",
       "..      ...          ...           ...               ...\n",
       "363  pca363          364           0.0               1.0\n",
       "364  pca364          365           0.0               1.0\n",
       "365  pca365          366           0.0               1.0\n",
       "366  pca366          367           0.0               1.0\n",
       "367  pca367          368           0.0               1.0\n",
       "\n",
       "[368 rows x 4 columns]"
      ]
     },
     "execution_count": 15,
     "metadata": {},
     "output_type": "execute_result"
    }
   ],
   "source": [
    "pca_var = pd.DataFrame([list(pca.get_feature_names_out()), range(1, len(pca.explained_variance_ratio_) + 1), pca.explained_variance_ratio_, pca.explained_variance_ratio_.cumsum()]).T\n",
    "pca_var.columns = [\"feature\", \"n_components\", \"explained_var\", \"cum_explained_var\"]\n",
    "pca_var"
   ]
  },
  {
   "cell_type": "code",
   "execution_count": 16,
   "id": "0ebcdd3e",
   "metadata": {
    "execution": {
     "iopub.execute_input": "2024-06-05T07:28:54.726327Z",
     "iopub.status.busy": "2024-06-05T07:28:54.725430Z",
     "iopub.status.idle": "2024-06-05T07:28:54.740967Z",
     "shell.execute_reply": "2024-06-05T07:28:54.739647Z"
    },
    "papermill": {
     "duration": 0.033229,
     "end_time": "2024-06-05T07:28:54.743472",
     "exception": false,
     "start_time": "2024-06-05T07:28:54.710243",
     "status": "completed"
    },
    "tags": []
   },
   "outputs": [
    {
     "data": {
      "text/html": [
       "<div>\n",
       "<style scoped>\n",
       "    .dataframe tbody tr th:only-of-type {\n",
       "        vertical-align: middle;\n",
       "    }\n",
       "\n",
       "    .dataframe tbody tr th {\n",
       "        vertical-align: top;\n",
       "    }\n",
       "\n",
       "    .dataframe thead th {\n",
       "        text-align: right;\n",
       "    }\n",
       "</style>\n",
       "<table border=\"1\" class=\"dataframe\">\n",
       "  <thead>\n",
       "    <tr style=\"text-align: right;\">\n",
       "      <th></th>\n",
       "      <th>feature</th>\n",
       "      <th>n_components</th>\n",
       "      <th>explained_var</th>\n",
       "      <th>cum_explained_var</th>\n",
       "    </tr>\n",
       "  </thead>\n",
       "  <tbody>\n",
       "    <tr>\n",
       "      <th>0</th>\n",
       "      <td>pca0</td>\n",
       "      <td>1</td>\n",
       "      <td>0.054521</td>\n",
       "      <td>0.054521</td>\n",
       "    </tr>\n",
       "    <tr>\n",
       "      <th>1</th>\n",
       "      <td>pca1</td>\n",
       "      <td>2</td>\n",
       "      <td>0.033866</td>\n",
       "      <td>0.088387</td>\n",
       "    </tr>\n",
       "    <tr>\n",
       "      <th>2</th>\n",
       "      <td>pca2</td>\n",
       "      <td>3</td>\n",
       "      <td>0.024961</td>\n",
       "      <td>0.113348</td>\n",
       "    </tr>\n",
       "    <tr>\n",
       "      <th>3</th>\n",
       "      <td>pca3</td>\n",
       "      <td>4</td>\n",
       "      <td>0.023134</td>\n",
       "      <td>0.136482</td>\n",
       "    </tr>\n",
       "    <tr>\n",
       "      <th>4</th>\n",
       "      <td>pca4</td>\n",
       "      <td>5</td>\n",
       "      <td>0.022114</td>\n",
       "      <td>0.158596</td>\n",
       "    </tr>\n",
       "    <tr>\n",
       "      <th>...</th>\n",
       "      <td>...</td>\n",
       "      <td>...</td>\n",
       "      <td>...</td>\n",
       "      <td>...</td>\n",
       "    </tr>\n",
       "    <tr>\n",
       "      <th>158</th>\n",
       "      <td>pca158</td>\n",
       "      <td>159</td>\n",
       "      <td>0.001771</td>\n",
       "      <td>0.891961</td>\n",
       "    </tr>\n",
       "    <tr>\n",
       "      <th>159</th>\n",
       "      <td>pca159</td>\n",
       "      <td>160</td>\n",
       "      <td>0.001749</td>\n",
       "      <td>0.89371</td>\n",
       "    </tr>\n",
       "    <tr>\n",
       "      <th>160</th>\n",
       "      <td>pca160</td>\n",
       "      <td>161</td>\n",
       "      <td>0.001732</td>\n",
       "      <td>0.895442</td>\n",
       "    </tr>\n",
       "    <tr>\n",
       "      <th>161</th>\n",
       "      <td>pca161</td>\n",
       "      <td>162</td>\n",
       "      <td>0.001716</td>\n",
       "      <td>0.897158</td>\n",
       "    </tr>\n",
       "    <tr>\n",
       "      <th>162</th>\n",
       "      <td>pca162</td>\n",
       "      <td>163</td>\n",
       "      <td>0.001694</td>\n",
       "      <td>0.898853</td>\n",
       "    </tr>\n",
       "  </tbody>\n",
       "</table>\n",
       "<p>163 rows × 4 columns</p>\n",
       "</div>"
      ],
      "text/plain": [
       "    feature n_components explained_var cum_explained_var\n",
       "0      pca0            1      0.054521          0.054521\n",
       "1      pca1            2      0.033866          0.088387\n",
       "2      pca2            3      0.024961          0.113348\n",
       "3      pca3            4      0.023134          0.136482\n",
       "4      pca4            5      0.022114          0.158596\n",
       "..      ...          ...           ...               ...\n",
       "158  pca158          159      0.001771          0.891961\n",
       "159  pca159          160      0.001749           0.89371\n",
       "160  pca160          161      0.001732          0.895442\n",
       "161  pca161          162      0.001716          0.897158\n",
       "162  pca162          163      0.001694          0.898853\n",
       "\n",
       "[163 rows x 4 columns]"
      ]
     },
     "execution_count": 16,
     "metadata": {},
     "output_type": "execute_result"
    }
   ],
   "source": [
    "pca_var[pca_var['cum_explained_var']<0.9]"
   ]
  },
  {
   "cell_type": "code",
   "execution_count": 17,
   "id": "c8a7ad8d",
   "metadata": {
    "execution": {
     "iopub.execute_input": "2024-06-05T07:28:54.773586Z",
     "iopub.status.busy": "2024-06-05T07:28:54.773193Z",
     "iopub.status.idle": "2024-06-05T07:28:54.782629Z",
     "shell.execute_reply": "2024-06-05T07:28:54.781529Z"
    },
    "papermill": {
     "duration": 0.027203,
     "end_time": "2024-06-05T07:28:54.784905",
     "exception": false,
     "start_time": "2024-06-05T07:28:54.757702",
     "status": "completed"
    },
    "tags": []
   },
   "outputs": [
    {
     "data": {
      "text/plain": [
       "163    pca163\n",
       "164    pca164\n",
       "165    pca165\n",
       "166    pca166\n",
       "167    pca167\n",
       "        ...  \n",
       "363    pca363\n",
       "364    pca364\n",
       "365    pca365\n",
       "366    pca366\n",
       "367    pca367\n",
       "Name: feature, Length: 205, dtype: object"
      ]
     },
     "execution_count": 17,
     "metadata": {},
     "output_type": "execute_result"
    }
   ],
   "source": [
    "pca_var['feature'][163:]"
   ]
  },
  {
   "cell_type": "code",
   "execution_count": 18,
   "id": "8fece787",
   "metadata": {
    "execution": {
     "iopub.execute_input": "2024-06-05T07:28:54.814733Z",
     "iopub.status.busy": "2024-06-05T07:28:54.814302Z",
     "iopub.status.idle": "2024-06-05T07:28:54.823976Z",
     "shell.execute_reply": "2024-06-05T07:28:54.822904Z"
    },
    "papermill": {
     "duration": 0.027253,
     "end_time": "2024-06-05T07:28:54.826294",
     "exception": false,
     "start_time": "2024-06-05T07:28:54.799041",
     "status": "completed"
    },
    "tags": []
   },
   "outputs": [],
   "source": [
    "pca_var.to_csv(\"PCA_num_cols_explained_var.csv\")"
   ]
  },
  {
   "cell_type": "code",
   "execution_count": 19,
   "id": "ed736bfa",
   "metadata": {
    "execution": {
     "iopub.execute_input": "2024-06-05T07:28:54.856341Z",
     "iopub.status.busy": "2024-06-05T07:28:54.855976Z",
     "iopub.status.idle": "2024-06-05T07:28:54.862268Z",
     "shell.execute_reply": "2024-06-05T07:28:54.861110Z"
    },
    "papermill": {
     "duration": 0.023741,
     "end_time": "2024-06-05T07:28:54.864363",
     "exception": false,
     "start_time": "2024-06-05T07:28:54.840622",
     "status": "completed"
    },
    "tags": []
   },
   "outputs": [],
   "source": [
    "X_num = pd.DataFrame(X_num, columns = list(pca.get_feature_names_out()))\n",
    "Xt_num = pd.DataFrame(Xt_num, columns = list(pca.get_feature_names_out()))"
   ]
  },
  {
   "cell_type": "code",
   "execution_count": 20,
   "id": "c85f62b1",
   "metadata": {
    "execution": {
     "iopub.execute_input": "2024-06-05T07:28:54.894510Z",
     "iopub.status.busy": "2024-06-05T07:28:54.893806Z",
     "iopub.status.idle": "2024-06-05T07:29:03.553888Z",
     "shell.execute_reply": "2024-06-05T07:29:03.552738Z"
    },
    "papermill": {
     "duration": 8.677907,
     "end_time": "2024-06-05T07:29:03.556418",
     "exception": false,
     "start_time": "2024-06-05T07:28:54.878511",
     "status": "completed"
    },
    "tags": []
   },
   "outputs": [],
   "source": [
    "X = pd.concat([X_num, X[[x for x in X.columns if x not in num_cols]]], axis  =1)\n",
    "X_test = pd.concat([Xt_num, X_test[[x for x in X_test.columns if x not in num_cols]]], axis  =1)"
   ]
  },
  {
   "cell_type": "code",
   "execution_count": 21,
   "id": "2ef39deb",
   "metadata": {
    "execution": {
     "iopub.execute_input": "2024-06-05T07:29:03.586856Z",
     "iopub.status.busy": "2024-06-05T07:29:03.585949Z",
     "iopub.status.idle": "2024-06-05T07:29:03.608001Z",
     "shell.execute_reply": "2024-06-05T07:29:03.606812Z"
    },
    "papermill": {
     "duration": 0.039863,
     "end_time": "2024-06-05T07:29:03.610463",
     "exception": false,
     "start_time": "2024-06-05T07:29:03.570600",
     "status": "completed"
    },
    "tags": []
   },
   "outputs": [],
   "source": [
    "del X_num\n",
    "del Xt_num"
   ]
  },
  {
   "cell_type": "code",
   "execution_count": 22,
   "id": "7abc10e7",
   "metadata": {
    "execution": {
     "iopub.execute_input": "2024-06-05T07:29:03.641271Z",
     "iopub.status.busy": "2024-06-05T07:29:03.640444Z",
     "iopub.status.idle": "2024-06-05T07:29:03.647519Z",
     "shell.execute_reply": "2024-06-05T07:29:03.646360Z"
    },
    "papermill": {
     "duration": 0.025004,
     "end_time": "2024-06-05T07:29:03.649832",
     "exception": false,
     "start_time": "2024-06-05T07:29:03.624828",
     "status": "completed"
    },
    "tags": []
   },
   "outputs": [
    {
     "data": {
      "text/plain": [
       "(1221327, 450)"
      ]
     },
     "execution_count": 22,
     "metadata": {},
     "output_type": "execute_result"
    }
   ],
   "source": [
    "X.shape"
   ]
  },
  {
   "cell_type": "code",
   "execution_count": 23,
   "id": "bec671fc",
   "metadata": {
    "execution": {
     "iopub.execute_input": "2024-06-05T07:29:03.744030Z",
     "iopub.status.busy": "2024-06-05T07:29:03.743639Z",
     "iopub.status.idle": "2024-06-05T07:29:03.750515Z",
     "shell.execute_reply": "2024-06-05T07:29:03.749332Z"
    },
    "papermill": {
     "duration": 0.08855,
     "end_time": "2024-06-05T07:29:03.752749",
     "exception": false,
     "start_time": "2024-06-05T07:29:03.664199",
     "status": "completed"
    },
    "tags": []
   },
   "outputs": [
    {
     "data": {
      "text/plain": [
       "(305332, 450)"
      ]
     },
     "execution_count": 23,
     "metadata": {},
     "output_type": "execute_result"
    }
   ],
   "source": [
    "X_test.shape"
   ]
  },
  {
   "cell_type": "markdown",
   "id": "75806c07",
   "metadata": {
    "papermill": {
     "duration": 0.014513,
     "end_time": "2024-06-05T07:29:03.781971",
     "exception": false,
     "start_time": "2024-06-05T07:29:03.767458",
     "status": "completed"
    },
    "tags": []
   },
   "source": [
    "##### Keep All Components"
   ]
  },
  {
   "cell_type": "code",
   "execution_count": 24,
   "id": "5b8ca72f",
   "metadata": {
    "execution": {
     "iopub.execute_input": "2024-06-05T07:29:03.812996Z",
     "iopub.status.busy": "2024-06-05T07:29:03.812600Z",
     "iopub.status.idle": "2024-06-05T07:41:16.927539Z",
     "shell.execute_reply": "2024-06-05T07:41:16.925390Z"
    },
    "papermill": {
     "duration": 733.146797,
     "end_time": "2024-06-05T07:41:16.943210",
     "exception": false,
     "start_time": "2024-06-05T07:29:03.796413",
     "status": "completed"
    },
    "tags": []
   },
   "outputs": [
    {
     "name": "stdout",
     "output_type": "stream",
     "text": [
      "LightGBM, Test: {'event_rate': 0.0005862471015157272, 'acc': 0.9686112166428674, 'precision': 0.4134078212290503, 'recall': 0.007746257720087931, 'f1': 0.015207562679819153, 'roc_auc': 0.8335269269042165, 'pr_auc': 0.15804038534566595, 'lift': 13.21329811279267}\"\n"
     ]
    }
   ],
   "source": [
    "lgb, lgb_pred, lgb_scores = Model_Utils.LightGBMClassifier_pred(X, y, X_test, y_test, cat_cols, params_lgb)\n",
    "with open('lgb_train_pca_num_all.joblib', 'wb') as f:\n",
    "    joblib.dump(lgb, f)"
   ]
  },
  {
   "cell_type": "code",
   "execution_count": 25,
   "id": "33d5747c",
   "metadata": {
    "execution": {
     "iopub.execute_input": "2024-06-05T07:41:16.975676Z",
     "iopub.status.busy": "2024-06-05T07:41:16.975254Z",
     "iopub.status.idle": "2024-06-05T07:57:15.800154Z",
     "shell.execute_reply": "2024-06-05T07:57:15.798681Z"
    },
    "papermill": {
     "duration": 958.84493,
     "end_time": "2024-06-05T07:57:15.803359",
     "exception": false,
     "start_time": "2024-06-05T07:41:16.958429",
     "status": "completed"
    },
    "tags": []
   },
   "outputs": [
    {
     "name": "stdout",
     "output_type": "stream",
     "text": [
      "CatBoost, Test: {'event_rate': 0.0006484744474866702, 'acc': 0.9686472430010611, 'precision': 0.4494949494949495, 'recall': 0.00931644509578143, 'f1': 0.018254537996102962, 'roc_auc': 0.8286195139951793, 'pr_auc': 0.1567560141917272, 'lift': 14.366711181743108}\"\n"
     ]
    }
   ],
   "source": [
    "clf, y_pred, cat_scores = Model_Utils.CatBoostClassifier_pred(X, y, X_test, y_test, cat_cols, params_catboost)\n",
    "with open('catboost_train_pca_num_all.joblib', 'wb') as f:\n",
    "    joblib.dump(clf, f)"
   ]
  },
  {
   "cell_type": "code",
   "execution_count": 26,
   "id": "806a11ae",
   "metadata": {
    "execution": {
     "iopub.execute_input": "2024-06-05T07:57:15.837264Z",
     "iopub.status.busy": "2024-06-05T07:57:15.836835Z",
     "iopub.status.idle": "2024-06-05T07:57:16.498456Z",
     "shell.execute_reply": "2024-06-05T07:57:16.497202Z"
    },
    "papermill": {
     "duration": 0.681924,
     "end_time": "2024-06-05T07:57:16.501672",
     "exception": false,
     "start_time": "2024-06-05T07:57:15.819748",
     "status": "completed"
    },
    "tags": []
   },
   "outputs": [],
   "source": [
    "model_save = id_test_val\n",
    "model_save['target'] = y_test\n",
    "model_save['catboost'] = cat_scores\n",
    "model_save['lgb'] = lgb_scores\n",
    "model_save.to_csv('Test_predictions_PCA_nums.csv', index = False)"
   ]
  },
  {
   "cell_type": "markdown",
   "id": "76c8f024",
   "metadata": {
    "papermill": {
     "duration": 0.014841,
     "end_time": "2024-06-05T07:57:16.537526",
     "exception": false,
     "start_time": "2024-06-05T07:57:16.522685",
     "status": "completed"
    },
    "tags": []
   },
   "source": [
    "#### Keep 99% Variance Explained"
   ]
  },
  {
   "cell_type": "code",
   "execution_count": 27,
   "id": "53ebbe07",
   "metadata": {
    "execution": {
     "iopub.execute_input": "2024-06-05T07:57:16.570303Z",
     "iopub.status.busy": "2024-06-05T07:57:16.569350Z",
     "iopub.status.idle": "2024-06-05T07:57:16.578201Z",
     "shell.execute_reply": "2024-06-05T07:57:16.576988Z"
    },
    "papermill": {
     "duration": 0.028127,
     "end_time": "2024-06-05T07:57:16.581064",
     "exception": false,
     "start_time": "2024-06-05T07:57:16.552937",
     "status": "completed"
    },
    "tags": []
   },
   "outputs": [
    {
     "name": "stdout",
     "output_type": "stream",
     "text": [
      "99\n"
     ]
    }
   ],
   "source": [
    "pca_cols = list(pca_var[pca_var['cum_explained_var']>0.99]['feature'])\n",
    "cols = [x for x in X.columns if x not in pca_cols]\n",
    "print(len(pca_cols))"
   ]
  },
  {
   "cell_type": "code",
   "execution_count": 28,
   "id": "f0381467",
   "metadata": {
    "execution": {
     "iopub.execute_input": "2024-06-05T07:57:16.614435Z",
     "iopub.status.busy": "2024-06-05T07:57:16.612938Z",
     "iopub.status.idle": "2024-06-05T08:15:06.600072Z",
     "shell.execute_reply": "2024-06-05T08:15:06.598510Z"
    },
    "papermill": {
     "duration": 1070.023739,
     "end_time": "2024-06-05T08:15:06.619908",
     "exception": false,
     "start_time": "2024-06-05T07:57:16.596169",
     "status": "completed"
    },
    "tags": []
   },
   "outputs": [
    {
     "name": "stdout",
     "output_type": "stream",
     "text": [
      "LightGBM, Test: {'event_rate': 0.0005076441381840095, 'acc': 0.9686374176306447, 'precision': 0.4258064516129032, 'recall': 0.006908824453051398, 'f1': 0.013597033374536464, 'roc_auc': 0.8289495542206973, 'pr_auc': 0.15497808474366911, 'lift': 13.609581857413481}\"\n"
     ]
    }
   ],
   "source": [
    "lgb, lgb_pred, lgb_scores = Model_Utils.LightGBMClassifier_pred(X[cols], y, X_test[cols], y_test, cat_cols, params_lgb)\n",
    "with open('lgb_train_pca_num_99.joblib', 'wb') as f:\n",
    "    joblib.dump(lgb, f)"
   ]
  },
  {
   "cell_type": "code",
   "execution_count": 29,
   "id": "3fff242c",
   "metadata": {
    "execution": {
     "iopub.execute_input": "2024-06-05T08:15:06.654430Z",
     "iopub.status.busy": "2024-06-05T08:15:06.653880Z",
     "iopub.status.idle": "2024-06-05T08:28:08.236982Z",
     "shell.execute_reply": "2024-06-05T08:28:08.235526Z"
    },
    "papermill": {
     "duration": 781.604154,
     "end_time": "2024-06-05T08:28:08.240153",
     "exception": false,
     "start_time": "2024-06-05T08:15:06.635999",
     "status": "completed"
    },
    "tags": []
   },
   "outputs": [
    {
     "name": "stdout",
     "output_type": "stream",
     "text": [
      "CatBoost, Test: {'event_rate': 0.0005993475954043468, 'acc': 0.968624317136756, 'precision': 0.4262295081967213, 'recall': 0.008164974353606197, 'f1': 0.01602300739523418, 'roc_auc': 0.8249797466926883, 'pr_auc': 0.15349092660422564, 'lift': 13.623103548280257}\"\n"
     ]
    }
   ],
   "source": [
    "clf, y_pred, cat_scores = Model_Utils.CatBoostClassifier_pred(X[cols], y, X_test[cols], y_test, cat_cols, params_catboost)\n",
    "with open('catboost_train_pca_num_99.joblib', 'wb') as f:\n",
    "    joblib.dump(clf, f)"
   ]
  },
  {
   "cell_type": "code",
   "execution_count": 30,
   "id": "c51a00d6",
   "metadata": {
    "execution": {
     "iopub.execute_input": "2024-06-05T08:28:08.272200Z",
     "iopub.status.busy": "2024-06-05T08:28:08.271810Z",
     "iopub.status.idle": "2024-06-05T08:28:08.886646Z",
     "shell.execute_reply": "2024-06-05T08:28:08.885480Z"
    },
    "papermill": {
     "duration": 0.634018,
     "end_time": "2024-06-05T08:28:08.889202",
     "exception": false,
     "start_time": "2024-06-05T08:28:08.255184",
     "status": "completed"
    },
    "tags": []
   },
   "outputs": [],
   "source": [
    "model_save = id_test_val\n",
    "model_save['target'] = y_test\n",
    "model_save['catboost'] = cat_scores\n",
    "model_save['lgb'] = lgb_scores\n",
    "model_save.to_csv('Test_predictions_PCA_nums_99.csv', index = False)"
   ]
  },
  {
   "cell_type": "markdown",
   "id": "24c05241",
   "metadata": {
    "papermill": {
     "duration": 0.01517,
     "end_time": "2024-06-05T08:28:08.919499",
     "exception": false,
     "start_time": "2024-06-05T08:28:08.904329",
     "status": "completed"
    },
    "tags": []
   },
   "source": [
    "#### Keep 95% of Variance Explained"
   ]
  },
  {
   "cell_type": "code",
   "execution_count": 31,
   "id": "87a55d0c",
   "metadata": {
    "execution": {
     "iopub.execute_input": "2024-06-05T08:28:08.951873Z",
     "iopub.status.busy": "2024-06-05T08:28:08.951079Z",
     "iopub.status.idle": "2024-06-05T08:28:08.963124Z",
     "shell.execute_reply": "2024-06-05T08:28:08.961974Z"
    },
    "papermill": {
     "duration": 0.030936,
     "end_time": "2024-06-05T08:28:08.965630",
     "exception": false,
     "start_time": "2024-06-05T08:28:08.934694",
     "status": "completed"
    },
    "tags": []
   },
   "outputs": [
    {
     "name": "stdout",
     "output_type": "stream",
     "text": [
      "165\n"
     ]
    }
   ],
   "source": [
    "pca_cols = list(pca_var[pca_var['cum_explained_var']>0.95]['feature'])\n",
    "cols = [x for x in X.columns if x not in pca_cols]\n",
    "print(len(pca_cols))"
   ]
  },
  {
   "cell_type": "code",
   "execution_count": 32,
   "id": "267b4de3",
   "metadata": {
    "execution": {
     "iopub.execute_input": "2024-06-05T08:28:08.998658Z",
     "iopub.status.busy": "2024-06-05T08:28:08.998205Z",
     "iopub.status.idle": "2024-06-05T08:42:11.844807Z",
     "shell.execute_reply": "2024-06-05T08:42:11.843642Z"
    },
    "papermill": {
     "duration": 842.881211,
     "end_time": "2024-06-05T08:42:11.862341",
     "exception": false,
     "start_time": "2024-06-05T08:28:08.981130",
     "status": "completed"
    },
    "tags": []
   },
   "outputs": [
    {
     "name": "stdout",
     "output_type": "stream",
     "text": [
      "LightGBM, Test: {'event_rate': 0.0005502207433220232, 'acc': 0.9685620897907851, 'precision': 0.3630952380952381, 'recall': 0.0063854286611535645, 'f1': 0.01255014916160889, 'roc_auc': 0.8273990180540084, 'pr_auc': 0.15340229440004574, 'lift': 11.605212523615121}\"\n"
     ]
    }
   ],
   "source": [
    "lgb, lgb_pred, lgb_scores = Model_Utils.LightGBMClassifier_pred(X[cols], y, X_test[cols], y_test, cat_cols, params_lgb)\n",
    "with open('lgb_train_pca_num_95.joblib', 'wb') as f:\n",
    "    joblib.dump(lgb, f)"
   ]
  },
  {
   "cell_type": "code",
   "execution_count": 33,
   "id": "492c94bc",
   "metadata": {
    "execution": {
     "iopub.execute_input": "2024-06-05T08:42:11.897031Z",
     "iopub.status.busy": "2024-06-05T08:42:11.896593Z",
     "iopub.status.idle": "2024-06-05T08:53:09.018749Z",
     "shell.execute_reply": "2024-06-05T08:53:09.017508Z"
    },
    "papermill": {
     "duration": 657.14323,
     "end_time": "2024-06-05T08:53:09.021403",
     "exception": false,
     "start_time": "2024-06-05T08:42:11.878173",
     "status": "completed"
    },
    "tags": []
   },
   "outputs": [
    {
     "name": "stdout",
     "output_type": "stream",
     "text": [
      "CatBoost, Test: {'event_rate': 0.0005534958667941782, 'acc': 0.968624317136756, 'precision': 0.42011834319526625, 'recall': 0.007432220244949231, 'f1': 0.01460604813824316, 'roc_auc': 0.8227388548404011, 'pr_auc': 0.1523701208193661, 'lift': 13.427779123259398}\"\n"
     ]
    }
   ],
   "source": [
    "clf, y_pred, cat_scores = Model_Utils.CatBoostClassifier_pred(X[cols], y, X_test[cols], y_test, cat_cols, params_catboost)\n",
    "with open('catboost_train_pca_num_95.joblib', 'wb') as f:\n",
    "    joblib.dump(clf, f)"
   ]
  },
  {
   "cell_type": "code",
   "execution_count": 34,
   "id": "443b4173",
   "metadata": {
    "execution": {
     "iopub.execute_input": "2024-06-05T08:53:09.055273Z",
     "iopub.status.busy": "2024-06-05T08:53:09.054860Z",
     "iopub.status.idle": "2024-06-05T08:53:09.639619Z",
     "shell.execute_reply": "2024-06-05T08:53:09.638260Z"
    },
    "papermill": {
     "duration": 0.604478,
     "end_time": "2024-06-05T08:53:09.642292",
     "exception": false,
     "start_time": "2024-06-05T08:53:09.037814",
     "status": "completed"
    },
    "tags": []
   },
   "outputs": [],
   "source": [
    "model_save = id_test_val\n",
    "model_save['target'] = y_test\n",
    "model_save['catboost'] = cat_scores\n",
    "model_save['lgb'] = lgb_scores\n",
    "model_save.to_csv('Test_predictions_PCA_nums_95.csv', index = False)"
   ]
  },
  {
   "cell_type": "markdown",
   "id": "9e0c47d2",
   "metadata": {
    "papermill": {
     "duration": 0.015324,
     "end_time": "2024-06-05T08:53:09.673478",
     "exception": false,
     "start_time": "2024-06-05T08:53:09.658154",
     "status": "completed"
    },
    "tags": []
   },
   "source": [
    "#### Keep 90% of Variance Explained"
   ]
  },
  {
   "cell_type": "code",
   "execution_count": 35,
   "id": "b6a1f3ca",
   "metadata": {
    "execution": {
     "iopub.execute_input": "2024-06-05T08:53:09.708943Z",
     "iopub.status.busy": "2024-06-05T08:53:09.708273Z",
     "iopub.status.idle": "2024-06-05T08:53:09.717790Z",
     "shell.execute_reply": "2024-06-05T08:53:09.716606Z"
    },
    "papermill": {
     "duration": 0.030698,
     "end_time": "2024-06-05T08:53:09.720205",
     "exception": false,
     "start_time": "2024-06-05T08:53:09.689507",
     "status": "completed"
    },
    "tags": []
   },
   "outputs": [
    {
     "name": "stdout",
     "output_type": "stream",
     "text": [
      "205\n"
     ]
    }
   ],
   "source": [
    "pca_cols = list(pca_var[pca_var['cum_explained_var']>0.90]['feature'])\n",
    "cols = [x for x in X.columns if x not in pca_cols]\n",
    "print(len(pca_cols))"
   ]
  },
  {
   "cell_type": "code",
   "execution_count": 36,
   "id": "4d23da86",
   "metadata": {
    "execution": {
     "iopub.execute_input": "2024-06-05T08:53:09.754959Z",
     "iopub.status.busy": "2024-06-05T08:53:09.754146Z",
     "iopub.status.idle": "2024-06-05T09:04:56.624352Z",
     "shell.execute_reply": "2024-06-05T09:04:56.623023Z"
    },
    "papermill": {
     "duration": 706.905504,
     "end_time": "2024-06-05T09:04:56.642418",
     "exception": false,
     "start_time": "2024-06-05T08:53:09.736914",
     "status": "completed"
    },
    "tags": []
   },
   "outputs": [
    {
     "name": "stdout",
     "output_type": "stream",
     "text": [
      "LightGBM, Test: {'event_rate': 0.0005600461137384879, 'acc': 0.9685981161489788, 'precision': 0.39766081871345027, 'recall': 0.007118182769810531, 'f1': 0.013986013986013986, 'roc_auc': 0.8258763321302725, 'pr_auc': 0.1529388163661713, 'lift': 12.709994043694673}\"\n"
     ]
    }
   ],
   "source": [
    "lgb, lgb_pred, lgb_scores = Model_Utils.LightGBMClassifier_pred(X[cols], y, X_test[cols], y_test, cat_cols, params_lgb)\n",
    "with open('lgb_train_pca_num_90.joblib', 'wb') as f:\n",
    "    joblib.dump(lgb, f)"
   ]
  },
  {
   "cell_type": "code",
   "execution_count": 37,
   "id": "4d3f885c",
   "metadata": {
    "execution": {
     "iopub.execute_input": "2024-06-05T09:04:56.676160Z",
     "iopub.status.busy": "2024-06-05T09:04:56.675761Z",
     "iopub.status.idle": "2024-06-05T09:14:36.832124Z",
     "shell.execute_reply": "2024-06-05T09:14:36.830823Z"
    },
    "papermill": {
     "duration": 580.176339,
     "end_time": "2024-06-05T09:14:36.835012",
     "exception": false,
     "start_time": "2024-06-05T09:04:56.658673",
     "status": "completed"
    },
    "tags": []
   },
   "outputs": [
    {
     "name": "stdout",
     "output_type": "stream",
     "text": [
      "CatBoost, Test: {'event_rate': 0.0005469456198498683, 'acc': 0.968624317136756, 'precision': 0.41916167664670656, 'recall': 0.007327541086569664, 'f1': 0.014403292181069957, 'roc_auc': 0.8215957183258102, 'pr_auc': 0.15165925834081678, 'lift': 13.39720224577538}\"\n"
     ]
    }
   ],
   "source": [
    "clf, y_pred, cat_scores = Model_Utils.CatBoostClassifier_pred(X[cols], y, X_test[cols], y_test, cat_cols, params_catboost)\n",
    "with open('catboost_train_pca_num_90.joblib', 'wb') as f:\n",
    "    joblib.dump(clf, f)"
   ]
  },
  {
   "cell_type": "code",
   "execution_count": 38,
   "id": "3841feef",
   "metadata": {
    "execution": {
     "iopub.execute_input": "2024-06-05T09:14:36.869975Z",
     "iopub.status.busy": "2024-06-05T09:14:36.869517Z",
     "iopub.status.idle": "2024-06-05T09:14:37.462286Z",
     "shell.execute_reply": "2024-06-05T09:14:37.461122Z"
    },
    "papermill": {
     "duration": 0.613745,
     "end_time": "2024-06-05T09:14:37.465150",
     "exception": false,
     "start_time": "2024-06-05T09:14:36.851405",
     "status": "completed"
    },
    "tags": []
   },
   "outputs": [],
   "source": [
    "model_save = id_test_val\n",
    "model_save['target'] = y_test\n",
    "model_save['catboost'] = cat_scores\n",
    "model_save['lgb'] = lgb_scores\n",
    "model_save.to_csv('Test_predictions_PCA_nums_90.csv', index = False)"
   ]
  },
  {
   "cell_type": "markdown",
   "id": "7d978e89",
   "metadata": {
    "papermill": {
     "duration": 0.017022,
     "end_time": "2024-06-05T09:14:37.500942",
     "exception": false,
     "start_time": "2024-06-05T09:14:37.483920",
     "status": "completed"
    },
    "tags": []
   },
   "source": [
    "#### Keep 85% of Variance Explained"
   ]
  },
  {
   "cell_type": "code",
   "execution_count": 39,
   "id": "3646c27c",
   "metadata": {
    "execution": {
     "iopub.execute_input": "2024-06-05T09:14:37.535783Z",
     "iopub.status.busy": "2024-06-05T09:14:37.535355Z",
     "iopub.status.idle": "2024-06-05T09:14:37.544757Z",
     "shell.execute_reply": "2024-06-05T09:14:37.543559Z"
    },
    "papermill": {
     "duration": 0.030298,
     "end_time": "2024-06-05T09:14:37.547164",
     "exception": false,
     "start_time": "2024-06-05T09:14:37.516866",
     "status": "completed"
    },
    "tags": []
   },
   "outputs": [
    {
     "name": "stdout",
     "output_type": "stream",
     "text": [
      "231\n"
     ]
    }
   ],
   "source": [
    "pca_cols = list(pca_var[pca_var['cum_explained_var']>0.85]['feature'])\n",
    "cols = [x for x in X.columns if x not in pca_cols]\n",
    "print(len(pca_cols))"
   ]
  },
  {
   "cell_type": "code",
   "execution_count": 40,
   "id": "3408fbbf",
   "metadata": {
    "execution": {
     "iopub.execute_input": "2024-06-05T09:14:37.583431Z",
     "iopub.status.busy": "2024-06-05T09:14:37.582635Z",
     "iopub.status.idle": "2024-06-05T09:24:52.985166Z",
     "shell.execute_reply": "2024-06-05T09:24:52.983634Z"
    },
    "papermill": {
     "duration": 615.440678,
     "end_time": "2024-06-05T09:24:53.004543",
     "exception": false,
     "start_time": "2024-06-05T09:14:37.563865",
     "status": "completed"
    },
    "tags": []
   },
   "outputs": [
    {
     "name": "stdout",
     "output_type": "stream",
     "text": [
      "LightGBM, Test: {'event_rate': 0.0005665963606827977, 'acc': 0.9685981161489788, 'precision': 0.3988439306358382, 'recall': 0.007222861928190097, 'f1': 0.01418877236273905, 'roc_auc': 0.825236673704313, 'pr_auc': 0.15239733752012433, 'lift': 12.747808544844734}\"\n"
     ]
    }
   ],
   "source": [
    "lgb, lgb_pred, lgb_scores = Model_Utils.LightGBMClassifier_pred(X[cols], y, X_test[cols], y_test, cat_cols, params_lgb)\n",
    "with open('lgb_train_pca_num_85.joblib', 'wb') as f:\n",
    "    joblib.dump(lgb, f)"
   ]
  },
  {
   "cell_type": "code",
   "execution_count": 41,
   "id": "c1c9e633",
   "metadata": {
    "execution": {
     "iopub.execute_input": "2024-06-05T09:24:53.040123Z",
     "iopub.status.busy": "2024-06-05T09:24:53.039362Z",
     "iopub.status.idle": "2024-06-05T09:33:55.563459Z",
     "shell.execute_reply": "2024-06-05T09:33:55.561741Z"
    },
    "papermill": {
     "duration": 542.545125,
     "end_time": "2024-06-05T09:33:55.566430",
     "exception": false,
     "start_time": "2024-06-05T09:24:53.021305",
     "status": "completed"
    },
    "tags": []
   },
   "outputs": [
    {
     "name": "stdout",
     "output_type": "stream",
     "text": [
      "CatBoost, Test: {'event_rate': 0.0005829719780435723, 'acc': 0.9686537932480055, 'precision': 0.449438202247191, 'recall': 0.008374332670365331, 'f1': 0.016442297811119104, 'roc_auc': 0.8208139604170666, 'pr_auc': 0.15053817119774504, 'lift': 14.364897432067343}\"\n"
     ]
    }
   ],
   "source": [
    "clf, y_pred, cat_scores = Model_Utils.CatBoostClassifier_pred(X[cols], y, X_test[cols], y_test, cat_cols, params_catboost)\n",
    "with open('catboost_train_pca_num_85.joblib', 'wb') as f:\n",
    "    joblib.dump(clf, f)"
   ]
  },
  {
   "cell_type": "code",
   "execution_count": 42,
   "id": "0a955656",
   "metadata": {
    "execution": {
     "iopub.execute_input": "2024-06-05T09:33:55.602454Z",
     "iopub.status.busy": "2024-06-05T09:33:55.602046Z",
     "iopub.status.idle": "2024-06-05T09:33:56.188775Z",
     "shell.execute_reply": "2024-06-05T09:33:56.187597Z"
    },
    "papermill": {
     "duration": 0.608046,
     "end_time": "2024-06-05T09:33:56.191516",
     "exception": false,
     "start_time": "2024-06-05T09:33:55.583470",
     "status": "completed"
    },
    "tags": []
   },
   "outputs": [],
   "source": [
    "model_save = id_test_val\n",
    "model_save['target'] = y_test\n",
    "model_save['catboost'] = cat_scores\n",
    "model_save['lgb'] = lgb_scores\n",
    "model_save.to_csv('Test_predictions_PCA_nums_85.csv', index = False)"
   ]
  },
  {
   "cell_type": "markdown",
   "id": "484f89d5",
   "metadata": {
    "papermill": {
     "duration": 0.016205,
     "end_time": "2024-06-05T09:33:56.224654",
     "exception": false,
     "start_time": "2024-06-05T09:33:56.208449",
     "status": "completed"
    },
    "tags": []
   },
   "source": [
    "#### Keep 80% of Variance Explained"
   ]
  },
  {
   "cell_type": "code",
   "execution_count": 43,
   "id": "8699b5aa",
   "metadata": {
    "execution": {
     "iopub.execute_input": "2024-06-05T09:33:56.259133Z",
     "iopub.status.busy": "2024-06-05T09:33:56.258739Z",
     "iopub.status.idle": "2024-06-05T09:33:56.267932Z",
     "shell.execute_reply": "2024-06-05T09:33:56.266647Z"
    },
    "papermill": {
     "duration": 0.029564,
     "end_time": "2024-06-05T09:33:56.270523",
     "exception": false,
     "start_time": "2024-06-05T09:33:56.240959",
     "status": "completed"
    },
    "tags": []
   },
   "outputs": [
    {
     "name": "stdout",
     "output_type": "stream",
     "text": [
      "252\n"
     ]
    }
   ],
   "source": [
    "pca_cols = list(pca_var[pca_var['cum_explained_var']>0.80]['feature'])\n",
    "cols = [x for x in X.columns if x not in pca_cols]\n",
    "print(len(pca_cols))"
   ]
  },
  {
   "cell_type": "code",
   "execution_count": 44,
   "id": "c0704bea",
   "metadata": {
    "execution": {
     "iopub.execute_input": "2024-06-05T09:33:56.306162Z",
     "iopub.status.busy": "2024-06-05T09:33:56.305771Z",
     "iopub.status.idle": "2024-06-05T09:43:12.001379Z",
     "shell.execute_reply": "2024-06-05T09:43:12.000026Z"
    },
    "papermill": {
     "duration": 555.733924,
     "end_time": "2024-06-05T09:43:12.020943",
     "exception": false,
     "start_time": "2024-06-05T09:33:56.287019",
     "status": "completed"
    },
    "tags": []
   },
   "outputs": [
    {
     "name": "stdout",
     "output_type": "stream",
     "text": [
      "LightGBM, Test: {'event_rate': 0.0004323162983244468, 'acc': 0.9686603434949498, 'precision': 0.4393939393939394, 'recall': 0.006071391186014865, 'f1': 0.011977284460505938, 'roc_auc': 0.8246590465070947, 'pr_auc': 0.15219813877222965, 'lift': 14.043863739456748}\"\n"
     ]
    }
   ],
   "source": [
    "lgb, lgb_pred, lgb_scores = Model_Utils.LightGBMClassifier_pred(X[cols], y, X_test[cols], y_test, cat_cols, params_lgb)\n",
    "with open('lgb_train_pca_num_80.joblib', 'wb') as f:\n",
    "    joblib.dump(lgb, f)"
   ]
  },
  {
   "cell_type": "code",
   "execution_count": 45,
   "id": "2f8aa1b6",
   "metadata": {
    "execution": {
     "iopub.execute_input": "2024-06-05T09:43:12.290773Z",
     "iopub.status.busy": "2024-06-05T09:43:12.290326Z",
     "iopub.status.idle": "2024-06-05T09:51:35.203236Z",
     "shell.execute_reply": "2024-06-05T09:51:35.201926Z"
    },
    "papermill": {
     "duration": 503.168016,
     "end_time": "2024-06-05T09:51:35.206053",
     "exception": false,
     "start_time": "2024-06-05T09:43:12.038037",
     "status": "completed"
    },
    "tags": []
   },
   "outputs": [
    {
     "name": "stdout",
     "output_type": "stream",
     "text": [
      "CatBoost, Test: {'event_rate': 0.0005305700024890938, 'acc': 0.9686079415193953, 'precision': 0.4012345679012346, 'recall': 0.0068041452946718305, 'f1': 0.013381369016984045, 'roc_auc': 0.8208317270550963, 'pr_auc': 0.1504323142545413, 'lift': 12.824217846374934}\"\n"
     ]
    }
   ],
   "source": [
    "clf, y_pred, cat_scores = Model_Utils.CatBoostClassifier_pred(X[cols], y, X_test[cols], y_test, cat_cols, params_catboost)\n",
    "with open('catboost_train_pca_num_80.joblib', 'wb') as f:\n",
    "    joblib.dump(clf, f)"
   ]
  },
  {
   "cell_type": "code",
   "execution_count": 46,
   "id": "cdebdfc8",
   "metadata": {
    "execution": {
     "iopub.execute_input": "2024-06-05T09:51:35.244689Z",
     "iopub.status.busy": "2024-06-05T09:51:35.243538Z",
     "iopub.status.idle": "2024-06-05T09:51:35.841911Z",
     "shell.execute_reply": "2024-06-05T09:51:35.840080Z"
    },
    "papermill": {
     "duration": 0.621474,
     "end_time": "2024-06-05T09:51:35.844808",
     "exception": false,
     "start_time": "2024-06-05T09:51:35.223334",
     "status": "completed"
    },
    "tags": []
   },
   "outputs": [],
   "source": [
    "model_save = id_test_val\n",
    "model_save['target'] = y_test\n",
    "model_save['catboost'] = cat_scores\n",
    "model_save['lgb'] = lgb_scores\n",
    "model_save.to_csv('Test_predictions_PCA_nums_80.csv', index = False)"
   ]
  },
  {
   "cell_type": "markdown",
   "id": "d7312b2f",
   "metadata": {
    "papermill": {
     "duration": 0.017272,
     "end_time": "2024-06-05T09:51:35.879245",
     "exception": false,
     "start_time": "2024-06-05T09:51:35.861973",
     "status": "completed"
    },
    "tags": []
   },
   "source": [
    "#### Keep 70% of Variance Explained"
   ]
  },
  {
   "cell_type": "code",
   "execution_count": 47,
   "id": "7010d629",
   "metadata": {
    "execution": {
     "iopub.execute_input": "2024-06-05T09:51:35.916536Z",
     "iopub.status.busy": "2024-06-05T09:51:35.916152Z",
     "iopub.status.idle": "2024-06-05T09:51:35.925259Z",
     "shell.execute_reply": "2024-06-05T09:51:35.924147Z"
    },
    "papermill": {
     "duration": 0.03093,
     "end_time": "2024-06-05T09:51:35.928322",
     "exception": false,
     "start_time": "2024-06-05T09:51:35.897392",
     "status": "completed"
    },
    "tags": []
   },
   "outputs": [
    {
     "name": "stdout",
     "output_type": "stream",
     "text": [
      "286\n"
     ]
    }
   ],
   "source": [
    "pca_cols = list(pca_var[pca_var['cum_explained_var']>0.70]['feature'])\n",
    "cols = [x for x in X.columns if x not in pca_cols]\n",
    "print(len(pca_cols))"
   ]
  },
  {
   "cell_type": "code",
   "execution_count": 48,
   "id": "1a2b1ad9",
   "metadata": {
    "execution": {
     "iopub.execute_input": "2024-06-05T09:51:35.965705Z",
     "iopub.status.busy": "2024-06-05T09:51:35.965262Z",
     "iopub.status.idle": "2024-06-05T09:58:55.107683Z",
     "shell.execute_reply": "2024-06-05T09:58:55.106464Z"
    },
    "papermill": {
     "duration": 439.180872,
     "end_time": "2024-06-05T09:58:55.127438",
     "exception": false,
     "start_time": "2024-06-05T09:51:35.946566",
     "status": "completed"
    },
    "tags": []
   },
   "outputs": [
    {
     "name": "stdout",
     "output_type": "stream",
     "text": [
      "LightGBM, Test: {'event_rate': 0.0004847182738789252, 'acc': 0.9686144917663396, 'precision': 0.39864864864864863, 'recall': 0.006176070344394431, 'f1': 0.012163694464488197, 'roc_auc': 0.8232146235422764, 'pr_auc': 0.15114865075017725, 'lift': 12.74156696212595}\"\n"
     ]
    }
   ],
   "source": [
    "lgb, lgb_pred, lgb_scores = Model_Utils.LightGBMClassifier_pred(X[cols], y, X_test[cols], y_test, cat_cols, params_lgb)\n",
    "with open('lgb_train_pca_num_70.joblib', 'wb') as f:\n",
    "    joblib.dump(lgb, f)"
   ]
  },
  {
   "cell_type": "code",
   "execution_count": 49,
   "id": "9289e40f",
   "metadata": {
    "execution": {
     "iopub.execute_input": "2024-06-05T09:58:55.164592Z",
     "iopub.status.busy": "2024-06-05T09:58:55.164194Z",
     "iopub.status.idle": "2024-06-05T10:05:53.740698Z",
     "shell.execute_reply": "2024-06-05T10:05:53.739527Z"
    },
    "papermill": {
     "duration": 418.598157,
     "end_time": "2024-06-05T10:05:53.743395",
     "exception": false,
     "start_time": "2024-06-05T09:58:55.145238",
     "status": "completed"
    },
    "tags": []
   },
   "outputs": [
    {
     "name": "stdout",
     "output_type": "stream",
     "text": [
      "CatBoost, Test: {'event_rate': 0.00048799339735108014, 'acc': 0.9686046663959231, 'precision': 0.38926174496644295, 'recall': 0.006071391186014865, 'f1': 0.011956297670583387, 'roc_auc': 0.8195584638344496, 'pr_auc': 0.14935120270064972, 'lift': 12.441543715491884}\"\n"
     ]
    }
   ],
   "source": [
    "clf, y_pred, cat_scores = Model_Utils.CatBoostClassifier_pred(X[cols], y, X_test[cols], y_test, cat_cols, params_catboost)\n",
    "with open('catboost_train_pca_num_70.joblib', 'wb') as f:\n",
    "    joblib.dump(clf, f)"
   ]
  },
  {
   "cell_type": "code",
   "execution_count": 50,
   "id": "5a86dc4a",
   "metadata": {
    "execution": {
     "iopub.execute_input": "2024-06-05T10:05:53.779717Z",
     "iopub.status.busy": "2024-06-05T10:05:53.779254Z",
     "iopub.status.idle": "2024-06-05T10:05:54.367152Z",
     "shell.execute_reply": "2024-06-05T10:05:54.365929Z"
    },
    "papermill": {
     "duration": 0.609186,
     "end_time": "2024-06-05T10:05:54.369918",
     "exception": false,
     "start_time": "2024-06-05T10:05:53.760732",
     "status": "completed"
    },
    "tags": []
   },
   "outputs": [],
   "source": [
    "model_save = id_test_val\n",
    "model_save['target'] = y_test\n",
    "model_save['catboost'] = cat_scores\n",
    "model_save['lgb'] = lgb_scores\n",
    "model_save.to_csv('Test_predictions_PCA_nums_70.csv', index = False)"
   ]
  },
  {
   "cell_type": "markdown",
   "id": "b4ebee6c",
   "metadata": {
    "papermill": {
     "duration": 0.017133,
     "end_time": "2024-06-05T10:05:54.404439",
     "exception": false,
     "start_time": "2024-06-05T10:05:54.387306",
     "status": "completed"
    },
    "tags": []
   },
   "source": [
    "#### Keep 60% of Variance Explained"
   ]
  },
  {
   "cell_type": "code",
   "execution_count": 51,
   "id": "c1eb29a9",
   "metadata": {
    "execution": {
     "iopub.execute_input": "2024-06-05T10:05:54.440527Z",
     "iopub.status.busy": "2024-06-05T10:05:54.440134Z",
     "iopub.status.idle": "2024-06-05T10:05:54.449449Z",
     "shell.execute_reply": "2024-06-05T10:05:54.448294Z"
    },
    "papermill": {
     "duration": 0.030033,
     "end_time": "2024-06-05T10:05:54.451666",
     "exception": false,
     "start_time": "2024-06-05T10:05:54.421633",
     "status": "completed"
    },
    "tags": []
   },
   "outputs": [
    {
     "name": "stdout",
     "output_type": "stream",
     "text": [
      "310\n"
     ]
    }
   ],
   "source": [
    "pca_cols = list(pca_var[pca_var['cum_explained_var']>0.60]['feature'])\n",
    "cols = [x for x in X.columns if x not in pca_cols]\n",
    "print(len(pca_cols))"
   ]
  },
  {
   "cell_type": "code",
   "execution_count": 52,
   "id": "9ecd794d",
   "metadata": {
    "execution": {
     "iopub.execute_input": "2024-06-05T10:05:54.489335Z",
     "iopub.status.busy": "2024-06-05T10:05:54.488904Z",
     "iopub.status.idle": "2024-06-05T10:11:46.879037Z",
     "shell.execute_reply": "2024-06-05T10:11:46.877824Z"
    },
    "papermill": {
     "duration": 352.430549,
     "end_time": "2024-06-05T10:11:46.899703",
     "exception": false,
     "start_time": "2024-06-05T10:05:54.469154",
     "status": "completed"
    },
    "tags": []
   },
   "outputs": [
    {
     "name": "stdout",
     "output_type": "stream",
     "text": [
      "LightGBM, Test: {'event_rate': 0.00042249092790798214, 'acc': 0.9686898196061992, 'precision': 0.4728682170542636, 'recall': 0.0063854286611535645, 'f1': 0.012600702334228466, 'roc_auc': 0.8222818338151927, 'pr_auc': 0.149612670395037, 'lift': 15.113765147033645}\"\n"
     ]
    }
   ],
   "source": [
    "lgb, lgb_pred, lgb_scores = Model_Utils.LightGBMClassifier_pred(X[cols], y, X_test[cols], y_test, cat_cols, params_lgb)\n",
    "with open('lgb_train_pca_num_60.joblib', 'wb') as f:\n",
    "    joblib.dump(lgb, f)"
   ]
  },
  {
   "cell_type": "code",
   "execution_count": 53,
   "id": "3cd9b5e2",
   "metadata": {
    "execution": {
     "iopub.execute_input": "2024-06-05T10:11:46.937312Z",
     "iopub.status.busy": "2024-06-05T10:11:46.936922Z",
     "iopub.status.idle": "2024-06-05T10:18:01.416508Z",
     "shell.execute_reply": "2024-06-05T10:18:01.415192Z"
    },
    "papermill": {
     "duration": 374.502567,
     "end_time": "2024-06-05T10:18:01.419683",
     "exception": false,
     "start_time": "2024-06-05T10:11:46.917116",
     "status": "completed"
    },
    "tags": []
   },
   "outputs": [
    {
     "name": "stdout",
     "output_type": "stream",
     "text": [
      "CatBoost, Test: {'event_rate': 0.0004552421626295311, 'acc': 0.9686177668898117, 'precision': 0.39568345323741005, 'recall': 0.005757353710876164, 'f1': 0.011349566652909615, 'roc_auc': 0.8171393411153474, 'pr_auc': 0.1466035173781538, 'lift': 12.646793692440584}\"\n"
     ]
    }
   ],
   "source": [
    "clf, y_pred, cat_scores = Model_Utils.CatBoostClassifier_pred(X[cols], y, X_test[cols], y_test, cat_cols, params_catboost)\n",
    "with open('catboost_train_pca_num_60.joblib', 'wb') as f:\n",
    "    joblib.dump(clf, f)"
   ]
  },
  {
   "cell_type": "code",
   "execution_count": 54,
   "id": "60e2c4da",
   "metadata": {
    "execution": {
     "iopub.execute_input": "2024-06-05T10:18:01.457260Z",
     "iopub.status.busy": "2024-06-05T10:18:01.456864Z",
     "iopub.status.idle": "2024-06-05T10:18:02.049406Z",
     "shell.execute_reply": "2024-06-05T10:18:02.048105Z"
    },
    "papermill": {
     "duration": 0.614274,
     "end_time": "2024-06-05T10:18:02.052284",
     "exception": false,
     "start_time": "2024-06-05T10:18:01.438010",
     "status": "completed"
    },
    "tags": []
   },
   "outputs": [],
   "source": [
    "model_save = id_test_val\n",
    "model_save['target'] = y_test\n",
    "model_save['catboost'] = cat_scores\n",
    "model_save['lgb'] = lgb_scores\n",
    "model_save.to_csv('Test_predictions_PCA_nums_60.csv', index = False)"
   ]
  },
  {
   "cell_type": "markdown",
   "id": "85463d17",
   "metadata": {
    "papermill": {
     "duration": 0.017862,
     "end_time": "2024-06-05T10:18:02.089114",
     "exception": false,
     "start_time": "2024-06-05T10:18:02.071252",
     "status": "completed"
    },
    "tags": []
   },
   "source": [
    "#### Keep 50% of Variance Explained"
   ]
  },
  {
   "cell_type": "code",
   "execution_count": 55,
   "id": "c2b0ea18",
   "metadata": {
    "execution": {
     "iopub.execute_input": "2024-06-05T10:18:02.126303Z",
     "iopub.status.busy": "2024-06-05T10:18:02.125586Z",
     "iopub.status.idle": "2024-06-05T10:18:02.137925Z",
     "shell.execute_reply": "2024-06-05T10:18:02.136680Z"
    },
    "papermill": {
     "duration": 0.033577,
     "end_time": "2024-06-05T10:18:02.140390",
     "exception": false,
     "start_time": "2024-06-05T10:18:02.106813",
     "status": "completed"
    },
    "tags": []
   },
   "outputs": [
    {
     "name": "stdout",
     "output_type": "stream",
     "text": [
      "328\n"
     ]
    }
   ],
   "source": [
    "pca_cols = list(pca_var[pca_var['cum_explained_var']>0.50]['feature'])\n",
    "cols = [x for x in X.columns if x not in pca_cols]\n",
    "print(len(pca_cols))"
   ]
  },
  {
   "cell_type": "code",
   "execution_count": 56,
   "id": "2fe2547c",
   "metadata": {
    "execution": {
     "iopub.execute_input": "2024-06-05T10:18:02.180052Z",
     "iopub.status.busy": "2024-06-05T10:18:02.179629Z",
     "iopub.status.idle": "2024-06-05T10:23:00.432799Z",
     "shell.execute_reply": "2024-06-05T10:23:00.431465Z"
    },
    "papermill": {
     "duration": 298.294798,
     "end_time": "2024-06-05T10:23:00.453652",
     "exception": false,
     "start_time": "2024-06-05T10:18:02.158854",
     "status": "completed"
    },
    "tags": []
   },
   "outputs": [
    {
     "name": "stdout",
     "output_type": "stream",
     "text": [
      "LightGBM, Test: {'event_rate': 0.0003242372237433351, 'acc': 0.9686701688653663, 'precision': 0.43434343434343436, 'recall': 0.004501203810321365, 'f1': 0.008910070451719852, 'roc_auc': 0.8197870504377129, 'pr_auc': 0.146747688358744, 'lift': 13.882440018313567}\"\n"
     ]
    }
   ],
   "source": [
    "lgb, lgb_pred, lgb_scores = Model_Utils.LightGBMClassifier_pred(X[cols], y, X_test[cols], y_test, cat_cols, params_lgb)\n",
    "with open('lgb_train_pca_num_50.joblib', 'wb') as f:\n",
    "    joblib.dump(lgb, f)"
   ]
  },
  {
   "cell_type": "code",
   "execution_count": 57,
   "id": "182c5b93",
   "metadata": {
    "execution": {
     "iopub.execute_input": "2024-06-05T10:23:00.499320Z",
     "iopub.status.busy": "2024-06-05T10:23:00.498233Z",
     "iopub.status.idle": "2024-06-05T10:28:40.789903Z",
     "shell.execute_reply": "2024-06-05T10:28:40.788862Z"
    },
    "papermill": {
     "duration": 340.317897,
     "end_time": "2024-06-05T10:28:40.792586",
     "exception": false,
     "start_time": "2024-06-05T10:23:00.474689",
     "status": "completed"
    },
    "tags": []
   },
   "outputs": [
    {
     "name": "stdout",
     "output_type": "stream",
     "text": [
      "CatBoost, Test: {'event_rate': 0.0003700889523535037, 'acc': 0.9686701688653663, 'precision': 0.4424778761061947, 'recall': 0.005233957918978332, 'f1': 0.010345541071798055, 'roc_auc': 0.8166224268319628, 'pr_auc': 0.14382439983402073, 'lift': 14.142432206349488}\"\n"
     ]
    }
   ],
   "source": [
    "clf, y_pred, cat_scores = Model_Utils.CatBoostClassifier_pred(X[cols], y, X_test[cols], y_test, cat_cols, params_catboost)\n",
    "with open('catboost_train_pca_num_50.joblib', 'wb') as f:\n",
    "    joblib.dump(clf, f)"
   ]
  },
  {
   "cell_type": "code",
   "execution_count": 58,
   "id": "ef5c39fc",
   "metadata": {
    "execution": {
     "iopub.execute_input": "2024-06-05T10:28:40.830366Z",
     "iopub.status.busy": "2024-06-05T10:28:40.829511Z",
     "iopub.status.idle": "2024-06-05T10:28:41.405841Z",
     "shell.execute_reply": "2024-06-05T10:28:41.404694Z"
    },
    "papermill": {
     "duration": 0.597887,
     "end_time": "2024-06-05T10:28:41.408486",
     "exception": false,
     "start_time": "2024-06-05T10:28:40.810599",
     "status": "completed"
    },
    "tags": []
   },
   "outputs": [],
   "source": [
    "model_save = id_test_val\n",
    "model_save['target'] = y_test\n",
    "model_save['catboost'] = cat_scores\n",
    "model_save['lgb'] = lgb_scores\n",
    "model_save.to_csv('Test_predictions_PCA_nums_50.csv', index = False)"
   ]
  }
 ],
 "metadata": {
  "kaggle": {
   "accelerator": "none",
   "dataSources": [
    {
     "datasetId": 5137337,
     "sourceId": 8602130,
     "sourceType": "datasetVersion"
    },
    {
     "datasetId": 5136208,
     "sourceId": 8604711,
     "sourceType": "datasetVersion"
    },
    {
     "isSourceIdPinned": true,
     "modelInstanceId": 50688,
     "sourceId": 60699,
     "sourceType": "modelInstanceVersion"
    }
   ],
   "dockerImageVersionId": 30715,
   "isGpuEnabled": false,
   "isInternetEnabled": true,
   "language": "python",
   "sourceType": "notebook"
  },
  "kernelspec": {
   "display_name": "Python 3",
   "language": "python",
   "name": "python3"
  },
  "language_info": {
   "codemirror_mode": {
    "name": "ipython",
    "version": 3
   },
   "file_extension": ".py",
   "mimetype": "text/x-python",
   "name": "python",
   "nbconvert_exporter": "python",
   "pygments_lexer": "ipython3",
   "version": "3.10.13"
  },
  "papermill": {
   "default_parameters": {},
   "duration": 10963.138247,
   "end_time": "2024-06-05T10:28:44.324876",
   "environment_variables": {},
   "exception": null,
   "input_path": "__notebook__.ipynb",
   "output_path": "__notebook__.ipynb",
   "parameters": {},
   "start_time": "2024-06-05T07:26:01.186629",
   "version": "2.5.0"
  }
 },
 "nbformat": 4,
 "nbformat_minor": 5
}
