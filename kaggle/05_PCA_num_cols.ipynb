{
 "cells": [
  {
   "cell_type": "code",
   "execution_count": 1,
   "id": "3d20482b",
   "metadata": {
    "_cell_guid": "b1076dfc-b9ad-4769-8c92-a6c4dae69d19",
    "_uuid": "8f2839f25d086af736a60e9eeb907d3b93b6e0e5",
    "execution": {
     "iopub.execute_input": "2024-06-05T05:25:52.000463Z",
     "iopub.status.busy": "2024-06-05T05:25:52.000086Z",
     "iopub.status.idle": "2024-06-05T05:26:02.842716Z",
     "shell.execute_reply": "2024-06-05T05:26:02.841731Z"
    },
    "papermill": {
     "duration": 10.853622,
     "end_time": "2024-06-05T05:26:02.845127",
     "exception": false,
     "start_time": "2024-06-05T05:25:51.991505",
     "status": "completed"
    },
    "tags": []
   },
   "outputs": [],
   "source": [
    "import os\n",
    "import gc \n",
    "from glob import glob\n",
    "from pathlib import Path\n",
    "from datetime import datetime\n",
    "import numpy as np\n",
    "import pandas as pd\n",
    "import polars as pl\n",
    "import matplotlib.pyplot as plt\n",
    "import seaborn as sns\n",
    "import joblib\n",
    "import lightgbm\n",
    "import torch\n",
    "import torch.nn as nn\n",
    "\n",
    "from sklearn.model_selection import StratifiedGroupKFold\n",
    "from sklearn.metrics import roc_auc_score\n",
    "from sklearn.ensemble import VotingClassifier\n",
    "from sklearn.preprocessing import LabelEncoder\n",
    "from catboost import CatBoostClassifier, Pool\n",
    "import xgboost\n",
    "from collections import Counter\n",
    "\n",
    "import shap\n",
    "import pickle\n",
    "import warnings\n",
    "warnings.filterwarnings(action='ignore')"
   ]
  },
  {
   "cell_type": "code",
   "execution_count": 2,
   "id": "74818363",
   "metadata": {
    "execution": {
     "iopub.execute_input": "2024-06-05T05:26:02.860143Z",
     "iopub.status.busy": "2024-06-05T05:26:02.859552Z",
     "iopub.status.idle": "2024-06-05T05:26:02.864007Z",
     "shell.execute_reply": "2024-06-05T05:26:02.863152Z"
    },
    "papermill": {
     "duration": 0.013685,
     "end_time": "2024-06-05T05:26:02.865840",
     "exception": false,
     "start_time": "2024-06-05T05:26:02.852155",
     "status": "completed"
    },
    "tags": []
   },
   "outputs": [],
   "source": [
    "ROOT            = Path(\"/kaggle/input/home-credit-risk-model-train-test\")\n",
    "SCHEMA_PATH            = Path(\"/kaggle/input/schema-home-credit-risk-data\")"
   ]
  },
  {
   "cell_type": "code",
   "execution_count": 3,
   "id": "8ad90589",
   "metadata": {
    "execution": {
     "iopub.execute_input": "2024-06-05T05:26:02.879826Z",
     "iopub.status.busy": "2024-06-05T05:26:02.879553Z",
     "iopub.status.idle": "2024-06-05T05:26:02.884347Z",
     "shell.execute_reply": "2024-06-05T05:26:02.883506Z"
    },
    "papermill": {
     "duration": 0.013959,
     "end_time": "2024-06-05T05:26:02.886310",
     "exception": false,
     "start_time": "2024-06-05T05:26:02.872351",
     "status": "completed"
    },
    "tags": []
   },
   "outputs": [],
   "source": [
    "def set_data_types(df, schema):\n",
    "    \n",
    "    for col, dtype in schema.items():\n",
    "        if dtype == 'category':\n",
    "            dtype = 'object'\n",
    "        df[col] = df[col].astype(dtype, errors = 'ignore')\n",
    "    return df"
   ]
  },
  {
   "cell_type": "code",
   "execution_count": 4,
   "id": "2943af65",
   "metadata": {
    "execution": {
     "iopub.execute_input": "2024-06-05T05:26:02.900251Z",
     "iopub.status.busy": "2024-06-05T05:26:02.899968Z",
     "iopub.status.idle": "2024-06-05T05:26:40.202912Z",
     "shell.execute_reply": "2024-06-05T05:26:40.202032Z"
    },
    "papermill": {
     "duration": 37.312866,
     "end_time": "2024-06-05T05:26:40.205686",
     "exception": false,
     "start_time": "2024-06-05T05:26:02.892820",
     "status": "completed"
    },
    "tags": []
   },
   "outputs": [],
   "source": [
    "X = pl.read_csv(ROOT/'model_abt_train.csv').to_pandas()\n",
    "X_test = pl.read_csv(ROOT/'model_abt_test.csv').to_pandas()\n",
    "\n",
    "schema = pd.read_csv(SCHEMA_PATH / \"data_schema.csv\", names = ['Columns', 'dtype'])\n",
    "schema = schema[schema['Columns'].isin(X.columns)]\n",
    "schema = schema.set_index('Columns')['dtype'].to_dict()\n",
    "\n",
    "X = set_data_types(X, schema)\n",
    "X_test = set_data_types(X_test, schema)\n",
    "del schema"
   ]
  },
  {
   "cell_type": "code",
   "execution_count": 5,
   "id": "6874ea2f",
   "metadata": {
    "execution": {
     "iopub.execute_input": "2024-06-05T05:26:40.220701Z",
     "iopub.status.busy": "2024-06-05T05:26:40.220339Z",
     "iopub.status.idle": "2024-06-05T05:26:48.795927Z",
     "shell.execute_reply": "2024-06-05T05:26:48.795060Z"
    },
    "papermill": {
     "duration": 8.585789,
     "end_time": "2024-06-05T05:26:48.798325",
     "exception": false,
     "start_time": "2024-06-05T05:26:40.212536",
     "status": "completed"
    },
    "tags": []
   },
   "outputs": [],
   "source": [
    "id_val = X[['case_id', 'WEEK_NUM']]\n",
    "id_test_val = X_test[['case_id', 'WEEK_NUM']]\n",
    "\n",
    "y = X['target']\n",
    "y_test = X_test['target']\n",
    "\n",
    "cols = X.drop(['case_id', 'WEEK_NUM', 'target', 'decision_month', 'decision_weekday'], axis = 1).columns\n",
    "\n",
    "X = X.drop(['case_id', 'WEEK_NUM', 'target', 'decision_month', 'decision_weekday'], axis = 1)\n",
    "X_test = X_test.drop(['case_id', 'WEEK_NUM', 'target', 'decision_month', 'decision_weekday'], axis = 1)"
   ]
  },
  {
   "cell_type": "code",
   "execution_count": 6,
   "id": "49c77853",
   "metadata": {
    "execution": {
     "iopub.execute_input": "2024-06-05T05:26:48.813383Z",
     "iopub.status.busy": "2024-06-05T05:26:48.813028Z",
     "iopub.status.idle": "2024-06-05T05:27:03.404211Z",
     "shell.execute_reply": "2024-06-05T05:27:03.403421Z"
    },
    "papermill": {
     "duration": 14.601402,
     "end_time": "2024-06-05T05:27:03.406550",
     "exception": false,
     "start_time": "2024-06-05T05:26:48.805148",
     "status": "completed"
    },
    "tags": []
   },
   "outputs": [],
   "source": [
    "cat_cols = [x for x, dtypes in X.dtypes.items() if dtypes == 'O']\n",
    "num_cols = [x for x, dtypes in X.dtypes.items() if dtypes in ['float', 'int']]\n",
    "X[cat_cols] = X[cat_cols].astype(str)\n",
    "X_test[cat_cols] = X_test[cat_cols].astype(str)"
   ]
  },
  {
   "cell_type": "code",
   "execution_count": 7,
   "id": "773c7119",
   "metadata": {
    "execution": {
     "iopub.execute_input": "2024-06-05T05:27:03.421574Z",
     "iopub.status.busy": "2024-06-05T05:27:03.421268Z",
     "iopub.status.idle": "2024-06-05T05:27:03.461815Z",
     "shell.execute_reply": "2024-06-05T05:27:03.461066Z"
    },
    "papermill": {
     "duration": 0.050415,
     "end_time": "2024-06-05T05:27:03.463713",
     "exception": false,
     "start_time": "2024-06-05T05:27:03.413298",
     "status": "completed"
    },
    "tags": []
   },
   "outputs": [],
   "source": [
    "class Model_Utils:\n",
    "    @staticmethod\n",
    "    def model_evals(y_true, y_proba, cutoff = 0.5):\n",
    "        from sklearn.metrics import make_scorer, accuracy_score, precision_score, recall_score, f1_score, average_precision_score, roc_auc_score\n",
    "        \"\"\"\n",
    "        Returns model evaluation metrics for a binary classification model\n",
    "\n",
    "        Parameters:\n",
    "        -----------\n",
    "            y_true: int (0,1) \n",
    "                Actual binary labels\n",
    "\n",
    "            y_proba: float (between 0 and 1)\n",
    "                Probability scores output of model \n",
    "\n",
    "        Returns:\n",
    "        --------\n",
    "            result: dict\n",
    "                Dictionary of metrics and their results based on the input\n",
    "                    - event rate (% predicted 1's)\n",
    "                    - accuracy\n",
    "                    - roc_auc\n",
    "                    - pr_auc\n",
    "                    - recall\n",
    "                    - precision\n",
    "                    - f1\n",
    "                    - lift\n",
    "        \"\"\"\n",
    "\n",
    "        y_pred = (y_proba > cutoff).astype(int)\n",
    "\n",
    "        event_rate = y_pred.mean()\n",
    "\n",
    "        accuracy = accuracy_score(y_true, y_pred)\n",
    "\n",
    "        roc_auc = roc_auc_score(y_true, y_proba)\n",
    "\n",
    "        pr_auc = average_precision_score(y_true, y_proba)\n",
    "\n",
    "        recall = recall_score(y_true, y_pred)\n",
    "\n",
    "        precision = precision_score(y_true, y_pred)\n",
    "\n",
    "        f1 = f1_score(y_true, y_pred)\n",
    "\n",
    "        lift = recall / event_rate\n",
    "\n",
    "        return {'event_rate': event_rate,\n",
    "                'acc': accuracy, \n",
    "                'precision': precision, \n",
    "                'recall': recall, \n",
    "                'f1': f1, \n",
    "                'roc_auc': roc_auc,\n",
    "                'pr_auc': pr_auc, \n",
    "                'lift': lift}\n",
    "    \n",
    "    @staticmethod\n",
    "    def cutoff_perc(y_actual, y_proba, percent):\n",
    "        n_cutoff = int(len(y_actual) * percent)\n",
    "\n",
    "        scores = pd.DataFrame({'actual': y_actual, 'proba': y_proba})\n",
    "        scores = scores.sort_values(by = 'proba', ascending= False)\n",
    "        scores['rank'] = scores['proba'].rank(ascending = False)\n",
    "        scores['ranked_pred'] = np.where(scores['rank']<= n_cutoff, 1, 0)\n",
    "\n",
    "        print(len(scores[scores['ranked_pred'] == 1]))\n",
    "        print(scores[scores['ranked_pred'] == 1]['proba'].min())\n",
    "        return Model_Utils.model_evals(y_actual, y_proba, cutoff = scores[scores['ranked_pred'] == 1]['proba'].min())\n",
    "    \n",
    "    @staticmethod\n",
    "    def DumbClassifier(y_true):\n",
    "        import numpy as np\n",
    "        y_pred = np.zeros(len(y_true))\n",
    "        return y_pred\n",
    "    \n",
    "    @staticmethod\n",
    "    def RandomChanceClassifier(y_true):\n",
    "        import numpy as np\n",
    "        y_pred = Model_Utils.DumbClassifier(y_true)\n",
    "        event = y_true.sum()\n",
    "        ind = np.random.randint(0, len(y_true), size=event)\n",
    "        y_pred[ind] = 1\n",
    "        return y_pred\n",
    "    \n",
    "    @staticmethod\n",
    "    def save_model_results(results, schema, filepath):\n",
    "        if not os.path.exists(filepath):\n",
    "            score_schema = {'model_name': 'str', \n",
    "                        'model': 'str',\n",
    "                        'params': 'str',\n",
    "                        'acc': 'float',\n",
    "                        'precision': 'float',\n",
    "                        'recall': 'float',\n",
    "                        'f1_score': 'float',\n",
    "                        'roc_auc': 'float',\n",
    "                        'pr_auc': 'float',\n",
    "                        'lift': 'float'}\n",
    "            scores = pd.DataFrame(columns = score_schema.keys()).astype(score_schema)\n",
    "        else:\n",
    "            scores = pd.read_csv(filepath)\n",
    "        row = []\n",
    "        \n",
    "        for key in schema.keys():\n",
    "            row.append(results[key])\n",
    "        \n",
    "        scores.loc[len(scores)] = row\n",
    "        scores.to_csv(filepath, index = False)\n",
    "        \n",
    "    @staticmethod\n",
    "    def LightGBMClassifier_CV(X, y, cat_cols, cv = 5, group = None, params = None):\n",
    "        import lightgbm\n",
    "        from sklearn.model_selection import StratifiedGroupKFold\n",
    "        \n",
    "        cv = StratifiedGroupKFold(n_splits=cv, shuffle = True, random_state = 42)\n",
    "        \n",
    "        if params == None:\n",
    "            params = {'random_state': 42\n",
    "                     ,'objective': 'binary'\n",
    "                     ,'verbose': -1\n",
    "                     ,'n_jobs': -1}\n",
    "        \n",
    "        scores = {'acc': [],\n",
    "                        'precision': [],\n",
    "                        'recall': [],\n",
    "                        'f1': [],\n",
    "                        'roc_auc': [],\n",
    "                        'pr_auc': [],\n",
    "                        'lift': []}\n",
    "\n",
    "        split = 1\n",
    "        \n",
    "        for train_ind, valid_ind in cv.split(X, y, groups=group):\n",
    "            X_train, y_train = X.iloc[train_ind], y.iloc[train_ind]\n",
    "            X_valid, y_valid = X.iloc[valid_ind], y.iloc[valid_ind]\n",
    "\n",
    "            X_train[cat_cols] = X_train[cat_cols].astype(\"category\")\n",
    "            X_valid[cat_cols] = X_valid[cat_cols].astype(\"category\")\n",
    "            \n",
    "            lgb = lightgbm.LGBMClassifier(**params)\n",
    "            lgb.fit(X_train, y_train)\n",
    "\n",
    "            y_proba = lgb.predict_proba(X_valid)[:, 1]\n",
    "            results = Model_Utils.model_evals(y_valid, y_proba)\n",
    "            print(f'LightGBM, Val CV{split}: {results}\"')\n",
    "            \n",
    "            split += 1\n",
    "            \n",
    "            for key in results.keys():\n",
    "                if key in scores.keys():\n",
    "                    scores[key].append(results[key])\n",
    "        \n",
    "        for key in results.keys():\n",
    "            if key in scores.keys():\n",
    "                scores[key] = np.array(scores[key]).mean()\n",
    "            \n",
    "        print(f'LightGBM, Average CV: {scores}\"')\n",
    "        return lgb, scores\n",
    "\n",
    "    \n",
    "    @staticmethod\n",
    "    def LightGBMClassifier_pred(X, y, X_test, y_test, cat_cols, params = None):\n",
    "        import lightgbm\n",
    "        \n",
    "        if params == None:\n",
    "            params = {'random_state': 42\n",
    "                     ,'objective': 'binary'\n",
    "                     ,'verbose': -1\n",
    "                     ,'n_jobs': -1}\n",
    "        \n",
    "        scores = {'acc': [],\n",
    "                        'precision': [],\n",
    "                        'recall': [],\n",
    "                        'f1': [],\n",
    "                        'roc_auc': [],\n",
    "                        'pr_auc': [],\n",
    "                        'lift': []}\n",
    "\n",
    "        \n",
    "        X[cat_cols] = X[cat_cols].astype(\"category\")\n",
    "        X_test[cat_cols] = X_test[cat_cols].astype(\"category\")\n",
    "            \n",
    "        lgb = lightgbm.LGBMClassifier(**params)\n",
    "        lgb.fit(X, y)\n",
    "\n",
    "        y_proba = lgb.predict_proba(X_test)[:, 1]\n",
    "        results = Model_Utils.model_evals(y_test, y_proba)\n",
    "        print(f'LightGBM, Test: {results}\"')\n",
    "        \n",
    "        return lgb, y_proba, results\n",
    "    \n",
    "    \n",
    "    @staticmethod\n",
    "    def CatBoostClassifier_CV(X, y, cat_cols, cv = 5, group = None, params = None):\n",
    "        import catboost\n",
    "        from sklearn.model_selection import StratifiedGroupKFold\n",
    "        \n",
    "        cv = StratifiedGroupKFold(n_splits=cv, shuffle = True, random_state = 42)\n",
    "        \n",
    "        if params == None:\n",
    "             params = {'boosting_type' : \"Plain\",\n",
    "                      'eval_metric': 'PRAUC',\n",
    "                      'random_seed': 42,\n",
    "                      'learning_rate': 0.05,\n",
    "                      'use_best_model': True,\n",
    "                      'iterations': 1000}\n",
    "        \n",
    "        scores = {'acc': [],\n",
    "                        'precision': [],\n",
    "                        'recall': [],\n",
    "                        'f1': [],\n",
    "                        'roc_auc': [],\n",
    "                        'pr_auc': [],\n",
    "                        'lift': []}\n",
    "\n",
    "        split = 1\n",
    "        \n",
    "        for train_ind, valid_ind in cv.split(X, y, groups=group):\n",
    "            X_train, y_train = X.iloc[train_ind], y.iloc[train_ind]\n",
    "            X_valid, y_valid = X.iloc[valid_ind], y.iloc[valid_ind]\n",
    "            \n",
    "            \n",
    "            clf = CatBoostClassifier(**params)\n",
    "        \n",
    "            train_pool = Pool(X_train, y_train, cat_features=cat_cols)\n",
    "            val_pool = Pool(X_valid, y_valid, cat_features=cat_cols)\n",
    "            \n",
    "            clf.fit(train_pool, eval_set=val_pool, verbose=False)\n",
    "            \n",
    "            y_proba = clf.predict_proba(X_valid)[:, 1]\n",
    "            results = Model_Utils.model_evals(y_valid, y_proba)\n",
    "            print(f'CatBoost, Val CV{split}: {results}\"')\n",
    "            \n",
    "            split += 1\n",
    "            \n",
    "            for key in results.keys():\n",
    "                if key in scores.keys():\n",
    "                    scores[key].append(results[key])\n",
    "        \n",
    "        for key in results.keys():\n",
    "            if key in scores.keys():\n",
    "                scores[key] = np.array(scores[key]).mean()\n",
    "            \n",
    "        print(f'CatBoost, Average CV: {scores}\"')\n",
    "        return clf, scores\n",
    "    \n",
    "    \n",
    "    @staticmethod\n",
    "    def CatBoostClassifier_pred(X, y, X_test, y_test, cat_cols, params = None):\n",
    "        import catboost\n",
    "    \n",
    "        if params == None:\n",
    "             params = {'boosting_type' : \"Plain\",\n",
    "                      'eval_metric': 'PRAUC',\n",
    "                      'random_seed': 42,\n",
    "                      'learning_rate': 0.05,\n",
    "                      'use_best_model': True,\n",
    "                      'iterations': 1000}\n",
    "                \n",
    "        clf = CatBoostClassifier(**params)\n",
    "        \n",
    "        train_pool = Pool(X, y, cat_features=cat_cols)\n",
    "        test_pool = Pool(X_test, y_test, cat_features=cat_cols)\n",
    "            \n",
    "        clf.fit(train_pool, eval_set=test_pool, verbose=False)\n",
    "            \n",
    "        y_proba = clf.predict_proba(X_test)[:, 1]\n",
    "        results = Model_Utils.model_evals(y_test, y_proba)\n",
    "        print(f'CatBoost, Test: {results}\"')\n",
    "            \n",
    "        return clf, y_proba, results\n",
    "\n",
    "    \n",
    "    @staticmethod\n",
    "    def train_test_split(X, y, test_size = 0.2):\n",
    "        from sklearn.model_selection import train_test_split\n",
    "        import polars as pl\n",
    "        \n",
    "        X_train, X_test, y_train, y_test = train_test_split(X, y, test_size=test_size, random_state=42)\n",
    "        pl.from_pandas(pd.concat([y_train, X_train], axis = 1)).write_csv('model_abt_train.csv')\n",
    "        del X_train\n",
    "        del y_train\n",
    "        gc.collect()\n",
    "        \n",
    "        pl.from_pandas(pd.concat([y_test, X_test], axis = 1)).write_csv('model_abt_test.csv')\n",
    "        del X_test\n",
    "        del y_test\n",
    "        gc.collect()"
   ]
  },
  {
   "cell_type": "code",
   "execution_count": 8,
   "id": "055c4602",
   "metadata": {
    "execution": {
     "iopub.execute_input": "2024-06-05T05:27:03.478951Z",
     "iopub.status.busy": "2024-06-05T05:27:03.478469Z",
     "iopub.status.idle": "2024-06-05T05:27:03.484590Z",
     "shell.execute_reply": "2024-06-05T05:27:03.483697Z"
    },
    "papermill": {
     "duration": 0.016255,
     "end_time": "2024-06-05T05:27:03.486523",
     "exception": false,
     "start_time": "2024-06-05T05:27:03.470268",
     "status": "completed"
    },
    "tags": []
   },
   "outputs": [],
   "source": [
    "params_lgb = {'colsample_bytree': 0.8091363920278533, \n",
    "              'gamma': 1.6740930883959255, \n",
    "              'learning_rate': 0.0816628382148218, \n",
    "              'max_depth': 7, 'min_child_weight': 1.7065771300111194, \n",
    "              'n_estimators': 250, 'random_state': 42, \n",
    "              'reg_alpha': 7.114616964626139, 'reg_lambda': 8.853463059493436, \n",
    "              'subsample': 0.5494975675591438, 'verbose': -1}\n",
    "\n",
    "\n",
    "params_catboost = {'bagging_temperature': 3.0469773840224983,\n",
    "                   'boosting_type': 'Ordered', \n",
    "                   'border_count': 96, \n",
    "                   'colsample_bylevel': 0.5008191566781925, \n",
    "                   'depth': 5, 'iterations': 250, \n",
    "                   'l2_leaf_reg': 8.0, \n",
    "                   'learning_rate': 0.19362752313765308, \n",
    "                   'max_ctr_complexity': 5.0, \n",
    "                   'one_hot_max_size': 50, \n",
    "                   'random_state': 42, \n",
    "                   'verbose': -1}\n"
   ]
  },
  {
   "cell_type": "code",
   "execution_count": 9,
   "id": "9dcc054d",
   "metadata": {
    "execution": {
     "iopub.execute_input": "2024-06-05T05:27:03.501485Z",
     "iopub.status.busy": "2024-06-05T05:27:03.501170Z",
     "iopub.status.idle": "2024-06-05T05:27:05.235154Z",
     "shell.execute_reply": "2024-06-05T05:27:05.234143Z"
    },
    "papermill": {
     "duration": 1.744625,
     "end_time": "2024-06-05T05:27:05.237484",
     "exception": false,
     "start_time": "2024-06-05T05:27:03.492859",
     "status": "completed"
    },
    "tags": []
   },
   "outputs": [
    {
     "data": {
      "text/html": [
       "<div>\n",
       "<style scoped>\n",
       "    .dataframe tbody tr th:only-of-type {\n",
       "        vertical-align: middle;\n",
       "    }\n",
       "\n",
       "    .dataframe tbody tr th {\n",
       "        vertical-align: top;\n",
       "    }\n",
       "\n",
       "    .dataframe thead th {\n",
       "        text-align: right;\n",
       "    }\n",
       "</style>\n",
       "<table border=\"1\" class=\"dataframe\">\n",
       "  <thead>\n",
       "    <tr style=\"text-align: right;\">\n",
       "      <th></th>\n",
       "      <th>nulls</th>\n",
       "      <th>perc_nulls</th>\n",
       "    </tr>\n",
       "  </thead>\n",
       "  <tbody>\n",
       "    <tr>\n",
       "      <th>assignmentdate_238D</th>\n",
       "      <td>1111559</td>\n",
       "      <td>0.910124</td>\n",
       "    </tr>\n",
       "    <tr>\n",
       "      <th>birthdate_574D</th>\n",
       "      <td>734752</td>\n",
       "      <td>0.601601</td>\n",
       "    </tr>\n",
       "    <tr>\n",
       "      <th>contractssum_5085716L</th>\n",
       "      <td>1095742</td>\n",
       "      <td>0.897173</td>\n",
       "    </tr>\n",
       "    <tr>\n",
       "      <th>days120_123L</th>\n",
       "      <td>112943</td>\n",
       "      <td>0.092476</td>\n",
       "    </tr>\n",
       "    <tr>\n",
       "      <th>days180_256L</th>\n",
       "      <td>112943</td>\n",
       "      <td>0.092476</td>\n",
       "    </tr>\n",
       "    <tr>\n",
       "      <th>...</th>\n",
       "      <td>...</td>\n",
       "      <td>...</td>\n",
       "    </tr>\n",
       "    <tr>\n",
       "      <th>std_pmts_dpd_1073P</th>\n",
       "      <td>219517</td>\n",
       "      <td>0.179736</td>\n",
       "    </tr>\n",
       "    <tr>\n",
       "      <th>std_pmts_dpd_303P</th>\n",
       "      <td>414577</td>\n",
       "      <td>0.339448</td>\n",
       "    </tr>\n",
       "    <tr>\n",
       "      <th>std_pmts_overdue_1140A</th>\n",
       "      <td>219070</td>\n",
       "      <td>0.179370</td>\n",
       "    </tr>\n",
       "    <tr>\n",
       "      <th>std_pmts_overdue_1152A</th>\n",
       "      <td>414498</td>\n",
       "      <td>0.339383</td>\n",
       "    </tr>\n",
       "    <tr>\n",
       "      <th>count_depth2_a2_num_group2</th>\n",
       "      <td>113256</td>\n",
       "      <td>0.092732</td>\n",
       "    </tr>\n",
       "  </tbody>\n",
       "</table>\n",
       "<p>368 rows × 2 columns</p>\n",
       "</div>"
      ],
      "text/plain": [
       "                              nulls  perc_nulls\n",
       "assignmentdate_238D         1111559    0.910124\n",
       "birthdate_574D               734752    0.601601\n",
       "contractssum_5085716L       1095742    0.897173\n",
       "days120_123L                 112943    0.092476\n",
       "days180_256L                 112943    0.092476\n",
       "...                             ...         ...\n",
       "std_pmts_dpd_1073P           219517    0.179736\n",
       "std_pmts_dpd_303P            414577    0.339448\n",
       "std_pmts_overdue_1140A       219070    0.179370\n",
       "std_pmts_overdue_1152A       414498    0.339383\n",
       "count_depth2_a2_num_group2   113256    0.092732\n",
       "\n",
       "[368 rows x 2 columns]"
      ]
     },
     "execution_count": 9,
     "metadata": {},
     "output_type": "execute_result"
    }
   ],
   "source": [
    "num_nulls = pd.DataFrame(X[num_cols].isna().sum(), columns = ['nulls'])\n",
    "num_nulls['perc_nulls'] = num_nulls['nulls']/len(X)\n",
    "num_nulls"
   ]
  },
  {
   "cell_type": "code",
   "execution_count": 10,
   "id": "be0e7cda",
   "metadata": {
    "execution": {
     "iopub.execute_input": "2024-06-05T05:27:05.253330Z",
     "iopub.status.busy": "2024-06-05T05:27:05.252997Z",
     "iopub.status.idle": "2024-06-05T05:27:05.565391Z",
     "shell.execute_reply": "2024-06-05T05:27:05.564450Z"
    },
    "papermill": {
     "duration": 0.322693,
     "end_time": "2024-06-05T05:27:05.567469",
     "exception": false,
     "start_time": "2024-06-05T05:27:05.244776",
     "status": "completed"
    },
    "tags": []
   },
   "outputs": [
    {
     "name": "stdout",
     "output_type": "stream",
     "text": [
      "count    368.000000\n",
      "mean       0.374706\n",
      "std        0.277153\n",
      "min        0.000000\n",
      "25%        0.172483\n",
      "50%        0.336008\n",
      "75%        0.551126\n",
      "max        0.946321\n",
      "Name: perc_nulls, dtype: float64\n"
     ]
    },
    {
     "data": {
      "image/png": "[encoded data removed]",
      "text/plain": [
       "<Figure size 640x480 with 1 Axes>"
      ]
     },
     "metadata": {},
     "output_type": "display_data"
    }
   ],
   "source": [
    "print(num_nulls['perc_nulls'].describe())\n",
    "num_nulls['perc_nulls'].hist(bins = 20);"
   ]
  },
  {
   "cell_type": "code",
   "execution_count": 11,
   "id": "f7410488",
   "metadata": {
    "execution": {
     "iopub.execute_input": "2024-06-05T05:27:05.582971Z",
     "iopub.status.busy": "2024-06-05T05:27:05.582657Z",
     "iopub.status.idle": "2024-06-05T05:27:28.190556Z",
     "shell.execute_reply": "2024-06-05T05:27:28.189734Z"
    },
    "papermill": {
     "duration": 22.618186,
     "end_time": "2024-06-05T05:27:28.192895",
     "exception": false,
     "start_time": "2024-06-05T05:27:05.574709",
     "status": "completed"
    },
    "tags": []
   },
   "outputs": [],
   "source": [
    "import numpy as np\n",
    "from sklearn.impute import SimpleImputer\n",
    "imp_mean = SimpleImputer(missing_values=np.nan, strategy='mean')\n",
    "imp_mean.fit(X[num_cols])\n",
    "X[num_cols] = imp_mean.transform(X[num_cols])\n",
    "X_test[num_cols] = imp_mean.transform(X_test[num_cols])"
   ]
  },
  {
   "cell_type": "code",
   "execution_count": 12,
   "id": "77c83449",
   "metadata": {
    "execution": {
     "iopub.execute_input": "2024-06-05T05:27:28.209129Z",
     "iopub.status.busy": "2024-06-05T05:27:28.208514Z",
     "iopub.status.idle": "2024-06-05T05:28:28.206713Z",
     "shell.execute_reply": "2024-06-05T05:28:28.205290Z"
    },
    "papermill": {
     "duration": 60.010118,
     "end_time": "2024-06-05T05:28:28.210553",
     "exception": false,
     "start_time": "2024-06-05T05:27:28.200435",
     "status": "completed"
    },
    "tags": []
   },
   "outputs": [],
   "source": [
    "from sklearn.decomposition import PCA\n",
    "from sklearn.preprocessing import StandardScaler\n",
    "\n",
    "X_num = X[num_cols].to_numpy()\n",
    "scaler = StandardScaler()\n",
    "X_num = scaler.fit_transform(X_num)\n",
    "pca = PCA(random_state = 42)\n",
    "X_num = pca.fit_transform(X_num)\n",
    "\n",
    "Xt_num = X_test[num_cols].to_numpy()\n",
    "Xt_num = scaler.transform(Xt_num)\n",
    "Xt_num = pca.transform(Xt_num)"
   ]
  },
  {
   "cell_type": "code",
   "execution_count": 13,
   "id": "a55d586e",
   "metadata": {
    "execution": {
     "iopub.execute_input": "2024-06-05T05:28:28.243518Z",
     "iopub.status.busy": "2024-06-05T05:28:28.242922Z",
     "iopub.status.idle": "2024-06-05T05:28:28.532969Z",
     "shell.execute_reply": "2024-06-05T05:28:28.532006Z"
    },
    "papermill": {
     "duration": 0.308814,
     "end_time": "2024-06-05T05:28:28.535261",
     "exception": false,
     "start_time": "2024-06-05T05:28:28.226447",
     "status": "completed"
    },
    "tags": []
   },
   "outputs": [
    {
     "data": {
      "image/png": "[encoded data removed]",
      "text/plain": [
       "<Figure size 2000x600 with 1 Axes>"
      ]
     },
     "metadata": {},
     "output_type": "display_data"
    }
   ],
   "source": [
    "plt.figure(figsize=(20,6))\n",
    "plt.plot(\n",
    "    range(1, len(pca.explained_variance_ratio_) + 1), pca.explained_variance_ratio_.cumsum(), \"o-\"\n",
    ")\n",
    "plt.ylim(0, 1)\n",
    "plt.xlabel(\"number of PCs\")\n",
    "plt.ylabel(\"cumulative variance explained\");"
   ]
  },
  {
   "cell_type": "code",
   "execution_count": 14,
   "id": "2a471c79",
   "metadata": {
    "execution": {
     "iopub.execute_input": "2024-06-05T05:28:28.552595Z",
     "iopub.status.busy": "2024-06-05T05:28:28.552203Z",
     "iopub.status.idle": "2024-06-05T05:28:28.751149Z",
     "shell.execute_reply": "2024-06-05T05:28:28.750202Z"
    },
    "papermill": {
     "duration": 0.210001,
     "end_time": "2024-06-05T05:28:28.753357",
     "exception": false,
     "start_time": "2024-06-05T05:28:28.543356",
     "status": "completed"
    },
    "tags": []
   },
   "outputs": [
    {
     "data": {
      "image/png": "[encoded data removed]",
      "text/plain": [
       "<Figure size 640x480 with 1 Axes>"
      ]
     },
     "metadata": {},
     "output_type": "display_data"
    }
   ],
   "source": [
    "plt.plot(range(1, len(pca.explained_variance_ratio_)+1), pca.explained_variance_ratio_, 'o-')\n",
    "plt.ylim(0,1)\n",
    "plt.xlabel('PC')\n",
    "plt.ylabel('variance explained');"
   ]
  },
  {
   "cell_type": "code",
   "execution_count": 15,
   "id": "9a8dd627",
   "metadata": {
    "execution": {
     "iopub.execute_input": "2024-06-05T05:28:28.771828Z",
     "iopub.status.busy": "2024-06-05T05:28:28.771024Z",
     "iopub.status.idle": "2024-06-05T05:28:28.792076Z",
     "shell.execute_reply": "2024-06-05T05:28:28.791185Z"
    },
    "papermill": {
     "duration": 0.032422,
     "end_time": "2024-06-05T05:28:28.794034",
     "exception": false,
     "start_time": "2024-06-05T05:28:28.761612",
     "status": "completed"
    },
    "tags": []
   },
   "outputs": [
    {
     "data": {
      "text/html": [
       "<div>\n",
       "<style scoped>\n",
       "    .dataframe tbody tr th:only-of-type {\n",
       "        vertical-align: middle;\n",
       "    }\n",
       "\n",
       "    .dataframe tbody tr th {\n",
       "        vertical-align: top;\n",
       "    }\n",
       "\n",
       "    .dataframe thead th {\n",
       "        text-align: right;\n",
       "    }\n",
       "</style>\n",
       "<table border=\"1\" class=\"dataframe\">\n",
       "  <thead>\n",
       "    <tr style=\"text-align: right;\">\n",
       "      <th></th>\n",
       "      <th>n_components</th>\n",
       "      <th>explained_var</th>\n",
       "    </tr>\n",
       "  </thead>\n",
       "  <tbody>\n",
       "    <tr>\n",
       "      <th>0</th>\n",
       "      <td>1.0</td>\n",
       "      <td>0.054521</td>\n",
       "    </tr>\n",
       "    <tr>\n",
       "      <th>1</th>\n",
       "      <td>2.0</td>\n",
       "      <td>0.088387</td>\n",
       "    </tr>\n",
       "    <tr>\n",
       "      <th>2</th>\n",
       "      <td>3.0</td>\n",
       "      <td>0.113348</td>\n",
       "    </tr>\n",
       "    <tr>\n",
       "      <th>3</th>\n",
       "      <td>4.0</td>\n",
       "      <td>0.136482</td>\n",
       "    </tr>\n",
       "    <tr>\n",
       "      <th>4</th>\n",
       "      <td>5.0</td>\n",
       "      <td>0.158596</td>\n",
       "    </tr>\n",
       "    <tr>\n",
       "      <th>...</th>\n",
       "      <td>...</td>\n",
       "      <td>...</td>\n",
       "    </tr>\n",
       "    <tr>\n",
       "      <th>363</th>\n",
       "      <td>364.0</td>\n",
       "      <td>1.000000</td>\n",
       "    </tr>\n",
       "    <tr>\n",
       "      <th>364</th>\n",
       "      <td>365.0</td>\n",
       "      <td>1.000000</td>\n",
       "    </tr>\n",
       "    <tr>\n",
       "      <th>365</th>\n",
       "      <td>366.0</td>\n",
       "      <td>1.000000</td>\n",
       "    </tr>\n",
       "    <tr>\n",
       "      <th>366</th>\n",
       "      <td>367.0</td>\n",
       "      <td>1.000000</td>\n",
       "    </tr>\n",
       "    <tr>\n",
       "      <th>367</th>\n",
       "      <td>368.0</td>\n",
       "      <td>1.000000</td>\n",
       "    </tr>\n",
       "  </tbody>\n",
       "</table>\n",
       "<p>368 rows × 2 columns</p>\n",
       "</div>"
      ],
      "text/plain": [
       "     n_components  explained_var\n",
       "0             1.0       0.054521\n",
       "1             2.0       0.088387\n",
       "2             3.0       0.113348\n",
       "3             4.0       0.136482\n",
       "4             5.0       0.158596\n",
       "..            ...            ...\n",
       "363         364.0       1.000000\n",
       "364         365.0       1.000000\n",
       "365         366.0       1.000000\n",
       "366         367.0       1.000000\n",
       "367         368.0       1.000000\n",
       "\n",
       "[368 rows x 2 columns]"
      ]
     },
     "execution_count": 15,
     "metadata": {},
     "output_type": "execute_result"
    }
   ],
   "source": [
    "pca_var = pd.DataFrame([range(1, len(pca.explained_variance_ratio_) + 1), pca.explained_variance_ratio_.cumsum()]).T\n",
    "pca_var.columns = [\"n_components\", \"explained_var\"]\n",
    "pca_var"
   ]
  },
  {
   "cell_type": "code",
   "execution_count": 16,
   "id": "eb07e70f",
   "metadata": {
    "execution": {
     "iopub.execute_input": "2024-06-05T05:28:28.811206Z",
     "iopub.status.busy": "2024-06-05T05:28:28.810909Z",
     "iopub.status.idle": "2024-06-05T05:28:28.816082Z",
     "shell.execute_reply": "2024-06-05T05:28:28.815214Z"
    },
    "papermill": {
     "duration": 0.015878,
     "end_time": "2024-06-05T05:28:28.817960",
     "exception": false,
     "start_time": "2024-06-05T05:28:28.802082",
     "status": "completed"
    },
    "tags": []
   },
   "outputs": [],
   "source": [
    "X_num = pd.DataFrame(X_num, columns = list(pca.get_feature_names_out()))\n",
    "Xt_num = pd.DataFrame(Xt_num, columns = list(pca.get_feature_names_out()))"
   ]
  },
  {
   "cell_type": "code",
   "execution_count": 17,
   "id": "857085c4",
   "metadata": {
    "execution": {
     "iopub.execute_input": "2024-06-05T05:28:28.835054Z",
     "iopub.status.busy": "2024-06-05T05:28:28.834797Z",
     "iopub.status.idle": "2024-06-05T05:28:36.469574Z",
     "shell.execute_reply": "2024-06-05T05:28:36.468586Z"
    },
    "papermill": {
     "duration": 7.646027,
     "end_time": "2024-06-05T05:28:36.472036",
     "exception": false,
     "start_time": "2024-06-05T05:28:28.826009",
     "status": "completed"
    },
    "tags": []
   },
   "outputs": [],
   "source": [
    "X = pd.concat([X_num, X[[x for x in X.columns if x not in num_cols]]], axis  =1)\n",
    "X_test = pd.concat([Xt_num, X_test[[x for x in X_test.columns if x not in num_cols]]], axis  =1)"
   ]
  },
  {
   "cell_type": "code",
   "execution_count": 18,
   "id": "1aa77c3a",
   "metadata": {
    "execution": {
     "iopub.execute_input": "2024-06-05T05:28:36.490679Z",
     "iopub.status.busy": "2024-06-05T05:28:36.490363Z",
     "iopub.status.idle": "2024-06-05T05:28:36.516354Z",
     "shell.execute_reply": "2024-06-05T05:28:36.515407Z"
    },
    "papermill": {
     "duration": 0.037346,
     "end_time": "2024-06-05T05:28:36.518385",
     "exception": false,
     "start_time": "2024-06-05T05:28:36.481039",
     "status": "completed"
    },
    "tags": []
   },
   "outputs": [],
   "source": [
    "del X_num\n",
    "del Xt_num"
   ]
  },
  {
   "cell_type": "code",
   "execution_count": 19,
   "id": "fad85a45",
   "metadata": {
    "execution": {
     "iopub.execute_input": "2024-06-05T05:28:36.536350Z",
     "iopub.status.busy": "2024-06-05T05:28:36.536004Z",
     "iopub.status.idle": "2024-06-05T05:28:36.541736Z",
     "shell.execute_reply": "2024-06-05T05:28:36.540799Z"
    },
    "papermill": {
     "duration": 0.016664,
     "end_time": "2024-06-05T05:28:36.543562",
     "exception": false,
     "start_time": "2024-06-05T05:28:36.526898",
     "status": "completed"
    },
    "tags": []
   },
   "outputs": [
    {
     "data": {
      "text/plain": [
       "(1221327, 450)"
      ]
     },
     "execution_count": 19,
     "metadata": {},
     "output_type": "execute_result"
    }
   ],
   "source": [
    "X.shape"
   ]
  },
  {
   "cell_type": "code",
   "execution_count": 20,
   "id": "c9ef5644",
   "metadata": {
    "execution": {
     "iopub.execute_input": "2024-06-05T05:28:36.561650Z",
     "iopub.status.busy": "2024-06-05T05:28:36.561333Z",
     "iopub.status.idle": "2024-06-05T05:28:36.566801Z",
     "shell.execute_reply": "2024-06-05T05:28:36.566011Z"
    },
    "papermill": {
     "duration": 0.01677,
     "end_time": "2024-06-05T05:28:36.568641",
     "exception": false,
     "start_time": "2024-06-05T05:28:36.551871",
     "status": "completed"
    },
    "tags": []
   },
   "outputs": [
    {
     "data": {
      "text/plain": [
       "(305332, 450)"
      ]
     },
     "execution_count": 20,
     "metadata": {},
     "output_type": "execute_result"
    }
   ],
   "source": [
    "X_test.shape"
   ]
  },
  {
   "cell_type": "code",
   "execution_count": 21,
   "id": "b084fac4",
   "metadata": {
    "execution": {
     "iopub.execute_input": "2024-06-05T05:28:36.586988Z",
     "iopub.status.busy": "2024-06-05T05:28:36.586649Z",
     "iopub.status.idle": "2024-06-05T05:38:58.567316Z",
     "shell.execute_reply": "2024-06-05T05:38:58.566353Z"
    },
    "papermill": {
     "duration": 622.001701,
     "end_time": "2024-06-05T05:38:58.578808",
     "exception": false,
     "start_time": "2024-06-05T05:28:36.577107",
     "status": "completed"
    },
    "tags": []
   },
   "outputs": [
    {
     "name": "stdout",
     "output_type": "stream",
     "text": [
      "LightGBM, Test: {'event_rate': 0.0006124480892929664, 'acc': 0.9686046663959231, 'precision': 0.4117647058823529, 'recall': 0.00806029519522663, 'f1': 0.015811088295687885, 'roc_auc': 0.8330973919485275, 'pr_auc': 0.15721796941754415, 'lift': 13.160781029673462}\"\n"
     ]
    }
   ],
   "source": [
    "lgb, lgb_pred, lgb_scores = Model_Utils.LightGBMClassifier_pred(X, y, X_test, y_test, cat_cols, params_lgb)"
   ]
  },
  {
   "cell_type": "code",
   "execution_count": 22,
   "id": "22b9f4c2",
   "metadata": {
    "execution": {
     "iopub.execute_input": "2024-06-05T05:38:58.597711Z",
     "iopub.status.busy": "2024-06-05T05:38:58.597407Z",
     "iopub.status.idle": "2024-06-05T05:52:31.438513Z",
     "shell.execute_reply": "2024-06-05T05:52:31.437442Z"
    },
    "papermill": {
     "duration": 812.860735,
     "end_time": "2024-06-05T05:52:31.448089",
     "exception": false,
     "start_time": "2024-06-05T05:38:58.587354",
     "status": "completed"
    },
    "tags": []
   },
   "outputs": [
    {
     "name": "stdout",
     "output_type": "stream",
     "text": [
      "CatBoost, Test: {'event_rate': 0.0006124480892929664, 'acc': 0.9686505181245333, 'precision': 0.44919786096256686, 'recall': 0.008793049303883596, 'f1': 0.017248459958932236, 'roc_auc': 0.8288389343283489, 'pr_auc': 0.15662799149026901, 'lift': 14.357215668734684}\"\n"
     ]
    }
   ],
   "source": [
    "clf, y_pred, cat_scores = Model_Utils.CatBoostClassifier_pred(X, y, X_test, y_test, cat_cols, params_catboost)\n"
   ]
  }
 ],
 "metadata": {
  "kaggle": {
   "accelerator": "none",
   "dataSources": [
    {
     "datasetId": 5137337,
     "sourceId": 8602130,
     "sourceType": "datasetVersion"
    },
    {
     "datasetId": 5136208,
     "sourceId": 8604711,
     "sourceType": "datasetVersion"
    }
   ],
   "dockerImageVersionId": 30715,
   "isGpuEnabled": false,
   "isInternetEnabled": true,
   "language": "python",
   "sourceType": "notebook"
  },
  "kernelspec": {
   "display_name": "Python 3",
   "language": "python",
   "name": "python3"
  },
  "language_info": {
   "codemirror_mode": {
    "name": "ipython",
    "version": 3
   },
   "file_extension": ".py",
   "mimetype": "text/x-python",
   "name": "python",
   "nbconvert_exporter": "python",
   "pygments_lexer": "ipython3",
   "version": "3.10.13"
  },
  "papermill": {
   "default_parameters": {},
   "duration": 1604.99154,
   "end_time": "2024-06-05T05:52:34.175990",
   "environment_variables": {},
   "exception": null,
   "input_path": "__notebook__.ipynb",
   "output_path": "__notebook__.ipynb",
   "parameters": {},
   "start_time": "2024-06-05T05:25:49.184450",
   "version": "2.5.0"
  }
 },
 "nbformat": 4,
 "nbformat_minor": 5
}
